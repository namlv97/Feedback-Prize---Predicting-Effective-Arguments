{
  "metadata": {
    "kernelspec": {
      "language": "python",
      "display_name": "Python 3",
      "name": "python3"
    },
    "language_info": {
      "name": "python",
      "version": "3.7.12",
      "mimetype": "text/x-python",
      "codemirror_mode": {
        "name": "ipython",
        "version": 3
      },
      "pygments_lexer": "ipython3",
      "nbconvert_exporter": "python",
      "file_extension": ".py"
    },
    "colab": {
      "name": "deberta_v3_base_256.ipynb",
      "provenance": [],
      "collapsed_sections": [],
      "toc_visible": true
    },
    "accelerator": "GPU",
    "widgets": {
      "application/vnd.jupyter.widget-state+json": {
        "e659b395716141eb80f8aef565f209be": {
          "model_module": "@jupyter-widgets/controls",
          "model_name": "HBoxModel",
          "model_module_version": "1.5.0",
          "state": {
            "_dom_classes": [],
            "_model_module": "@jupyter-widgets/controls",
            "_model_module_version": "1.5.0",
            "_model_name": "HBoxModel",
            "_view_count": null,
            "_view_module": "@jupyter-widgets/controls",
            "_view_module_version": "1.5.0",
            "_view_name": "HBoxView",
            "box_style": "",
            "children": [
              "IPY_MODEL_b78763b845d448928f9b4d5bcce2dad4",
              "IPY_MODEL_6244df841f0e4e52b5fb8de2b8ea1690",
              "IPY_MODEL_d9016f5c512e4ac0a00a1e2abb0e3076"
            ],
            "layout": "IPY_MODEL_655a156163a649a396bdf9084dcc6d75"
          }
        },
        "b78763b845d448928f9b4d5bcce2dad4": {
          "model_module": "@jupyter-widgets/controls",
          "model_name": "HTMLModel",
          "model_module_version": "1.5.0",
          "state": {
            "_dom_classes": [],
            "_model_module": "@jupyter-widgets/controls",
            "_model_module_version": "1.5.0",
            "_model_name": "HTMLModel",
            "_view_count": null,
            "_view_module": "@jupyter-widgets/controls",
            "_view_module_version": "1.5.0",
            "_view_name": "HTMLView",
            "description": "",
            "description_tooltip": null,
            "layout": "IPY_MODEL_c105c61ac599487bb8e1b0d4837e0b59",
            "placeholder": "​",
            "style": "IPY_MODEL_484ff0c1036c4ae598bbf4deba7386db",
            "value": "Downloading: 100%"
          }
        },
        "6244df841f0e4e52b5fb8de2b8ea1690": {
          "model_module": "@jupyter-widgets/controls",
          "model_name": "FloatProgressModel",
          "model_module_version": "1.5.0",
          "state": {
            "_dom_classes": [],
            "_model_module": "@jupyter-widgets/controls",
            "_model_module_version": "1.5.0",
            "_model_name": "FloatProgressModel",
            "_view_count": null,
            "_view_module": "@jupyter-widgets/controls",
            "_view_module_version": "1.5.0",
            "_view_name": "ProgressView",
            "bar_style": "success",
            "description": "",
            "description_tooltip": null,
            "layout": "IPY_MODEL_8ab01eea2e3543f1a7613d027afe46a0",
            "max": 52,
            "min": 0,
            "orientation": "horizontal",
            "style": "IPY_MODEL_9d1a51bb7748478e9aab6edc2b0771d4",
            "value": 52
          }
        },
        "d9016f5c512e4ac0a00a1e2abb0e3076": {
          "model_module": "@jupyter-widgets/controls",
          "model_name": "HTMLModel",
          "model_module_version": "1.5.0",
          "state": {
            "_dom_classes": [],
            "_model_module": "@jupyter-widgets/controls",
            "_model_module_version": "1.5.0",
            "_model_name": "HTMLModel",
            "_view_count": null,
            "_view_module": "@jupyter-widgets/controls",
            "_view_module_version": "1.5.0",
            "_view_name": "HTMLView",
            "description": "",
            "description_tooltip": null,
            "layout": "IPY_MODEL_d2f9c6edaeca44a68b810fa696e324ca",
            "placeholder": "​",
            "style": "IPY_MODEL_8fa526b51d444a9d9edcc191a9b914f7",
            "value": " 52.0/52.0 [00:00&lt;00:00, 1.48kB/s]"
          }
        },
        "655a156163a649a396bdf9084dcc6d75": {
          "model_module": "@jupyter-widgets/base",
          "model_name": "LayoutModel",
          "model_module_version": "1.2.0",
          "state": {
            "_model_module": "@jupyter-widgets/base",
            "_model_module_version": "1.2.0",
            "_model_name": "LayoutModel",
            "_view_count": null,
            "_view_module": "@jupyter-widgets/base",
            "_view_module_version": "1.2.0",
            "_view_name": "LayoutView",
            "align_content": null,
            "align_items": null,
            "align_self": null,
            "border": null,
            "bottom": null,
            "display": null,
            "flex": null,
            "flex_flow": null,
            "grid_area": null,
            "grid_auto_columns": null,
            "grid_auto_flow": null,
            "grid_auto_rows": null,
            "grid_column": null,
            "grid_gap": null,
            "grid_row": null,
            "grid_template_areas": null,
            "grid_template_columns": null,
            "grid_template_rows": null,
            "height": null,
            "justify_content": null,
            "justify_items": null,
            "left": null,
            "margin": null,
            "max_height": null,
            "max_width": null,
            "min_height": null,
            "min_width": null,
            "object_fit": null,
            "object_position": null,
            "order": null,
            "overflow": null,
            "overflow_x": null,
            "overflow_y": null,
            "padding": null,
            "right": null,
            "top": null,
            "visibility": null,
            "width": null
          }
        },
        "c105c61ac599487bb8e1b0d4837e0b59": {
          "model_module": "@jupyter-widgets/base",
          "model_name": "LayoutModel",
          "model_module_version": "1.2.0",
          "state": {
            "_model_module": "@jupyter-widgets/base",
            "_model_module_version": "1.2.0",
            "_model_name": "LayoutModel",
            "_view_count": null,
            "_view_module": "@jupyter-widgets/base",
            "_view_module_version": "1.2.0",
            "_view_name": "LayoutView",
            "align_content": null,
            "align_items": null,
            "align_self": null,
            "border": null,
            "bottom": null,
            "display": null,
            "flex": null,
            "flex_flow": null,
            "grid_area": null,
            "grid_auto_columns": null,
            "grid_auto_flow": null,
            "grid_auto_rows": null,
            "grid_column": null,
            "grid_gap": null,
            "grid_row": null,
            "grid_template_areas": null,
            "grid_template_columns": null,
            "grid_template_rows": null,
            "height": null,
            "justify_content": null,
            "justify_items": null,
            "left": null,
            "margin": null,
            "max_height": null,
            "max_width": null,
            "min_height": null,
            "min_width": null,
            "object_fit": null,
            "object_position": null,
            "order": null,
            "overflow": null,
            "overflow_x": null,
            "overflow_y": null,
            "padding": null,
            "right": null,
            "top": null,
            "visibility": null,
            "width": null
          }
        },
        "484ff0c1036c4ae598bbf4deba7386db": {
          "model_module": "@jupyter-widgets/controls",
          "model_name": "DescriptionStyleModel",
          "model_module_version": "1.5.0",
          "state": {
            "_model_module": "@jupyter-widgets/controls",
            "_model_module_version": "1.5.0",
            "_model_name": "DescriptionStyleModel",
            "_view_count": null,
            "_view_module": "@jupyter-widgets/base",
            "_view_module_version": "1.2.0",
            "_view_name": "StyleView",
            "description_width": ""
          }
        },
        "8ab01eea2e3543f1a7613d027afe46a0": {
          "model_module": "@jupyter-widgets/base",
          "model_name": "LayoutModel",
          "model_module_version": "1.2.0",
          "state": {
            "_model_module": "@jupyter-widgets/base",
            "_model_module_version": "1.2.0",
            "_model_name": "LayoutModel",
            "_view_count": null,
            "_view_module": "@jupyter-widgets/base",
            "_view_module_version": "1.2.0",
            "_view_name": "LayoutView",
            "align_content": null,
            "align_items": null,
            "align_self": null,
            "border": null,
            "bottom": null,
            "display": null,
            "flex": null,
            "flex_flow": null,
            "grid_area": null,
            "grid_auto_columns": null,
            "grid_auto_flow": null,
            "grid_auto_rows": null,
            "grid_column": null,
            "grid_gap": null,
            "grid_row": null,
            "grid_template_areas": null,
            "grid_template_columns": null,
            "grid_template_rows": null,
            "height": null,
            "justify_content": null,
            "justify_items": null,
            "left": null,
            "margin": null,
            "max_height": null,
            "max_width": null,
            "min_height": null,
            "min_width": null,
            "object_fit": null,
            "object_position": null,
            "order": null,
            "overflow": null,
            "overflow_x": null,
            "overflow_y": null,
            "padding": null,
            "right": null,
            "top": null,
            "visibility": null,
            "width": null
          }
        },
        "9d1a51bb7748478e9aab6edc2b0771d4": {
          "model_module": "@jupyter-widgets/controls",
          "model_name": "ProgressStyleModel",
          "model_module_version": "1.5.0",
          "state": {
            "_model_module": "@jupyter-widgets/controls",
            "_model_module_version": "1.5.0",
            "_model_name": "ProgressStyleModel",
            "_view_count": null,
            "_view_module": "@jupyter-widgets/base",
            "_view_module_version": "1.2.0",
            "_view_name": "StyleView",
            "bar_color": null,
            "description_width": ""
          }
        },
        "d2f9c6edaeca44a68b810fa696e324ca": {
          "model_module": "@jupyter-widgets/base",
          "model_name": "LayoutModel",
          "model_module_version": "1.2.0",
          "state": {
            "_model_module": "@jupyter-widgets/base",
            "_model_module_version": "1.2.0",
            "_model_name": "LayoutModel",
            "_view_count": null,
            "_view_module": "@jupyter-widgets/base",
            "_view_module_version": "1.2.0",
            "_view_name": "LayoutView",
            "align_content": null,
            "align_items": null,
            "align_self": null,
            "border": null,
            "bottom": null,
            "display": null,
            "flex": null,
            "flex_flow": null,
            "grid_area": null,
            "grid_auto_columns": null,
            "grid_auto_flow": null,
            "grid_auto_rows": null,
            "grid_column": null,
            "grid_gap": null,
            "grid_row": null,
            "grid_template_areas": null,
            "grid_template_columns": null,
            "grid_template_rows": null,
            "height": null,
            "justify_content": null,
            "justify_items": null,
            "left": null,
            "margin": null,
            "max_height": null,
            "max_width": null,
            "min_height": null,
            "min_width": null,
            "object_fit": null,
            "object_position": null,
            "order": null,
            "overflow": null,
            "overflow_x": null,
            "overflow_y": null,
            "padding": null,
            "right": null,
            "top": null,
            "visibility": null,
            "width": null
          }
        },
        "8fa526b51d444a9d9edcc191a9b914f7": {
          "model_module": "@jupyter-widgets/controls",
          "model_name": "DescriptionStyleModel",
          "model_module_version": "1.5.0",
          "state": {
            "_model_module": "@jupyter-widgets/controls",
            "_model_module_version": "1.5.0",
            "_model_name": "DescriptionStyleModel",
            "_view_count": null,
            "_view_module": "@jupyter-widgets/base",
            "_view_module_version": "1.2.0",
            "_view_name": "StyleView",
            "description_width": ""
          }
        },
        "b87bc49379794b2fa947ef4504c789d8": {
          "model_module": "@jupyter-widgets/controls",
          "model_name": "HBoxModel",
          "model_module_version": "1.5.0",
          "state": {
            "_dom_classes": [],
            "_model_module": "@jupyter-widgets/controls",
            "_model_module_version": "1.5.0",
            "_model_name": "HBoxModel",
            "_view_count": null,
            "_view_module": "@jupyter-widgets/controls",
            "_view_module_version": "1.5.0",
            "_view_name": "HBoxView",
            "box_style": "",
            "children": [
              "IPY_MODEL_70070389271f4a35913160b010445b55",
              "IPY_MODEL_84a03a0883a440448f5a668a08f84cae",
              "IPY_MODEL_f55030b4367e42a4843f4ed873cf47bb"
            ],
            "layout": "IPY_MODEL_119416c01b8440b29eb1576d28d59710"
          }
        },
        "70070389271f4a35913160b010445b55": {
          "model_module": "@jupyter-widgets/controls",
          "model_name": "HTMLModel",
          "model_module_version": "1.5.0",
          "state": {
            "_dom_classes": [],
            "_model_module": "@jupyter-widgets/controls",
            "_model_module_version": "1.5.0",
            "_model_name": "HTMLModel",
            "_view_count": null,
            "_view_module": "@jupyter-widgets/controls",
            "_view_module_version": "1.5.0",
            "_view_name": "HTMLView",
            "description": "",
            "description_tooltip": null,
            "layout": "IPY_MODEL_876e08659c0644a3a9763a672414ea01",
            "placeholder": "​",
            "style": "IPY_MODEL_a53433acc3884b9c9171859c46d83f49",
            "value": "Downloading: 100%"
          }
        },
        "84a03a0883a440448f5a668a08f84cae": {
          "model_module": "@jupyter-widgets/controls",
          "model_name": "FloatProgressModel",
          "model_module_version": "1.5.0",
          "state": {
            "_dom_classes": [],
            "_model_module": "@jupyter-widgets/controls",
            "_model_module_version": "1.5.0",
            "_model_name": "FloatProgressModel",
            "_view_count": null,
            "_view_module": "@jupyter-widgets/controls",
            "_view_module_version": "1.5.0",
            "_view_name": "ProgressView",
            "bar_style": "success",
            "description": "",
            "description_tooltip": null,
            "layout": "IPY_MODEL_d77747d7b6234045accb14b73d6c7b6f",
            "max": 579,
            "min": 0,
            "orientation": "horizontal",
            "style": "IPY_MODEL_af82372becd3495dbecad79cc92523ff",
            "value": 579
          }
        },
        "f55030b4367e42a4843f4ed873cf47bb": {
          "model_module": "@jupyter-widgets/controls",
          "model_name": "HTMLModel",
          "model_module_version": "1.5.0",
          "state": {
            "_dom_classes": [],
            "_model_module": "@jupyter-widgets/controls",
            "_model_module_version": "1.5.0",
            "_model_name": "HTMLModel",
            "_view_count": null,
            "_view_module": "@jupyter-widgets/controls",
            "_view_module_version": "1.5.0",
            "_view_name": "HTMLView",
            "description": "",
            "description_tooltip": null,
            "layout": "IPY_MODEL_fd379e9bff444d1aa9ca40c2359ff5d1",
            "placeholder": "​",
            "style": "IPY_MODEL_ae843de5361f442d8e88dee664372d6c",
            "value": " 579/579 [00:00&lt;00:00, 18.1kB/s]"
          }
        },
        "119416c01b8440b29eb1576d28d59710": {
          "model_module": "@jupyter-widgets/base",
          "model_name": "LayoutModel",
          "model_module_version": "1.2.0",
          "state": {
            "_model_module": "@jupyter-widgets/base",
            "_model_module_version": "1.2.0",
            "_model_name": "LayoutModel",
            "_view_count": null,
            "_view_module": "@jupyter-widgets/base",
            "_view_module_version": "1.2.0",
            "_view_name": "LayoutView",
            "align_content": null,
            "align_items": null,
            "align_self": null,
            "border": null,
            "bottom": null,
            "display": null,
            "flex": null,
            "flex_flow": null,
            "grid_area": null,
            "grid_auto_columns": null,
            "grid_auto_flow": null,
            "grid_auto_rows": null,
            "grid_column": null,
            "grid_gap": null,
            "grid_row": null,
            "grid_template_areas": null,
            "grid_template_columns": null,
            "grid_template_rows": null,
            "height": null,
            "justify_content": null,
            "justify_items": null,
            "left": null,
            "margin": null,
            "max_height": null,
            "max_width": null,
            "min_height": null,
            "min_width": null,
            "object_fit": null,
            "object_position": null,
            "order": null,
            "overflow": null,
            "overflow_x": null,
            "overflow_y": null,
            "padding": null,
            "right": null,
            "top": null,
            "visibility": null,
            "width": null
          }
        },
        "876e08659c0644a3a9763a672414ea01": {
          "model_module": "@jupyter-widgets/base",
          "model_name": "LayoutModel",
          "model_module_version": "1.2.0",
          "state": {
            "_model_module": "@jupyter-widgets/base",
            "_model_module_version": "1.2.0",
            "_model_name": "LayoutModel",
            "_view_count": null,
            "_view_module": "@jupyter-widgets/base",
            "_view_module_version": "1.2.0",
            "_view_name": "LayoutView",
            "align_content": null,
            "align_items": null,
            "align_self": null,
            "border": null,
            "bottom": null,
            "display": null,
            "flex": null,
            "flex_flow": null,
            "grid_area": null,
            "grid_auto_columns": null,
            "grid_auto_flow": null,
            "grid_auto_rows": null,
            "grid_column": null,
            "grid_gap": null,
            "grid_row": null,
            "grid_template_areas": null,
            "grid_template_columns": null,
            "grid_template_rows": null,
            "height": null,
            "justify_content": null,
            "justify_items": null,
            "left": null,
            "margin": null,
            "max_height": null,
            "max_width": null,
            "min_height": null,
            "min_width": null,
            "object_fit": null,
            "object_position": null,
            "order": null,
            "overflow": null,
            "overflow_x": null,
            "overflow_y": null,
            "padding": null,
            "right": null,
            "top": null,
            "visibility": null,
            "width": null
          }
        },
        "a53433acc3884b9c9171859c46d83f49": {
          "model_module": "@jupyter-widgets/controls",
          "model_name": "DescriptionStyleModel",
          "model_module_version": "1.5.0",
          "state": {
            "_model_module": "@jupyter-widgets/controls",
            "_model_module_version": "1.5.0",
            "_model_name": "DescriptionStyleModel",
            "_view_count": null,
            "_view_module": "@jupyter-widgets/base",
            "_view_module_version": "1.2.0",
            "_view_name": "StyleView",
            "description_width": ""
          }
        },
        "d77747d7b6234045accb14b73d6c7b6f": {
          "model_module": "@jupyter-widgets/base",
          "model_name": "LayoutModel",
          "model_module_version": "1.2.0",
          "state": {
            "_model_module": "@jupyter-widgets/base",
            "_model_module_version": "1.2.0",
            "_model_name": "LayoutModel",
            "_view_count": null,
            "_view_module": "@jupyter-widgets/base",
            "_view_module_version": "1.2.0",
            "_view_name": "LayoutView",
            "align_content": null,
            "align_items": null,
            "align_self": null,
            "border": null,
            "bottom": null,
            "display": null,
            "flex": null,
            "flex_flow": null,
            "grid_area": null,
            "grid_auto_columns": null,
            "grid_auto_flow": null,
            "grid_auto_rows": null,
            "grid_column": null,
            "grid_gap": null,
            "grid_row": null,
            "grid_template_areas": null,
            "grid_template_columns": null,
            "grid_template_rows": null,
            "height": null,
            "justify_content": null,
            "justify_items": null,
            "left": null,
            "margin": null,
            "max_height": null,
            "max_width": null,
            "min_height": null,
            "min_width": null,
            "object_fit": null,
            "object_position": null,
            "order": null,
            "overflow": null,
            "overflow_x": null,
            "overflow_y": null,
            "padding": null,
            "right": null,
            "top": null,
            "visibility": null,
            "width": null
          }
        },
        "af82372becd3495dbecad79cc92523ff": {
          "model_module": "@jupyter-widgets/controls",
          "model_name": "ProgressStyleModel",
          "model_module_version": "1.5.0",
          "state": {
            "_model_module": "@jupyter-widgets/controls",
            "_model_module_version": "1.5.0",
            "_model_name": "ProgressStyleModel",
            "_view_count": null,
            "_view_module": "@jupyter-widgets/base",
            "_view_module_version": "1.2.0",
            "_view_name": "StyleView",
            "bar_color": null,
            "description_width": ""
          }
        },
        "fd379e9bff444d1aa9ca40c2359ff5d1": {
          "model_module": "@jupyter-widgets/base",
          "model_name": "LayoutModel",
          "model_module_version": "1.2.0",
          "state": {
            "_model_module": "@jupyter-widgets/base",
            "_model_module_version": "1.2.0",
            "_model_name": "LayoutModel",
            "_view_count": null,
            "_view_module": "@jupyter-widgets/base",
            "_view_module_version": "1.2.0",
            "_view_name": "LayoutView",
            "align_content": null,
            "align_items": null,
            "align_self": null,
            "border": null,
            "bottom": null,
            "display": null,
            "flex": null,
            "flex_flow": null,
            "grid_area": null,
            "grid_auto_columns": null,
            "grid_auto_flow": null,
            "grid_auto_rows": null,
            "grid_column": null,
            "grid_gap": null,
            "grid_row": null,
            "grid_template_areas": null,
            "grid_template_columns": null,
            "grid_template_rows": null,
            "height": null,
            "justify_content": null,
            "justify_items": null,
            "left": null,
            "margin": null,
            "max_height": null,
            "max_width": null,
            "min_height": null,
            "min_width": null,
            "object_fit": null,
            "object_position": null,
            "order": null,
            "overflow": null,
            "overflow_x": null,
            "overflow_y": null,
            "padding": null,
            "right": null,
            "top": null,
            "visibility": null,
            "width": null
          }
        },
        "ae843de5361f442d8e88dee664372d6c": {
          "model_module": "@jupyter-widgets/controls",
          "model_name": "DescriptionStyleModel",
          "model_module_version": "1.5.0",
          "state": {
            "_model_module": "@jupyter-widgets/controls",
            "_model_module_version": "1.5.0",
            "_model_name": "DescriptionStyleModel",
            "_view_count": null,
            "_view_module": "@jupyter-widgets/base",
            "_view_module_version": "1.2.0",
            "_view_name": "StyleView",
            "description_width": ""
          }
        },
        "104b430190c24b21b02b32d664d46ecc": {
          "model_module": "@jupyter-widgets/controls",
          "model_name": "HBoxModel",
          "model_module_version": "1.5.0",
          "state": {
            "_dom_classes": [],
            "_model_module": "@jupyter-widgets/controls",
            "_model_module_version": "1.5.0",
            "_model_name": "HBoxModel",
            "_view_count": null,
            "_view_module": "@jupyter-widgets/controls",
            "_view_module_version": "1.5.0",
            "_view_name": "HBoxView",
            "box_style": "",
            "children": [
              "IPY_MODEL_5b1acbd1cbeb43f786fff94503a35fe9",
              "IPY_MODEL_e559c7485e474794aa8673b949eed29d",
              "IPY_MODEL_0ec5ddd8b06c4f7ebc53dff274b052f0"
            ],
            "layout": "IPY_MODEL_f722a5e897214af19edc1c8d7c4605bd"
          }
        },
        "5b1acbd1cbeb43f786fff94503a35fe9": {
          "model_module": "@jupyter-widgets/controls",
          "model_name": "HTMLModel",
          "model_module_version": "1.5.0",
          "state": {
            "_dom_classes": [],
            "_model_module": "@jupyter-widgets/controls",
            "_model_module_version": "1.5.0",
            "_model_name": "HTMLModel",
            "_view_count": null,
            "_view_module": "@jupyter-widgets/controls",
            "_view_module_version": "1.5.0",
            "_view_name": "HTMLView",
            "description": "",
            "description_tooltip": null,
            "layout": "IPY_MODEL_d35bb840127d4fd0a2e5de4625e00bae",
            "placeholder": "​",
            "style": "IPY_MODEL_0e5f6c539ddb4f7fbab86b6ab09099a9",
            "value": "Downloading: 100%"
          }
        },
        "e559c7485e474794aa8673b949eed29d": {
          "model_module": "@jupyter-widgets/controls",
          "model_name": "FloatProgressModel",
          "model_module_version": "1.5.0",
          "state": {
            "_dom_classes": [],
            "_model_module": "@jupyter-widgets/controls",
            "_model_module_version": "1.5.0",
            "_model_name": "FloatProgressModel",
            "_view_count": null,
            "_view_module": "@jupyter-widgets/controls",
            "_view_module_version": "1.5.0",
            "_view_name": "ProgressView",
            "bar_style": "success",
            "description": "",
            "description_tooltip": null,
            "layout": "IPY_MODEL_ca41219bd7f043fb9f728c6eb87ca999",
            "max": 2464616,
            "min": 0,
            "orientation": "horizontal",
            "style": "IPY_MODEL_6291f95a20a340b6b9c3335c6547f04b",
            "value": 2464616
          }
        },
        "0ec5ddd8b06c4f7ebc53dff274b052f0": {
          "model_module": "@jupyter-widgets/controls",
          "model_name": "HTMLModel",
          "model_module_version": "1.5.0",
          "state": {
            "_dom_classes": [],
            "_model_module": "@jupyter-widgets/controls",
            "_model_module_version": "1.5.0",
            "_model_name": "HTMLModel",
            "_view_count": null,
            "_view_module": "@jupyter-widgets/controls",
            "_view_module_version": "1.5.0",
            "_view_name": "HTMLView",
            "description": "",
            "description_tooltip": null,
            "layout": "IPY_MODEL_c72ac59cbe2447bb80d0b9323f1f1db7",
            "placeholder": "​",
            "style": "IPY_MODEL_5e7fcc6401a14a1aa8fa7bae8e165191",
            "value": " 2.35M/2.35M [00:00&lt;00:00, 8.54MB/s]"
          }
        },
        "f722a5e897214af19edc1c8d7c4605bd": {
          "model_module": "@jupyter-widgets/base",
          "model_name": "LayoutModel",
          "model_module_version": "1.2.0",
          "state": {
            "_model_module": "@jupyter-widgets/base",
            "_model_module_version": "1.2.0",
            "_model_name": "LayoutModel",
            "_view_count": null,
            "_view_module": "@jupyter-widgets/base",
            "_view_module_version": "1.2.0",
            "_view_name": "LayoutView",
            "align_content": null,
            "align_items": null,
            "align_self": null,
            "border": null,
            "bottom": null,
            "display": null,
            "flex": null,
            "flex_flow": null,
            "grid_area": null,
            "grid_auto_columns": null,
            "grid_auto_flow": null,
            "grid_auto_rows": null,
            "grid_column": null,
            "grid_gap": null,
            "grid_row": null,
            "grid_template_areas": null,
            "grid_template_columns": null,
            "grid_template_rows": null,
            "height": null,
            "justify_content": null,
            "justify_items": null,
            "left": null,
            "margin": null,
            "max_height": null,
            "max_width": null,
            "min_height": null,
            "min_width": null,
            "object_fit": null,
            "object_position": null,
            "order": null,
            "overflow": null,
            "overflow_x": null,
            "overflow_y": null,
            "padding": null,
            "right": null,
            "top": null,
            "visibility": null,
            "width": null
          }
        },
        "d35bb840127d4fd0a2e5de4625e00bae": {
          "model_module": "@jupyter-widgets/base",
          "model_name": "LayoutModel",
          "model_module_version": "1.2.0",
          "state": {
            "_model_module": "@jupyter-widgets/base",
            "_model_module_version": "1.2.0",
            "_model_name": "LayoutModel",
            "_view_count": null,
            "_view_module": "@jupyter-widgets/base",
            "_view_module_version": "1.2.0",
            "_view_name": "LayoutView",
            "align_content": null,
            "align_items": null,
            "align_self": null,
            "border": null,
            "bottom": null,
            "display": null,
            "flex": null,
            "flex_flow": null,
            "grid_area": null,
            "grid_auto_columns": null,
            "grid_auto_flow": null,
            "grid_auto_rows": null,
            "grid_column": null,
            "grid_gap": null,
            "grid_row": null,
            "grid_template_areas": null,
            "grid_template_columns": null,
            "grid_template_rows": null,
            "height": null,
            "justify_content": null,
            "justify_items": null,
            "left": null,
            "margin": null,
            "max_height": null,
            "max_width": null,
            "min_height": null,
            "min_width": null,
            "object_fit": null,
            "object_position": null,
            "order": null,
            "overflow": null,
            "overflow_x": null,
            "overflow_y": null,
            "padding": null,
            "right": null,
            "top": null,
            "visibility": null,
            "width": null
          }
        },
        "0e5f6c539ddb4f7fbab86b6ab09099a9": {
          "model_module": "@jupyter-widgets/controls",
          "model_name": "DescriptionStyleModel",
          "model_module_version": "1.5.0",
          "state": {
            "_model_module": "@jupyter-widgets/controls",
            "_model_module_version": "1.5.0",
            "_model_name": "DescriptionStyleModel",
            "_view_count": null,
            "_view_module": "@jupyter-widgets/base",
            "_view_module_version": "1.2.0",
            "_view_name": "StyleView",
            "description_width": ""
          }
        },
        "ca41219bd7f043fb9f728c6eb87ca999": {
          "model_module": "@jupyter-widgets/base",
          "model_name": "LayoutModel",
          "model_module_version": "1.2.0",
          "state": {
            "_model_module": "@jupyter-widgets/base",
            "_model_module_version": "1.2.0",
            "_model_name": "LayoutModel",
            "_view_count": null,
            "_view_module": "@jupyter-widgets/base",
            "_view_module_version": "1.2.0",
            "_view_name": "LayoutView",
            "align_content": null,
            "align_items": null,
            "align_self": null,
            "border": null,
            "bottom": null,
            "display": null,
            "flex": null,
            "flex_flow": null,
            "grid_area": null,
            "grid_auto_columns": null,
            "grid_auto_flow": null,
            "grid_auto_rows": null,
            "grid_column": null,
            "grid_gap": null,
            "grid_row": null,
            "grid_template_areas": null,
            "grid_template_columns": null,
            "grid_template_rows": null,
            "height": null,
            "justify_content": null,
            "justify_items": null,
            "left": null,
            "margin": null,
            "max_height": null,
            "max_width": null,
            "min_height": null,
            "min_width": null,
            "object_fit": null,
            "object_position": null,
            "order": null,
            "overflow": null,
            "overflow_x": null,
            "overflow_y": null,
            "padding": null,
            "right": null,
            "top": null,
            "visibility": null,
            "width": null
          }
        },
        "6291f95a20a340b6b9c3335c6547f04b": {
          "model_module": "@jupyter-widgets/controls",
          "model_name": "ProgressStyleModel",
          "model_module_version": "1.5.0",
          "state": {
            "_model_module": "@jupyter-widgets/controls",
            "_model_module_version": "1.5.0",
            "_model_name": "ProgressStyleModel",
            "_view_count": null,
            "_view_module": "@jupyter-widgets/base",
            "_view_module_version": "1.2.0",
            "_view_name": "StyleView",
            "bar_color": null,
            "description_width": ""
          }
        },
        "c72ac59cbe2447bb80d0b9323f1f1db7": {
          "model_module": "@jupyter-widgets/base",
          "model_name": "LayoutModel",
          "model_module_version": "1.2.0",
          "state": {
            "_model_module": "@jupyter-widgets/base",
            "_model_module_version": "1.2.0",
            "_model_name": "LayoutModel",
            "_view_count": null,
            "_view_module": "@jupyter-widgets/base",
            "_view_module_version": "1.2.0",
            "_view_name": "LayoutView",
            "align_content": null,
            "align_items": null,
            "align_self": null,
            "border": null,
            "bottom": null,
            "display": null,
            "flex": null,
            "flex_flow": null,
            "grid_area": null,
            "grid_auto_columns": null,
            "grid_auto_flow": null,
            "grid_auto_rows": null,
            "grid_column": null,
            "grid_gap": null,
            "grid_row": null,
            "grid_template_areas": null,
            "grid_template_columns": null,
            "grid_template_rows": null,
            "height": null,
            "justify_content": null,
            "justify_items": null,
            "left": null,
            "margin": null,
            "max_height": null,
            "max_width": null,
            "min_height": null,
            "min_width": null,
            "object_fit": null,
            "object_position": null,
            "order": null,
            "overflow": null,
            "overflow_x": null,
            "overflow_y": null,
            "padding": null,
            "right": null,
            "top": null,
            "visibility": null,
            "width": null
          }
        },
        "5e7fcc6401a14a1aa8fa7bae8e165191": {
          "model_module": "@jupyter-widgets/controls",
          "model_name": "DescriptionStyleModel",
          "model_module_version": "1.5.0",
          "state": {
            "_model_module": "@jupyter-widgets/controls",
            "_model_module_version": "1.5.0",
            "_model_name": "DescriptionStyleModel",
            "_view_count": null,
            "_view_module": "@jupyter-widgets/base",
            "_view_module_version": "1.2.0",
            "_view_name": "StyleView",
            "description_width": ""
          }
        },
        "d2da7a3c8ab248ffa9b12e680782d09b": {
          "model_module": "@jupyter-widgets/controls",
          "model_name": "HBoxModel",
          "model_module_version": "1.5.0",
          "state": {
            "_dom_classes": [],
            "_model_module": "@jupyter-widgets/controls",
            "_model_module_version": "1.5.0",
            "_model_name": "HBoxModel",
            "_view_count": null,
            "_view_module": "@jupyter-widgets/controls",
            "_view_module_version": "1.5.0",
            "_view_name": "HBoxView",
            "box_style": "",
            "children": [
              "IPY_MODEL_1e62d86b20f14c3db5def8133caafbe3",
              "IPY_MODEL_4e5326afb6c44fb7b2f890d193c4af45",
              "IPY_MODEL_dfcb0f4234ef473ca0f01e8eafaebe55"
            ],
            "layout": "IPY_MODEL_9d4870216ff146cba8c66722d76d9747"
          }
        },
        "1e62d86b20f14c3db5def8133caafbe3": {
          "model_module": "@jupyter-widgets/controls",
          "model_name": "HTMLModel",
          "model_module_version": "1.5.0",
          "state": {
            "_dom_classes": [],
            "_model_module": "@jupyter-widgets/controls",
            "_model_module_version": "1.5.0",
            "_model_name": "HTMLModel",
            "_view_count": null,
            "_view_module": "@jupyter-widgets/controls",
            "_view_module_version": "1.5.0",
            "_view_name": "HTMLView",
            "description": "",
            "description_tooltip": null,
            "layout": "IPY_MODEL_105656361f34408c892dabc550b707ff",
            "placeholder": "​",
            "style": "IPY_MODEL_7bcfcc75720341a9896976600c7f659f",
            "value": "100%"
          }
        },
        "4e5326afb6c44fb7b2f890d193c4af45": {
          "model_module": "@jupyter-widgets/controls",
          "model_name": "FloatProgressModel",
          "model_module_version": "1.5.0",
          "state": {
            "_dom_classes": [],
            "_model_module": "@jupyter-widgets/controls",
            "_model_module_version": "1.5.0",
            "_model_name": "FloatProgressModel",
            "_view_count": null,
            "_view_module": "@jupyter-widgets/controls",
            "_view_module_version": "1.5.0",
            "_view_name": "ProgressView",
            "bar_style": "",
            "description": "",
            "description_tooltip": null,
            "layout": "IPY_MODEL_4bf7ce015b57429591d90ee1a79cc453",
            "max": 29278,
            "min": 0,
            "orientation": "horizontal",
            "style": "IPY_MODEL_f21328188ada410ba526ea40c3755e85",
            "value": 29278
          }
        },
        "dfcb0f4234ef473ca0f01e8eafaebe55": {
          "model_module": "@jupyter-widgets/controls",
          "model_name": "HTMLModel",
          "model_module_version": "1.5.0",
          "state": {
            "_dom_classes": [],
            "_model_module": "@jupyter-widgets/controls",
            "_model_module_version": "1.5.0",
            "_model_name": "HTMLModel",
            "_view_count": null,
            "_view_module": "@jupyter-widgets/controls",
            "_view_module_version": "1.5.0",
            "_view_name": "HTMLView",
            "description": "",
            "description_tooltip": null,
            "layout": "IPY_MODEL_c56758cbecb341e08d804a490eb5dd09",
            "placeholder": "​",
            "style": "IPY_MODEL_c4c1dec4224a4c559c987922ae733b34",
            "value": " 29278/29278 [00:29&lt;00:00, 2629.06it/s]"
          }
        },
        "9d4870216ff146cba8c66722d76d9747": {
          "model_module": "@jupyter-widgets/base",
          "model_name": "LayoutModel",
          "model_module_version": "1.2.0",
          "state": {
            "_model_module": "@jupyter-widgets/base",
            "_model_module_version": "1.2.0",
            "_model_name": "LayoutModel",
            "_view_count": null,
            "_view_module": "@jupyter-widgets/base",
            "_view_module_version": "1.2.0",
            "_view_name": "LayoutView",
            "align_content": null,
            "align_items": null,
            "align_self": null,
            "border": null,
            "bottom": null,
            "display": null,
            "flex": null,
            "flex_flow": null,
            "grid_area": null,
            "grid_auto_columns": null,
            "grid_auto_flow": null,
            "grid_auto_rows": null,
            "grid_column": null,
            "grid_gap": null,
            "grid_row": null,
            "grid_template_areas": null,
            "grid_template_columns": null,
            "grid_template_rows": null,
            "height": null,
            "justify_content": null,
            "justify_items": null,
            "left": null,
            "margin": null,
            "max_height": null,
            "max_width": null,
            "min_height": null,
            "min_width": null,
            "object_fit": null,
            "object_position": null,
            "order": null,
            "overflow": null,
            "overflow_x": null,
            "overflow_y": null,
            "padding": null,
            "right": null,
            "top": null,
            "visibility": null,
            "width": null
          }
        },
        "105656361f34408c892dabc550b707ff": {
          "model_module": "@jupyter-widgets/base",
          "model_name": "LayoutModel",
          "model_module_version": "1.2.0",
          "state": {
            "_model_module": "@jupyter-widgets/base",
            "_model_module_version": "1.2.0",
            "_model_name": "LayoutModel",
            "_view_count": null,
            "_view_module": "@jupyter-widgets/base",
            "_view_module_version": "1.2.0",
            "_view_name": "LayoutView",
            "align_content": null,
            "align_items": null,
            "align_self": null,
            "border": null,
            "bottom": null,
            "display": null,
            "flex": null,
            "flex_flow": null,
            "grid_area": null,
            "grid_auto_columns": null,
            "grid_auto_flow": null,
            "grid_auto_rows": null,
            "grid_column": null,
            "grid_gap": null,
            "grid_row": null,
            "grid_template_areas": null,
            "grid_template_columns": null,
            "grid_template_rows": null,
            "height": null,
            "justify_content": null,
            "justify_items": null,
            "left": null,
            "margin": null,
            "max_height": null,
            "max_width": null,
            "min_height": null,
            "min_width": null,
            "object_fit": null,
            "object_position": null,
            "order": null,
            "overflow": null,
            "overflow_x": null,
            "overflow_y": null,
            "padding": null,
            "right": null,
            "top": null,
            "visibility": null,
            "width": null
          }
        },
        "7bcfcc75720341a9896976600c7f659f": {
          "model_module": "@jupyter-widgets/controls",
          "model_name": "DescriptionStyleModel",
          "model_module_version": "1.5.0",
          "state": {
            "_model_module": "@jupyter-widgets/controls",
            "_model_module_version": "1.5.0",
            "_model_name": "DescriptionStyleModel",
            "_view_count": null,
            "_view_module": "@jupyter-widgets/base",
            "_view_module_version": "1.2.0",
            "_view_name": "StyleView",
            "description_width": ""
          }
        },
        "4bf7ce015b57429591d90ee1a79cc453": {
          "model_module": "@jupyter-widgets/base",
          "model_name": "LayoutModel",
          "model_module_version": "1.2.0",
          "state": {
            "_model_module": "@jupyter-widgets/base",
            "_model_module_version": "1.2.0",
            "_model_name": "LayoutModel",
            "_view_count": null,
            "_view_module": "@jupyter-widgets/base",
            "_view_module_version": "1.2.0",
            "_view_name": "LayoutView",
            "align_content": null,
            "align_items": null,
            "align_self": null,
            "border": null,
            "bottom": null,
            "display": null,
            "flex": null,
            "flex_flow": null,
            "grid_area": null,
            "grid_auto_columns": null,
            "grid_auto_flow": null,
            "grid_auto_rows": null,
            "grid_column": null,
            "grid_gap": null,
            "grid_row": null,
            "grid_template_areas": null,
            "grid_template_columns": null,
            "grid_template_rows": null,
            "height": null,
            "justify_content": null,
            "justify_items": null,
            "left": null,
            "margin": null,
            "max_height": null,
            "max_width": null,
            "min_height": null,
            "min_width": null,
            "object_fit": null,
            "object_position": null,
            "order": null,
            "overflow": null,
            "overflow_x": null,
            "overflow_y": null,
            "padding": null,
            "right": null,
            "top": null,
            "visibility": null,
            "width": null
          }
        },
        "f21328188ada410ba526ea40c3755e85": {
          "model_module": "@jupyter-widgets/controls",
          "model_name": "ProgressStyleModel",
          "model_module_version": "1.5.0",
          "state": {
            "_model_module": "@jupyter-widgets/controls",
            "_model_module_version": "1.5.0",
            "_model_name": "ProgressStyleModel",
            "_view_count": null,
            "_view_module": "@jupyter-widgets/base",
            "_view_module_version": "1.2.0",
            "_view_name": "StyleView",
            "bar_color": null,
            "description_width": ""
          }
        },
        "c56758cbecb341e08d804a490eb5dd09": {
          "model_module": "@jupyter-widgets/base",
          "model_name": "LayoutModel",
          "model_module_version": "1.2.0",
          "state": {
            "_model_module": "@jupyter-widgets/base",
            "_model_module_version": "1.2.0",
            "_model_name": "LayoutModel",
            "_view_count": null,
            "_view_module": "@jupyter-widgets/base",
            "_view_module_version": "1.2.0",
            "_view_name": "LayoutView",
            "align_content": null,
            "align_items": null,
            "align_self": null,
            "border": null,
            "bottom": null,
            "display": null,
            "flex": null,
            "flex_flow": null,
            "grid_area": null,
            "grid_auto_columns": null,
            "grid_auto_flow": null,
            "grid_auto_rows": null,
            "grid_column": null,
            "grid_gap": null,
            "grid_row": null,
            "grid_template_areas": null,
            "grid_template_columns": null,
            "grid_template_rows": null,
            "height": null,
            "justify_content": null,
            "justify_items": null,
            "left": null,
            "margin": null,
            "max_height": null,
            "max_width": null,
            "min_height": null,
            "min_width": null,
            "object_fit": null,
            "object_position": null,
            "order": null,
            "overflow": null,
            "overflow_x": null,
            "overflow_y": null,
            "padding": null,
            "right": null,
            "top": null,
            "visibility": null,
            "width": null
          }
        },
        "c4c1dec4224a4c559c987922ae733b34": {
          "model_module": "@jupyter-widgets/controls",
          "model_name": "DescriptionStyleModel",
          "model_module_version": "1.5.0",
          "state": {
            "_model_module": "@jupyter-widgets/controls",
            "_model_module_version": "1.5.0",
            "_model_name": "DescriptionStyleModel",
            "_view_count": null,
            "_view_module": "@jupyter-widgets/base",
            "_view_module_version": "1.2.0",
            "_view_name": "StyleView",
            "description_width": ""
          }
        },
        "4646f978766b463a96e54cb3068ab02c": {
          "model_module": "@jupyter-widgets/controls",
          "model_name": "HBoxModel",
          "model_module_version": "1.5.0",
          "state": {
            "_dom_classes": [],
            "_model_module": "@jupyter-widgets/controls",
            "_model_module_version": "1.5.0",
            "_model_name": "HBoxModel",
            "_view_count": null,
            "_view_module": "@jupyter-widgets/controls",
            "_view_module_version": "1.5.0",
            "_view_name": "HBoxView",
            "box_style": "",
            "children": [
              "IPY_MODEL_1a952918a7234b0d8c1ae6dcc8f41f2c",
              "IPY_MODEL_0de8e3df13ed465591644f62e54e7882",
              "IPY_MODEL_16c0275a69c449e883a9123b5dc8c53f"
            ],
            "layout": "IPY_MODEL_9703d27cf7c74537a5cff5409699c980"
          }
        },
        "1a952918a7234b0d8c1ae6dcc8f41f2c": {
          "model_module": "@jupyter-widgets/controls",
          "model_name": "HTMLModel",
          "model_module_version": "1.5.0",
          "state": {
            "_dom_classes": [],
            "_model_module": "@jupyter-widgets/controls",
            "_model_module_version": "1.5.0",
            "_model_name": "HTMLModel",
            "_view_count": null,
            "_view_module": "@jupyter-widgets/controls",
            "_view_module_version": "1.5.0",
            "_view_name": "HTMLView",
            "description": "",
            "description_tooltip": null,
            "layout": "IPY_MODEL_75fb888d109449e0bc2d74e8dcee09b5",
            "placeholder": "​",
            "style": "IPY_MODEL_3427a6e832b447e59d1d0b9f0fabaab6",
            "value": "100%"
          }
        },
        "0de8e3df13ed465591644f62e54e7882": {
          "model_module": "@jupyter-widgets/controls",
          "model_name": "FloatProgressModel",
          "model_module_version": "1.5.0",
          "state": {
            "_dom_classes": [],
            "_model_module": "@jupyter-widgets/controls",
            "_model_module_version": "1.5.0",
            "_model_name": "FloatProgressModel",
            "_view_count": null,
            "_view_module": "@jupyter-widgets/controls",
            "_view_module_version": "1.5.0",
            "_view_name": "ProgressView",
            "bar_style": "",
            "description": "",
            "description_tooltip": null,
            "layout": "IPY_MODEL_48cc51b2a7a24bcebad0560db1859f03",
            "max": 7320,
            "min": 0,
            "orientation": "horizontal",
            "style": "IPY_MODEL_3ece90952acb4320893c6d7c0c84874c",
            "value": 7320
          }
        },
        "16c0275a69c449e883a9123b5dc8c53f": {
          "model_module": "@jupyter-widgets/controls",
          "model_name": "HTMLModel",
          "model_module_version": "1.5.0",
          "state": {
            "_dom_classes": [],
            "_model_module": "@jupyter-widgets/controls",
            "_model_module_version": "1.5.0",
            "_model_name": "HTMLModel",
            "_view_count": null,
            "_view_module": "@jupyter-widgets/controls",
            "_view_module_version": "1.5.0",
            "_view_name": "HTMLView",
            "description": "",
            "description_tooltip": null,
            "layout": "IPY_MODEL_312ea470b6b24108afbcb1bf669b483e",
            "placeholder": "​",
            "style": "IPY_MODEL_48ef01823ff640e1aeb5eb02513c216a",
            "value": " 7320/7320 [00:14&lt;00:00, 3286.76it/s]"
          }
        },
        "9703d27cf7c74537a5cff5409699c980": {
          "model_module": "@jupyter-widgets/base",
          "model_name": "LayoutModel",
          "model_module_version": "1.2.0",
          "state": {
            "_model_module": "@jupyter-widgets/base",
            "_model_module_version": "1.2.0",
            "_model_name": "LayoutModel",
            "_view_count": null,
            "_view_module": "@jupyter-widgets/base",
            "_view_module_version": "1.2.0",
            "_view_name": "LayoutView",
            "align_content": null,
            "align_items": null,
            "align_self": null,
            "border": null,
            "bottom": null,
            "display": null,
            "flex": null,
            "flex_flow": null,
            "grid_area": null,
            "grid_auto_columns": null,
            "grid_auto_flow": null,
            "grid_auto_rows": null,
            "grid_column": null,
            "grid_gap": null,
            "grid_row": null,
            "grid_template_areas": null,
            "grid_template_columns": null,
            "grid_template_rows": null,
            "height": null,
            "justify_content": null,
            "justify_items": null,
            "left": null,
            "margin": null,
            "max_height": null,
            "max_width": null,
            "min_height": null,
            "min_width": null,
            "object_fit": null,
            "object_position": null,
            "order": null,
            "overflow": null,
            "overflow_x": null,
            "overflow_y": null,
            "padding": null,
            "right": null,
            "top": null,
            "visibility": null,
            "width": null
          }
        },
        "75fb888d109449e0bc2d74e8dcee09b5": {
          "model_module": "@jupyter-widgets/base",
          "model_name": "LayoutModel",
          "model_module_version": "1.2.0",
          "state": {
            "_model_module": "@jupyter-widgets/base",
            "_model_module_version": "1.2.0",
            "_model_name": "LayoutModel",
            "_view_count": null,
            "_view_module": "@jupyter-widgets/base",
            "_view_module_version": "1.2.0",
            "_view_name": "LayoutView",
            "align_content": null,
            "align_items": null,
            "align_self": null,
            "border": null,
            "bottom": null,
            "display": null,
            "flex": null,
            "flex_flow": null,
            "grid_area": null,
            "grid_auto_columns": null,
            "grid_auto_flow": null,
            "grid_auto_rows": null,
            "grid_column": null,
            "grid_gap": null,
            "grid_row": null,
            "grid_template_areas": null,
            "grid_template_columns": null,
            "grid_template_rows": null,
            "height": null,
            "justify_content": null,
            "justify_items": null,
            "left": null,
            "margin": null,
            "max_height": null,
            "max_width": null,
            "min_height": null,
            "min_width": null,
            "object_fit": null,
            "object_position": null,
            "order": null,
            "overflow": null,
            "overflow_x": null,
            "overflow_y": null,
            "padding": null,
            "right": null,
            "top": null,
            "visibility": null,
            "width": null
          }
        },
        "3427a6e832b447e59d1d0b9f0fabaab6": {
          "model_module": "@jupyter-widgets/controls",
          "model_name": "DescriptionStyleModel",
          "model_module_version": "1.5.0",
          "state": {
            "_model_module": "@jupyter-widgets/controls",
            "_model_module_version": "1.5.0",
            "_model_name": "DescriptionStyleModel",
            "_view_count": null,
            "_view_module": "@jupyter-widgets/base",
            "_view_module_version": "1.2.0",
            "_view_name": "StyleView",
            "description_width": ""
          }
        },
        "48cc51b2a7a24bcebad0560db1859f03": {
          "model_module": "@jupyter-widgets/base",
          "model_name": "LayoutModel",
          "model_module_version": "1.2.0",
          "state": {
            "_model_module": "@jupyter-widgets/base",
            "_model_module_version": "1.2.0",
            "_model_name": "LayoutModel",
            "_view_count": null,
            "_view_module": "@jupyter-widgets/base",
            "_view_module_version": "1.2.0",
            "_view_name": "LayoutView",
            "align_content": null,
            "align_items": null,
            "align_self": null,
            "border": null,
            "bottom": null,
            "display": null,
            "flex": null,
            "flex_flow": null,
            "grid_area": null,
            "grid_auto_columns": null,
            "grid_auto_flow": null,
            "grid_auto_rows": null,
            "grid_column": null,
            "grid_gap": null,
            "grid_row": null,
            "grid_template_areas": null,
            "grid_template_columns": null,
            "grid_template_rows": null,
            "height": null,
            "justify_content": null,
            "justify_items": null,
            "left": null,
            "margin": null,
            "max_height": null,
            "max_width": null,
            "min_height": null,
            "min_width": null,
            "object_fit": null,
            "object_position": null,
            "order": null,
            "overflow": null,
            "overflow_x": null,
            "overflow_y": null,
            "padding": null,
            "right": null,
            "top": null,
            "visibility": null,
            "width": null
          }
        },
        "3ece90952acb4320893c6d7c0c84874c": {
          "model_module": "@jupyter-widgets/controls",
          "model_name": "ProgressStyleModel",
          "model_module_version": "1.5.0",
          "state": {
            "_model_module": "@jupyter-widgets/controls",
            "_model_module_version": "1.5.0",
            "_model_name": "ProgressStyleModel",
            "_view_count": null,
            "_view_module": "@jupyter-widgets/base",
            "_view_module_version": "1.2.0",
            "_view_name": "StyleView",
            "bar_color": null,
            "description_width": ""
          }
        },
        "312ea470b6b24108afbcb1bf669b483e": {
          "model_module": "@jupyter-widgets/base",
          "model_name": "LayoutModel",
          "model_module_version": "1.2.0",
          "state": {
            "_model_module": "@jupyter-widgets/base",
            "_model_module_version": "1.2.0",
            "_model_name": "LayoutModel",
            "_view_count": null,
            "_view_module": "@jupyter-widgets/base",
            "_view_module_version": "1.2.0",
            "_view_name": "LayoutView",
            "align_content": null,
            "align_items": null,
            "align_self": null,
            "border": null,
            "bottom": null,
            "display": null,
            "flex": null,
            "flex_flow": null,
            "grid_area": null,
            "grid_auto_columns": null,
            "grid_auto_flow": null,
            "grid_auto_rows": null,
            "grid_column": null,
            "grid_gap": null,
            "grid_row": null,
            "grid_template_areas": null,
            "grid_template_columns": null,
            "grid_template_rows": null,
            "height": null,
            "justify_content": null,
            "justify_items": null,
            "left": null,
            "margin": null,
            "max_height": null,
            "max_width": null,
            "min_height": null,
            "min_width": null,
            "object_fit": null,
            "object_position": null,
            "order": null,
            "overflow": null,
            "overflow_x": null,
            "overflow_y": null,
            "padding": null,
            "right": null,
            "top": null,
            "visibility": null,
            "width": null
          }
        },
        "48ef01823ff640e1aeb5eb02513c216a": {
          "model_module": "@jupyter-widgets/controls",
          "model_name": "DescriptionStyleModel",
          "model_module_version": "1.5.0",
          "state": {
            "_model_module": "@jupyter-widgets/controls",
            "_model_module_version": "1.5.0",
            "_model_name": "DescriptionStyleModel",
            "_view_count": null,
            "_view_module": "@jupyter-widgets/base",
            "_view_module_version": "1.2.0",
            "_view_name": "StyleView",
            "description_width": ""
          }
        },
        "bf6e6dd1d18e43ef835a81971d53dd72": {
          "model_module": "@jupyter-widgets/controls",
          "model_name": "HBoxModel",
          "model_module_version": "1.5.0",
          "state": {
            "_dom_classes": [],
            "_model_module": "@jupyter-widgets/controls",
            "_model_module_version": "1.5.0",
            "_model_name": "HBoxModel",
            "_view_count": null,
            "_view_module": "@jupyter-widgets/controls",
            "_view_module_version": "1.5.0",
            "_view_name": "HBoxView",
            "box_style": "",
            "children": [
              "IPY_MODEL_36988a42383a457c878a8fe534781b82",
              "IPY_MODEL_0ab1949d0c35466f9e94353442ae9689",
              "IPY_MODEL_57a2fdd3fba4461fbbf4b212fbaa80c5"
            ],
            "layout": "IPY_MODEL_3f3652fca4aa42b3828ad0a47c5b3d0a"
          }
        },
        "36988a42383a457c878a8fe534781b82": {
          "model_module": "@jupyter-widgets/controls",
          "model_name": "HTMLModel",
          "model_module_version": "1.5.0",
          "state": {
            "_dom_classes": [],
            "_model_module": "@jupyter-widgets/controls",
            "_model_module_version": "1.5.0",
            "_model_name": "HTMLModel",
            "_view_count": null,
            "_view_module": "@jupyter-widgets/controls",
            "_view_module_version": "1.5.0",
            "_view_name": "HTMLView",
            "description": "",
            "description_tooltip": null,
            "layout": "IPY_MODEL_c6e7acd14e96418bbe30b06b0c02f384",
            "placeholder": "​",
            "style": "IPY_MODEL_655e83a6659a4481aa6df4b614eddde5",
            "value": "Downloading: 100%"
          }
        },
        "0ab1949d0c35466f9e94353442ae9689": {
          "model_module": "@jupyter-widgets/controls",
          "model_name": "FloatProgressModel",
          "model_module_version": "1.5.0",
          "state": {
            "_dom_classes": [],
            "_model_module": "@jupyter-widgets/controls",
            "_model_module_version": "1.5.0",
            "_model_name": "FloatProgressModel",
            "_view_count": null,
            "_view_module": "@jupyter-widgets/controls",
            "_view_module_version": "1.5.0",
            "_view_name": "ProgressView",
            "bar_style": "success",
            "description": "",
            "description_tooltip": null,
            "layout": "IPY_MODEL_a4253855983a40e790e805c6803423f3",
            "max": 371146213,
            "min": 0,
            "orientation": "horizontal",
            "style": "IPY_MODEL_22674cce5ffc4ce6937c55be82d4746e",
            "value": 371146213
          }
        },
        "57a2fdd3fba4461fbbf4b212fbaa80c5": {
          "model_module": "@jupyter-widgets/controls",
          "model_name": "HTMLModel",
          "model_module_version": "1.5.0",
          "state": {
            "_dom_classes": [],
            "_model_module": "@jupyter-widgets/controls",
            "_model_module_version": "1.5.0",
            "_model_name": "HTMLModel",
            "_view_count": null,
            "_view_module": "@jupyter-widgets/controls",
            "_view_module_version": "1.5.0",
            "_view_name": "HTMLView",
            "description": "",
            "description_tooltip": null,
            "layout": "IPY_MODEL_1666dab832304db7a9ce484e7be6d134",
            "placeholder": "​",
            "style": "IPY_MODEL_f3670e65c3ba46d6a428428695526454",
            "value": " 354M/354M [00:06&lt;00:00, 62.1MB/s]"
          }
        },
        "3f3652fca4aa42b3828ad0a47c5b3d0a": {
          "model_module": "@jupyter-widgets/base",
          "model_name": "LayoutModel",
          "model_module_version": "1.2.0",
          "state": {
            "_model_module": "@jupyter-widgets/base",
            "_model_module_version": "1.2.0",
            "_model_name": "LayoutModel",
            "_view_count": null,
            "_view_module": "@jupyter-widgets/base",
            "_view_module_version": "1.2.0",
            "_view_name": "LayoutView",
            "align_content": null,
            "align_items": null,
            "align_self": null,
            "border": null,
            "bottom": null,
            "display": null,
            "flex": null,
            "flex_flow": null,
            "grid_area": null,
            "grid_auto_columns": null,
            "grid_auto_flow": null,
            "grid_auto_rows": null,
            "grid_column": null,
            "grid_gap": null,
            "grid_row": null,
            "grid_template_areas": null,
            "grid_template_columns": null,
            "grid_template_rows": null,
            "height": null,
            "justify_content": null,
            "justify_items": null,
            "left": null,
            "margin": null,
            "max_height": null,
            "max_width": null,
            "min_height": null,
            "min_width": null,
            "object_fit": null,
            "object_position": null,
            "order": null,
            "overflow": null,
            "overflow_x": null,
            "overflow_y": null,
            "padding": null,
            "right": null,
            "top": null,
            "visibility": null,
            "width": null
          }
        },
        "c6e7acd14e96418bbe30b06b0c02f384": {
          "model_module": "@jupyter-widgets/base",
          "model_name": "LayoutModel",
          "model_module_version": "1.2.0",
          "state": {
            "_model_module": "@jupyter-widgets/base",
            "_model_module_version": "1.2.0",
            "_model_name": "LayoutModel",
            "_view_count": null,
            "_view_module": "@jupyter-widgets/base",
            "_view_module_version": "1.2.0",
            "_view_name": "LayoutView",
            "align_content": null,
            "align_items": null,
            "align_self": null,
            "border": null,
            "bottom": null,
            "display": null,
            "flex": null,
            "flex_flow": null,
            "grid_area": null,
            "grid_auto_columns": null,
            "grid_auto_flow": null,
            "grid_auto_rows": null,
            "grid_column": null,
            "grid_gap": null,
            "grid_row": null,
            "grid_template_areas": null,
            "grid_template_columns": null,
            "grid_template_rows": null,
            "height": null,
            "justify_content": null,
            "justify_items": null,
            "left": null,
            "margin": null,
            "max_height": null,
            "max_width": null,
            "min_height": null,
            "min_width": null,
            "object_fit": null,
            "object_position": null,
            "order": null,
            "overflow": null,
            "overflow_x": null,
            "overflow_y": null,
            "padding": null,
            "right": null,
            "top": null,
            "visibility": null,
            "width": null
          }
        },
        "655e83a6659a4481aa6df4b614eddde5": {
          "model_module": "@jupyter-widgets/controls",
          "model_name": "DescriptionStyleModel",
          "model_module_version": "1.5.0",
          "state": {
            "_model_module": "@jupyter-widgets/controls",
            "_model_module_version": "1.5.0",
            "_model_name": "DescriptionStyleModel",
            "_view_count": null,
            "_view_module": "@jupyter-widgets/base",
            "_view_module_version": "1.2.0",
            "_view_name": "StyleView",
            "description_width": ""
          }
        },
        "a4253855983a40e790e805c6803423f3": {
          "model_module": "@jupyter-widgets/base",
          "model_name": "LayoutModel",
          "model_module_version": "1.2.0",
          "state": {
            "_model_module": "@jupyter-widgets/base",
            "_model_module_version": "1.2.0",
            "_model_name": "LayoutModel",
            "_view_count": null,
            "_view_module": "@jupyter-widgets/base",
            "_view_module_version": "1.2.0",
            "_view_name": "LayoutView",
            "align_content": null,
            "align_items": null,
            "align_self": null,
            "border": null,
            "bottom": null,
            "display": null,
            "flex": null,
            "flex_flow": null,
            "grid_area": null,
            "grid_auto_columns": null,
            "grid_auto_flow": null,
            "grid_auto_rows": null,
            "grid_column": null,
            "grid_gap": null,
            "grid_row": null,
            "grid_template_areas": null,
            "grid_template_columns": null,
            "grid_template_rows": null,
            "height": null,
            "justify_content": null,
            "justify_items": null,
            "left": null,
            "margin": null,
            "max_height": null,
            "max_width": null,
            "min_height": null,
            "min_width": null,
            "object_fit": null,
            "object_position": null,
            "order": null,
            "overflow": null,
            "overflow_x": null,
            "overflow_y": null,
            "padding": null,
            "right": null,
            "top": null,
            "visibility": null,
            "width": null
          }
        },
        "22674cce5ffc4ce6937c55be82d4746e": {
          "model_module": "@jupyter-widgets/controls",
          "model_name": "ProgressStyleModel",
          "model_module_version": "1.5.0",
          "state": {
            "_model_module": "@jupyter-widgets/controls",
            "_model_module_version": "1.5.0",
            "_model_name": "ProgressStyleModel",
            "_view_count": null,
            "_view_module": "@jupyter-widgets/base",
            "_view_module_version": "1.2.0",
            "_view_name": "StyleView",
            "bar_color": null,
            "description_width": ""
          }
        },
        "1666dab832304db7a9ce484e7be6d134": {
          "model_module": "@jupyter-widgets/base",
          "model_name": "LayoutModel",
          "model_module_version": "1.2.0",
          "state": {
            "_model_module": "@jupyter-widgets/base",
            "_model_module_version": "1.2.0",
            "_model_name": "LayoutModel",
            "_view_count": null,
            "_view_module": "@jupyter-widgets/base",
            "_view_module_version": "1.2.0",
            "_view_name": "LayoutView",
            "align_content": null,
            "align_items": null,
            "align_self": null,
            "border": null,
            "bottom": null,
            "display": null,
            "flex": null,
            "flex_flow": null,
            "grid_area": null,
            "grid_auto_columns": null,
            "grid_auto_flow": null,
            "grid_auto_rows": null,
            "grid_column": null,
            "grid_gap": null,
            "grid_row": null,
            "grid_template_areas": null,
            "grid_template_columns": null,
            "grid_template_rows": null,
            "height": null,
            "justify_content": null,
            "justify_items": null,
            "left": null,
            "margin": null,
            "max_height": null,
            "max_width": null,
            "min_height": null,
            "min_width": null,
            "object_fit": null,
            "object_position": null,
            "order": null,
            "overflow": null,
            "overflow_x": null,
            "overflow_y": null,
            "padding": null,
            "right": null,
            "top": null,
            "visibility": null,
            "width": null
          }
        },
        "f3670e65c3ba46d6a428428695526454": {
          "model_module": "@jupyter-widgets/controls",
          "model_name": "DescriptionStyleModel",
          "model_module_version": "1.5.0",
          "state": {
            "_model_module": "@jupyter-widgets/controls",
            "_model_module_version": "1.5.0",
            "_model_name": "DescriptionStyleModel",
            "_view_count": null,
            "_view_module": "@jupyter-widgets/base",
            "_view_module_version": "1.2.0",
            "_view_name": "StyleView",
            "description_width": ""
          }
        },
        "e1fab3126d5c4e5f836786359c8fed8f": {
          "model_module": "@jupyter-widgets/controls",
          "model_name": "HBoxModel",
          "model_module_version": "1.5.0",
          "state": {
            "_dom_classes": [],
            "_model_module": "@jupyter-widgets/controls",
            "_model_module_version": "1.5.0",
            "_model_name": "HBoxModel",
            "_view_count": null,
            "_view_module": "@jupyter-widgets/controls",
            "_view_module_version": "1.5.0",
            "_view_name": "HBoxView",
            "box_style": "",
            "children": [
              "IPY_MODEL_ef77a9d888a148579a92f64f56fac4aa",
              "IPY_MODEL_672d3060d42e45a1bb8edfe75af765bf",
              "IPY_MODEL_16a8dfe7268740c0ad338afa47d1edad"
            ],
            "layout": "IPY_MODEL_6b5eac403796467e8291de5ff8fe69a3"
          }
        },
        "ef77a9d888a148579a92f64f56fac4aa": {
          "model_module": "@jupyter-widgets/controls",
          "model_name": "HTMLModel",
          "model_module_version": "1.5.0",
          "state": {
            "_dom_classes": [],
            "_model_module": "@jupyter-widgets/controls",
            "_model_module_version": "1.5.0",
            "_model_name": "HTMLModel",
            "_view_count": null,
            "_view_module": "@jupyter-widgets/controls",
            "_view_module_version": "1.5.0",
            "_view_name": "HTMLView",
            "description": "",
            "description_tooltip": null,
            "layout": "IPY_MODEL_bd7a6b5b125a41b785ef58894417b080",
            "placeholder": "​",
            "style": "IPY_MODEL_97c046cefa424d67a847b6517929f349",
            "value": " 33%"
          }
        },
        "672d3060d42e45a1bb8edfe75af765bf": {
          "model_module": "@jupyter-widgets/controls",
          "model_name": "FloatProgressModel",
          "model_module_version": "1.5.0",
          "state": {
            "_dom_classes": [],
            "_model_module": "@jupyter-widgets/controls",
            "_model_module_version": "1.5.0",
            "_model_name": "FloatProgressModel",
            "_view_count": null,
            "_view_module": "@jupyter-widgets/controls",
            "_view_module_version": "1.5.0",
            "_view_name": "ProgressView",
            "bar_style": "",
            "description": "",
            "description_tooltip": null,
            "layout": "IPY_MODEL_ac83b27d82874622b53cac94056ff242",
            "max": 3679,
            "min": 0,
            "orientation": "horizontal",
            "style": "IPY_MODEL_b0a9cbe570a641e59273843b8ac070bf",
            "value": 1201
          }
        },
        "16a8dfe7268740c0ad338afa47d1edad": {
          "model_module": "@jupyter-widgets/controls",
          "model_name": "HTMLModel",
          "model_module_version": "1.5.0",
          "state": {
            "_dom_classes": [],
            "_model_module": "@jupyter-widgets/controls",
            "_model_module_version": "1.5.0",
            "_model_name": "HTMLModel",
            "_view_count": null,
            "_view_module": "@jupyter-widgets/controls",
            "_view_module_version": "1.5.0",
            "_view_name": "HTMLView",
            "description": "",
            "description_tooltip": null,
            "layout": "IPY_MODEL_62d82143113443feacde5a0d75b919b8",
            "placeholder": "​",
            "style": "IPY_MODEL_8a41bebc30c34cdbb4a5a75af5712c52",
            "value": " 1201/3679 [11:00&lt;22:46,  1.81it/s, train_loss_per_batch=1.08]"
          }
        },
        "6b5eac403796467e8291de5ff8fe69a3": {
          "model_module": "@jupyter-widgets/base",
          "model_name": "LayoutModel",
          "model_module_version": "1.2.0",
          "state": {
            "_model_module": "@jupyter-widgets/base",
            "_model_module_version": "1.2.0",
            "_model_name": "LayoutModel",
            "_view_count": null,
            "_view_module": "@jupyter-widgets/base",
            "_view_module_version": "1.2.0",
            "_view_name": "LayoutView",
            "align_content": null,
            "align_items": null,
            "align_self": null,
            "border": null,
            "bottom": null,
            "display": null,
            "flex": null,
            "flex_flow": null,
            "grid_area": null,
            "grid_auto_columns": null,
            "grid_auto_flow": null,
            "grid_auto_rows": null,
            "grid_column": null,
            "grid_gap": null,
            "grid_row": null,
            "grid_template_areas": null,
            "grid_template_columns": null,
            "grid_template_rows": null,
            "height": null,
            "justify_content": null,
            "justify_items": null,
            "left": null,
            "margin": null,
            "max_height": null,
            "max_width": null,
            "min_height": null,
            "min_width": null,
            "object_fit": null,
            "object_position": null,
            "order": null,
            "overflow": null,
            "overflow_x": null,
            "overflow_y": null,
            "padding": null,
            "right": null,
            "top": null,
            "visibility": null,
            "width": null
          }
        },
        "bd7a6b5b125a41b785ef58894417b080": {
          "model_module": "@jupyter-widgets/base",
          "model_name": "LayoutModel",
          "model_module_version": "1.2.0",
          "state": {
            "_model_module": "@jupyter-widgets/base",
            "_model_module_version": "1.2.0",
            "_model_name": "LayoutModel",
            "_view_count": null,
            "_view_module": "@jupyter-widgets/base",
            "_view_module_version": "1.2.0",
            "_view_name": "LayoutView",
            "align_content": null,
            "align_items": null,
            "align_self": null,
            "border": null,
            "bottom": null,
            "display": null,
            "flex": null,
            "flex_flow": null,
            "grid_area": null,
            "grid_auto_columns": null,
            "grid_auto_flow": null,
            "grid_auto_rows": null,
            "grid_column": null,
            "grid_gap": null,
            "grid_row": null,
            "grid_template_areas": null,
            "grid_template_columns": null,
            "grid_template_rows": null,
            "height": null,
            "justify_content": null,
            "justify_items": null,
            "left": null,
            "margin": null,
            "max_height": null,
            "max_width": null,
            "min_height": null,
            "min_width": null,
            "object_fit": null,
            "object_position": null,
            "order": null,
            "overflow": null,
            "overflow_x": null,
            "overflow_y": null,
            "padding": null,
            "right": null,
            "top": null,
            "visibility": null,
            "width": null
          }
        },
        "97c046cefa424d67a847b6517929f349": {
          "model_module": "@jupyter-widgets/controls",
          "model_name": "DescriptionStyleModel",
          "model_module_version": "1.5.0",
          "state": {
            "_model_module": "@jupyter-widgets/controls",
            "_model_module_version": "1.5.0",
            "_model_name": "DescriptionStyleModel",
            "_view_count": null,
            "_view_module": "@jupyter-widgets/base",
            "_view_module_version": "1.2.0",
            "_view_name": "StyleView",
            "description_width": ""
          }
        },
        "ac83b27d82874622b53cac94056ff242": {
          "model_module": "@jupyter-widgets/base",
          "model_name": "LayoutModel",
          "model_module_version": "1.2.0",
          "state": {
            "_model_module": "@jupyter-widgets/base",
            "_model_module_version": "1.2.0",
            "_model_name": "LayoutModel",
            "_view_count": null,
            "_view_module": "@jupyter-widgets/base",
            "_view_module_version": "1.2.0",
            "_view_name": "LayoutView",
            "align_content": null,
            "align_items": null,
            "align_self": null,
            "border": null,
            "bottom": null,
            "display": null,
            "flex": null,
            "flex_flow": null,
            "grid_area": null,
            "grid_auto_columns": null,
            "grid_auto_flow": null,
            "grid_auto_rows": null,
            "grid_column": null,
            "grid_gap": null,
            "grid_row": null,
            "grid_template_areas": null,
            "grid_template_columns": null,
            "grid_template_rows": null,
            "height": null,
            "justify_content": null,
            "justify_items": null,
            "left": null,
            "margin": null,
            "max_height": null,
            "max_width": null,
            "min_height": null,
            "min_width": null,
            "object_fit": null,
            "object_position": null,
            "order": null,
            "overflow": null,
            "overflow_x": null,
            "overflow_y": null,
            "padding": null,
            "right": null,
            "top": null,
            "visibility": null,
            "width": null
          }
        },
        "b0a9cbe570a641e59273843b8ac070bf": {
          "model_module": "@jupyter-widgets/controls",
          "model_name": "ProgressStyleModel",
          "model_module_version": "1.5.0",
          "state": {
            "_model_module": "@jupyter-widgets/controls",
            "_model_module_version": "1.5.0",
            "_model_name": "ProgressStyleModel",
            "_view_count": null,
            "_view_module": "@jupyter-widgets/base",
            "_view_module_version": "1.2.0",
            "_view_name": "StyleView",
            "bar_color": null,
            "description_width": ""
          }
        },
        "62d82143113443feacde5a0d75b919b8": {
          "model_module": "@jupyter-widgets/base",
          "model_name": "LayoutModel",
          "model_module_version": "1.2.0",
          "state": {
            "_model_module": "@jupyter-widgets/base",
            "_model_module_version": "1.2.0",
            "_model_name": "LayoutModel",
            "_view_count": null,
            "_view_module": "@jupyter-widgets/base",
            "_view_module_version": "1.2.0",
            "_view_name": "LayoutView",
            "align_content": null,
            "align_items": null,
            "align_self": null,
            "border": null,
            "bottom": null,
            "display": null,
            "flex": null,
            "flex_flow": null,
            "grid_area": null,
            "grid_auto_columns": null,
            "grid_auto_flow": null,
            "grid_auto_rows": null,
            "grid_column": null,
            "grid_gap": null,
            "grid_row": null,
            "grid_template_areas": null,
            "grid_template_columns": null,
            "grid_template_rows": null,
            "height": null,
            "justify_content": null,
            "justify_items": null,
            "left": null,
            "margin": null,
            "max_height": null,
            "max_width": null,
            "min_height": null,
            "min_width": null,
            "object_fit": null,
            "object_position": null,
            "order": null,
            "overflow": null,
            "overflow_x": null,
            "overflow_y": null,
            "padding": null,
            "right": null,
            "top": null,
            "visibility": null,
            "width": null
          }
        },
        "8a41bebc30c34cdbb4a5a75af5712c52": {
          "model_module": "@jupyter-widgets/controls",
          "model_name": "DescriptionStyleModel",
          "model_module_version": "1.5.0",
          "state": {
            "_model_module": "@jupyter-widgets/controls",
            "_model_module_version": "1.5.0",
            "_model_name": "DescriptionStyleModel",
            "_view_count": null,
            "_view_module": "@jupyter-widgets/base",
            "_view_module_version": "1.2.0",
            "_view_name": "StyleView",
            "description_width": ""
          }
        }
      }
    }
  },
  "nbformat_minor": 0,
  "nbformat": 4,
  "cells": [
    {
      "cell_type": "markdown",
      "source": [
        "#Competition: Feedback Prize - Predicting Effective Arguments\n"
      ],
      "metadata": {
        "id": "XY1CUL8-pNcz"
      }
    },
    {
      "cell_type": "code",
      "source": [
        "pip install transformers sentencepiece"
      ],
      "metadata": {
        "colab": {
          "base_uri": "https://localhost:8080/"
        },
        "id": "RQwqTKdWxZfx",
        "outputId": "f67ad584-390c-46ba-c94c-932b60c03f1d"
      },
      "execution_count": 1,
      "outputs": [
        {
          "output_type": "stream",
          "name": "stdout",
          "text": [
            "Looking in indexes: https://pypi.org/simple, https://us-python.pkg.dev/colab-wheels/public/simple/\n",
            "Collecting transformers\n",
            "  Downloading transformers-4.19.2-py3-none-any.whl (4.2 MB)\n",
            "\u001b[K     |████████████████████████████████| 4.2 MB 5.3 MB/s \n",
            "\u001b[?25hCollecting sentencepiece\n",
            "  Downloading sentencepiece-0.1.96-cp37-cp37m-manylinux_2_17_x86_64.manylinux2014_x86_64.whl (1.2 MB)\n",
            "\u001b[K     |████████████████████████████████| 1.2 MB 52.8 MB/s \n",
            "\u001b[?25hRequirement already satisfied: numpy>=1.17 in /usr/local/lib/python3.7/dist-packages (from transformers) (1.21.6)\n",
            "Requirement already satisfied: packaging>=20.0 in /usr/local/lib/python3.7/dist-packages (from transformers) (21.3)\n",
            "Requirement already satisfied: filelock in /usr/local/lib/python3.7/dist-packages (from transformers) (3.7.0)\n",
            "Collecting pyyaml>=5.1\n",
            "  Downloading PyYAML-6.0-cp37-cp37m-manylinux_2_5_x86_64.manylinux1_x86_64.manylinux_2_12_x86_64.manylinux2010_x86_64.whl (596 kB)\n",
            "\u001b[K     |████████████████████████████████| 596 kB 62.6 MB/s \n",
            "\u001b[?25hRequirement already satisfied: requests in /usr/local/lib/python3.7/dist-packages (from transformers) (2.23.0)\n",
            "Collecting tokenizers!=0.11.3,<0.13,>=0.11.1\n",
            "  Downloading tokenizers-0.12.1-cp37-cp37m-manylinux_2_12_x86_64.manylinux2010_x86_64.whl (6.6 MB)\n",
            "\u001b[K     |████████████████████████████████| 6.6 MB 51.9 MB/s \n",
            "\u001b[?25hRequirement already satisfied: regex!=2019.12.17 in /usr/local/lib/python3.7/dist-packages (from transformers) (2019.12.20)\n",
            "Requirement already satisfied: importlib-metadata in /usr/local/lib/python3.7/dist-packages (from transformers) (4.11.4)\n",
            "Requirement already satisfied: tqdm>=4.27 in /usr/local/lib/python3.7/dist-packages (from transformers) (4.64.0)\n",
            "Collecting huggingface-hub<1.0,>=0.1.0\n",
            "  Downloading huggingface_hub-0.7.0-py3-none-any.whl (86 kB)\n",
            "\u001b[K     |████████████████████████████████| 86 kB 4.9 MB/s \n",
            "\u001b[?25hRequirement already satisfied: typing-extensions>=3.7.4.3 in /usr/local/lib/python3.7/dist-packages (from huggingface-hub<1.0,>=0.1.0->transformers) (4.2.0)\n",
            "Requirement already satisfied: pyparsing!=3.0.5,>=2.0.2 in /usr/local/lib/python3.7/dist-packages (from packaging>=20.0->transformers) (3.0.9)\n",
            "Requirement already satisfied: zipp>=0.5 in /usr/local/lib/python3.7/dist-packages (from importlib-metadata->transformers) (3.8.0)\n",
            "Requirement already satisfied: certifi>=2017.4.17 in /usr/local/lib/python3.7/dist-packages (from requests->transformers) (2022.5.18.1)\n",
            "Requirement already satisfied: urllib3!=1.25.0,!=1.25.1,<1.26,>=1.21.1 in /usr/local/lib/python3.7/dist-packages (from requests->transformers) (1.24.3)\n",
            "Requirement already satisfied: chardet<4,>=3.0.2 in /usr/local/lib/python3.7/dist-packages (from requests->transformers) (3.0.4)\n",
            "Requirement already satisfied: idna<3,>=2.5 in /usr/local/lib/python3.7/dist-packages (from requests->transformers) (2.10)\n",
            "Installing collected packages: pyyaml, tokenizers, huggingface-hub, transformers, sentencepiece\n",
            "  Attempting uninstall: pyyaml\n",
            "    Found existing installation: PyYAML 3.13\n",
            "    Uninstalling PyYAML-3.13:\n",
            "      Successfully uninstalled PyYAML-3.13\n",
            "Successfully installed huggingface-hub-0.7.0 pyyaml-6.0 sentencepiece-0.1.96 tokenizers-0.12.1 transformers-4.19.2\n"
          ]
        }
      ]
    },
    {
      "cell_type": "code",
      "source": [
        "%%shell\n",
        "mkdir ~/.kaggle\n",
        "cp kaggle.json ~/.kaggle/\n",
        "chmod 600 ~/.kaggle/kaggle.json"
      ],
      "metadata": {
        "colab": {
          "base_uri": "https://localhost:8080/"
        },
        "id": "Mk92NanE5Vcj",
        "outputId": "490a6e63-3243-48a1-d608-1c798d4e4719"
      },
      "execution_count": 3,
      "outputs": [
        {
          "output_type": "execute_result",
          "data": {
            "text/plain": [
              ""
            ]
          },
          "metadata": {},
          "execution_count": 3
        }
      ]
    },
    {
      "cell_type": "code",
      "source": [
        "!kaggle competitions download -c feedback-prize-effectiveness"
      ],
      "metadata": {
        "colab": {
          "base_uri": "https://localhost:8080/"
        },
        "id": "CNGbuUpa5ZhQ",
        "outputId": "b7684744-2c53-470a-f435-9e55b981e1f0"
      },
      "execution_count": 4,
      "outputs": [
        {
          "output_type": "stream",
          "name": "stdout",
          "text": [
            "Downloading feedback-prize-effectiveness.zip to /content\n",
            " 49% 4.00M/8.13M [00:00<00:00, 40.7MB/s]\n",
            "100% 8.13M/8.13M [00:00<00:00, 73.0MB/s]\n"
          ]
        }
      ]
    },
    {
      "cell_type": "code",
      "source": [
        "!unzip /content/feedback-prize-effectiveness.zip"
      ],
      "metadata": {
        "id": "-NEiluz95bPp"
      },
      "execution_count": null,
      "outputs": []
    },
    {
      "cell_type": "code",
      "source": [
        "from google.colab import drive\n",
        "drive.mount('/content/drive')"
      ],
      "metadata": {
        "colab": {
          "base_uri": "https://localhost:8080/"
        },
        "id": "QbVlwo7YMar6",
        "outputId": "9d83751a-4b9c-4a75-c633-127b2029410e"
      },
      "execution_count": 6,
      "outputs": [
        {
          "output_type": "stream",
          "name": "stdout",
          "text": [
            "Mounted at /content/drive\n"
          ]
        }
      ]
    },
    {
      "cell_type": "code",
      "source": [
        "!nvidia-smi"
      ],
      "metadata": {
        "colab": {
          "base_uri": "https://localhost:8080/"
        },
        "id": "wQiQxfVxMo5W",
        "outputId": "4f80a10d-fb0f-44f7-f06c-910c6a6da49f"
      },
      "execution_count": 7,
      "outputs": [
        {
          "output_type": "stream",
          "name": "stdout",
          "text": [
            "Mon Jun  6 06:01:15 2022       \n",
            "+-----------------------------------------------------------------------------+\n",
            "| NVIDIA-SMI 460.32.03    Driver Version: 460.32.03    CUDA Version: 11.2     |\n",
            "|-------------------------------+----------------------+----------------------+\n",
            "| GPU  Name        Persistence-M| Bus-Id        Disp.A | Volatile Uncorr. ECC |\n",
            "| Fan  Temp  Perf  Pwr:Usage/Cap|         Memory-Usage | GPU-Util  Compute M. |\n",
            "|                               |                      |               MIG M. |\n",
            "|===============================+======================+======================|\n",
            "|   0  Tesla T4            Off  | 00000000:00:04.0 Off |                    0 |\n",
            "| N/A   46C    P8    10W /  70W |      0MiB / 15109MiB |      0%      Default |\n",
            "|                               |                      |                  N/A |\n",
            "+-------------------------------+----------------------+----------------------+\n",
            "                                                                               \n",
            "+-----------------------------------------------------------------------------+\n",
            "| Processes:                                                                  |\n",
            "|  GPU   GI   CI        PID   Type   Process name                  GPU Memory |\n",
            "|        ID   ID                                                   Usage      |\n",
            "|=============================================================================|\n",
            "|  No running processes found                                                 |\n",
            "+-----------------------------------------------------------------------------+\n"
          ]
        }
      ]
    },
    {
      "cell_type": "code",
      "source": [
        "import pandas as pd\n",
        "import matplotlib.pyplot as plt\n",
        "import re\n",
        "import string\n",
        "from transformers import AutoTokenizer,DebertaModel,AutoConfig,DebertaPreTrainedModel,get_linear_schedule_with_warmup\n",
        "from sklearn.model_selection import StratifiedKFold\n",
        "import torch\n",
        "from torch import nn\n",
        "from torch.utils.data import DataLoader, Dataset\n",
        "from tqdm.auto import tqdm\n",
        "import gc\n",
        "from sklearn.metrics import *"
      ],
      "metadata": {
        "execution": {
          "iopub.status.busy": "2022-06-05T14:45:01.414070Z",
          "iopub.execute_input": "2022-06-05T14:45:01.414559Z",
          "iopub.status.idle": "2022-06-05T14:45:08.342572Z",
          "shell.execute_reply.started": "2022-06-05T14:45:01.414519Z",
          "shell.execute_reply": "2022-06-05T14:45:08.341773Z"
        },
        "trusted": true,
        "id": "YSJrpQRktuiH"
      },
      "execution_count": 8,
      "outputs": []
    },
    {
      "cell_type": "markdown",
      "source": [
        "##Phrase 1: Preprocessing"
      ],
      "metadata": {
        "id": "d3XVFJD4pcNJ"
      }
    },
    {
      "cell_type": "code",
      "source": [
        "train=pd.read_csv('train.csv')\n",
        "train"
      ],
      "metadata": {
        "execution": {
          "iopub.status.busy": "2022-06-05T14:45:08.509722Z",
          "iopub.execute_input": "2022-06-05T14:45:08.510309Z",
          "iopub.status.idle": "2022-06-05T14:45:08.745914Z",
          "shell.execute_reply.started": "2022-06-05T14:45:08.510270Z",
          "shell.execute_reply": "2022-06-05T14:45:08.745096Z"
        },
        "trusted": true,
        "colab": {
          "base_uri": "https://localhost:8080/",
          "height": 463
        },
        "id": "S321fpzstuiI",
        "outputId": "fd1c422b-4349-4fe6-b31b-952590296225"
      },
      "execution_count": 9,
      "outputs": [
        {
          "output_type": "execute_result",
          "data": {
            "text/plain": [
              "       discourse_id      essay_id  \\\n",
              "0      0013cc385424  007ACE74B050   \n",
              "1      9704a709b505  007ACE74B050   \n",
              "2      c22adee811b6  007ACE74B050   \n",
              "3      a10d361e54e4  007ACE74B050   \n",
              "4      db3e453ec4e2  007ACE74B050   \n",
              "...             ...           ...   \n",
              "36760  9f63b687e76a  FFA381E58FC6   \n",
              "36761  9d5bd7d86212  FFA381E58FC6   \n",
              "36762  f1b78becd573  FFA381E58FC6   \n",
              "36763  cc184624ca8e  FFA381E58FC6   \n",
              "36764  c8a973681feb  FFA381E58FC6   \n",
              "\n",
              "                                          discourse_text  \\\n",
              "0      Hi, i'm Isaac, i'm going to be writing about h...   \n",
              "1      On my perspective, I think that the face is a ...   \n",
              "2      I think that the face is a natural landform be...   \n",
              "3      If life was on Mars, we would know by now. The...   \n",
              "4      People thought that the face was formed by ali...   \n",
              "...                                                  ...   \n",
              "36760  For many people they don't like only asking on...   \n",
              "36761  also people have different views and opinions ...   \n",
              "36762  Advice is something that can impact a persons ...   \n",
              "36763  someone can use everything that many people sa...   \n",
              "36764  In conclusion asking for an opinion can be ben...   \n",
              "\n",
              "             discourse_type discourse_effectiveness  \n",
              "0                      Lead                Adequate  \n",
              "1                  Position                Adequate  \n",
              "2                     Claim                Adequate  \n",
              "3                  Evidence                Adequate  \n",
              "4              Counterclaim                Adequate  \n",
              "...                     ...                     ...  \n",
              "36760                 Claim                Adequate  \n",
              "36761                 Claim                Adequate  \n",
              "36762              Position                Adequate  \n",
              "36763              Evidence             Ineffective  \n",
              "36764  Concluding Statement             Ineffective  \n",
              "\n",
              "[36765 rows x 5 columns]"
            ],
            "text/html": [
              "\n",
              "  <div id=\"df-d012851f-f785-4518-b9b6-d7520bfaefd8\">\n",
              "    <div class=\"colab-df-container\">\n",
              "      <div>\n",
              "<style scoped>\n",
              "    .dataframe tbody tr th:only-of-type {\n",
              "        vertical-align: middle;\n",
              "    }\n",
              "\n",
              "    .dataframe tbody tr th {\n",
              "        vertical-align: top;\n",
              "    }\n",
              "\n",
              "    .dataframe thead th {\n",
              "        text-align: right;\n",
              "    }\n",
              "</style>\n",
              "<table border=\"1\" class=\"dataframe\">\n",
              "  <thead>\n",
              "    <tr style=\"text-align: right;\">\n",
              "      <th></th>\n",
              "      <th>discourse_id</th>\n",
              "      <th>essay_id</th>\n",
              "      <th>discourse_text</th>\n",
              "      <th>discourse_type</th>\n",
              "      <th>discourse_effectiveness</th>\n",
              "    </tr>\n",
              "  </thead>\n",
              "  <tbody>\n",
              "    <tr>\n",
              "      <th>0</th>\n",
              "      <td>0013cc385424</td>\n",
              "      <td>007ACE74B050</td>\n",
              "      <td>Hi, i'm Isaac, i'm going to be writing about h...</td>\n",
              "      <td>Lead</td>\n",
              "      <td>Adequate</td>\n",
              "    </tr>\n",
              "    <tr>\n",
              "      <th>1</th>\n",
              "      <td>9704a709b505</td>\n",
              "      <td>007ACE74B050</td>\n",
              "      <td>On my perspective, I think that the face is a ...</td>\n",
              "      <td>Position</td>\n",
              "      <td>Adequate</td>\n",
              "    </tr>\n",
              "    <tr>\n",
              "      <th>2</th>\n",
              "      <td>c22adee811b6</td>\n",
              "      <td>007ACE74B050</td>\n",
              "      <td>I think that the face is a natural landform be...</td>\n",
              "      <td>Claim</td>\n",
              "      <td>Adequate</td>\n",
              "    </tr>\n",
              "    <tr>\n",
              "      <th>3</th>\n",
              "      <td>a10d361e54e4</td>\n",
              "      <td>007ACE74B050</td>\n",
              "      <td>If life was on Mars, we would know by now. The...</td>\n",
              "      <td>Evidence</td>\n",
              "      <td>Adequate</td>\n",
              "    </tr>\n",
              "    <tr>\n",
              "      <th>4</th>\n",
              "      <td>db3e453ec4e2</td>\n",
              "      <td>007ACE74B050</td>\n",
              "      <td>People thought that the face was formed by ali...</td>\n",
              "      <td>Counterclaim</td>\n",
              "      <td>Adequate</td>\n",
              "    </tr>\n",
              "    <tr>\n",
              "      <th>...</th>\n",
              "      <td>...</td>\n",
              "      <td>...</td>\n",
              "      <td>...</td>\n",
              "      <td>...</td>\n",
              "      <td>...</td>\n",
              "    </tr>\n",
              "    <tr>\n",
              "      <th>36760</th>\n",
              "      <td>9f63b687e76a</td>\n",
              "      <td>FFA381E58FC6</td>\n",
              "      <td>For many people they don't like only asking on...</td>\n",
              "      <td>Claim</td>\n",
              "      <td>Adequate</td>\n",
              "    </tr>\n",
              "    <tr>\n",
              "      <th>36761</th>\n",
              "      <td>9d5bd7d86212</td>\n",
              "      <td>FFA381E58FC6</td>\n",
              "      <td>also people have different views and opinions ...</td>\n",
              "      <td>Claim</td>\n",
              "      <td>Adequate</td>\n",
              "    </tr>\n",
              "    <tr>\n",
              "      <th>36762</th>\n",
              "      <td>f1b78becd573</td>\n",
              "      <td>FFA381E58FC6</td>\n",
              "      <td>Advice is something that can impact a persons ...</td>\n",
              "      <td>Position</td>\n",
              "      <td>Adequate</td>\n",
              "    </tr>\n",
              "    <tr>\n",
              "      <th>36763</th>\n",
              "      <td>cc184624ca8e</td>\n",
              "      <td>FFA381E58FC6</td>\n",
              "      <td>someone can use everything that many people sa...</td>\n",
              "      <td>Evidence</td>\n",
              "      <td>Ineffective</td>\n",
              "    </tr>\n",
              "    <tr>\n",
              "      <th>36764</th>\n",
              "      <td>c8a973681feb</td>\n",
              "      <td>FFA381E58FC6</td>\n",
              "      <td>In conclusion asking for an opinion can be ben...</td>\n",
              "      <td>Concluding Statement</td>\n",
              "      <td>Ineffective</td>\n",
              "    </tr>\n",
              "  </tbody>\n",
              "</table>\n",
              "<p>36765 rows × 5 columns</p>\n",
              "</div>\n",
              "      <button class=\"colab-df-convert\" onclick=\"convertToInteractive('df-d012851f-f785-4518-b9b6-d7520bfaefd8')\"\n",
              "              title=\"Convert this dataframe to an interactive table.\"\n",
              "              style=\"display:none;\">\n",
              "        \n",
              "  <svg xmlns=\"http://www.w3.org/2000/svg\" height=\"24px\"viewBox=\"0 0 24 24\"\n",
              "       width=\"24px\">\n",
              "    <path d=\"M0 0h24v24H0V0z\" fill=\"none\"/>\n",
              "    <path d=\"M18.56 5.44l.94 2.06.94-2.06 2.06-.94-2.06-.94-.94-2.06-.94 2.06-2.06.94zm-11 1L8.5 8.5l.94-2.06 2.06-.94-2.06-.94L8.5 2.5l-.94 2.06-2.06.94zm10 10l.94 2.06.94-2.06 2.06-.94-2.06-.94-.94-2.06-.94 2.06-2.06.94z\"/><path d=\"M17.41 7.96l-1.37-1.37c-.4-.4-.92-.59-1.43-.59-.52 0-1.04.2-1.43.59L10.3 9.45l-7.72 7.72c-.78.78-.78 2.05 0 2.83L4 21.41c.39.39.9.59 1.41.59.51 0 1.02-.2 1.41-.59l7.78-7.78 2.81-2.81c.8-.78.8-2.07 0-2.86zM5.41 20L4 18.59l7.72-7.72 1.47 1.35L5.41 20z\"/>\n",
              "  </svg>\n",
              "      </button>\n",
              "      \n",
              "  <style>\n",
              "    .colab-df-container {\n",
              "      display:flex;\n",
              "      flex-wrap:wrap;\n",
              "      gap: 12px;\n",
              "    }\n",
              "\n",
              "    .colab-df-convert {\n",
              "      background-color: #E8F0FE;\n",
              "      border: none;\n",
              "      border-radius: 50%;\n",
              "      cursor: pointer;\n",
              "      display: none;\n",
              "      fill: #1967D2;\n",
              "      height: 32px;\n",
              "      padding: 0 0 0 0;\n",
              "      width: 32px;\n",
              "    }\n",
              "\n",
              "    .colab-df-convert:hover {\n",
              "      background-color: #E2EBFA;\n",
              "      box-shadow: 0px 1px 2px rgba(60, 64, 67, 0.3), 0px 1px 3px 1px rgba(60, 64, 67, 0.15);\n",
              "      fill: #174EA6;\n",
              "    }\n",
              "\n",
              "    [theme=dark] .colab-df-convert {\n",
              "      background-color: #3B4455;\n",
              "      fill: #D2E3FC;\n",
              "    }\n",
              "\n",
              "    [theme=dark] .colab-df-convert:hover {\n",
              "      background-color: #434B5C;\n",
              "      box-shadow: 0px 1px 3px 1px rgba(0, 0, 0, 0.15);\n",
              "      filter: drop-shadow(0px 1px 2px rgba(0, 0, 0, 0.3));\n",
              "      fill: #FFFFFF;\n",
              "    }\n",
              "  </style>\n",
              "\n",
              "      <script>\n",
              "        const buttonEl =\n",
              "          document.querySelector('#df-d012851f-f785-4518-b9b6-d7520bfaefd8 button.colab-df-convert');\n",
              "        buttonEl.style.display =\n",
              "          google.colab.kernel.accessAllowed ? 'block' : 'none';\n",
              "\n",
              "        async function convertToInteractive(key) {\n",
              "          const element = document.querySelector('#df-d012851f-f785-4518-b9b6-d7520bfaefd8');\n",
              "          const dataTable =\n",
              "            await google.colab.kernel.invokeFunction('convertToInteractive',\n",
              "                                                     [key], {});\n",
              "          if (!dataTable) return;\n",
              "\n",
              "          const docLinkHtml = 'Like what you see? Visit the ' +\n",
              "            '<a target=\"_blank\" href=https://colab.research.google.com/notebooks/data_table.ipynb>data table notebook</a>'\n",
              "            + ' to learn more about interactive tables.';\n",
              "          element.innerHTML = '';\n",
              "          dataTable['output_type'] = 'display_data';\n",
              "          await google.colab.output.renderOutput(dataTable, element);\n",
              "          const docLink = document.createElement('div');\n",
              "          docLink.innerHTML = docLinkHtml;\n",
              "          element.appendChild(docLink);\n",
              "        }\n",
              "      </script>\n",
              "    </div>\n",
              "  </div>\n",
              "  "
            ]
          },
          "metadata": {},
          "execution_count": 9
        }
      ]
    },
    {
      "cell_type": "code",
      "source": [
        "train[train.duplicated(['discourse_type','discourse_text','discourse_effectiveness'])]"
      ],
      "metadata": {
        "colab": {
          "base_uri": "https://localhost:8080/",
          "height": 1000
        },
        "id": "V0D9C2IZFY3F",
        "outputId": "67286f27-e119-4bec-d667-ba59be45a502"
      },
      "execution_count": 10,
      "outputs": [
        {
          "output_type": "execute_result",
          "data": {
            "text/plain": [
              "       discourse_id      essay_id  \\\n",
              "1009   edf3ee8c1cee  130F9B6DCCF9   \n",
              "1552   cb2b1c856eee  1D7E734B4A3D   \n",
              "1758   690c9b7d12e8  20C01368FC3E   \n",
              "1932   248993ac2f7c  2352FF50900C   \n",
              "2643   3c57ee2d6ec6  2FF6C7542D18   \n",
              "3454   69ae7f51cffa  3E866ECC376A   \n",
              "4180   b51c95171735  4A5760917477   \n",
              "5190   6fbb9eb82b5c  5E9118C7949A   \n",
              "5335   899ed0d3dfc1  6198205BB70E   \n",
              "5571   d50c2d2f727a  66418ED2289D   \n",
              "5654   a09fe5a16656  6776B92E4513   \n",
              "5781   c4d90ca68a1d  6A273D6F0816   \n",
              "5984   5151a7e8160f  6D1FB567121E   \n",
              "7302   52a67c961fe6  84DA3A4E84CC   \n",
              "7304   683c0a92bc9c  84DB11599420   \n",
              "7386   174f6b640d0f  8579CD3051BD   \n",
              "7979   10d7634f375f  909404A6C673   \n",
              "8072   1a21c7fe68bb  9224F001F074   \n",
              "8451   46f83987ae9c  98B95C21BEF8   \n",
              "9581   b044eadd50da  AC7C84C2A13E   \n",
              "10205  235f98fa0af8  B7E936A82959   \n",
              "10452  0d4bb7e00f0c  BB4B5D896E96   \n",
              "10602  86299005849f  BDCD981437BB   \n",
              "10613  57fd04db6a56  BE1F20C5B099   \n",
              "11014  29b3bd2a0df6  C6204A4BFD65   \n",
              "11119  d4257f438d90  C822187BF7E4   \n",
              "11232  91760241199b  CA2987A57568   \n",
              "11285  5e4022e93247  CB66B685DAF6   \n",
              "11638  896147cde32c  D228AB564BF6   \n",
              "12056  66320fd2f658  DA0FBE6F11C9   \n",
              "12951  a8f65693a00e  E9E9AEC9100C   \n",
              "13599  2374a547e375  F456754DA472   \n",
              "13836  684c68931d56  F7D1D884AAD4   \n",
              "14020  5b2d87edaaf5  FA2BC6C3A09B   \n",
              "15462  8ae0dc965236  0EAF5E712F0D   \n",
              "16552  77f5379ee53b  1ED8279252FB   \n",
              "22657  1e1b0be69df3  6F896BABB13C   \n",
              "23689  38b99361ab03  7BE2D386E765   \n",
              "25843  84092ac0563f  9A529A48D35F   \n",
              "26474  56d2f0a2dcd8  A3D23CFB2043   \n",
              "27033  f6b2d34d9c01  A98E8EFFC8A9   \n",
              "27350  d628a6adda3a  ADB68BCD2874   \n",
              "28434  355486ba3202  BB3A6C2D0B65   \n",
              "28669  a12f7822cf10  C07E3C23CE7B   \n",
              "29077  a0b4e6c08025  C579A4D6151E   \n",
              "29447  be69b963a136  CB09A5442145   \n",
              "29590  33d6bbba823c  CE64FA08E4CF   \n",
              "30778  0333e420f20f  E09064F496DF   \n",
              "31230  6a53b002c7ae  E6FDA0489273   \n",
              "31878  490d2bb2cb23  F0949D854B5F   \n",
              "32242  3ac060c97a7f  F47252812301   \n",
              "32365  f9e29495996b  F68A995107BE   \n",
              "34383  3312a23a5480  523EBD9ECA47   \n",
              "34491  6fba7cb5e528  5C3B7683D560   \n",
              "35012  e87df77f2013  83AE9B85F6FD   \n",
              "35345  80eeb84d5a59  99863EAC8F7F   \n",
              "35456  77fc6c349463  A814BD710140   \n",
              "35969  d9c17f7d8b7a  C8FB2508978A   \n",
              "\n",
              "                                          discourse_text discourse_type  \\\n",
              "1009         Summer projects should be teacher-designed        Position   \n",
              "1552         Summer projects should be teacher-designed        Position   \n",
              "1758         Summer projects should be student-designed        Position   \n",
              "1932         Summer projects should be student-designed        Position   \n",
              "2643         Summer projects should be student-designed        Position   \n",
              "3454         Summer projects should be student-designed        Position   \n",
              "4180         Summer projects should be student-designed        Position   \n",
              "5190         Summer projects should be teacher-designed        Position   \n",
              "5335         Summer projects should be student-designed        Position   \n",
              "5571         Summer projects should be student-designed        Position   \n",
              "5654         Summer projects should be teacher-designed        Position   \n",
              "5781         Summer projects should be student-designed        Position   \n",
              "5984         Summer projects should be student-designed        Position   \n",
              "7302         Summer projects should be student-designed        Position   \n",
              "7304   These summer projects should be student-designed        Position   \n",
              "7386               The advantages of limiting car usage        Position   \n",
              "7979   These summer projects should be student-designed        Position   \n",
              "8072   In \"The Challenge of Exploring Venus,\" the aut...       Position   \n",
              "8451   The use of the Facial Action Coding System to ...       Position   \n",
              "9581         Summer projects should be teacher-designed        Position   \n",
              "10205                                     less traffic,           Claim   \n",
              "10452        Summer projects should be student-designed        Position   \n",
              "10602        Summer projects should be student-designed        Position   \n",
              "10613              The advantages of limiting car usage        Position   \n",
              "11014                                          polution           Claim   \n",
              "11119  Students should participate in at least one ex...       Position   \n",
              "11232        Summer projects should be student-designed        Position   \n",
              "11285                                           I agree        Position   \n",
              "11638     Summer assignments should be student-designed        Position   \n",
              "12056  Some schools require students to complete summ...           Lead   \n",
              "12951                              it is life-changing.           Claim   \n",
              "13599       The face on Mars is just a natural landform        Position   \n",
              "13836                          you get to see the world           Claim   \n",
              "14020        Summer projects should be teacher-designed        Position   \n",
              "15462      I think we should keep the Electoral College        Position   \n",
              "16552      I think we should keep the Electoral College        Position   \n",
              "22657  On the other hand the electoral college is a g...   Counterclaim   \n",
              "23689           The face on mars is a natural landform.        Position   \n",
              "25843        The electoral college is unfair to voters.           Claim   \n",
              "26474                                      swing states           Claim   \n",
              "27033                            the technology failing           Claim   \n",
              "27350  \"That's a lava dome that takes the form of an ...       Evidence   \n",
              "28434                                      Swing States           Claim   \n",
              "28669      I think we should keep the electoral college        Position   \n",
              "29077  Students would not benefit from being able to ...       Position   \n",
              "29447                                        big states           Claim   \n",
              "29590  I think students should be required to perform...       Position   \n",
              "30778        The electoral college is unfair to voters.           Claim   \n",
              "31230                                        big states           Claim   \n",
              "31878        The electoral college is unfair to voters.           Claim   \n",
              "32242        The electoral college is unfair to voters.           Claim   \n",
              "32365  Students would benefit from being able to atte...       Position   \n",
              "34383  Seeking multiple opinions can help someone mak...       Position   \n",
              "34491  Students would benefit from being able to atte...       Position   \n",
              "35012  Students would benefit from being able to atte...       Position   \n",
              "35345  seeking multiple opinions can help someone mak...       Position   \n",
              "35456  Seeking multiple opinions can help someone mak...       Position   \n",
              "35969                                         opinions,           Claim   \n",
              "\n",
              "      discourse_effectiveness  \n",
              "1009                 Adequate  \n",
              "1552                 Adequate  \n",
              "1758                 Adequate  \n",
              "1932                 Adequate  \n",
              "2643                 Adequate  \n",
              "3454                 Adequate  \n",
              "4180                 Adequate  \n",
              "5190                 Adequate  \n",
              "5335                 Adequate  \n",
              "5571                 Adequate  \n",
              "5654                 Adequate  \n",
              "5781                 Adequate  \n",
              "5984                 Adequate  \n",
              "7302                 Adequate  \n",
              "7304                 Adequate  \n",
              "7386              Ineffective  \n",
              "7979                 Adequate  \n",
              "8072                 Adequate  \n",
              "8451                Effective  \n",
              "9581                 Adequate  \n",
              "10205                Adequate  \n",
              "10452                Adequate  \n",
              "10602                Adequate  \n",
              "10613             Ineffective  \n",
              "11014                Adequate  \n",
              "11119                Adequate  \n",
              "11232                Adequate  \n",
              "11285                Adequate  \n",
              "11638                Adequate  \n",
              "12056                Adequate  \n",
              "12951                Adequate  \n",
              "13599                Adequate  \n",
              "13836                Adequate  \n",
              "14020                Adequate  \n",
              "15462                Adequate  \n",
              "16552                Adequate  \n",
              "22657                Adequate  \n",
              "23689                Adequate  \n",
              "25843                Adequate  \n",
              "26474                Adequate  \n",
              "27033                Adequate  \n",
              "27350                Adequate  \n",
              "28434                Adequate  \n",
              "28669                Adequate  \n",
              "29077                Adequate  \n",
              "29447             Ineffective  \n",
              "29590                Adequate  \n",
              "30778                Adequate  \n",
              "31230             Ineffective  \n",
              "31878                Adequate  \n",
              "32242                Adequate  \n",
              "32365                Adequate  \n",
              "34383                Adequate  \n",
              "34491                Adequate  \n",
              "35012                Adequate  \n",
              "35345                Adequate  \n",
              "35456                Adequate  \n",
              "35969                Adequate  "
            ],
            "text/html": [
              "\n",
              "  <div id=\"df-4b639126-b346-49e9-b6ae-6bc085f8db45\">\n",
              "    <div class=\"colab-df-container\">\n",
              "      <div>\n",
              "<style scoped>\n",
              "    .dataframe tbody tr th:only-of-type {\n",
              "        vertical-align: middle;\n",
              "    }\n",
              "\n",
              "    .dataframe tbody tr th {\n",
              "        vertical-align: top;\n",
              "    }\n",
              "\n",
              "    .dataframe thead th {\n",
              "        text-align: right;\n",
              "    }\n",
              "</style>\n",
              "<table border=\"1\" class=\"dataframe\">\n",
              "  <thead>\n",
              "    <tr style=\"text-align: right;\">\n",
              "      <th></th>\n",
              "      <th>discourse_id</th>\n",
              "      <th>essay_id</th>\n",
              "      <th>discourse_text</th>\n",
              "      <th>discourse_type</th>\n",
              "      <th>discourse_effectiveness</th>\n",
              "    </tr>\n",
              "  </thead>\n",
              "  <tbody>\n",
              "    <tr>\n",
              "      <th>1009</th>\n",
              "      <td>edf3ee8c1cee</td>\n",
              "      <td>130F9B6DCCF9</td>\n",
              "      <td>Summer projects should be teacher-designed</td>\n",
              "      <td>Position</td>\n",
              "      <td>Adequate</td>\n",
              "    </tr>\n",
              "    <tr>\n",
              "      <th>1552</th>\n",
              "      <td>cb2b1c856eee</td>\n",
              "      <td>1D7E734B4A3D</td>\n",
              "      <td>Summer projects should be teacher-designed</td>\n",
              "      <td>Position</td>\n",
              "      <td>Adequate</td>\n",
              "    </tr>\n",
              "    <tr>\n",
              "      <th>1758</th>\n",
              "      <td>690c9b7d12e8</td>\n",
              "      <td>20C01368FC3E</td>\n",
              "      <td>Summer projects should be student-designed</td>\n",
              "      <td>Position</td>\n",
              "      <td>Adequate</td>\n",
              "    </tr>\n",
              "    <tr>\n",
              "      <th>1932</th>\n",
              "      <td>248993ac2f7c</td>\n",
              "      <td>2352FF50900C</td>\n",
              "      <td>Summer projects should be student-designed</td>\n",
              "      <td>Position</td>\n",
              "      <td>Adequate</td>\n",
              "    </tr>\n",
              "    <tr>\n",
              "      <th>2643</th>\n",
              "      <td>3c57ee2d6ec6</td>\n",
              "      <td>2FF6C7542D18</td>\n",
              "      <td>Summer projects should be student-designed</td>\n",
              "      <td>Position</td>\n",
              "      <td>Adequate</td>\n",
              "    </tr>\n",
              "    <tr>\n",
              "      <th>3454</th>\n",
              "      <td>69ae7f51cffa</td>\n",
              "      <td>3E866ECC376A</td>\n",
              "      <td>Summer projects should be student-designed</td>\n",
              "      <td>Position</td>\n",
              "      <td>Adequate</td>\n",
              "    </tr>\n",
              "    <tr>\n",
              "      <th>4180</th>\n",
              "      <td>b51c95171735</td>\n",
              "      <td>4A5760917477</td>\n",
              "      <td>Summer projects should be student-designed</td>\n",
              "      <td>Position</td>\n",
              "      <td>Adequate</td>\n",
              "    </tr>\n",
              "    <tr>\n",
              "      <th>5190</th>\n",
              "      <td>6fbb9eb82b5c</td>\n",
              "      <td>5E9118C7949A</td>\n",
              "      <td>Summer projects should be teacher-designed</td>\n",
              "      <td>Position</td>\n",
              "      <td>Adequate</td>\n",
              "    </tr>\n",
              "    <tr>\n",
              "      <th>5335</th>\n",
              "      <td>899ed0d3dfc1</td>\n",
              "      <td>6198205BB70E</td>\n",
              "      <td>Summer projects should be student-designed</td>\n",
              "      <td>Position</td>\n",
              "      <td>Adequate</td>\n",
              "    </tr>\n",
              "    <tr>\n",
              "      <th>5571</th>\n",
              "      <td>d50c2d2f727a</td>\n",
              "      <td>66418ED2289D</td>\n",
              "      <td>Summer projects should be student-designed</td>\n",
              "      <td>Position</td>\n",
              "      <td>Adequate</td>\n",
              "    </tr>\n",
              "    <tr>\n",
              "      <th>5654</th>\n",
              "      <td>a09fe5a16656</td>\n",
              "      <td>6776B92E4513</td>\n",
              "      <td>Summer projects should be teacher-designed</td>\n",
              "      <td>Position</td>\n",
              "      <td>Adequate</td>\n",
              "    </tr>\n",
              "    <tr>\n",
              "      <th>5781</th>\n",
              "      <td>c4d90ca68a1d</td>\n",
              "      <td>6A273D6F0816</td>\n",
              "      <td>Summer projects should be student-designed</td>\n",
              "      <td>Position</td>\n",
              "      <td>Adequate</td>\n",
              "    </tr>\n",
              "    <tr>\n",
              "      <th>5984</th>\n",
              "      <td>5151a7e8160f</td>\n",
              "      <td>6D1FB567121E</td>\n",
              "      <td>Summer projects should be student-designed</td>\n",
              "      <td>Position</td>\n",
              "      <td>Adequate</td>\n",
              "    </tr>\n",
              "    <tr>\n",
              "      <th>7302</th>\n",
              "      <td>52a67c961fe6</td>\n",
              "      <td>84DA3A4E84CC</td>\n",
              "      <td>Summer projects should be student-designed</td>\n",
              "      <td>Position</td>\n",
              "      <td>Adequate</td>\n",
              "    </tr>\n",
              "    <tr>\n",
              "      <th>7304</th>\n",
              "      <td>683c0a92bc9c</td>\n",
              "      <td>84DB11599420</td>\n",
              "      <td>These summer projects should be student-designed</td>\n",
              "      <td>Position</td>\n",
              "      <td>Adequate</td>\n",
              "    </tr>\n",
              "    <tr>\n",
              "      <th>7386</th>\n",
              "      <td>174f6b640d0f</td>\n",
              "      <td>8579CD3051BD</td>\n",
              "      <td>The advantages of limiting car usage</td>\n",
              "      <td>Position</td>\n",
              "      <td>Ineffective</td>\n",
              "    </tr>\n",
              "    <tr>\n",
              "      <th>7979</th>\n",
              "      <td>10d7634f375f</td>\n",
              "      <td>909404A6C673</td>\n",
              "      <td>These summer projects should be student-designed</td>\n",
              "      <td>Position</td>\n",
              "      <td>Adequate</td>\n",
              "    </tr>\n",
              "    <tr>\n",
              "      <th>8072</th>\n",
              "      <td>1a21c7fe68bb</td>\n",
              "      <td>9224F001F074</td>\n",
              "      <td>In \"The Challenge of Exploring Venus,\" the aut...</td>\n",
              "      <td>Position</td>\n",
              "      <td>Adequate</td>\n",
              "    </tr>\n",
              "    <tr>\n",
              "      <th>8451</th>\n",
              "      <td>46f83987ae9c</td>\n",
              "      <td>98B95C21BEF8</td>\n",
              "      <td>The use of the Facial Action Coding System to ...</td>\n",
              "      <td>Position</td>\n",
              "      <td>Effective</td>\n",
              "    </tr>\n",
              "    <tr>\n",
              "      <th>9581</th>\n",
              "      <td>b044eadd50da</td>\n",
              "      <td>AC7C84C2A13E</td>\n",
              "      <td>Summer projects should be teacher-designed</td>\n",
              "      <td>Position</td>\n",
              "      <td>Adequate</td>\n",
              "    </tr>\n",
              "    <tr>\n",
              "      <th>10205</th>\n",
              "      <td>235f98fa0af8</td>\n",
              "      <td>B7E936A82959</td>\n",
              "      <td>less traffic,</td>\n",
              "      <td>Claim</td>\n",
              "      <td>Adequate</td>\n",
              "    </tr>\n",
              "    <tr>\n",
              "      <th>10452</th>\n",
              "      <td>0d4bb7e00f0c</td>\n",
              "      <td>BB4B5D896E96</td>\n",
              "      <td>Summer projects should be student-designed</td>\n",
              "      <td>Position</td>\n",
              "      <td>Adequate</td>\n",
              "    </tr>\n",
              "    <tr>\n",
              "      <th>10602</th>\n",
              "      <td>86299005849f</td>\n",
              "      <td>BDCD981437BB</td>\n",
              "      <td>Summer projects should be student-designed</td>\n",
              "      <td>Position</td>\n",
              "      <td>Adequate</td>\n",
              "    </tr>\n",
              "    <tr>\n",
              "      <th>10613</th>\n",
              "      <td>57fd04db6a56</td>\n",
              "      <td>BE1F20C5B099</td>\n",
              "      <td>The advantages of limiting car usage</td>\n",
              "      <td>Position</td>\n",
              "      <td>Ineffective</td>\n",
              "    </tr>\n",
              "    <tr>\n",
              "      <th>11014</th>\n",
              "      <td>29b3bd2a0df6</td>\n",
              "      <td>C6204A4BFD65</td>\n",
              "      <td>polution</td>\n",
              "      <td>Claim</td>\n",
              "      <td>Adequate</td>\n",
              "    </tr>\n",
              "    <tr>\n",
              "      <th>11119</th>\n",
              "      <td>d4257f438d90</td>\n",
              "      <td>C822187BF7E4</td>\n",
              "      <td>Students should participate in at least one ex...</td>\n",
              "      <td>Position</td>\n",
              "      <td>Adequate</td>\n",
              "    </tr>\n",
              "    <tr>\n",
              "      <th>11232</th>\n",
              "      <td>91760241199b</td>\n",
              "      <td>CA2987A57568</td>\n",
              "      <td>Summer projects should be student-designed</td>\n",
              "      <td>Position</td>\n",
              "      <td>Adequate</td>\n",
              "    </tr>\n",
              "    <tr>\n",
              "      <th>11285</th>\n",
              "      <td>5e4022e93247</td>\n",
              "      <td>CB66B685DAF6</td>\n",
              "      <td>I agree</td>\n",
              "      <td>Position</td>\n",
              "      <td>Adequate</td>\n",
              "    </tr>\n",
              "    <tr>\n",
              "      <th>11638</th>\n",
              "      <td>896147cde32c</td>\n",
              "      <td>D228AB564BF6</td>\n",
              "      <td>Summer assignments should be student-designed</td>\n",
              "      <td>Position</td>\n",
              "      <td>Adequate</td>\n",
              "    </tr>\n",
              "    <tr>\n",
              "      <th>12056</th>\n",
              "      <td>66320fd2f658</td>\n",
              "      <td>DA0FBE6F11C9</td>\n",
              "      <td>Some schools require students to complete summ...</td>\n",
              "      <td>Lead</td>\n",
              "      <td>Adequate</td>\n",
              "    </tr>\n",
              "    <tr>\n",
              "      <th>12951</th>\n",
              "      <td>a8f65693a00e</td>\n",
              "      <td>E9E9AEC9100C</td>\n",
              "      <td>it is life-changing.</td>\n",
              "      <td>Claim</td>\n",
              "      <td>Adequate</td>\n",
              "    </tr>\n",
              "    <tr>\n",
              "      <th>13599</th>\n",
              "      <td>2374a547e375</td>\n",
              "      <td>F456754DA472</td>\n",
              "      <td>The face on Mars is just a natural landform</td>\n",
              "      <td>Position</td>\n",
              "      <td>Adequate</td>\n",
              "    </tr>\n",
              "    <tr>\n",
              "      <th>13836</th>\n",
              "      <td>684c68931d56</td>\n",
              "      <td>F7D1D884AAD4</td>\n",
              "      <td>you get to see the world</td>\n",
              "      <td>Claim</td>\n",
              "      <td>Adequate</td>\n",
              "    </tr>\n",
              "    <tr>\n",
              "      <th>14020</th>\n",
              "      <td>5b2d87edaaf5</td>\n",
              "      <td>FA2BC6C3A09B</td>\n",
              "      <td>Summer projects should be teacher-designed</td>\n",
              "      <td>Position</td>\n",
              "      <td>Adequate</td>\n",
              "    </tr>\n",
              "    <tr>\n",
              "      <th>15462</th>\n",
              "      <td>8ae0dc965236</td>\n",
              "      <td>0EAF5E712F0D</td>\n",
              "      <td>I think we should keep the Electoral College</td>\n",
              "      <td>Position</td>\n",
              "      <td>Adequate</td>\n",
              "    </tr>\n",
              "    <tr>\n",
              "      <th>16552</th>\n",
              "      <td>77f5379ee53b</td>\n",
              "      <td>1ED8279252FB</td>\n",
              "      <td>I think we should keep the Electoral College</td>\n",
              "      <td>Position</td>\n",
              "      <td>Adequate</td>\n",
              "    </tr>\n",
              "    <tr>\n",
              "      <th>22657</th>\n",
              "      <td>1e1b0be69df3</td>\n",
              "      <td>6F896BABB13C</td>\n",
              "      <td>On the other hand the electoral college is a g...</td>\n",
              "      <td>Counterclaim</td>\n",
              "      <td>Adequate</td>\n",
              "    </tr>\n",
              "    <tr>\n",
              "      <th>23689</th>\n",
              "      <td>38b99361ab03</td>\n",
              "      <td>7BE2D386E765</td>\n",
              "      <td>The face on mars is a natural landform.</td>\n",
              "      <td>Position</td>\n",
              "      <td>Adequate</td>\n",
              "    </tr>\n",
              "    <tr>\n",
              "      <th>25843</th>\n",
              "      <td>84092ac0563f</td>\n",
              "      <td>9A529A48D35F</td>\n",
              "      <td>The electoral college is unfair to voters.</td>\n",
              "      <td>Claim</td>\n",
              "      <td>Adequate</td>\n",
              "    </tr>\n",
              "    <tr>\n",
              "      <th>26474</th>\n",
              "      <td>56d2f0a2dcd8</td>\n",
              "      <td>A3D23CFB2043</td>\n",
              "      <td>swing states</td>\n",
              "      <td>Claim</td>\n",
              "      <td>Adequate</td>\n",
              "    </tr>\n",
              "    <tr>\n",
              "      <th>27033</th>\n",
              "      <td>f6b2d34d9c01</td>\n",
              "      <td>A98E8EFFC8A9</td>\n",
              "      <td>the technology failing</td>\n",
              "      <td>Claim</td>\n",
              "      <td>Adequate</td>\n",
              "    </tr>\n",
              "    <tr>\n",
              "      <th>27350</th>\n",
              "      <td>d628a6adda3a</td>\n",
              "      <td>ADB68BCD2874</td>\n",
              "      <td>\"That's a lava dome that takes the form of an ...</td>\n",
              "      <td>Evidence</td>\n",
              "      <td>Adequate</td>\n",
              "    </tr>\n",
              "    <tr>\n",
              "      <th>28434</th>\n",
              "      <td>355486ba3202</td>\n",
              "      <td>BB3A6C2D0B65</td>\n",
              "      <td>Swing States</td>\n",
              "      <td>Claim</td>\n",
              "      <td>Adequate</td>\n",
              "    </tr>\n",
              "    <tr>\n",
              "      <th>28669</th>\n",
              "      <td>a12f7822cf10</td>\n",
              "      <td>C07E3C23CE7B</td>\n",
              "      <td>I think we should keep the electoral college</td>\n",
              "      <td>Position</td>\n",
              "      <td>Adequate</td>\n",
              "    </tr>\n",
              "    <tr>\n",
              "      <th>29077</th>\n",
              "      <td>a0b4e6c08025</td>\n",
              "      <td>C579A4D6151E</td>\n",
              "      <td>Students would not benefit from being able to ...</td>\n",
              "      <td>Position</td>\n",
              "      <td>Adequate</td>\n",
              "    </tr>\n",
              "    <tr>\n",
              "      <th>29447</th>\n",
              "      <td>be69b963a136</td>\n",
              "      <td>CB09A5442145</td>\n",
              "      <td>big states</td>\n",
              "      <td>Claim</td>\n",
              "      <td>Ineffective</td>\n",
              "    </tr>\n",
              "    <tr>\n",
              "      <th>29590</th>\n",
              "      <td>33d6bbba823c</td>\n",
              "      <td>CE64FA08E4CF</td>\n",
              "      <td>I think students should be required to perform...</td>\n",
              "      <td>Position</td>\n",
              "      <td>Adequate</td>\n",
              "    </tr>\n",
              "    <tr>\n",
              "      <th>30778</th>\n",
              "      <td>0333e420f20f</td>\n",
              "      <td>E09064F496DF</td>\n",
              "      <td>The electoral college is unfair to voters.</td>\n",
              "      <td>Claim</td>\n",
              "      <td>Adequate</td>\n",
              "    </tr>\n",
              "    <tr>\n",
              "      <th>31230</th>\n",
              "      <td>6a53b002c7ae</td>\n",
              "      <td>E6FDA0489273</td>\n",
              "      <td>big states</td>\n",
              "      <td>Claim</td>\n",
              "      <td>Ineffective</td>\n",
              "    </tr>\n",
              "    <tr>\n",
              "      <th>31878</th>\n",
              "      <td>490d2bb2cb23</td>\n",
              "      <td>F0949D854B5F</td>\n",
              "      <td>The electoral college is unfair to voters.</td>\n",
              "      <td>Claim</td>\n",
              "      <td>Adequate</td>\n",
              "    </tr>\n",
              "    <tr>\n",
              "      <th>32242</th>\n",
              "      <td>3ac060c97a7f</td>\n",
              "      <td>F47252812301</td>\n",
              "      <td>The electoral college is unfair to voters.</td>\n",
              "      <td>Claim</td>\n",
              "      <td>Adequate</td>\n",
              "    </tr>\n",
              "    <tr>\n",
              "      <th>32365</th>\n",
              "      <td>f9e29495996b</td>\n",
              "      <td>F68A995107BE</td>\n",
              "      <td>Students would benefit from being able to atte...</td>\n",
              "      <td>Position</td>\n",
              "      <td>Adequate</td>\n",
              "    </tr>\n",
              "    <tr>\n",
              "      <th>34383</th>\n",
              "      <td>3312a23a5480</td>\n",
              "      <td>523EBD9ECA47</td>\n",
              "      <td>Seeking multiple opinions can help someone mak...</td>\n",
              "      <td>Position</td>\n",
              "      <td>Adequate</td>\n",
              "    </tr>\n",
              "    <tr>\n",
              "      <th>34491</th>\n",
              "      <td>6fba7cb5e528</td>\n",
              "      <td>5C3B7683D560</td>\n",
              "      <td>Students would benefit from being able to atte...</td>\n",
              "      <td>Position</td>\n",
              "      <td>Adequate</td>\n",
              "    </tr>\n",
              "    <tr>\n",
              "      <th>35012</th>\n",
              "      <td>e87df77f2013</td>\n",
              "      <td>83AE9B85F6FD</td>\n",
              "      <td>Students would benefit from being able to atte...</td>\n",
              "      <td>Position</td>\n",
              "      <td>Adequate</td>\n",
              "    </tr>\n",
              "    <tr>\n",
              "      <th>35345</th>\n",
              "      <td>80eeb84d5a59</td>\n",
              "      <td>99863EAC8F7F</td>\n",
              "      <td>seeking multiple opinions can help someone mak...</td>\n",
              "      <td>Position</td>\n",
              "      <td>Adequate</td>\n",
              "    </tr>\n",
              "    <tr>\n",
              "      <th>35456</th>\n",
              "      <td>77fc6c349463</td>\n",
              "      <td>A814BD710140</td>\n",
              "      <td>Seeking multiple opinions can help someone mak...</td>\n",
              "      <td>Position</td>\n",
              "      <td>Adequate</td>\n",
              "    </tr>\n",
              "    <tr>\n",
              "      <th>35969</th>\n",
              "      <td>d9c17f7d8b7a</td>\n",
              "      <td>C8FB2508978A</td>\n",
              "      <td>opinions,</td>\n",
              "      <td>Claim</td>\n",
              "      <td>Adequate</td>\n",
              "    </tr>\n",
              "  </tbody>\n",
              "</table>\n",
              "</div>\n",
              "      <button class=\"colab-df-convert\" onclick=\"convertToInteractive('df-4b639126-b346-49e9-b6ae-6bc085f8db45')\"\n",
              "              title=\"Convert this dataframe to an interactive table.\"\n",
              "              style=\"display:none;\">\n",
              "        \n",
              "  <svg xmlns=\"http://www.w3.org/2000/svg\" height=\"24px\"viewBox=\"0 0 24 24\"\n",
              "       width=\"24px\">\n",
              "    <path d=\"M0 0h24v24H0V0z\" fill=\"none\"/>\n",
              "    <path d=\"M18.56 5.44l.94 2.06.94-2.06 2.06-.94-2.06-.94-.94-2.06-.94 2.06-2.06.94zm-11 1L8.5 8.5l.94-2.06 2.06-.94-2.06-.94L8.5 2.5l-.94 2.06-2.06.94zm10 10l.94 2.06.94-2.06 2.06-.94-2.06-.94-.94-2.06-.94 2.06-2.06.94z\"/><path d=\"M17.41 7.96l-1.37-1.37c-.4-.4-.92-.59-1.43-.59-.52 0-1.04.2-1.43.59L10.3 9.45l-7.72 7.72c-.78.78-.78 2.05 0 2.83L4 21.41c.39.39.9.59 1.41.59.51 0 1.02-.2 1.41-.59l7.78-7.78 2.81-2.81c.8-.78.8-2.07 0-2.86zM5.41 20L4 18.59l7.72-7.72 1.47 1.35L5.41 20z\"/>\n",
              "  </svg>\n",
              "      </button>\n",
              "      \n",
              "  <style>\n",
              "    .colab-df-container {\n",
              "      display:flex;\n",
              "      flex-wrap:wrap;\n",
              "      gap: 12px;\n",
              "    }\n",
              "\n",
              "    .colab-df-convert {\n",
              "      background-color: #E8F0FE;\n",
              "      border: none;\n",
              "      border-radius: 50%;\n",
              "      cursor: pointer;\n",
              "      display: none;\n",
              "      fill: #1967D2;\n",
              "      height: 32px;\n",
              "      padding: 0 0 0 0;\n",
              "      width: 32px;\n",
              "    }\n",
              "\n",
              "    .colab-df-convert:hover {\n",
              "      background-color: #E2EBFA;\n",
              "      box-shadow: 0px 1px 2px rgba(60, 64, 67, 0.3), 0px 1px 3px 1px rgba(60, 64, 67, 0.15);\n",
              "      fill: #174EA6;\n",
              "    }\n",
              "\n",
              "    [theme=dark] .colab-df-convert {\n",
              "      background-color: #3B4455;\n",
              "      fill: #D2E3FC;\n",
              "    }\n",
              "\n",
              "    [theme=dark] .colab-df-convert:hover {\n",
              "      background-color: #434B5C;\n",
              "      box-shadow: 0px 1px 3px 1px rgba(0, 0, 0, 0.15);\n",
              "      filter: drop-shadow(0px 1px 2px rgba(0, 0, 0, 0.3));\n",
              "      fill: #FFFFFF;\n",
              "    }\n",
              "  </style>\n",
              "\n",
              "      <script>\n",
              "        const buttonEl =\n",
              "          document.querySelector('#df-4b639126-b346-49e9-b6ae-6bc085f8db45 button.colab-df-convert');\n",
              "        buttonEl.style.display =\n",
              "          google.colab.kernel.accessAllowed ? 'block' : 'none';\n",
              "\n",
              "        async function convertToInteractive(key) {\n",
              "          const element = document.querySelector('#df-4b639126-b346-49e9-b6ae-6bc085f8db45');\n",
              "          const dataTable =\n",
              "            await google.colab.kernel.invokeFunction('convertToInteractive',\n",
              "                                                     [key], {});\n",
              "          if (!dataTable) return;\n",
              "\n",
              "          const docLinkHtml = 'Like what you see? Visit the ' +\n",
              "            '<a target=\"_blank\" href=https://colab.research.google.com/notebooks/data_table.ipynb>data table notebook</a>'\n",
              "            + ' to learn more about interactive tables.';\n",
              "          element.innerHTML = '';\n",
              "          dataTable['output_type'] = 'display_data';\n",
              "          await google.colab.output.renderOutput(dataTable, element);\n",
              "          const docLink = document.createElement('div');\n",
              "          docLink.innerHTML = docLinkHtml;\n",
              "          element.appendChild(docLink);\n",
              "        }\n",
              "      </script>\n",
              "    </div>\n",
              "  </div>\n",
              "  "
            ]
          },
          "metadata": {},
          "execution_count": 10
        }
      ]
    },
    {
      "cell_type": "code",
      "source": [
        "train=train.drop_duplicates(['discourse_type','discourse_text','discourse_effectiveness'],keep='first')"
      ],
      "metadata": {
        "id": "RewVkXdbF1Yf"
      },
      "execution_count": 11,
      "outputs": []
    },
    {
      "cell_type": "code",
      "source": [
        "len(train)"
      ],
      "metadata": {
        "colab": {
          "base_uri": "https://localhost:8080/"
        },
        "id": "TNpRtAjnF2o5",
        "outputId": "ab1b3d20-0246-4cb5-bd53-fe0a0dcdd954"
      },
      "execution_count": 12,
      "outputs": [
        {
          "output_type": "execute_result",
          "data": {
            "text/plain": [
              "36707"
            ]
          },
          "metadata": {},
          "execution_count": 12
        }
      ]
    },
    {
      "cell_type": "code",
      "source": [
        "train.value_counts(['discourse_effectiveness'])"
      ],
      "metadata": {
        "colab": {
          "base_uri": "https://localhost:8080/"
        },
        "id": "jlFoWm4n67s0",
        "outputId": "501d7b9a-36bc-4c37-e4dd-031999ffcfbf"
      },
      "execution_count": 13,
      "outputs": [
        {
          "output_type": "execute_result",
          "data": {
            "text/plain": [
              "discourse_effectiveness\n",
              "Adequate                   20924\n",
              "Effective                   9325\n",
              "Ineffective                 6458\n",
              "dtype: int64"
            ]
          },
          "metadata": {},
          "execution_count": 13
        }
      ]
    },
    {
      "cell_type": "code",
      "source": [
        "train.value_counts(['discourse_effectiveness','discourse_type'])"
      ],
      "metadata": {
        "colab": {
          "base_uri": "https://localhost:8080/"
        },
        "id": "F_t-K58Q6_0P",
        "outputId": "07dd29b1-f19c-46a1-fa23-7a880d3d0c7c"
      },
      "execution_count": 14,
      "outputs": [
        {
          "output_type": "execute_result",
          "data": {
            "text/plain": [
              "discourse_effectiveness  discourse_type      \n",
              "Adequate                 Claim                   7085\n",
              "                         Evidence                6063\n",
              "Effective                Claim                   3405\n",
              "Ineffective              Evidence                3156\n",
              "Effective                Evidence                2885\n",
              "Adequate                 Position                2746\n",
              "                         Concluding Statement    1945\n",
              "Ineffective              Claim                   1473\n",
              "Adequate                 Lead                    1243\n",
              "                         Counterclaim            1149\n",
              "Effective                Concluding Statement     825\n",
              "                         Position                 769\n",
              "Adequate                 Rebuttal                 693\n",
              "Effective                Lead                     683\n",
              "Ineffective              Concluding Statement     581\n",
              "                         Position                 468\n",
              "Effective                Counterclaim             418\n",
              "Ineffective              Lead                     364\n",
              "Effective                Rebuttal                 340\n",
              "Ineffective              Rebuttal                 211\n",
              "                         Counterclaim             205\n",
              "dtype: int64"
            ]
          },
          "metadata": {},
          "execution_count": 14
        }
      ]
    },
    {
      "cell_type": "code",
      "source": [
        "punctuations=list(string.punctuation)\n",
        "\n",
        "contraction_mapping = {\"ain't\": \"is not\", \"aren't\": \"are not\",\"can't\": \"cannot\", \"'cause\": \"because\", \"could've\": \"could have\", \"couldn't\": \"could not\",\n",
        "\n",
        "                           \"didn't\": \"did not\", \"doesn't\": \"does not\", \"don't\": \"do not\", \"hadn't\": \"had not\", \"hasn't\": \"has not\", \"haven't\": \"have not\",\n",
        "\n",
        "                           \"he'd\": \"he would\",\"he'll\": \"he will\", \"he's\": \"he is\", \"how'd\": \"how did\", \"how'd'y\": \"how do you\", \"how'll\": \"how will\", \"how's\": \"how is\",\n",
        "\n",
        "                           \"I'd\": \"I would\", \"I'd've\": \"I would have\", \"I'll\": \"I will\", \"I'll've\": \"I will have\",\"I'm\": \"I am\", \"I've\": \"I have\", \"i'd\": \"i would\",\n",
        "\n",
        "                           \"i'd've\": \"i would have\", \"i'll\": \"i will\",  \"i'll've\": \"i will have\",\"i'm\": \"i am\", \"i've\": \"i have\", \"isn't\": \"is not\", \"it'd\": \"it would\",\n",
        "\n",
        "                           \"it'd've\": \"it would have\", \"it'll\": \"it will\", \"it'll've\": \"it will have\",\"it's\": \"it is\", \"let's\": \"let us\", \"ma'am\": \"madam\",\n",
        "\n",
        "                           \"mayn't\": \"may not\", \"might've\": \"might have\",\"mightn't\": \"might not\",\"mightn't've\": \"might not have\", \"must've\": \"must have\",\n",
        "\n",
        "                           \"mustn't\": \"must not\", \"mustn't've\": \"must not have\", \"needn't\": \"need not\", \"needn't've\": \"need not have\",\"o'clock\": \"of the clock\",\n",
        "\n",
        "                           \"oughtn't\": \"ought not\", \"oughtn't've\": \"ought not have\", \"shan't\": \"shall not\", \"sha'n't\": \"shall not\", \"shan't've\": \"shall not have\",\n",
        "\n",
        "                           \"she'd\": \"she would\", \"she'd've\": \"she would have\", \"she'll\": \"she will\", \"she'll've\": \"she will have\", \"she's\": \"she is\",\n",
        "\n",
        "                           \"should've\": \"should have\", \"shouldn't\": \"should not\", \"shouldn't've\": \"should not have\", \"so've\": \"so have\",\"so's\": \"so as\",\n",
        "\n",
        "                           \"this's\": \"this is\",\"that'd\": \"that would\", \"that'd've\": \"that would have\", \"that's\": \"that is\", \"there'd\": \"there would\",\n",
        "\n",
        "                           \"there'd've\": \"there would have\", \"there's\": \"there is\", \"here's\": \"here is\",\"they'd\": \"they would\", \"they'd've\": \"they would have\",\n",
        "\n",
        "                           \"they'll\": \"they will\", \"they'll've\": \"they will have\", \"they're\": \"they are\", \"they've\": \"they have\", \"to've\": \"to have\",\n",
        "\n",
        "                           \"wasn't\": \"was not\", \"we'd\": \"we would\", \"we'd've\": \"we would have\", \"we'll\": \"we will\", \"we'll've\": \"we will have\", \"we're\": \"we are\",\n",
        "\n",
        "                           \"we've\": \"we have\", \"weren't\": \"were not\", \"what'll\": \"what will\", \"what'll've\": \"what will have\", \"what're\": \"what are\",\n",
        "\n",
        "                           \"what's\": \"what is\", \"what've\": \"what have\", \"when's\": \"when is\", \"when've\": \"when have\", \"where'd\": \"where did\", \"where's\": \"where is\",\n",
        "\n",
        "                           \"where've\": \"where have\", \"who'll\": \"who will\", \"who'll've\": \"who will have\", \"who's\": \"who is\", \"who've\": \"who have\",\n",
        "\n",
        "                           \"why's\": \"why is\", \"why've\": \"why have\", \"will've\": \"will have\", \"won't\": \"will not\", \"won't've\": \"will not have\",\n",
        "\n",
        "                           \"would've\": \"would have\", \"wouldn't\": \"would not\", \"wouldn't've\": \"would not have\", \"y'all\": \"you all\",\n",
        "\n",
        "                           \"y'all'd\": \"you all would\",\"y'all'd've\": \"you all would have\",\"y'all're\": \"you all are\",\"y'all've\": \"you all have\",\n",
        "\n",
        "                           \"you'd\": \"you would\", \"you'd've\": \"you would have\", \"you'll\": \"you will\", \"you'll've\": \"you will have\",\n",
        "\n",
        "                           \"you're\": \"you are\", \"you've\": \"you have\"}\n"
      ],
      "metadata": {
        "execution": {
          "iopub.status.busy": "2022-06-05T14:45:08.747424Z",
          "iopub.execute_input": "2022-06-05T14:45:08.747816Z",
          "iopub.status.idle": "2022-06-05T14:45:08.764640Z",
          "shell.execute_reply.started": "2022-06-05T14:45:08.747777Z",
          "shell.execute_reply": "2022-06-05T14:45:08.763659Z"
        },
        "trusted": true,
        "id": "85rL9cKPtuiJ"
      },
      "execution_count": 15,
      "outputs": []
    },
    {
      "cell_type": "code",
      "source": [
        "def normalizer(s):\n",
        "  def remove_punc(text):\n",
        "    chs=[]\n",
        "    for ch in text:\n",
        "      if ch not in punctuations:\n",
        "        chs.append(ch)\n",
        "      else:\n",
        "        chs.append(\" \")\n",
        "    return \"\".join(chs)\n",
        "\n",
        "  def lower(text):\n",
        "    return text.lower()\n",
        "\n",
        "  def replace_contractions(text):\n",
        "    for k,v in contraction_mapping.items():\n",
        "      text=text.replace(k,v)\n",
        "      k=re.sub(r'\\'',\" '\",k)\n",
        "      text=text.replace(k,v)\n",
        "    return text\n",
        "\n",
        "  def remove_articles(text):\n",
        "    regex = re.compile(r'\\b(a|an|the)\\b', re.UNICODE)\n",
        "    return re.sub(regex, ' ', text)\n",
        "\n",
        "  def white_space_fix(text):\n",
        "    return ' '.join(text.split())\n",
        "  \n",
        "  _s=replace_contractions(s)\n",
        "  _s=lower(_s)\n",
        "  _s=remove_punc(_s)\n",
        "  _s=remove_articles(_s)\n",
        "  return white_space_fix(_s).strip()"
      ],
      "metadata": {
        "execution": {
          "iopub.status.busy": "2022-06-05T14:45:08.766139Z",
          "iopub.execute_input": "2022-06-05T14:45:08.766553Z",
          "iopub.status.idle": "2022-06-05T14:45:08.778383Z",
          "shell.execute_reply.started": "2022-06-05T14:45:08.766515Z",
          "shell.execute_reply": "2022-06-05T14:45:08.777508Z"
        },
        "trusted": true,
        "id": "D4tpkrGHtuiK"
      },
      "execution_count": 16,
      "outputs": []
    },
    {
      "cell_type": "code",
      "source": [
        "len(train)"
      ],
      "metadata": {
        "colab": {
          "base_uri": "https://localhost:8080/"
        },
        "id": "Zw0Vf1wx8bDB",
        "outputId": "44f6a4bf-f919-47c0-80bc-154f8c20bcc3"
      },
      "execution_count": 17,
      "outputs": [
        {
          "output_type": "execute_result",
          "data": {
            "text/plain": [
              "36707"
            ]
          },
          "metadata": {},
          "execution_count": 17
        }
      ]
    },
    {
      "cell_type": "code",
      "source": [
        "train['norm_discourse_text']=train['discourse_text'].map(normalizer)"
      ],
      "metadata": {
        "execution": {
          "iopub.status.busy": "2022-06-05T14:45:08.779752Z",
          "iopub.execute_input": "2022-06-05T14:45:08.780104Z",
          "iopub.status.idle": "2022-06-05T14:46:02.590169Z",
          "shell.execute_reply.started": "2022-06-05T14:45:08.780069Z",
          "shell.execute_reply": "2022-06-05T14:46:02.589307Z"
        },
        "trusted": true,
        "colab": {
          "base_uri": "https://localhost:8080/"
        },
        "id": "3UPWhsOFtuiK",
        "outputId": "eece761b-6477-4a41-80e4-91f17412aab9"
      },
      "execution_count": 18,
      "outputs": [
        {
          "output_type": "stream",
          "name": "stderr",
          "text": [
            "/usr/local/lib/python3.7/dist-packages/ipykernel_launcher.py:1: SettingWithCopyWarning: \n",
            "A value is trying to be set on a copy of a slice from a DataFrame.\n",
            "Try using .loc[row_indexer,col_indexer] = value instead\n",
            "\n",
            "See the caveats in the documentation: https://pandas.pydata.org/pandas-docs/stable/user_guide/indexing.html#returning-a-view-versus-a-copy\n",
            "  \"\"\"Entry point for launching an IPython kernel.\n"
          ]
        }
      ]
    },
    {
      "cell_type": "code",
      "source": [
        "train['norm_discourse_type']=train['discourse_type'].map(normalizer)"
      ],
      "metadata": {
        "colab": {
          "base_uri": "https://localhost:8080/"
        },
        "id": "3fwNhuQ286QL",
        "outputId": "6e0c308e-e496-4fae-d443-39b913128dd4"
      },
      "execution_count": 19,
      "outputs": [
        {
          "output_type": "stream",
          "name": "stderr",
          "text": [
            "/usr/local/lib/python3.7/dist-packages/ipykernel_launcher.py:1: SettingWithCopyWarning: \n",
            "A value is trying to be set on a copy of a slice from a DataFrame.\n",
            "Try using .loc[row_indexer,col_indexer] = value instead\n",
            "\n",
            "See the caveats in the documentation: https://pandas.pydata.org/pandas-docs/stable/user_guide/indexing.html#returning-a-view-versus-a-copy\n",
            "  \"\"\"Entry point for launching an IPython kernel.\n"
          ]
        }
      ]
    },
    {
      "cell_type": "code",
      "source": [
        "train=train.drop_duplicates(['norm_discourse_type','norm_discourse_text','discourse_effectiveness'],keep='first')"
      ],
      "metadata": {
        "id": "89GwBURYHc_G"
      },
      "execution_count": 20,
      "outputs": []
    },
    {
      "cell_type": "code",
      "source": [
        "len(train)"
      ],
      "metadata": {
        "colab": {
          "base_uri": "https://localhost:8080/"
        },
        "id": "4yLTvGGUCEeY",
        "outputId": "3a5a4d57-2049-46f2-f8e3-04648a187ff8"
      },
      "execution_count": 21,
      "outputs": [
        {
          "output_type": "execute_result",
          "data": {
            "text/plain": [
              "36598"
            ]
          },
          "metadata": {},
          "execution_count": 21
        }
      ]
    },
    {
      "cell_type": "code",
      "source": [
        "train.value_counts(['discourse_effectiveness','discourse_type'])"
      ],
      "metadata": {
        "colab": {
          "base_uri": "https://localhost:8080/"
        },
        "id": "5qsCpQ-sAVva",
        "outputId": "f50b6360-da84-4cda-b6bc-9df6c2770596"
      },
      "execution_count": 22,
      "outputs": [
        {
          "output_type": "execute_result",
          "data": {
            "text/plain": [
              "discourse_effectiveness  discourse_type      \n",
              "Adequate                 Claim                   7041\n",
              "                         Evidence                6061\n",
              "Effective                Claim                   3404\n",
              "Ineffective              Evidence                3156\n",
              "Effective                Evidence                2885\n",
              "Adequate                 Position                2697\n",
              "                         Concluding Statement    1945\n",
              "Ineffective              Claim                   1466\n",
              "Adequate                 Lead                    1242\n",
              "                         Counterclaim            1149\n",
              "Effective                Concluding Statement     825\n",
              "                         Position                 769\n",
              "Adequate                 Rebuttal                 692\n",
              "Effective                Lead                     683\n",
              "Ineffective              Concluding Statement     581\n",
              "                         Position                 466\n",
              "Effective                Counterclaim             418\n",
              "Ineffective              Lead                     362\n",
              "Effective                Rebuttal                 340\n",
              "Ineffective              Rebuttal                 211\n",
              "                         Counterclaim             205\n",
              "dtype: int64"
            ]
          },
          "metadata": {},
          "execution_count": 22
        }
      ]
    },
    {
      "cell_type": "code",
      "source": [
        "train.value_counts(['discourse_effectiveness'])"
      ],
      "metadata": {
        "colab": {
          "base_uri": "https://localhost:8080/"
        },
        "id": "gmitqRgvAQyn",
        "outputId": "12c9fbaa-9632-4736-b7ad-df52497af35a"
      },
      "execution_count": 23,
      "outputs": [
        {
          "output_type": "execute_result",
          "data": {
            "text/plain": [
              "discourse_effectiveness\n",
              "Adequate                   20827\n",
              "Effective                   9324\n",
              "Ineffective                 6447\n",
              "dtype: int64"
            ]
          },
          "metadata": {},
          "execution_count": 23
        }
      ]
    },
    {
      "cell_type": "code",
      "source": [
        "discourse_effectivenesses=['Ineffective','Adequate','Effective']"
      ],
      "metadata": {
        "execution": {
          "iopub.status.busy": "2022-06-05T14:46:02.591369Z",
          "iopub.execute_input": "2022-06-05T14:46:02.591733Z",
          "iopub.status.idle": "2022-06-05T14:46:02.602281Z",
          "shell.execute_reply.started": "2022-06-05T14:46:02.591698Z",
          "shell.execute_reply": "2022-06-05T14:46:02.601367Z"
        },
        "trusted": true,
        "id": "FuW0FQD7tuiK"
      },
      "execution_count": 24,
      "outputs": []
    },
    {
      "cell_type": "code",
      "source": [
        "discourse_effectiveness2idx={\n",
        "    'Ineffective':0,\n",
        "    'Adequate':1,\n",
        "    'Effective':2\n",
        "}"
      ],
      "metadata": {
        "execution": {
          "iopub.status.busy": "2022-06-05T14:46:02.603551Z",
          "iopub.execute_input": "2022-06-05T14:46:02.604065Z",
          "iopub.status.idle": "2022-06-05T14:46:02.611167Z",
          "shell.execute_reply.started": "2022-06-05T14:46:02.604028Z",
          "shell.execute_reply": "2022-06-05T14:46:02.610319Z"
        },
        "trusted": true,
        "id": "BwjOXeNntuiL"
      },
      "execution_count": 25,
      "outputs": []
    },
    {
      "cell_type": "code",
      "source": [
        "train['discourse_effectiveness']=train['discourse_effectiveness'].map(discourse_effectiveness2idx)"
      ],
      "metadata": {
        "execution": {
          "iopub.status.busy": "2022-06-05T14:46:02.615904Z",
          "iopub.execute_input": "2022-06-05T14:46:02.616514Z",
          "iopub.status.idle": "2022-06-05T14:46:02.629593Z",
          "shell.execute_reply.started": "2022-06-05T14:46:02.616477Z",
          "shell.execute_reply": "2022-06-05T14:46:02.628817Z"
        },
        "trusted": true,
        "id": "hEHQzHQJtuiL"
      },
      "execution_count": 26,
      "outputs": []
    },
    {
      "cell_type": "code",
      "source": [
        "train"
      ],
      "metadata": {
        "colab": {
          "base_uri": "https://localhost:8080/",
          "height": 874
        },
        "id": "OhIJBEggAayk",
        "outputId": "1eda1a63-0abd-4728-8941-82efb36fb1d2"
      },
      "execution_count": 27,
      "outputs": [
        {
          "output_type": "execute_result",
          "data": {
            "text/plain": [
              "       discourse_id      essay_id  \\\n",
              "0      0013cc385424  007ACE74B050   \n",
              "1      9704a709b505  007ACE74B050   \n",
              "2      c22adee811b6  007ACE74B050   \n",
              "3      a10d361e54e4  007ACE74B050   \n",
              "4      db3e453ec4e2  007ACE74B050   \n",
              "...             ...           ...   \n",
              "36760  9f63b687e76a  FFA381E58FC6   \n",
              "36761  9d5bd7d86212  FFA381E58FC6   \n",
              "36762  f1b78becd573  FFA381E58FC6   \n",
              "36763  cc184624ca8e  FFA381E58FC6   \n",
              "36764  c8a973681feb  FFA381E58FC6   \n",
              "\n",
              "                                          discourse_text  \\\n",
              "0      Hi, i'm Isaac, i'm going to be writing about h...   \n",
              "1      On my perspective, I think that the face is a ...   \n",
              "2      I think that the face is a natural landform be...   \n",
              "3      If life was on Mars, we would know by now. The...   \n",
              "4      People thought that the face was formed by ali...   \n",
              "...                                                  ...   \n",
              "36760  For many people they don't like only asking on...   \n",
              "36761  also people have different views and opinions ...   \n",
              "36762  Advice is something that can impact a persons ...   \n",
              "36763  someone can use everything that many people sa...   \n",
              "36764  In conclusion asking for an opinion can be ben...   \n",
              "\n",
              "             discourse_type  discourse_effectiveness  \\\n",
              "0                      Lead                        1   \n",
              "1                  Position                        1   \n",
              "2                     Claim                        1   \n",
              "3                  Evidence                        1   \n",
              "4              Counterclaim                        1   \n",
              "...                     ...                      ...   \n",
              "36760                 Claim                        1   \n",
              "36761                 Claim                        1   \n",
              "36762              Position                        1   \n",
              "36763              Evidence                        0   \n",
              "36764  Concluding Statement                        0   \n",
              "\n",
              "                                     norm_discourse_text   norm_discourse_type  \n",
              "0      hi i am isaac i am going to be writing about h...                  lead  \n",
              "1      on my perspective i think that face is natural...              position  \n",
              "2      i think that face is natural landform because ...                 claim  \n",
              "3      if life was on mars we would know by now reaso...              evidence  \n",
              "4      people thought that face was formed by alieans...          counterclaim  \n",
              "...                                                  ...                   ...  \n",
              "36760  for many people they do not like only asking o...                 claim  \n",
              "36761  also people have different views and opinions ...                 claim  \n",
              "36762  advice is something that can impact persons vi...              position  \n",
              "36763  someone can use everything that many people sa...              evidence  \n",
              "36764  in conclusion asking for opinion can be benefi...  concluding statement  \n",
              "\n",
              "[36598 rows x 7 columns]"
            ],
            "text/html": [
              "\n",
              "  <div id=\"df-1d3964ca-228e-4049-aa63-dcc88316cb8c\">\n",
              "    <div class=\"colab-df-container\">\n",
              "      <div>\n",
              "<style scoped>\n",
              "    .dataframe tbody tr th:only-of-type {\n",
              "        vertical-align: middle;\n",
              "    }\n",
              "\n",
              "    .dataframe tbody tr th {\n",
              "        vertical-align: top;\n",
              "    }\n",
              "\n",
              "    .dataframe thead th {\n",
              "        text-align: right;\n",
              "    }\n",
              "</style>\n",
              "<table border=\"1\" class=\"dataframe\">\n",
              "  <thead>\n",
              "    <tr style=\"text-align: right;\">\n",
              "      <th></th>\n",
              "      <th>discourse_id</th>\n",
              "      <th>essay_id</th>\n",
              "      <th>discourse_text</th>\n",
              "      <th>discourse_type</th>\n",
              "      <th>discourse_effectiveness</th>\n",
              "      <th>norm_discourse_text</th>\n",
              "      <th>norm_discourse_type</th>\n",
              "    </tr>\n",
              "  </thead>\n",
              "  <tbody>\n",
              "    <tr>\n",
              "      <th>0</th>\n",
              "      <td>0013cc385424</td>\n",
              "      <td>007ACE74B050</td>\n",
              "      <td>Hi, i'm Isaac, i'm going to be writing about h...</td>\n",
              "      <td>Lead</td>\n",
              "      <td>1</td>\n",
              "      <td>hi i am isaac i am going to be writing about h...</td>\n",
              "      <td>lead</td>\n",
              "    </tr>\n",
              "    <tr>\n",
              "      <th>1</th>\n",
              "      <td>9704a709b505</td>\n",
              "      <td>007ACE74B050</td>\n",
              "      <td>On my perspective, I think that the face is a ...</td>\n",
              "      <td>Position</td>\n",
              "      <td>1</td>\n",
              "      <td>on my perspective i think that face is natural...</td>\n",
              "      <td>position</td>\n",
              "    </tr>\n",
              "    <tr>\n",
              "      <th>2</th>\n",
              "      <td>c22adee811b6</td>\n",
              "      <td>007ACE74B050</td>\n",
              "      <td>I think that the face is a natural landform be...</td>\n",
              "      <td>Claim</td>\n",
              "      <td>1</td>\n",
              "      <td>i think that face is natural landform because ...</td>\n",
              "      <td>claim</td>\n",
              "    </tr>\n",
              "    <tr>\n",
              "      <th>3</th>\n",
              "      <td>a10d361e54e4</td>\n",
              "      <td>007ACE74B050</td>\n",
              "      <td>If life was on Mars, we would know by now. The...</td>\n",
              "      <td>Evidence</td>\n",
              "      <td>1</td>\n",
              "      <td>if life was on mars we would know by now reaso...</td>\n",
              "      <td>evidence</td>\n",
              "    </tr>\n",
              "    <tr>\n",
              "      <th>4</th>\n",
              "      <td>db3e453ec4e2</td>\n",
              "      <td>007ACE74B050</td>\n",
              "      <td>People thought that the face was formed by ali...</td>\n",
              "      <td>Counterclaim</td>\n",
              "      <td>1</td>\n",
              "      <td>people thought that face was formed by alieans...</td>\n",
              "      <td>counterclaim</td>\n",
              "    </tr>\n",
              "    <tr>\n",
              "      <th>...</th>\n",
              "      <td>...</td>\n",
              "      <td>...</td>\n",
              "      <td>...</td>\n",
              "      <td>...</td>\n",
              "      <td>...</td>\n",
              "      <td>...</td>\n",
              "      <td>...</td>\n",
              "    </tr>\n",
              "    <tr>\n",
              "      <th>36760</th>\n",
              "      <td>9f63b687e76a</td>\n",
              "      <td>FFA381E58FC6</td>\n",
              "      <td>For many people they don't like only asking on...</td>\n",
              "      <td>Claim</td>\n",
              "      <td>1</td>\n",
              "      <td>for many people they do not like only asking o...</td>\n",
              "      <td>claim</td>\n",
              "    </tr>\n",
              "    <tr>\n",
              "      <th>36761</th>\n",
              "      <td>9d5bd7d86212</td>\n",
              "      <td>FFA381E58FC6</td>\n",
              "      <td>also people have different views and opinions ...</td>\n",
              "      <td>Claim</td>\n",
              "      <td>1</td>\n",
              "      <td>also people have different views and opinions ...</td>\n",
              "      <td>claim</td>\n",
              "    </tr>\n",
              "    <tr>\n",
              "      <th>36762</th>\n",
              "      <td>f1b78becd573</td>\n",
              "      <td>FFA381E58FC6</td>\n",
              "      <td>Advice is something that can impact a persons ...</td>\n",
              "      <td>Position</td>\n",
              "      <td>1</td>\n",
              "      <td>advice is something that can impact persons vi...</td>\n",
              "      <td>position</td>\n",
              "    </tr>\n",
              "    <tr>\n",
              "      <th>36763</th>\n",
              "      <td>cc184624ca8e</td>\n",
              "      <td>FFA381E58FC6</td>\n",
              "      <td>someone can use everything that many people sa...</td>\n",
              "      <td>Evidence</td>\n",
              "      <td>0</td>\n",
              "      <td>someone can use everything that many people sa...</td>\n",
              "      <td>evidence</td>\n",
              "    </tr>\n",
              "    <tr>\n",
              "      <th>36764</th>\n",
              "      <td>c8a973681feb</td>\n",
              "      <td>FFA381E58FC6</td>\n",
              "      <td>In conclusion asking for an opinion can be ben...</td>\n",
              "      <td>Concluding Statement</td>\n",
              "      <td>0</td>\n",
              "      <td>in conclusion asking for opinion can be benefi...</td>\n",
              "      <td>concluding statement</td>\n",
              "    </tr>\n",
              "  </tbody>\n",
              "</table>\n",
              "<p>36598 rows × 7 columns</p>\n",
              "</div>\n",
              "      <button class=\"colab-df-convert\" onclick=\"convertToInteractive('df-1d3964ca-228e-4049-aa63-dcc88316cb8c')\"\n",
              "              title=\"Convert this dataframe to an interactive table.\"\n",
              "              style=\"display:none;\">\n",
              "        \n",
              "  <svg xmlns=\"http://www.w3.org/2000/svg\" height=\"24px\"viewBox=\"0 0 24 24\"\n",
              "       width=\"24px\">\n",
              "    <path d=\"M0 0h24v24H0V0z\" fill=\"none\"/>\n",
              "    <path d=\"M18.56 5.44l.94 2.06.94-2.06 2.06-.94-2.06-.94-.94-2.06-.94 2.06-2.06.94zm-11 1L8.5 8.5l.94-2.06 2.06-.94-2.06-.94L8.5 2.5l-.94 2.06-2.06.94zm10 10l.94 2.06.94-2.06 2.06-.94-2.06-.94-.94-2.06-.94 2.06-2.06.94z\"/><path d=\"M17.41 7.96l-1.37-1.37c-.4-.4-.92-.59-1.43-.59-.52 0-1.04.2-1.43.59L10.3 9.45l-7.72 7.72c-.78.78-.78 2.05 0 2.83L4 21.41c.39.39.9.59 1.41.59.51 0 1.02-.2 1.41-.59l7.78-7.78 2.81-2.81c.8-.78.8-2.07 0-2.86zM5.41 20L4 18.59l7.72-7.72 1.47 1.35L5.41 20z\"/>\n",
              "  </svg>\n",
              "      </button>\n",
              "      \n",
              "  <style>\n",
              "    .colab-df-container {\n",
              "      display:flex;\n",
              "      flex-wrap:wrap;\n",
              "      gap: 12px;\n",
              "    }\n",
              "\n",
              "    .colab-df-convert {\n",
              "      background-color: #E8F0FE;\n",
              "      border: none;\n",
              "      border-radius: 50%;\n",
              "      cursor: pointer;\n",
              "      display: none;\n",
              "      fill: #1967D2;\n",
              "      height: 32px;\n",
              "      padding: 0 0 0 0;\n",
              "      width: 32px;\n",
              "    }\n",
              "\n",
              "    .colab-df-convert:hover {\n",
              "      background-color: #E2EBFA;\n",
              "      box-shadow: 0px 1px 2px rgba(60, 64, 67, 0.3), 0px 1px 3px 1px rgba(60, 64, 67, 0.15);\n",
              "      fill: #174EA6;\n",
              "    }\n",
              "\n",
              "    [theme=dark] .colab-df-convert {\n",
              "      background-color: #3B4455;\n",
              "      fill: #D2E3FC;\n",
              "    }\n",
              "\n",
              "    [theme=dark] .colab-df-convert:hover {\n",
              "      background-color: #434B5C;\n",
              "      box-shadow: 0px 1px 3px 1px rgba(0, 0, 0, 0.15);\n",
              "      filter: drop-shadow(0px 1px 2px rgba(0, 0, 0, 0.3));\n",
              "      fill: #FFFFFF;\n",
              "    }\n",
              "  </style>\n",
              "\n",
              "      <script>\n",
              "        const buttonEl =\n",
              "          document.querySelector('#df-1d3964ca-228e-4049-aa63-dcc88316cb8c button.colab-df-convert');\n",
              "        buttonEl.style.display =\n",
              "          google.colab.kernel.accessAllowed ? 'block' : 'none';\n",
              "\n",
              "        async function convertToInteractive(key) {\n",
              "          const element = document.querySelector('#df-1d3964ca-228e-4049-aa63-dcc88316cb8c');\n",
              "          const dataTable =\n",
              "            await google.colab.kernel.invokeFunction('convertToInteractive',\n",
              "                                                     [key], {});\n",
              "          if (!dataTable) return;\n",
              "\n",
              "          const docLinkHtml = 'Like what you see? Visit the ' +\n",
              "            '<a target=\"_blank\" href=https://colab.research.google.com/notebooks/data_table.ipynb>data table notebook</a>'\n",
              "            + ' to learn more about interactive tables.';\n",
              "          element.innerHTML = '';\n",
              "          dataTable['output_type'] = 'display_data';\n",
              "          await google.colab.output.renderOutput(dataTable, element);\n",
              "          const docLink = document.createElement('div');\n",
              "          docLink.innerHTML = docLinkHtml;\n",
              "          element.appendChild(docLink);\n",
              "        }\n",
              "      </script>\n",
              "    </div>\n",
              "  </div>\n",
              "  "
            ]
          },
          "metadata": {},
          "execution_count": 27
        }
      ]
    },
    {
      "cell_type": "code",
      "source": [
        "def whitespace_tokenizer(s):\n",
        "  return s.split()"
      ],
      "metadata": {
        "execution": {
          "iopub.status.busy": "2022-06-05T14:46:02.630811Z",
          "iopub.execute_input": "2022-06-05T14:46:02.631381Z",
          "iopub.status.idle": "2022-06-05T14:46:02.635488Z",
          "shell.execute_reply.started": "2022-06-05T14:46:02.631320Z",
          "shell.execute_reply": "2022-06-05T14:46:02.634701Z"
        },
        "trusted": true,
        "id": "8Pcx1UaxtuiL"
      },
      "execution_count": 28,
      "outputs": []
    },
    {
      "cell_type": "code",
      "source": [
        "def get_seq_len(s):\n",
        "  tokens=whitespace_tokenizer(s)\n",
        "  return len(tokens)"
      ],
      "metadata": {
        "execution": {
          "iopub.status.busy": "2022-06-05T14:46:02.637095Z",
          "iopub.execute_input": "2022-06-05T14:46:02.637740Z",
          "iopub.status.idle": "2022-06-05T14:46:02.643997Z",
          "shell.execute_reply.started": "2022-06-05T14:46:02.637701Z",
          "shell.execute_reply": "2022-06-05T14:46:02.643213Z"
        },
        "trusted": true,
        "id": "y9kHCQU0tuiL"
      },
      "execution_count": 29,
      "outputs": []
    },
    {
      "cell_type": "code",
      "source": [
        "train['discourse_text_len']=train['norm_discourse_text'].map(get_seq_len)"
      ],
      "metadata": {
        "execution": {
          "iopub.status.busy": "2022-06-05T14:46:02.645256Z",
          "iopub.execute_input": "2022-06-05T14:46:02.645746Z",
          "iopub.status.idle": "2022-06-05T14:46:02.759806Z",
          "shell.execute_reply.started": "2022-06-05T14:46:02.645711Z",
          "shell.execute_reply": "2022-06-05T14:46:02.759131Z"
        },
        "trusted": true,
        "id": "vD_BhxxEtuiM"
      },
      "execution_count": 30,
      "outputs": []
    },
    {
      "cell_type": "code",
      "source": [
        "def seq_len_visualizer(x,y):\n",
        "  fig, ax = plt.subplots(1, 1, sharex=True, sharey=True,figsize=(20,20))\n",
        "  ax.bar(x,y)\n",
        "  fig.show()"
      ],
      "metadata": {
        "execution": {
          "iopub.status.busy": "2022-06-05T14:46:02.761296Z",
          "iopub.execute_input": "2022-06-05T14:46:02.761858Z",
          "iopub.status.idle": "2022-06-05T14:46:02.766772Z",
          "shell.execute_reply.started": "2022-06-05T14:46:02.761809Z",
          "shell.execute_reply": "2022-06-05T14:46:02.766040Z"
        },
        "trusted": true,
        "id": "Oy1U9MJOtuiM"
      },
      "execution_count": 31,
      "outputs": []
    },
    {
      "cell_type": "code",
      "source": [
        "value_counts=train['discourse_text_len'].value_counts()\n",
        "dict_occurs=value_counts.to_dict()\n",
        "x,y=list(dict_occurs.keys()),list(dict_occurs.values())\n",
        "seq_len_visualizer(x,y),max(x)"
      ],
      "metadata": {
        "execution": {
          "iopub.status.busy": "2022-06-05T14:46:02.768111Z",
          "iopub.execute_input": "2022-06-05T14:46:02.768460Z",
          "iopub.status.idle": "2022-06-05T14:46:03.521112Z",
          "shell.execute_reply.started": "2022-06-05T14:46:02.768426Z",
          "shell.execute_reply": "2022-06-05T14:46:03.520371Z"
        },
        "trusted": true,
        "colab": {
          "base_uri": "https://localhost:8080/",
          "height": 1000
        },
        "id": "bmQ0kYHHtuiM",
        "outputId": "ca44dcc4-cffd-4473-adfe-7d8a38950d8b"
      },
      "execution_count": 32,
      "outputs": [
        {
          "output_type": "execute_result",
          "data": {
            "text/plain": [
              "(None, 810)"
            ]
          },
          "metadata": {},
          "execution_count": 32
        },
        {
          "output_type": "display_data",
          "data": {
            "text/plain": [
              "<Figure size 1440x1440 with 1 Axes>"
            ],
            "image/png": "[encoded data removed]"
          },
          "metadata": {
            "needs_background": "light"
          }
        }
      ]
    },
    {
      "cell_type": "code",
      "source": [
        "train[train['discourse_text_len']==0]"
      ],
      "metadata": {
        "colab": {
          "base_uri": "https://localhost:8080/",
          "height": 113
        },
        "id": "8FoPrF2aH_Ev",
        "outputId": "4c3fdbf6-c1e7-427e-b918-6853344da628"
      },
      "execution_count": 33,
      "outputs": [
        {
          "output_type": "execute_result",
          "data": {
            "text/plain": [
              "Empty DataFrame\n",
              "Columns: [discourse_id, essay_id, discourse_text, discourse_type, discourse_effectiveness, norm_discourse_text, norm_discourse_type, discourse_text_len]\n",
              "Index: []"
            ],
            "text/html": [
              "\n",
              "  <div id=\"df-25fd19f5-59b3-4d70-be51-1bcc6468e5e0\">\n",
              "    <div class=\"colab-df-container\">\n",
              "      <div>\n",
              "<style scoped>\n",
              "    .dataframe tbody tr th:only-of-type {\n",
              "        vertical-align: middle;\n",
              "    }\n",
              "\n",
              "    .dataframe tbody tr th {\n",
              "        vertical-align: top;\n",
              "    }\n",
              "\n",
              "    .dataframe thead th {\n",
              "        text-align: right;\n",
              "    }\n",
              "</style>\n",
              "<table border=\"1\" class=\"dataframe\">\n",
              "  <thead>\n",
              "    <tr style=\"text-align: right;\">\n",
              "      <th></th>\n",
              "      <th>discourse_id</th>\n",
              "      <th>essay_id</th>\n",
              "      <th>discourse_text</th>\n",
              "      <th>discourse_type</th>\n",
              "      <th>discourse_effectiveness</th>\n",
              "      <th>norm_discourse_text</th>\n",
              "      <th>norm_discourse_type</th>\n",
              "      <th>discourse_text_len</th>\n",
              "    </tr>\n",
              "  </thead>\n",
              "  <tbody>\n",
              "  </tbody>\n",
              "</table>\n",
              "</div>\n",
              "      <button class=\"colab-df-convert\" onclick=\"convertToInteractive('df-25fd19f5-59b3-4d70-be51-1bcc6468e5e0')\"\n",
              "              title=\"Convert this dataframe to an interactive table.\"\n",
              "              style=\"display:none;\">\n",
              "        \n",
              "  <svg xmlns=\"http://www.w3.org/2000/svg\" height=\"24px\"viewBox=\"0 0 24 24\"\n",
              "       width=\"24px\">\n",
              "    <path d=\"M0 0h24v24H0V0z\" fill=\"none\"/>\n",
              "    <path d=\"M18.56 5.44l.94 2.06.94-2.06 2.06-.94-2.06-.94-.94-2.06-.94 2.06-2.06.94zm-11 1L8.5 8.5l.94-2.06 2.06-.94-2.06-.94L8.5 2.5l-.94 2.06-2.06.94zm10 10l.94 2.06.94-2.06 2.06-.94-2.06-.94-.94-2.06-.94 2.06-2.06.94z\"/><path d=\"M17.41 7.96l-1.37-1.37c-.4-.4-.92-.59-1.43-.59-.52 0-1.04.2-1.43.59L10.3 9.45l-7.72 7.72c-.78.78-.78 2.05 0 2.83L4 21.41c.39.39.9.59 1.41.59.51 0 1.02-.2 1.41-.59l7.78-7.78 2.81-2.81c.8-.78.8-2.07 0-2.86zM5.41 20L4 18.59l7.72-7.72 1.47 1.35L5.41 20z\"/>\n",
              "  </svg>\n",
              "      </button>\n",
              "      \n",
              "  <style>\n",
              "    .colab-df-container {\n",
              "      display:flex;\n",
              "      flex-wrap:wrap;\n",
              "      gap: 12px;\n",
              "    }\n",
              "\n",
              "    .colab-df-convert {\n",
              "      background-color: #E8F0FE;\n",
              "      border: none;\n",
              "      border-radius: 50%;\n",
              "      cursor: pointer;\n",
              "      display: none;\n",
              "      fill: #1967D2;\n",
              "      height: 32px;\n",
              "      padding: 0 0 0 0;\n",
              "      width: 32px;\n",
              "    }\n",
              "\n",
              "    .colab-df-convert:hover {\n",
              "      background-color: #E2EBFA;\n",
              "      box-shadow: 0px 1px 2px rgba(60, 64, 67, 0.3), 0px 1px 3px 1px rgba(60, 64, 67, 0.15);\n",
              "      fill: #174EA6;\n",
              "    }\n",
              "\n",
              "    [theme=dark] .colab-df-convert {\n",
              "      background-color: #3B4455;\n",
              "      fill: #D2E3FC;\n",
              "    }\n",
              "\n",
              "    [theme=dark] .colab-df-convert:hover {\n",
              "      background-color: #434B5C;\n",
              "      box-shadow: 0px 1px 3px 1px rgba(0, 0, 0, 0.15);\n",
              "      filter: drop-shadow(0px 1px 2px rgba(0, 0, 0, 0.3));\n",
              "      fill: #FFFFFF;\n",
              "    }\n",
              "  </style>\n",
              "\n",
              "      <script>\n",
              "        const buttonEl =\n",
              "          document.querySelector('#df-25fd19f5-59b3-4d70-be51-1bcc6468e5e0 button.colab-df-convert');\n",
              "        buttonEl.style.display =\n",
              "          google.colab.kernel.accessAllowed ? 'block' : 'none';\n",
              "\n",
              "        async function convertToInteractive(key) {\n",
              "          const element = document.querySelector('#df-25fd19f5-59b3-4d70-be51-1bcc6468e5e0');\n",
              "          const dataTable =\n",
              "            await google.colab.kernel.invokeFunction('convertToInteractive',\n",
              "                                                     [key], {});\n",
              "          if (!dataTable) return;\n",
              "\n",
              "          const docLinkHtml = 'Like what you see? Visit the ' +\n",
              "            '<a target=\"_blank\" href=https://colab.research.google.com/notebooks/data_table.ipynb>data table notebook</a>'\n",
              "            + ' to learn more about interactive tables.';\n",
              "          element.innerHTML = '';\n",
              "          dataTable['output_type'] = 'display_data';\n",
              "          await google.colab.output.renderOutput(dataTable, element);\n",
              "          const docLink = document.createElement('div');\n",
              "          docLink.innerHTML = docLinkHtml;\n",
              "          element.appendChild(docLink);\n",
              "        }\n",
              "      </script>\n",
              "    </div>\n",
              "  </div>\n",
              "  "
            ]
          },
          "metadata": {},
          "execution_count": 33
        }
      ]
    },
    {
      "cell_type": "code",
      "source": [
        "X=train[['norm_discourse_text','discourse_type']]\n",
        "Y=train['discourse_effectiveness']"
      ],
      "metadata": {
        "execution": {
          "iopub.status.busy": "2022-06-05T14:46:03.551156Z",
          "iopub.execute_input": "2022-06-05T14:46:03.551951Z",
          "iopub.status.idle": "2022-06-05T14:46:03.568054Z",
          "shell.execute_reply.started": "2022-06-05T14:46:03.551917Z",
          "shell.execute_reply": "2022-06-05T14:46:03.567371Z"
        },
        "trusted": true,
        "id": "JQofsfLdtuiN"
      },
      "execution_count": 34,
      "outputs": []
    },
    {
      "cell_type": "code",
      "source": [
        "train.to_csv(\"/content/drive/MyDrive/Feedback Prize - Predicting Effective Arguments/pre_train.csv\",index=False)"
      ],
      "metadata": {
        "id": "d0SpmaPYBudN"
      },
      "execution_count": 37,
      "outputs": []
    },
    {
      "cell_type": "markdown",
      "source": [
        "## Phrase 2: Load and train with Deberta + K-Fold"
      ],
      "metadata": {
        "id": "IFxywk1kYkka"
      }
    },
    {
      "cell_type": "code",
      "source": [
        "train=pd.read_csv(\"/content/drive/MyDrive/Feedback Prize - Predicting Effective Arguments/pre_train.csv\")"
      ],
      "metadata": {
        "id": "Xof7xhr1YEXN"
      },
      "execution_count": 38,
      "outputs": []
    },
    {
      "cell_type": "code",
      "source": [
        "device = torch.device(\"cuda\" if torch.cuda.is_available() else \"cpu\")\n",
        "device"
      ],
      "metadata": {
        "execution": {
          "iopub.status.busy": "2022-06-05T14:46:03.569167Z",
          "iopub.execute_input": "2022-06-05T14:46:03.569877Z",
          "iopub.status.idle": "2022-06-05T14:46:03.626807Z",
          "shell.execute_reply.started": "2022-06-05T14:46:03.569832Z",
          "shell.execute_reply": "2022-06-05T14:46:03.625816Z"
        },
        "trusted": true,
        "colab": {
          "base_uri": "https://localhost:8080/"
        },
        "id": "-YvD_XTMtuiO",
        "outputId": "caf0bd81-89ba-49de-d436-c4689363aebf"
      },
      "execution_count": 39,
      "outputs": [
        {
          "output_type": "execute_result",
          "data": {
            "text/plain": [
              "device(type='cuda')"
            ]
          },
          "metadata": {},
          "execution_count": 39
        }
      ]
    },
    {
      "cell_type": "code",
      "source": [
        "name='microsoft/deberta-v3-base'\n",
        "tokenizer=AutoTokenizer.from_pretrained(name)"
      ],
      "metadata": {
        "execution": {
          "iopub.status.busy": "2022-06-05T14:55:36.920537Z",
          "iopub.execute_input": "2022-06-05T14:55:36.921175Z",
          "iopub.status.idle": "2022-06-05T14:55:40.068107Z",
          "shell.execute_reply.started": "2022-06-05T14:55:36.921140Z",
          "shell.execute_reply": "2022-06-05T14:55:40.067193Z"
        },
        "trusted": true,
        "colab": {
          "base_uri": "https://localhost:8080/",
          "height": 201,
          "referenced_widgets": [
            "e659b395716141eb80f8aef565f209be",
            "b78763b845d448928f9b4d5bcce2dad4",
            "6244df841f0e4e52b5fb8de2b8ea1690",
            "d9016f5c512e4ac0a00a1e2abb0e3076",
            "655a156163a649a396bdf9084dcc6d75",
            "c105c61ac599487bb8e1b0d4837e0b59",
            "484ff0c1036c4ae598bbf4deba7386db",
            "8ab01eea2e3543f1a7613d027afe46a0",
            "9d1a51bb7748478e9aab6edc2b0771d4",
            "d2f9c6edaeca44a68b810fa696e324ca",
            "8fa526b51d444a9d9edcc191a9b914f7",
            "b87bc49379794b2fa947ef4504c789d8",
            "70070389271f4a35913160b010445b55",
            "84a03a0883a440448f5a668a08f84cae",
            "f55030b4367e42a4843f4ed873cf47bb",
            "119416c01b8440b29eb1576d28d59710",
            "876e08659c0644a3a9763a672414ea01",
            "a53433acc3884b9c9171859c46d83f49",
            "d77747d7b6234045accb14b73d6c7b6f",
            "af82372becd3495dbecad79cc92523ff",
            "fd379e9bff444d1aa9ca40c2359ff5d1",
            "ae843de5361f442d8e88dee664372d6c",
            "104b430190c24b21b02b32d664d46ecc",
            "5b1acbd1cbeb43f786fff94503a35fe9",
            "e559c7485e474794aa8673b949eed29d",
            "0ec5ddd8b06c4f7ebc53dff274b052f0",
            "f722a5e897214af19edc1c8d7c4605bd",
            "d35bb840127d4fd0a2e5de4625e00bae",
            "0e5f6c539ddb4f7fbab86b6ab09099a9",
            "ca41219bd7f043fb9f728c6eb87ca999",
            "6291f95a20a340b6b9c3335c6547f04b",
            "c72ac59cbe2447bb80d0b9323f1f1db7",
            "5e7fcc6401a14a1aa8fa7bae8e165191"
          ]
        },
        "id": "dt39KEHVtuiO",
        "outputId": "d4925429-8208-4868-b077-e7f7ff71f399"
      },
      "execution_count": 40,
      "outputs": [
        {
          "output_type": "display_data",
          "data": {
            "text/plain": [
              "Downloading:   0%|          | 0.00/52.0 [00:00<?, ?B/s]"
            ],
            "application/vnd.jupyter.widget-view+json": {
              "version_major": 2,
              "version_minor": 0,
              "model_id": "e659b395716141eb80f8aef565f209be"
            }
          },
          "metadata": {}
        },
        {
          "output_type": "display_data",
          "data": {
            "text/plain": [
              "Downloading:   0%|          | 0.00/579 [00:00<?, ?B/s]"
            ],
            "application/vnd.jupyter.widget-view+json": {
              "version_major": 2,
              "version_minor": 0,
              "model_id": "b87bc49379794b2fa947ef4504c789d8"
            }
          },
          "metadata": {}
        },
        {
          "output_type": "display_data",
          "data": {
            "text/plain": [
              "Downloading:   0%|          | 0.00/2.35M [00:00<?, ?B/s]"
            ],
            "application/vnd.jupyter.widget-view+json": {
              "version_major": 2,
              "version_minor": 0,
              "model_id": "104b430190c24b21b02b32d664d46ecc"
            }
          },
          "metadata": {}
        },
        {
          "output_type": "stream",
          "name": "stderr",
          "text": [
            "Special tokens have been added in the vocabulary, make sure the associated word embeddings are fine-tuned or trained.\n",
            "/usr/local/lib/python3.7/dist-packages/transformers/convert_slow_tokenizer.py:435: UserWarning: The sentencepiece tokenizer that you are converting to a fast tokenizer uses the byte fallback option which is not implemented in the fast tokenizers. In practice this means that the fast version of the tokenizer can produce unknown tokens whereas the sentencepiece version would have converted these unknown tokens into a sequence of byte tokens matching the original piece of text.\n",
            "  \"The sentencepiece tokenizer that you are converting to a fast tokenizer uses the byte fallback option\"\n",
            "Special tokens have been added in the vocabulary, make sure the associated word embeddings are fine-tuned or trained.\n"
          ]
        }
      ]
    },
    {
      "cell_type": "code",
      "source": [
        "tokenizer.save_pretrained('/content/drive/MyDrive/Feedback Prize - Predicting Effective Arguments/tokenizer/')"
      ],
      "metadata": {
        "colab": {
          "base_uri": "https://localhost:8080/"
        },
        "id": "gzcKv1XmA-gw",
        "outputId": "f2847d2d-15c7-4a69-c06e-795657024519"
      },
      "execution_count": 41,
      "outputs": [
        {
          "output_type": "execute_result",
          "data": {
            "text/plain": [
              "('/content/drive/MyDrive/Feedback Prize - Predicting Effective Arguments/tokenizer/tokenizer_config.json',\n",
              " '/content/drive/MyDrive/Feedback Prize - Predicting Effective Arguments/tokenizer/special_tokens_map.json',\n",
              " '/content/drive/MyDrive/Feedback Prize - Predicting Effective Arguments/tokenizer/spm.model',\n",
              " '/content/drive/MyDrive/Feedback Prize - Predicting Effective Arguments/tokenizer/added_tokens.json',\n",
              " '/content/drive/MyDrive/Feedback Prize - Predicting Effective Arguments/tokenizer/tokenizer.json')"
            ]
          },
          "metadata": {},
          "execution_count": 41
        }
      ]
    },
    {
      "cell_type": "code",
      "source": [
        "class ClassificationDataset(Dataset):\n",
        "    def __init__(self, input_ids, attention_mask,labels,token_type_ids,device):\n",
        "        self.labels = labels\n",
        "        self.input_ids=input_ids\n",
        "        self.attention_mask=attention_mask\n",
        "        self.token_type_ids=token_type_ids\n",
        "        self.device=device\n",
        "        \n",
        "    def __len__(self):\n",
        "            return len(self.labels)\n",
        "\n",
        "    def __getitem__(self, idx):\n",
        "        label = self.labels[idx]\n",
        "        input_ids = self.input_ids[idx]\n",
        "        attention_mask = self.attention_mask[idx]\n",
        "        token_type_ids = self.token_type_ids[idx]\n",
        "        sample = {\n",
        "          \"inputs\":{\n",
        "            \"input_ids\": input_ids.to(self.device),\n",
        "            'attention_mask':attention_mask.to(self.device),\n",
        "            'token_type_ids':token_type_ids.to(self.device),\n",
        "        }, \"labels\": label.to(self.device)}\n",
        "        \n",
        "        return sample"
      ],
      "metadata": {
        "execution": {
          "iopub.status.busy": "2022-06-05T14:56:33.525691Z",
          "iopub.execute_input": "2022-06-05T14:56:33.526118Z",
          "iopub.status.idle": "2022-06-05T14:56:33.541479Z",
          "shell.execute_reply.started": "2022-06-05T14:56:33.526083Z",
          "shell.execute_reply": "2022-06-05T14:56:33.540653Z"
        },
        "trusted": true,
        "id": "krGXuXC9tuiP"
      },
      "execution_count": 42,
      "outputs": []
    },
    {
      "cell_type": "code",
      "source": [
        "def create_input(tokenizer,token_ids_0,token_ids_1=None,model_type='bert',max_length=512,padding=True):\n",
        "  num_tokens_0=len(token_ids_0)\n",
        "  if token_ids_1==None:\n",
        "    num_tokens_1=0\n",
        "  else:\n",
        "    num_tokens_1=len(token_ids_1)\n",
        "\n",
        "  if model_type=='bert':\n",
        "    threshold_num_tokens_0=max_length-3-num_tokens_1\n",
        "  if model_type=='roberta':\n",
        "    threshold_num_tokens_0=max_length-4-num_tokens_1\n",
        "\n",
        "  if threshold_num_tokens_0<0:\n",
        "    return None\n",
        "  trade_off=abs(threshold_num_tokens_0-num_tokens_0)\n",
        "\n",
        "  if num_tokens_0>threshold_num_tokens_0:\n",
        "    \n",
        "    head_token_ids_0=token_ids_0[:threshold_num_tokens_0]\n",
        "    tail_token_ids_0=token_ids_0[-threshold_num_tokens_0:]\n",
        "\n",
        "    head_input_ids=tokenizer.build_inputs_with_special_tokens(head_token_ids_0,token_ids_1)\n",
        "    head_token_type_ids=tokenizer.create_token_type_ids_from_sequences(head_token_ids_0,token_ids_1)\n",
        "    head_attention_mask=[1]*len(head_input_ids)\n",
        "\n",
        "    tail_input_ids=tokenizer.build_inputs_with_special_tokens(tail_token_ids_0,token_ids_1)\n",
        "    tail_token_type_ids=tokenizer.create_token_type_ids_from_sequences(tail_token_ids_0,token_ids_1)\n",
        "    tail_attention_mask=[1]*len(tail_input_ids)\n",
        "    \n",
        "    input_ids=[head_input_ids,tail_input_ids]\n",
        "    token_type_ids=[head_token_type_ids,tail_token_type_ids]\n",
        "    attention_mask=[head_attention_mask,tail_attention_mask]\n",
        "  else:\n",
        "    input_ids=tokenizer.build_inputs_with_special_tokens(token_ids_0,token_ids_1)\n",
        "    token_type_ids=tokenizer.create_token_type_ids_from_sequences(token_ids_0,token_ids_1)\n",
        "    attention_mask=[1]*len(input_ids)\n",
        "\n",
        "    if padding==True:\n",
        "      input_ids=input_ids+[tokenizer.pad_token_id]*trade_off\n",
        "      attention_mask=attention_mask+[0]*trade_off\n",
        "      token_type_ids=token_type_ids+[0]*trade_off\n",
        "\n",
        "    input_ids=[input_ids]\n",
        "    attention_mask=[attention_mask]\n",
        "    token_type_ids=[token_type_ids]\n",
        "\n",
        "  return input_ids,attention_mask,token_type_ids"
      ],
      "metadata": {
        "execution": {
          "iopub.status.busy": "2022-06-05T14:56:33.679835Z",
          "iopub.execute_input": "2022-06-05T14:56:33.680486Z",
          "iopub.status.idle": "2022-06-05T14:56:33.698168Z",
          "shell.execute_reply.started": "2022-06-05T14:56:33.680445Z",
          "shell.execute_reply": "2022-06-05T14:56:33.697289Z"
        },
        "trusted": true,
        "id": "p_efVY64tuiP"
      },
      "execution_count": 43,
      "outputs": []
    },
    {
      "cell_type": "code",
      "source": [
        "def create_inputs(tokenizer,list_sentences_0,list_sentences_1,list_labels,model_type='bert',max_length=512):\n",
        "  \n",
        "  input_ids=[]\n",
        "  labels=[]\n",
        "  bar=tqdm(list_sentences_0)\n",
        "  attention_mask=[]\n",
        "  token_type_ids=[]\n",
        "  num_training_samples=len(list_sentences_0)\n",
        "  for i in range(num_training_samples):\n",
        "    token_ids_0=tokenizer.encode(list_sentences_0[i],add_special_tokens=False)\n",
        "    if list_sentences_1==None:\n",
        "      token_ids_1=None\n",
        "    else:\n",
        "      token_ids_1=tokenizer.encode(list_sentences_1[i],add_special_tokens=False)\n",
        "    _input_ids,_attention_mask,_token_type_ids=create_input(tokenizer,token_ids_0,token_ids_1,model_type,max_length)\n",
        "    \n",
        "    _labels=[list_labels[i]]*len(_input_ids)\n",
        "    labels+=_labels\n",
        "    input_ids+=_input_ids\n",
        "    attention_mask+=_attention_mask\n",
        "    token_type_ids+=_token_type_ids\n",
        "    bar.update()  \n",
        "  return {\n",
        "    'input_ids':torch.Tensor(input_ids).to(torch.long),\n",
        "    'attention_mask':torch.Tensor(attention_mask).to(torch.int64),\n",
        "    'token_type_ids':torch.Tensor(token_type_ids).to(torch.int64),\n",
        "    'labels':torch.Tensor(labels).to(torch.long)}"
      ],
      "metadata": {
        "execution": {
          "iopub.status.busy": "2022-06-05T14:56:33.829501Z",
          "iopub.execute_input": "2022-06-05T14:56:33.829855Z",
          "iopub.status.idle": "2022-06-05T14:56:33.838401Z",
          "shell.execute_reply.started": "2022-06-05T14:56:33.829825Z",
          "shell.execute_reply": "2022-06-05T14:56:33.837280Z"
        },
        "trusted": true,
        "id": "7g09STXZtuiQ"
      },
      "execution_count": 44,
      "outputs": []
    },
    {
      "cell_type": "code",
      "source": [
        "def create_dataloader(tokenizer,list_sentences_0,list_sentences_1,list_labels,model_type='bert',max_length=512,batch_size=32,drop_last=False,shuffle=True,device='cpu'):\n",
        "  dataloader=create_inputs(tokenizer,list_sentences_0,list_sentences_1,list_labels,model_type,max_length)\n",
        "  \n",
        "  dataloader=ClassificationDataset(**dataloader,device=device)\n",
        "  dataloader=DataLoader(dataloader,batch_size=batch_size,drop_last=drop_last,shuffle=shuffle)\n",
        "  return dataloader"
      ],
      "metadata": {
        "execution": {
          "iopub.status.busy": "2022-06-05T14:56:34.003392Z",
          "iopub.execute_input": "2022-06-05T14:56:34.003828Z",
          "iopub.status.idle": "2022-06-05T14:56:34.009432Z",
          "shell.execute_reply.started": "2022-06-05T14:56:34.003800Z",
          "shell.execute_reply": "2022-06-05T14:56:34.008387Z"
        },
        "trusted": true,
        "id": "1Eais1BTtuiQ"
      },
      "execution_count": 45,
      "outputs": []
    },
    {
      "cell_type": "code",
      "source": [
        "class DebertaModel4LastLayersForClassification(DebertaPreTrainedModel):\n",
        "    _keys_to_ignore_on_load_missing = [r\"position_ids\"]\n",
        "\n",
        "    def __init__(self, config):\n",
        "        super().__init__(config)\n",
        "        self.num_labels = config.num_labels\n",
        "        self.config = config\n",
        "        self.hidden_size=config.hidden_size\n",
        "        self.rembert = DebertaModel(config)\n",
        "\n",
        "        self.classifier = nn.Linear(self.config.hidden_size*4, self.config.num_labels)\n",
        "        \n",
        "        # Initialize weights and apply final processing\n",
        "        self.init_weights()\n",
        "\n",
        "    \n",
        "    def forward(self,input_ids,attention_mask,token_type_ids,labels=None):\n",
        "\n",
        "        outputs = self.rembert(input_ids=input_ids,attention_mask=attention_mask,token_type_ids=token_type_ids,output_hidden_states=True)\n",
        "        last_layers=torch.stack(outputs.hidden_states[-4:])\n",
        "        last_layers=last_layers.permute(1,2,0,3)\n",
        "        features=torch.flatten(last_layers,start_dim=2)\n",
        "        cls_embedding=features[:,0,:]\n",
        "        \n",
        "        logits = self.classifier(cls_embedding)\n",
        "\n",
        "        return logits"
      ],
      "metadata": {
        "execution": {
          "iopub.status.busy": "2022-06-05T14:56:34.220220Z",
          "iopub.execute_input": "2022-06-05T14:56:34.221138Z",
          "iopub.status.idle": "2022-06-05T14:56:34.235563Z",
          "shell.execute_reply.started": "2022-06-05T14:56:34.221093Z",
          "shell.execute_reply": "2022-06-05T14:56:34.234569Z"
        },
        "trusted": true,
        "id": "p8xRNgv3tuiR"
      },
      "execution_count": 46,
      "outputs": []
    },
    {
      "cell_type": "code",
      "source": [
        "num_labels=3\n",
        "num_labels"
      ],
      "metadata": {
        "execution": {
          "iopub.status.busy": "2022-06-05T14:56:35.233276Z",
          "iopub.execute_input": "2022-06-05T14:56:35.234002Z",
          "iopub.status.idle": "2022-06-05T14:56:35.239115Z",
          "shell.execute_reply.started": "2022-06-05T14:56:35.233950Z",
          "shell.execute_reply": "2022-06-05T14:56:35.238210Z"
        },
        "trusted": true,
        "colab": {
          "base_uri": "https://localhost:8080/"
        },
        "id": "TcxJ8CrYtuiR",
        "outputId": "cd6f05a6-4c79-43f8-b161-7581f313c9fd"
      },
      "execution_count": 47,
      "outputs": [
        {
          "output_type": "execute_result",
          "data": {
            "text/plain": [
              "3"
            ]
          },
          "metadata": {},
          "execution_count": 47
        }
      ]
    },
    {
      "cell_type": "code",
      "source": [
        "config=AutoConfig.from_pretrained(name)\n",
        "config.num_labels=num_labels\n",
        "config"
      ],
      "metadata": {
        "execution": {
          "iopub.status.busy": "2022-06-05T14:56:35.654616Z",
          "iopub.execute_input": "2022-06-05T14:56:35.655429Z",
          "iopub.status.idle": "2022-06-05T14:56:35.769803Z",
          "shell.execute_reply.started": "2022-06-05T14:56:35.655389Z",
          "shell.execute_reply": "2022-06-05T14:56:35.768797Z"
        },
        "trusted": true,
        "colab": {
          "base_uri": "https://localhost:8080/"
        },
        "id": "YO2mgB1-tuiS",
        "outputId": "84375ede-4050-4586-9ba7-287dd88561a0"
      },
      "execution_count": 48,
      "outputs": [
        {
          "output_type": "execute_result",
          "data": {
            "text/plain": [
              "DebertaV2Config {\n",
              "  \"_name_or_path\": \"microsoft/deberta-v3-base\",\n",
              "  \"attention_probs_dropout_prob\": 0.1,\n",
              "  \"hidden_act\": \"gelu\",\n",
              "  \"hidden_dropout_prob\": 0.1,\n",
              "  \"hidden_size\": 768,\n",
              "  \"id2label\": {\n",
              "    \"0\": \"LABEL_0\",\n",
              "    \"1\": \"LABEL_1\",\n",
              "    \"2\": \"LABEL_2\"\n",
              "  },\n",
              "  \"initializer_range\": 0.02,\n",
              "  \"intermediate_size\": 3072,\n",
              "  \"label2id\": {\n",
              "    \"LABEL_0\": 0,\n",
              "    \"LABEL_1\": 1,\n",
              "    \"LABEL_2\": 2\n",
              "  },\n",
              "  \"layer_norm_eps\": 1e-07,\n",
              "  \"max_position_embeddings\": 512,\n",
              "  \"max_relative_positions\": -1,\n",
              "  \"model_type\": \"deberta-v2\",\n",
              "  \"norm_rel_ebd\": \"layer_norm\",\n",
              "  \"num_attention_heads\": 12,\n",
              "  \"num_hidden_layers\": 12,\n",
              "  \"pad_token_id\": 0,\n",
              "  \"pooler_dropout\": 0,\n",
              "  \"pooler_hidden_act\": \"gelu\",\n",
              "  \"pooler_hidden_size\": 768,\n",
              "  \"pos_att_type\": [\n",
              "    \"p2c\",\n",
              "    \"c2p\"\n",
              "  ],\n",
              "  \"position_biased_input\": false,\n",
              "  \"position_buckets\": 256,\n",
              "  \"relative_attention\": true,\n",
              "  \"share_att_key\": true,\n",
              "  \"transformers_version\": \"4.19.2\",\n",
              "  \"type_vocab_size\": 0,\n",
              "  \"vocab_size\": 128100\n",
              "}"
            ]
          },
          "metadata": {},
          "execution_count": 48
        }
      ]
    },
    {
      "cell_type": "markdown",
      "source": [
        "![Screen Shot 2022-06-06 at 11.25.40.png](data:image/png;base64,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)"
      ],
      "metadata": {
        "id": "rxmNF8BvQwBk"
      }
    },
    {
      "cell_type": "markdown",
      "source": [
        "![Screen Shot 2022-06-06 at 11.21.08.png](data:image/png;base64,iVBORw0KGgoAAAANSUhEUgAABrAAAACWCAYAAACW98g2AAAMbWlDQ1BJQ0MgUHJvZmlsZQAASImVVwdYU8kWnluSkJDQAghICb0JIjWAlBBa6B3BRkgCCSXGhKBiL4sKrgURUazoKohiWwGxY1cWxd4XCyrKuqiLDZU3IQFd95Xvne+be/+cOfOfcmdy7wFA8wNXIslDtQDIFxdIE8KCGGPS0hmkpwAHwwERaAETLk8mYcXFRQEog/e/y7sbAFHcrzopuP45/19Fhy+Q8QBAxkGcyZfx8iE+DgC+jieRFgBAVOgtpxRIFHgOxLpSGCDE5QqcrcQ1CpypxIcHbJIS2BBfBkCNyuVKswHQuAf1jEJeNuTR+Ayxi5gvEgOgOQJif56Qy4dYEfuI/PxJClwJsR20l0AM4wHMzO84s//GnznEz+VmD2FlXgOiFiySSfK40/7P0vxvyc+TD/qwgYMqlIYnKPKHNbyVOylSgakQd4szY2IVtYb4g4ivrDsAKEUoD09W2qPGPBkb1g/oQ+zC5wZHQmwMcag4LyZKpc/MEoVyIIa7BZ0qKuAkQWwA8SKBLCRRZbNJOilB5QttyJKyWSr9Oa50wK/C1wN5bjJLxf9GKOCo+DGNImFSKsQUiK0KRSkxEGtA7CzLTYxU2YwuErJjBm2k8gRF/FYQJwjEYUFKfqwwSxqaoLIvyZcN5ottEoo4MSq8r0CYFK6sD3aKxx2IH+aCXRaIWcmDPALZmKjBXPiC4BBl7thzgTg5UcXzQVIQlKBci1MkeXEqe9xCkBem0FtA7C4rTFStxVMK4OZU8uNZkoK4JGWceFEONyJOGQ++HEQBNggGDCCHIxNMAjlA1Nbd2A1/KWdCARdIQTYQACeVZnBF6sCMGF4TQRH4AyIBkA2tCxqYFYBCqP8ypFVenUDWwGzhwIpc8BTifBAJ8uBv+cAq8ZC3FPAEakT/8M6FgwfjzYNDMf/v9YPabxoW1ESpNPJBjwzNQUtiCDGYGE4MJdrjRrg/7otHwWsgHK44E/cezOObPeEpoZ3wiHCd0EG4PVE0T/pDlNGgA/KHqmqR+X0tcBvI6YEH4X6QHTLj+rgRcMLdoR8WHgA9e0AtWxW3oiqMH7j/lsF3T0NlR3Yho+Rh5ECy3Y8rNRw0PIZYFLX+vj7KWDOH6s0emvnRP/u76vPhPfJHS2wRth87i53AzmOHsUbAwI5hTVgrdkSBh3bXk4HdNegtYSCeXMgj+oe/wSerqKTMpc6ly+Wzcq5AMLVAcfDYkyTTpKJsYQGDBd8OAgZHzHMewXB1cXUFQPGuUf59vY0feIcg+q3fdPN/B8DvWH9//6FvuohjAOz1gsf/4DedHRMAbXUAzh3kyaWFSh2uuBDgv4QmPGmGwBRYAjuYjyvwBL4gEISACBALkkAamACjF8J9LgVTwAwwFxSDUrAcrAJrwUawBdSAXWAfaASHwQlwBlwEl8F1cBfunk7wEvSAd6APQRASQkPoiCFihlgjjogrwkT8kRAkCklA0pAMJBsRI3JkBjIfKUXKkLXIZqQW2YscRE4g55F25DbyEOlC3iCfUAylorqoCWqDjkSZKAuNRJPQ8Wg2OhktQhegS9FKtBrdiTagJ9CL6HW0A32J9mIAU8f0MXPMCWNibCwWS8eyMCk2CyvBKrBqrB5rhs/5KtaBdWMfcSJOxxm4E9zB4XgyzsMn47PwJfhavAZvwE/hV/GHeA/+lUAjGBMcCT4EDmEMIZswhVBMqCBsIxwgnIZnqZPwjkgk6hNtiV7wLKYRc4jTiUuI64m7iceJ7cTHxF4SiWRIciT5kWJJXFIBqZi0hrSTdIx0hdRJ+qCmrmam5qoWqpauJlabp1ahtkPtqNoVtWdqfWQtsjXZhxxL5pOnkZeRt5KbyZfIneQ+ijbFluJHSaLkUOZSKin1lNOUe5S36urqFure6vHqIvU56pXqe9TPqT9U/0jVoTpQ2dRxVDl1KXU79Tj1NvUtjUazoQXS0mkFtKW0WtpJ2gPaBw26hrMGR4OvMVujSqNB44rGK02yprUmS3OCZpFmheZ+zUua3VpkLRstthZXa5ZWldZBrZtavdp07VHasdr52ku0d2if136uQ9Kx0QnR4ess0Nmic1LnMR2jW9LZdB59Pn0r/TS9U5eoa6vL0c3RLdXdpdum26Ono+eul6I3Va9K74hehz6mb6PP0c/TX6a/T/+G/qdhJsNYwwTDFg+rH3Zl2HuD4QaBBgKDEoPdBtcNPhkyDEMMcw1XGDYa3jfCjRyM4o2mGG0wOm3UPVx3uO9w3vCS4fuG3zFGjR2ME4ynG28xbjXuNTE1CTORmKwxOWnSbapvGmiaY1puetS0y4xu5m8mMis3O2b2gqHHYDHyGJWMU4wec2PzcHO5+WbzNvM+C1uLZIt5Frst7ltSLJmWWZblli2WPVZmVtFWM6zqrO5Yk62Z1kLr1dZnrd/b2Nqk2iy0abR5bmtgy7Etsq2zvWdHswuwm2xXbXfNnmjPtM+1X29/2QF18HAQOlQ5XHJEHT0dRY7rHdtHEEZ4jxCPqB5x04nqxHIqdKpzeuis7xzlPM+50fnVSKuR6SNXjDw78quLh0uey1aXu6N0RkWMmjeqedQbVwdXnmuV6zU3mluo22y3JrfX7o7uAvcN7rc86B7RHgs9Wjy+eHp5Sj3rPbu8rLwyvNZ53WTqMuOYS5jnvAneQd6zvQ97f/Tx9Cnw2efzp6+Tb67vDt/no21HC0ZvHf3Yz8KP67fZr8Of4Z/hv8m/I8A8gBtQHfAo0DKQH7gt8BnLnpXD2sl6FeQSJA06EPSe7cOeyT4ejAWHBZcEt4XohCSHrA15EGoRmh1aF9oT5hE2Pex4OCE8MnxF+E2OCYfHqeX0RHhFzIw4FUmNTIxcG/koyiFKGtUcjUZHRK+MvhdjHSOOaYwFsZzYlbH342zjJscdiifGx8VXxT9NGJUwI+FsIj1xYuKOxHdJQUnLku4m2yXLk1tSNFPGpdSmvE8NTi1L7RgzcszMMRfTjNJEaU3ppPSU9G3pvWNDxq4a2znOY1zxuBvjbcdPHX9+gtGEvAlHJmpO5E7cn0HISM3YkfGZG8ut5vZmcjLXZfbw2LzVvJf8QH45v0vgJygTPMvyyyrLep7tl70yu0sYIKwQdovYorWi1znhORtz3ufG5m7P7c9Lzdudr5afkX9QrCPOFZ+aZDpp6qR2iaOkWNIx2Wfyqsk90kjpNhkiGy9rKtCFH/Wtcjv5T/KHhf6FVYUfpqRM2T9Ve6p4aus0h2mLpz0rCi36ZTo+nTe9ZYb5jLkzHs5kzdw8C5mVOatltuXsBbM754TNqZlLmZs797d5LvPK5v01P3V+8wKTBXMWPP4p7Ke6Yo1iafHNhb4LNy7CF4kWtS12W7xm8dcSfsmFUpfSitLPS3hLLvw86ufKn/uXZi1tW+a5bMNy4nLx8hsrAlbUlGmXFZU9Xhm9sqGcUV5S/teqiavOV7hXbFxNWS1f3VEZVdm0xmrN8jWf1wrXXq8Kqtq9znjd4nXv1/PXX9kQuKF+o8nG0o2fNok23doctrmh2qa6YgtxS+GWp1tTtp79hflL7TajbaXbvmwXb++oSag5VetVW7vDeMeyOrROXte1c9zOy7uCdzXVO9Vv3q2/u3QP2CPf82Jvxt4b+yL3texn7q//1frXdQfoB0oakIZpDT2NwsaOprSm9oMRB1uafZsPHHI+tP2w+eGqI3pHlh2lHF1wtP9Y0bHe45Lj3SeyTzxumdhy9+SYk9dOxZ9qOx15+tyZ0DMnz7LOHjvnd+7weZ/zBy8wLzRe9LzY0OrReuA3j98OtHm2NVzyutR02ftyc/vo9qNXAq6cuBp89cw1zrWL12Out99IvnHr5ribHbf4t57fzrv9+k7hnb67c+4R7pXc17pf8cD4QfXv9r/v7vDsOPIw+GHro8RHdx/zHr98InvyuXPBU9rTimdmz2qfuz4/3BXadfnF2BedLyUv+7qL/9D+Y90ru1e//hn4Z2vPmJ7O19LX/W+WvDV8u/0v979aeuN6H7zLf9f3vuSD4Yeaj8yPZz+lfnrWN+Uz6XPlF/svzV8jv97rz+/vl3Cl3IFPAQwONCsLgDfbAaClAUCHfRtlrLIXHBBE2b8OIPCfsLJfHBBPAOrh93t8N/y6uQnAnq2w/YL8mrBXjaMBkOQNUDe3oaESWZabq5KLCvsUwoP+/rewZyOtBODL8v7+vur+/i9bYLCwdzwuVvagCiHCnmFTyJfM/Ezwb0TZn36X4493oIjAHfx4/xceWJDXn7X4RwAAAIplWElmTU0AKgAAAAgABAEaAAUAAAABAAAAPgEbAAUAAAABAAAARgEoAAMAAAABAAIAAIdpAAQAAAABAAAATgAAAAAAAACQAAAAAQAAAJAAAAABAAOShgAHAAAAEgAAAHigAgAEAAAAAQAABrCgAwAEAAAAAQAAAJYAAAAAQVNDSUkAAABTY3JlZW5zaG90Mc0NXgAAAAlwSFlzAAAWJQAAFiUBSVIk8AAAAddpVFh0WE1MOmNvbS5hZG9iZS54bXAAAAAAADx4OnhtcG1ldGEgeG1sbnM6eD0iYWRvYmU6bnM6bWV0YS8iIHg6eG1wdGs9IlhNUCBDb3JlIDYuMC4wIj4KICAgPHJkZjpSREYgeG1sbnM6cmRmPSJodHRwOi8vd3d3LnczLm9yZy8xOTk5LzAyLzIyLXJkZi1zeW50YXgtbnMjIj4KICAgICAgPHJkZjpEZXNjcmlwdGlvbiByZGY6YWJvdXQ9IiIKICAgICAgICAgICAgeG1sbnM6ZXhpZj0iaHR0cDovL25zLmFkb2JlLmNvbS9leGlmLzEuMC8iPgogICAgICAgICA8ZXhpZjpQaXhlbFlEaW1lbnNpb24+MTUwPC9leGlmOlBpeGVsWURpbWVuc2lvbj4KICAgICAgICAgPGV4aWY6UGl4ZWxYRGltZW5zaW9uPjE3MTI8L2V4aWY6UGl4ZWxYRGltZW5zaW9uPgogICAgICAgICA8ZXhpZjpVc2VyQ29tbWVudD5TY3JlZW5zaG90PC9leGlmOlVzZXJDb21tZW50PgogICAgICA8L3JkZjpEZXNjcmlwdGlvbj4KICAgPC9yZGY6UkRGPgo8L3g6eG1wbWV0YT4KNKkeZgAAABxpRE9UAAAAAgAAAAAAAABLAAAAKAAAAEsAAABLAAGFMbbNNHoAAEAASURBVHgB7F0FoFZF9p9HKQYi2ITvASIG5pqo+xcx1sDWNVDCWBMpO7ADFVBBDGxAwFpb7No1sHVVJFQQi0YRJd7/9zszZ+Le7wNXMfdeHt+cOefMnJm5M2fO5K2oxmNKPERWxHggqoFQHENVOI/ljUIoKG61qUYoDWejVIZYQArnOIAo5Bflr/WoqH9F+yv0T6xNI42poLiF/i36n6L/1X4jbjGpxZH6tAl5LBCF/VHYH1qPCvujsD8K+yPWppHGVFDcwv4o7I/C/tB+I24x3rYoAWgT8iQgCvujsD+0HhX2R2F/FPZHrE0jjamguIX9Udgfhf2h/UbcYrxtUQLQJuRJQPwe7Y8KXcDKNfO4h/S5CECOP5AAafbVdUT1quv5GCLTzAr5oYdOytZ6cuWV8GgBq1uUv5SAFoe6Rf1DsVjVlqtPRfsr2p9ayIlusZ5cfUl4tIGp64jqVbdofyiYov2xduTqU6F/Cv1T6B+nOPNOrr0kLKpg1XVE9apb6F8UTKF/WTty9anQv4X+LfSvU5x5J9deEhZVsOo6onrVLfQvCqbQv6wdufpU6N9C/xb61ynOvJNrLwmLKlh1HVG96hb6FwVT6F/Wjlx9KvTvH0L/VlQvxJuyddi1cr5MrdaASXaKNMZ7ZgfkaBlExiuhBFeCEKMK+UX5F/VPO5nQLov2l5ZArDOCcgk8OTpIgitBiFGF/in0T6F/Cv1DTRLrhaBZLJSjZRAZrwQSXAlCjCr0T6F/Cv1T6B8qjFgvWK0TfnO0DCLjlYCCK0GIUYX+KfRPoX8K/UOFEeuFoHkslKNlEBmvBBJcCUKMKvRPoX8K/VPoHyqMWC9YrRN+c7QMIuOVgIIrQYhRhf4p9E+hf36/+sefwLKqIG66xMT+GLbcCdmhNIzlxm987kx5yq5uZmXE/hgu5EsJlCiSovxtofjfov7lV72K9ldmd0G2QcX+GC70T6F/UAIlqoQiLQm/hf4p9I+1/5zSYL1BvSi5uzJboWJ/DLuoSqCK+mcLxf8W7a9of0X7C7qHUKF/Cv1b9D9pmxBftkON/THsgpZAFf2vLRT/W/S/Rf9b9L+prin636L/LfrftE0U/S9KIGtQxP4YdkVXAqVxWBJ+/+T9ryxgxavMtgBYQK7XkZLwxSElp/1RwKYYV7zBISNfTslGCwoUuq5yFvKlsFBeRflLBZJKJj/SvIlLa5ulCW9OAVisDQi+ov65Akmdov0V+qfQv7FWYfso9K9oiUL/oioU/Q/bA0uBT9xSLDbFWK7oVwLip+h/o0IJYNH/Fv1v0f/GOoRto+h/RUNI1yM/hf51KjOuKUX/Y+uGLZoYdoVFh2j+FP0vCyL3FP1v0f8W/W+sVdlEiv5XFIWoVKtXRY2GkhG1WvQ/tmykrFyJWDj6lYLDT9H/RIUSwKL/+Rn9DwqP1z+ictmK6EGWr+q0UNZlIYbjI0ESj8XHvzmyF+rUQY4hDl0aToIknjx/jkxEkX8WQqgKLLbi/bMUftST1KnEkw+eIxf1r2h/hf5BQyn0j1cFVBuF/s0rzzKYRKcmnnyAHNkXelH/fFGw2Ir6l688ZTBJnUo8+QA5si/0ov75omCxFfUvX3nKYJI6lXjyAXJkX+hF/fNFwWIr6l++8pTBJHUq8eQD5Mi+0Iv654uCxVbUv3zlKYNJ6lTiyQfIkX2hF/XPFwWLrah/+cpTBpPUqcSTD5Aj+0Iv6p8vChZbUf/ylacMJqlTiScfIEf2hV7UP18ULLai/uUrTxlMUqcSTz5AjuwL/b+vfxX4BBYPmUWPxOb8kSiHjqlksv4yRI0V5GpM0Fb4GqGx5D6d5mO0QcnHByksI8KiyxBtYAlbyC/Kv6h/2tJde0GjimuFbS5Ko48wn6L9FfonqQZSK/hja4urM3HV8RyWqdC/cUvTgiraX1wqtspo2dBHmE+hfwr9k1QDqRX8sbXF1Zm46ngOy1Ton7ilaUEV+icuFVtltGzoI8yn0D+F/kmqgdQK/tja4upMXHU8h2Uq9E/c0rSgCv0Tl4qtMlo29BHmU+ifQv8k1UBqBX9sbXF1Jq46nsMyFfonbmlaUIX+iUvFVhktG/oI8yn0T6F/kmogtYI/tra4OhNXHc9hmQr9E7c0LahC/8SlYquMlg19hPmU1z+4QnAhuKKVL/BmnzjKLO3H+JPwUZpsWEuV34QxxFwGHRgWAyXh6eHj82mp8pswWjb+lkEHhsVASXh6+BTybTnEKjApKEeGUwYdGBYDJeGL8relVdQ/V2ts7ZDfpKKESlUGHRgWAyXh6eFTlL8th6L9S2WQOpJUFFc8cMqgA8NioCQ8PXyK+mfLoah/UhmkjiQVxRUPnDLowLAYKAlPD5+i/tlyKOqfVAapI0lFccUDpww6MCwGSsLTw6eof7YcivonlUHqSFJRXPHAKYMODIuBkvD08Cnqny2Hov5JZZA6klQUVzxwyqADw2KgJDw9fIr6Z8uhqH9SGaSOJBXFFQ+cMujAsBgoCU8Pn6L+2XIo6p9UBqkjSUVxxQOnDDowLAZKwtPDp6h/thyK+ieVQepIUlFc8cApgw4Mi4GS8PTwKeqfLYefWf/kG1gSU1LKLm519KOD4Cn1TTBlK+WGaEutNkYhAmOEdGAhHxUeNb4o/6L+oRp43ZdvKTlMaFZF+8uv9kfFFQoqQjqw0D+F/in0b9H/FP1v0f8W/W9hf+QthLKYYFYU9ldhf4U7IHIVJlSUHAkfiS7sr8L+Kuyvwv4q7K/C/irsr3wPWRYTutXC/irsr8L+Kjt3HBpKvi39ju3PElcIuvRLogmXzvKi8iuLaloMJYO70HDKLogV8l3RlyzARa8Ks3j1KRm8KH8p3KL+Fe0P7aN0E0HlEEJJatH+oF9KlwwIhf5R7VumkAr9KwVT6N9C/0KJlNQjhf3nCqZk6RT9T9H/lG437HmK/rfof7UESqqPwv4o7A9UjML+KuwvVIPSKgKVQwglqYX9Af1aumSK/rewP7TzLVdJiv636H+hPYr+92f3v/4KQWlyrl1FzS/TUYWGJ9q7BL8NawlKVtfHmyAiTwQqb4pyPkWqq8zetQQlq5shO29EjUDlTVHOp0h1ldm7lqBkdTNk542oEai8Kcr5FKmuMnvXEpSsbobsvBE1ApU3RTmfItVVZu9agpLVzZCdN6JGoPKmKOdTpLrK7F1LULK6GbLzRtQIVN4U5XyKVFeZvWsJSlY3Q3beiBqBypuinE+R6iqzdy1ByepmyM4bUSNQeVOU8ylSXWX2riUoWd0M2XkjagQqb4pyPkWqq8zetQQlq5shO29EjUDlTVHOp0h1ldm7lqBkdTNk542oEai8Kcr5FKmuMnvXEpSsbobsvBE1ApU3RTmfItVVZu9agpLVzZCdN6JGoPKmKOdTpLrK7F1LULK6GbLzRtQIVN4U5XyKVFeZvWsJSlY3Q3beiBqBypuinE+R6iqzdy1ByepmyM4bUSNQeVOU8ylSXWX2riUoWd0M2XkjagQqb4pyPkWqq8zetQQlq5shO29EjUDlTVHOp0h1ldm7lqBkdTNk542oEai8Kcr5FKmuMnvXEpSsbobsvBE1ApU3RTmfItVVZu9agpLVzZCdN6JGoPKmKOdTpLrK7F1LULK6GbLzRtQIVN4U5XyKVFeZvWsJSlY3Q3beiBqBypuinE+R6iqzdy1ByepmyM4bUSNQeVOU8ylSXWX2riUoWd0M2XkjagQqb4pyPkWqq8zetQQlq5shO29EjUDlTVHOp0h1ldm7lqBkdTNk542oEai8Kcr5FKmuMnvXEpSsbobsvBE1ApU3RTmfItVVZu9agpLVzZCdN6JGoPKmKOdTpLrK7F1LULK6GbLzRtQIVN4U5XyKVFeZvWsJSlY3Q3beiBqBypuinE+R6iqzdy1ByepmyM4bUSNQeVOU8ylSXWX2riUoWd0M2XkjagQqb4pyPkWqq8zetQQlq5shO29EjUDlTVHOp0h1ldm7lqBkdTNk542oEai8Kcr5FKmuMnvXEpSsbobsvBE1ApU3RTmfItVVZu9agpLVzZCdN6JGoPKmKOdTpLrK7F1LULK6GbLzRtQIVN4U5XyKVFeZvWsJSlY3Q3beiBqBypuinE+R6iqzdy1ByepmyM4bUSNQeVOU8ylSXWX2riUoWd0M2XkjagQqb4pyPkWqq8zetQQlq5shO29EjUDlTVHOp0h1ldm7lqBkdTNk542oEai8Kcr5FKmuMnvXEpSsbobsvBE1ApU3RTmfItVVZu9agpLVzZCdN6JGoPKmKOdTpLrK7F1LULK6GbLzRtQIVN4U5XyKVFeZvWsJSlY3Q3beiBqBypuinE+R6iqzdy1ByepmyM4bUSNQeVOU8ylSXWX2riUoWd0M2XkjagQqb4pyPkWqq8zetQQlq5shO29EjUDlTVHOp0h1ldm7lqBkdTNk542oEai8Kcr5FKmuMnvXEpSsbobsvBE1ApU3RTmfItVVZu9agpLVzZCdN6JGoPKmKOdTJNxwAitClt9aYKO1rBpARQU3T8ligt9DCqgbostBlqU8Y56SxQS/hxRQNyc1ICxLecY8JYsJfg8poG4Ql4MsS3nGPCWLCX4PKaBuTmpAWJbyjHlKFhP8HlJA3SAuB1mW8ox5ShYT/B5SQN2c1ICwLOUZ85QsJvg9pIC6QVwOsizlGfOULCb4PaSAujmpAWFZyjPmKVlM8HtIAXWDuBxkWcoz5ilZTPB7SAF1c1IDwrKUZ8xTspjg95AC6gZxOciylGfMU7KY4PeQAurmpAaEZSnPmKdkMcHvIQXUDeJykGUpz5inZDHB7yEF1M1JDQjLUp4xT8ligt9DCqgbxOUgy1KeMU/JYoLfQwqom5MaEJalPGOeksUEv4cUUDeIy0GWpTxjnpLFBL+HFFA3JzUgLEt5xjwliwl+DymgbhCXgyxLecY8JYsJfg8poG5OakBYlvKMeUoWE/weUkDdIC4HWZbyjHlKFhP8HlJA3ZzUgLAs5RnzlCwm+D2kgLpBXA6yLOUZ85QsJvg9pIC6OakBYVnKM+YpWUzwe0gBdYO4HGRZyjPmKVlM8HtIAXVzUgPCspRnzFOymOD3kALqBnE5yLKUZ8xTspjg95AC6uakBoRlKc+Yp2Qxwe8hBdQN4nKQZSnPmKdkMcHvIQXUzUkNCMtSnjFPyWKC30MKqBvE5SDLUp4xT8ligt9DCqibkxoQlqU8Y56SxQS/hxRQN4jLQZalPGOeksUEv4cUUDcnNSAsS3nGPCWLCX4PKaBuEJeDLEt5xjwliwl+Dymgbk5qQFiW8ox5ShYT/B5SQN0gLgdZlvKMeUoWE/weUkDdnNSAsCzlGfOULCb4PaSAukFcDrIs5RnzlCwm+D2kgLo5qQFhWcoz5ilZTPB7SAF1g7gcZFnKM+YpWUzwe0gBdXNSA8KylGfMU7KY4PeQAuoGcTnIspRnzFOymOD3kALq5qQGhGUpz5inZDHB7yEF1A3icpBlKc+Yp2Qxwe8hBdTNSQ0Iy1KeMU/JYoLfQwqoG8TlIMtSnjFPyWKC30MKqJuTGhCWpTxjnpLFBL+HFFA3iMtBlqU8Y56SxQS/hxRQNyc1ICxLecY8JYsJfg8poG4Ql4MsS3nGPCWLCX4PKaBuTmpAWJbyjHlKFhP8HlJA3SAuB1kW+xu+geXZNAa6fHhQFrDe9adki43WupSgLsPmH08VwPsiRsXR5VPIL8ofdaGof74paKPTlmLbifrUtdjsr6cK4H0Rm+Lo8inaX9H+UBeK9uebQtH+rGZQTZH6UqylhV9PFcD7AoM/800an0L/FPoHdaHQP74pFPrHaoZUe6hPXcuT/fVUAbwvYlMcXT6F/in0D+pCoX98Uyj0j9UMqilSX4q1tPDrqQJ4X2Ao7B+UhdO5UiqF/i30L9pJoX9Ds2CTwJNqD/Wpa3myv54qgPdFbIqjy6dof0X7Q10o2p9vCoX9YzWDaorUl2ItLfx6qgDeFxi8ViONz2L0T/VCfGygolRENrj+luZQrLrKbd1qRs2PryJRyQfkwK7twaa3dPg4ttIcilU3DgEZhfyi/Iv6V7S/Qv8U+hcdobP72R0V/Q8KQ8pDus7S/Wfcm5bmUKy6cYii/y3sj8L+K+zfwv5nh1OMf4r+t7A/nH0Ac6EY/xf2V2F/ytAcFaG0/Rxb06U5FKtuHKKwvwv7u7C/C/u7sL8L+/vPO/6QE1hJ9+c9Hkh7xRI+5ZTvbqO9qOtZlcEjUiAhe48HUuYSPuVUuep6VmXwiBRIyN7jgZS5hE85Va66nlUZPCIFErL3eCBlLuFTTpWrrmdVBo9IgYTsPR5ImUv4lFPlqutZlcEjUiAhe48HUuYSPuVUuep6VmXwiBRIyN7jgZS5hE85Va66nlUZPCIFErL3eCBlLuFTTpWrrmdVBo9IgYTsPR5ImUv4lFPlqutZlcEjUiAhe48HUuYSPuVUuep6VmXwiBRIyN7jgZS5hE85Va66nlUZPCIFErL3eCBlLuFTTpWrrmdVBo9IgYTsPR5ImUv4lFPlqutZlcEjUiAhe48HUuYSPuVUuep6VmXwiBRIyN7jgZS5hE85Va66nlUZPCIFErL3eCBlLuFTTpWrrmdVBo9IgYTsPR5ImUv4lFPlqutZlcEjUiAhe48HUuYSPuVUuep6VmXwiBRIyN7jgZS5hE85Va66nlUZPCIFErL3eCBlLuFTTpWrrmdVBo9IgYTsPR5ImUv4lFPlqutZlcEjUiAhe48HUuYSPuVUuep6VmXwiBRIyN7jgZS5hE85Va66nlUZPCIFErL3eCBlLuFTTpWrrmdVBo9IgYTsPR5ImUv4lFPlqutZlcEjUiAhe48HUuYSPuVUuep6VmXwiBRIyN7jgZS5hE85Va66nlUZPCIFErL3eCBlLuFTTpWrrmdVBo9IgYTsPR5ImUv4lFPlqutZlcEjUiAhe48HUuYSPuVUuep6VmXwiBRIyN7jgZS5hE85Va66nlUZPCIFErL3eCBlLuFTTpWrrmdVBo9IgYTsPR5ImUv4lFPlqutZlcEjUiAhe48HUuYSPuVUuep6VmXwiBRIyN7jgZS5hE85Va66nlUZPCIFErL3eCBlLuFTTpWrrmdVBo9IgYTsPR5ImUv4lFPlqutZlcEjUiAhe48HUuYSPuVUuep6VmXwiBRIyN7jgZS5hE85Va66nlUZPCIFErL3eCBlLuFTTpWrrmdVBo9IgYTsPR5ImUv4lFPlqutZlcEjUiAhe48HUuYSPuVUuep6VmXwiBRIyN7jgZS5hE85Va66nlUZPCIFErL3eCBlLuFTTpWrrmdVBo9IgYTsPR5ImUv4lFPlqutZlcEjUiAhe48HUuYSPuVUuep6VmXwiBRIyN7jgZS5hE85Va66nlUZPCIFErL3eCBlLuFTTpWrrmdVBo9IgYTsPR5ImUv4lFPlqutZlcEjUiAhe48HUuYSPuVUuep6VmXwiBRIyN7jgZS5hE85Va66nlUZPCIFErL3eCBlLuFTTpWrrmdVBo9IgYTsPR5ImUv4lFPlqutZlcEjUiAhe48HUuaML3eFoA2WBk5wudRlYsx5Q1wC4cfvvsrxcq2UO5NCGLIkuEI+Csjv5StRgllUKEuB8PN7Kf/Zs2aZsePGm9at1ze1atWShCfv2mUlwRXv/0/z/rM1lf7kXf+K738W6uL4CePNeuutb2rXqgnJoY0laYrq3+zZs8w41N/11w/11yU5cmxoIgTCT9z+RO74EEciy8WS4CL5kZBFgDY0GQTCTyw/GzCR5YgJLiN/5syZ5vXXXzdjPhpj5s6ZY1ZeZVWz0047mZVWWikJTc8vId8JWYRjU/97l8/dgh98+KGpX7++WX21VZHcxde/RWQ6Iv0x8q8JTuqaQya4TP3TcLPQFieMG2fWW7+170ss7X8j/1oOebfIv7YlKQn8LEn9ly/vLKYo/6L8rS4v6h9qwm/c/mbPhM02YZxpnesnbLu1rTW0WWITXJn+J9vqgz/EJRB+Cv2jGiGUkkJJWTtkgivKH4UXbEMtt/KuLT3SBcJPUf+K+leuBiVtzVWqBFe0v6L9/Yn1z0zMA00YP86s33oDU6sm54GK/v+P0P6L8b9T1jnHvj1fj+H9M/X/mQWskFlntfvmq+UScfiTVoKLCcrsXUu8cfCN5svPv0A4dJ81iMPjHIJcuOJVG/L4+CzQuFEj07FTJ2F/9ZVXzOOjRpmFIB177DGmQcOGizmF7SOzcZf9jfg86IE0WfBpXy4cKVtGwiKJEW/E50EP/Gj5M2bMMAMHDDQLFy40bXfYwWy99ZYIW85kicRL6ZYuf+WKU/Nz8v/pxE9N165dzfx5801VVZW56qqrICKK3YMekCTEvp8jX/OTulHsHvTAj5L/yCOPmNdee02y0qNnD1O3bl2ES+NIZca+iM+DHvhR8uPYApzGEfBZKOLzoAeEOfbdf/8D5u233zI1sfh42imnLqKKxaGyMmN/xOdBD+Tk8/3PnDnDDBg40FQvQF1vt73Zeqs2cYQOTuPIMnz6qa2LC+bPM5VVzWxddEFefPEF8/TTz8grPPGkrmb55ZeXljQRYU44satZsGC+hLm6f///Ov/SBhDH/PnaBhCHtlOfZA9IsmPfb13/P/jgQ3PRRReaadNnQP8iZTWQRDh9+vQxrVq1kvTanzjVEToHRnwe9IBwx77fOv9LUv7ll19unnv2Gbz+GubUU09FPd7aVYU4x6kmWZLy7auIZHnQA795+T/y6KNm9OjR0kJ6QrcutVRdmcv5BG3xJLajhWhHldqX2Bzl8hWjc3CUVw96QLhj3/9a+bMA/oj59zocpk3XE040y9erl3vzFhHlzoMeEJbYV7x/qCiUqZRJXDC50l0kMeKO+DzogaL8UQJxaRT177+rf7S32E/Mm7/AVDWrNFf155gjfqLS9aAHhDH2/dLl/8ijHEuMhtwK07NHD7M0xhK/pnxrisYSi/oXl8Yv/f6L8meTi0s89f1S5c/NZH2v7GvmfDcHGxrXNXvvvY+0/Wxqfin5Isxn2wMpGr5C/n+n/6UAF/kTlbUHPfCHLP8XX/wX5i+eRNorzIldTzT1li9n+zJ7UV496IGfnP9HHnkY/djrTILp2d32YxJZ7ieS5UEP/GT5Sb5yMgNi4qefoIxOsvMxHEdenZmTBGucmqL9GfPggw+YN996y9SuWcucehrmAEs+camVZHDIiM+DHhCe2KflX4z/0bTigskV8SKJEXfE50EPlC1/4UjZojgJLpIY8UZ8HvSA8MU+ef/orInzT8IALHROmcdyxvxlGAVNvpOgQCeMnyDZoZ9rWFzLEiFEOL8s8BN2JN5jutZaa5krrrgCGGPuuP0OM3zEnUIdOPBa06RJY8Ev6sfGpTG6uIPXB41RMewZPGCpi+bxzC4vgVug4PWMMSqGPYMHLLUUzzjsRD/ppJOE87DDOpj99z/gV5XvkxgB2dTee9995uYbB/v3f+MNN5pVV13Vv/Pp06ebTydNlIa59tprY7JyqSg2giHGMR98YL6f94N0zpWVlRk+6w3ctkaL3yIT/hgVwwmTeCw1yzNgwADzKCZa+QwdOlQWPAhnucWfDez5GELDWDj/m40xzxFjstxLQv75519gXsZicm0sYN17772xuBz8S8in4hiLut4ddZ16pEOHw8wB+++fk03EouTfh7o4ePBgYWI8g7HQvipOEjHMkDvuMCNGjJDBwrXXDjSNG1tdc+9995qbBt8kPFy3ucGFoSw+rL8TJ04UeO2Wa5s6Sy+F1NpUEEno/nvvMzfeBLmskkCwDayC0ze2hmqayV3qsXGFGEvxBFyWW/wlAseoGA4xWWg+FvsOPvgQDPK+s+tWSHTdusuYZfH/pptvwsSm5sLy27hCjAIFr48+RsWwZ/CApS6axzO7kg/cAgWvZ4xRMewZPGCpi+bxzIuVf8ABB5jv5nwn9XiHHdqabid1c2FCHCm0ZOVr3HF+Yljpwf315Q8YCN36yKPSPoYMHQLdWk/K6J9sv2hH1qBBO2JbRF8SP9nUir9EBmNUDMdxWdhSF80TQmW5xV8icIyK4RCTQpa6aB7lVV0SuAUKXs8Yo2LYM3jAUhfN45kXW/+VM44vhpUe3B8vnzp82PDhon8HXTvINIIOl9AlBMSoGA5yFbLURfMo7x+//KU/c/ZYy5YtzVLoz9hx/a/kP7xJhX779z8dG0c+hY1B+2OttVuapZdaWhOXc7OpFX+JlxejYjgXYa5F5zlijI0rxChQ8HrWGBXDnsEDlrpoHs8sqf1nZLMx3E3O3gpc2k4tZtFx//fy49YioUsIiFHXoL97jP0dbKkhQziWWC5K6uLlqw3Kr4+1aLmWqevaLCP5MfLjtESCHbh4+XGYLPf/kvwPsdFr7g/fmxXqLW8qK6ukWP6X8s8M/17e/wynM5meVmuhH6ub6kziq6sXmj3b7ylp3m7bbc3JJ5/MLGSebI4y5Iw3yy1+i0w4Y1QMJ0zisdRF84RQWW7xlwgco2I4xKSQpS6aR3l/P+/fDrb/d/TfHXfcbkYMH2kWojYPkvmLJvJS5L2VeHkxKobDm1TIUhfNY3m5mf5hbMZg/zds6DCzHDYBS7gSgWNUDKvU4FrqonnKc0u4TOD73HyMTF2AdsONN5rVMuPI8jEGSinIigoCBQpeHyRGxbBncMC06dPMpImTpBxbiT2e6rEsv40rxChQ8Hr2GBXDnsEDlnreeeeb0a++YmrWxhzgPeXnAC13iFGg4M3Ear0lyJ4v1ijF+D8qljKgLctQogIFrw8Vo2LYM3jAUhfN45lte3e/xEq4EoFjVAyHmBSyVH8CqzyzfgAs4vCgBzRW55bGcwFqAq7pokFu183slv1p06YbHgGkod2wYQOz/HLLSQZtZJRfw1Su2cT06mUNCS5gyaQy1PKgQZiQaJRdwCotX+PzM8aQp0/5EEsu/7+W/HHjxpqTunVDLakwhx12qCxgaT614Qc3TVXgU+iXyf+UKV+bHj16mWnTpprNN9/CnHnWmdHbMPJ+b7/9diSi2vTrf7Vpjh2TanzY2s/02be21157y0mYLbZAPGee6fHkyD/6ptW1HKkvDvXf5X8AOutHH30YSa0wQ4cMyww6Ga9KUnfJyl9cbEtS/vnnn2deffVVU7NmbSxg3WNFy2+at4gAUGnqWmrqi0MsuvzH4/q9rl1R1xHvYYcdhrrOBazysQVa4JkyZarp3qO7mQ49tPnmm5mzzjrLJ4AG4J0wACuga64dOMg05mI5gk6dyjDdZKFqs822QBjWO32qzYiRI83tt90BRLXpf1V/06yqmSOq3GozZco0tIHuaAPTzWaQe3YkV2NiePsBeA0nUbqmEOFCgJghwVqPhlE3xeYDlJb/zjvvmNPPOE10ecuWrczxxx9nKisrzRwswiyzDI2poFvTOFWuuj9Nvo0+jSPIKYcnh9LU/X3Ivw267q6Rd2ERcGlz5hlnmNYbbOCyU7r8/2z5T9+Gy7o4If+iWx/D5oCFFWbYsKEYCC0Ljgq0o6muHU2TvuSss84QfBxLgFWSupaS+gL377X9/S++f69T/MvyQPzCAKf4O7CANXz4CMEPxCC+SWMO4lOe1BdHF+rfT5UfxxbkphJTXxzi9yF/5Ijh5nbY3ax3/fteZZo1r8qVYUh1+dz8UfMfLz6EqlMun+XwLCGlqWtLLfWFkiR/uf5/BN4J6zZvtOjfv59p1ixrY8TxKKyS1P3p8kNeNG5107gVm0pKeVJfHKJ8/v9b+VOmTJF+ggs7m21GO+9sL+jXkP/f5t9uhnsE778GJv7ukA0bEodPrAd8PmIZI0bABr39Nttm+6HNNovbbBo29cXRLbnyj9OWfXd/Zvl77b2XWTB/odlii80xPlXbJM1x6ivKP5TAkq1/w6EzuaGF80/9Ma9g20RaG6txc037PfeUJGy77Tam18mnoNuL3pAHPRCSK1A5PIlKU9cGTX0Wp5Ry+j/EFfMTLh9boKU8qS+Ob8mWfyFfS1pdW9apb8mVP+cvhmMDLucC7QbcRoicY/NUYupbcvIZk914+JjIHOo2Hv6a8uPcBLlpjumbKvZBD8wDTcN8zOZuHuj3Wf9HYn7ptttvlfmXfr5v15ymeVOsdZWmbopNeelbdP4vuACb2F9+Fdf214w2sadxp3EqTV1LTX1xiEXLZ10uxv9xeREuX5qBlvKkvji+xZd/zG3h8rEtaflYwOJFfFRo7vGyPaCUnJtyaEaz8dAPTh5twJ/sko7EkfYIdplxYoFsJ57Q1ey4UzsbJk6Xi5aOnZAYLq9p0LXXulMRP13+b53/JS1fTmDhKCyLrwMm9Q/Yf79Flv+Sli+vKqkcpd//goULzExcd9igQcPwdl24ESMxYSILAAZXffTHlR86OM+xmr32wgABV7ltjgWss850iw8/Qr6NKWGUOmirXQYfxHoo5bD1j7tNHsVuE1bOoZhk5ZVz4llE/f+tyv/n5v+88883vM6T3y/jApY1tF3xJIUDzy+U//H+tGG1q+sHlMjW4uX7urgi6qLoJ5sB1TWM9Fqva6yI+QsWmFn4BlSDBg2ASPXPCEyY3g7jkc9VmFyqqmou8Wb1H+vtTHyXwcYh0STyJYIyP0kRZ+Sz/gX1ufj8exE+nAc8KQbuuusuc8utMKCAPOGEE/Ddqx1/k/cfupK0/H/p/LMs0hL6+fJnz55t6tReCqcb6uRip7zss6TlS/w+Ug9kxXp/yvHz8784+ZzQ4zWCfOc83cqdfPr+2Y5moC021L4kSRw8v5D+UfnZ9p9WjkL+b1n+Q7gJ4U4M4mtU4GplntjnIF6fpKJEjTqDV/bITTl++fofiRbw15TPDWPcUESZtMe4WPJrys/mnf7/dfmcmLpDNnlhUZE2RrPmXh+mhYOSKvSf2EPzsZAgNlvDFV2VSmtRKLcMvkQFTDmWfPu3m+HsbQ7DXH8XJ2Nx8keMtG2Wk+8yydUcbRaBsLcuetJYfk/5jwzYKL0BTFO+5Mt/Scnfe689cS0VFrC22tKccfoZRfn/hvVvODYjclKfvYfdWFgFOEoQKtVCnsDaq73ozG3LnsAq+p8/SvuTN/U/2v/djsXakcPvlE0u116Hzf5rNPrV9c/AAddgjhcLWLC/h9wx1NSrlz9J7LW6r1Qe8KQskHIsGf3PjQYzZ3FOkvZBpBeywuH/JeSHSNPYs+Jpj3PTK1PYX+zxKgTlERD3JMHh+YXq/wWYA3xF5gBrmntwgu3Xlq/yivH/kqn/P7b+sZYlVQy+36L++RNY5ZOTSZg2kHwOPCXNWIjZ4uNfG4TfDRqI6xKoME488USz446cDNXiCJAK0Ell3vs4cJAuYCk1yFOMpieWrDjlyYYKUgMUeB2Uj0QIWbT6rRv/xjEql8UFqQGKuUsKcgy8Vq2bv0LwMLMfTqWwoceSU2kMmGKC1AC56IOTBvH4LFr91o1/fRAAymVx3Cl1x+1D4Flo+uH7WM39CZYojAuiJ7C2xALWGTiBlcYUYo4lZ3kCl40/5DpAkWRlyvVx2UlWLmCprF9DPhOm8jS96l/S8i8473zzMo4P16qVnsBSeb+0fGZ0HD64eRKuW2OuD8diLev6kpQvJ7BgLFTAAIivEJS8ZQW5DBM90k340aToi8ml5n7CzwbKB00xodYFyEUfnDSIx2fR6rdu/OuDAFAuiwtSAxRz04C64zZMaEKx9OvX3zTH5Ig+aUwh5lhylidw/Tj5wpWPpCRa2Qr5VFdxKegbo6ulZHHhrQco5hY4DeLJWbT6rRv/+iAAlMvigtQAyY50nsACq1zPuhw2B6gFG0WVxhRijiVneQJXefmRCGUq5P8Byt8O4ofDkjDmOmyUaoQTWMX7z1bdtERCq7PQyOQ0h13AKlGI0i7SmELLsvj4N25Raais/BLVLEQcRwM4jSn4Y8lZnsBlI/sjyB+JTTK3yWRsegIrmzf1/9nyn3vRrh5ofrVaqP+Pln8utvM2h2qsOA0rdZuDZkwzmsm/2Gg4Ncnro/iN1krYoH/k/j+TzWyT9eRssaj/t3r/e2KDZTU2u20mGyztCSxNk090pjL/EfRPJsk+K9m8qf+3Kv9Y/l2YV7jNnVrlxsJSp1YXYk93+z33QFupYbbdto07geWzFwCNOGAEyqLVb934Nw6oXBZXvP/y83++1NIiK4tWtrjkFecDZSrzn6X8OVd6J67ProGMDsAG3CaN7QmsXzP/12Dj4ShsPKT9feewIWa55ezV76lNl6boz1L+rF+aM+vGv6Tqo1zWv7j8x/Mv/fEtTz1JytBpTMEfS87yBK4fJ1+4EMn5F3ABKz2BlY1b/daNf60slRiPSBaXf5VfjP/jMixVkuHNxiWv7ySETjF/lPKXBSzdlRUSjWxF+cllPKIJo/ihjhI8iwYIt/IbCioPPfzwozI5XA0V1xUf2eUCVhyXjTb8DsHCxvCRdwoPJ5W56/qdd981777zrpnw8QSs8K9g1lmnldloow1N40a4LibVlLkEfPvtd+bJJ58wH475wHz91ddm2WWXNU2bNDWbbLKx2XCjjVxSgvz0g2nMI6LktjbLEsVfbeb9MN+8OvpVw1NRPC3y3dy5ZuVVVjHrtGpl2rVrZ+rUqeN3xbH8+XfLLTebOUhTS9xbvuNOO7lobeTyi5+PP/3YPPTgQ5BVbfbYfQ/TdM01vfxx48ZjUr+r0A7rcLjZ/4D9zRtvvGHewsf2xo4dC3nVZrXVVjNbb7212XTTTRP5uob/9ltvmxdeeF5kd+5yhJk75xt8iPEN8/qbb5iZ02ea1huubzbeaGOzNu7etwnE94g+Gov38I55B+/h++/nmqZNm5i22+9g1kI+sg/TcPPNN5vv8A2dFi1amp13touWvEf1iy8+N4+gTtgirUb4tU0Luf6ihtmqzdZm4w03MpMmTzL/vO+fkkd+F0XLf5e/7QJchamNO1mPOupIpA3vJfP+P8A3s5599lnz+eef48qzOWb11dcwVVVVpu0O24ePXNrilmRb0P4ugHH7b3wYc/Trr5ovPv/CLMQpsrVarGW2wU6tdVqtY49LPxodl0ZnnZWfLwuwII1vvf2WeeH5FwTu3KkLruarYZ5+5hkzBuU68ZMJZllM2DZGvdxlp53NGo1Wd9EgXZI0W//efudt8zziILJLl8444TbLvPTKy+a10aPNNFx7t+9++5ntt98+SQLr/1NPPWk++PB9qf9LLVXHrLLyqnLlBY9SM0HJwNcWhTlfdl+8bGrhA478ptnMGTPNc88/Zz5Ceifj/TRs2BBX5zU3u+z6N9z/jnIo86j+efe9d83LL72M9/+FHOOuhzCNmzQx27dta6oq10Rolwonn9HJdZly2hDXZeIbWLauv4m6/ibq+kcGm+nMamusbrbeaiup66WSgBsjbJv77lvTEvei74Q2Z8uUpz15heAIGIDVOCVqv5/C9l+Nn5tvYv2dI+9/p513ljD34CTa56gXcgqPkaD+tWy1NsqhSqrB1m3aQC9tJMnQNjBnzlzX1tuBB++RT5THb3Et31NPjIJ++sh8+dVXZrllljNNK5tI+6OOs7z2/WtwHwnk8+Plb7/9tuifiZMmycmV1dH+qWerqqpKtv9Yvk2K/b0e342Y9/0P5tFR9pQhhbPMmjXHCTOwrIuPHof6BYRrfx9++KF5FnX5c7zbWThptBLqRmVlpaShYcOVpM5n+593UJefe546qMIc2aUTTtjMMv9G/Xh99Gtm6vQpZr99WZf/b7H5j8uE7f3xxx83H3/8sfnyyy/RfhfKCVDqwa3bbIXvRNT1Rafh4vwLbBGWj5kWvy3/r77+yjz22CjzyScT5HrJFes3MBtuvJFpt8MOiHtpfB/M6rzWrVub7bbbTuJg/eeVjM89/yxEVuDbYgebFeuvCN30rZxy4xnpRquvavbeZ18rSuQ58U7+VFx7cOcw9IlIRhPoiPbt9wADGCP99yH03jOR3ltjjTXkHbRt2052xWXLn3Gx3jwHfVIDfXOXLkeaeZiIeQd9wzvvvS36vlGjNcy666xrNt5kE7zTlUS+piwrP+BTSNs/T0H++1//NqOhq76Abmb7aIFvX7bZZlvIWFtOz8hd6sjT0DvxDSwuYCGPPER+8y23yDfE2NdI+xURaf4//dS2A/bFk9AOuLmA/WC7djthAFDJmKT8NSjzz4fFPRfv4oknnjIfjPnQzJg2w9Rddmmp92ut1cJshP6oogaGiMl7cSF/Rv1nhKwvc76ba9ZeqzlsgZ2tiEROtfl4AmyBh3FtLfB74L03bdqUwlF+C6GjUC7oi1uvv77ZBrrntddfRz/+mvnPf/4j35Xs06dP0v7nz4O9gmthx8FO4PWs3839DvbKqmZd6DCWU606tTMfjIVQSY+t/x98yL71OejAyVJ/11i9kamsqjQ7oP7b08iStORH3/+iyl/7H+rCJx9/wowZ+6H56suvYKstI7Ya6x/fg74zK4BpqzB3DOEVgvwGFjY8ZU7Rkk/lv//B++Y5pJ32x7fffIurqRuZNdHvtN1hR9gF9rpKyar8WAlvo89+/rnnIbfCdOncRT78zg9Wv/nm62YGTpe3Xn8Ds/Gmm5i1cU+9PrTB2N75//vvv0d7XRPl0xZ1nSdookqXgFbo+/ieynPPwHb5EuX77RyzBvq2yjVRvrAlpT24MFYW24YxN9/KtjHHqM7he43lt4Ldst5665kNNmyNTbKc6sDj8njPPXebyZ9/iQkI1C/RAtWoi+jPWlQJTxvYY7bcITgqF4mDiEj/WJz9fe+998xLL70kfT2v0LV9fSOzQ9sdRCfFcdloq807b79rnkV/wP63y5G0bWYijn/DtkF/AP0n/UHb7SMx1WJHPwHbZgz6n6/Qd4ptj/ax8cYbR/2wvD6ILN/+tf4xLe+89Y55/sXnJL+0sRbMX2De5vt8+x18k3OsXGm+7rrrQMZG0IkrZ+pklDwHfvDBGLQZ9o2TzTezvxG7qRL2PPVYw5VWckWhpWDMvXffK+9f7F5S8dcS34mVa4rxGtq02UbGPkIoU/6aCtHvzzmbs0snnE6ahSthXsJ3DV6T671pL/4f7MU4/9/BXnziqcdRpmNQpl+aZZfBeAnp5XhgI+Q5PEwbEoS/+GGf+69/wYamnoc9sGDBQtg/LaHnt5a+RPr9Z/GeEa5zly44kby0lY+4BkMfzoUOWGvtFmanHWGnufw7A0JkffzxJ+ahhx4U2h67t0farD5kQ9f+l99U1n6C7Z/PTTcPNnOha9lO2mzdBmOm181o6Mr3oCvrLlXHXNbncvsuyO/y9AF0xrNsj8iHtEf0h/zOEduzfLOqRP5FGH60HF59dbTYIgsWzpc+hdeWtVp7HdnU+Qhuc2CtvBNXLy3nvvm4uPHnPRhDUf/amyCQUOx8b4n86iYq2qAbOxuUaVH99y36uKeefMrQVvsKthG/O7wKvgHCMcCWuOIanVwu/6XKX/NnaZDvyuq/7X9j++/Qg/9u6q/YoKR83nbwNa5/4ndr9+NtI+7J9n/8nhHnCd54803zH+gf9v20xTfZ5C/e/qHe5ziZcwnjsTmu4UoN0bbWMbvvuoupVRtjdcS9uPKn+EmTJpp//hPjU7z/R0dhPIhCZjHsvAvHpwbj09oYnx4lsJa/6p8xsDGefuoZ1AnayridAXZVM/RD7VDfqQ9+jHyJmKktUf9oAz/55JP2PUMn1ka+WBabbf4XswWu8+cnHmxGfSxIe17/it5D/2f13jg53UH7f+ONYQui3CSSEvJtrMboOHzy5M9lHmD1NVYzVWg77drtYJZbNmxOss0t/M77fp6pvVQtpIklyjzCyaTZyiANPPi75557xKbkCX59qHPkJDF4ttmmDeZ6NpA4WW/a77GnRLmNu0Jw4icfo898z7yN+Y25GK9VNa+U8T7niGpjA+fi5DOvz8H2ngy79luUfyNne9MuWg52rE2+7X+eeeYZ89677wmu/Z7tZcNNrH/j9882Pm7sOJHffo/2pgnmXMIT8h9wKcS6MGrUExivfGy++BI2N2xpjts3wTtkmVD3SvFGv1yJuPnWm8Tebt16fdGVr2N+if3wf96nXbm06dPnMghK5f+U8QdTm5Wv+bfjZ5cOXLlOnf06dDbtr//85z2ko47pc9nl8v7jXGu9+ynzP59gDMH+f9yEsfINIur41VbFWBp9dRXqrlRJLyzNP9Gx7Hnz5sntUZz/oq3QcKUGUv8kuM10BFZDZ71v/gWb6UvML0yfOU3svSZNGmOOrS1sbMiOwkhAILgJfDhO4lL/ZG+QsTxCEl3wzLNPy5zWHMxprLHa6qYKcbZl/cQ4qVz9o9CF6L//9W+M29CPfQGdxQVgjotYf9ZptS4WznAr0SP8Bha+KR59Fz6WH9d/wbu8ZMefBuOsZ59+xnw0boz5BP38csstK1eCU6+ugXk8EaIRs0DQttlmn3/uOSHRnuBNHS+jHDkO4qcg9t13f9O27f/Jyctbbr7FzMWYp0Vz2Ac77xQlxSaIv7R/nnwa88WwxWn/1IH+XBX6c/PNNsctUJuj3TKnfKx8TdM7MpbGWAFPF6RjJtJBG3g02s002K/77rePvEthsOIi0CLuph6bjPmlMvMvbVDmOr8Uy2c7fwo6/wP07ZxDWqoO0oy+fXP07fwEhh2+/jj7V9sfE8fPiLzyMjaxoz/j3O3MWZgDxHjoo48+xBzgZMzNo+/C5uZd8H5WWGEFyU/2J+7/+B1wmYtH2X799ddmGYzvmjStNJtuvCH088Ys0Vz/t6jx/9tiq2M+FEKOQJnz1qS38B7ehb3OcRjHeOuss57M9S+u/XEs9fyLL2D+6XXzxVefS71nPafeWRfjJ86ZP485c1ZCjguW5jdHF9H/aTnE+bd9Gihl3n+p/Fte1LkojI0biD+5/OgElhanc0sVhrZElJRU9RwPw6oZJqBTKBGjgJEfbHICC0qODeMEdwKr5Mtw8v2kMviv6Helufrqq/FtrQnyAqloF4KPw3AaZmefc7bZcEN+T8QpFREtP8AZw4H0eeedJxMPlE+K8LK2wmDnvdVH/+MfZmUxyIJi+jH55wTLxZdcLBPpHPxLBhktBDH8SjBG+/XrlzRsDmr23HMvJGSh2Xa7v+IDor0kRTZlQf5jox43A6662lQj2t69e5tNN9nU843FAlZ3nMBiw+hwWAfzzTezccUbjGlmMJLPAOuss458N4oTCPHDq0mGY9ct5bJ8z0E5TsVEg02BTX8NRHfsCceZXXbeBZP8d+J48BDQQ/lTfg0swnQ49FA5GSPxA8d0sJPb098zHT6U2qNHDzMGE/Uy8yKTKZSFIPhlmXXp3NnsjTvFR8NIOe+c3pJ/iZc/YFT5y8Dw4h3wQFiCi+HSiy/F4PkFiYsU/4BvBQwQD+/YMbeAanmq0Tl/Zc4791wzEQsCTAvzz/Lnw06LE1ifYeDyMBawiJYPL+PDvZIwmxAH2hwxXPzoyUImmseu++P9fogJwTj/zA77R05mdzrscBmcxnHwuqRhsuBizKWXXmZ6n9tbJhK1/nXBwthee/N+bymYxdb/SgycLrroIjsY1zwgRcw/T2C9MtpeIch6fG7vc80UTOBr++P7Z5A66NyOOfY4GZjYzKT5pyHJe5LffvMtIUsg1/5YYOTeDYtgxxxzrMuqlc/qPG4CT2CdJPgOh3bAxONsczeOMrP8Vb4t9BqyqH3mGWeaeivwndj8M6C0OVzzwfi4ECkf7XVJ1B1MrFdcwGrSmN/bqzZcyNybH/qFILlmotfJjMr0xDetPkD9LSWfAjp3RP3dB+0b8m1b57twccQfC3byqZ/OhX76DpMLLHObapt/1r/NttrCHAP9JIsHEpMrG8Kg3//A/eammwZjkggeZjDT/g+Dfth//wMkZPID1qiIbGRAHHDAAbJol63/EhZhdtqxnTkemxAknRSH93jZpZeaF7EwUUp+zZo1zdFHH23+9re/JeKZ9juGwPjm9Qeg9LnsUnMO6hcnYpkxyj8C7Y3fF0ifNP8+IQDuwyLr8DuHm2+/nS3hk3BIMNv/xZdcggllDAIpNFQReGKEkxGjwDFq1Chpt/NRN7Lvv2nTSvn+wVFHHiX6fzdsOmC+9WE9G4FJdkZ5LepZYxhWC9AXdOrU0UzDNztq16op36BZDt+H1PzzdWoa73UfqGc93f/Av4vO1SRzQE5d8OK/Xsy9f8qn7u8IOTu225Fe+7i44/p/7aDrzPmoi5Mnf4aoU/1H4/SSiy/BgKyR0PT92/RFCRUw8jtxXEykbv104kRgEDpq/1R4R3TpjEmhzzApxwmIagyEhpl6XMACq1z5wr4E0W6HCYee8s0CYXPlU23uv/9BmaBcMG+BlD/THz/h+3kOGyXR2gjnYuLhOxfKvn/V//yeCvstTuT6d8NoEMfPqf8LocD2xAQGk8J8nYx82Setf6MeHyV9NBnP7X0OFkz+IunkwHJP6DUmZHdM5M5fMM88KhtDbPi6devKtyZdpDLBf/HFtFcwIRKVvy0KTGystLLpL/YKd1BCF1mCBGeMl16CvhUGflb/U369evVRxw43O2IxKAmowrNuFLclVaOv+o+11Zwu1PLXoJx8O+YfR5sGSGdc/7wtgwRfOwAn9pvYXagajhMhl0JH/evFF5FSPmn9Wx7to1NHpB0TiPYJ5X/7UNtuib8a/XVv2ElTYCdl2/9xx52AQdzOssg8FGGy9c/aSR3MflgwkCeTf7bhS9CGmUaWZ7b9SRs+nLZLO6Fp/m3baI8wNczue+yGiYk1zA03XJeTzyzvsdvu5ijVSU4+6/WHY8aA7PLsEqfyOx7R2eyDb5CGJ+LzefCA+RyTlQMHXmPexGAveSCf9Ymcu+66m/Rp9iUqVzWu5B0iOpJcl17Wx5wL+2/OXPYH9qH9tRfqu9RNoDgJeB4G2NwIoPZP3P/Rtv8H+07Ul9wTkuxIARGPPwZeP8jpxMmSeLU/+f65ke6SS61OdIrIZtA1HPb/l6FfexEbophXzb948L5rYmL06KOPcn1jkM/vZnIzS7b+s/AovyPKYZ+98U58EA8k8pkx5kW+Dwf5fVC/zsFYgt+x1PbfBXqXV3RrZLEuLCV/S5TpUf84BuMlbGbwYj1gvvwCev683tDzkyg+PJBfA6nnBNPs2d+gnx6GzNTASVtsVMAEGiMLY4Zq2GnbmVNocyFc+lQbGRthzEL7j/bvplhAJqO0BZmYtuHFznOBSduL9hz8u6NvXjBvnnnkMbsRjbhl8G1KGU8IP9IC5GXQdy/+m+3RPcDp+68PnXE42+NO0HehIBxYjcWJr8y5MpZgf4cnev8VyPcRGOdM/Iz9HRewDL6BxXLQMVrQP6Xy371HTzMWbTZr/0oFg/3XpUsn2E37iFj9eQ8Tvuedy7bC9oTEZPQ/N5BddNHF/l1IG2PCSpS/tr+Q7Z/W/8b23yDMDzRurJPzaf47de6E72BMwSaBtc3ll2NDBhLFZGX7P052cpOPjr81741h019+xeUyIc868fXXU3L5b4yFyQsuvEg2XvElLi7/b2By9BzoJ1s+LChoBDZwZ38vhY1S/I5J/PDbS5deBjuN+iBT/qxXNWrWMv8QW3mXxcqX1+LfjwdEJ55/vrVlYtlMJ5O3ZmWlfc+0MyUS5Ur1r9iCqC+TsejuH4RnOpdfoT7axiX22+RpQlh0eGxf9qL0ZS60k08y9Wanww837aTtOLoEtDY8dQIXc3t172HWwYJZ+pTuf3qgTYz5aIwvf76/+Oks8wq2HxM9g41A1D9cTKZ9d+WVV9gyl0BWBvXfplj0OwPfrOUmTvuk8um7FGVRbvwj/bbOObgYHnzwIXMdbhaifM51MG224DTNVsbCefPNoYdzfucbWWy+HTdi8Bu6Wv9dkaVhWcCu/7kPYwYeD2psAABAAElEQVTqfobX9y+vhx7Uv3p4j5dg/krGQyEy6OEFOKG2l/Q/u7XfHddjzrd2OQLz/S9Vdxm5gUSD/JzxhyuSNA+IWN4f7Nv2MpdBnY10oDweg75U+3NptDFeo6plJ+/iZ8z/3H//AxhL3ySfq6D8bP8nG2ixgF6q/NG0bV//wos5/cM81l2mLm5N6ma2wkZbeeQ9WZCLnpwPos1ka4DNfyx/1113hc10DAJYmvAhDrt5CxsboX/kBplGmL9w75+xq+3LsSHRFCuVwemfepi/6ij1s53FC93JAPMXX9tx20SO2+DX/o/2D31djugii/mPPjpK5A7FFYLLyxWCWpeFMf/DhIAlHn8OGHitXF9t58TS8uf82z7o0zoefhjm7GlJ4NE4dC4TGbzsksvQ754jYzkVysUk2jjh23cVZlssBJ18io63QmSLs3/YT16AfrIebRYnXwHmhfMP7H9ov3Le1va3iB8Jtvarm8/wYTWVFmHnRz9E1Gn+hQssXdAX7olyiPP/3nvvwuY6X+a4tf+R9uOirqyEzr8Yc3wcT+tTRr4lh/d/3oXhMyL9+vaDDdHbfIn+k+8/tj/q1FkKc4DHmHZtUY+i+qfi6HJTCee6YvuTZWeTUo3FwS3tXBfm4qWNuTTaMU7p8X9c/wdBp9LG+fxzO38Ry16hvs5fcH4PTyb/3377jTnl1NOwaPqxEOPyZ907HP0VF99GYL6K+udOLNRyY0LyIny8mciJzz45lhgRyt/GHwd2NKJ8EA84XOSPg8ZwjiVG/H7kRwtYNoFpMvPlb/MYcQkYwpIujUcYA59C6tp47C9X53mF4EIonhNPwPdUcDKAj+f1gOWXCQl0TGwHq2L3A3eO1KxR01Q2a4ZVz6XNBOycYiOgMq2D3SDshJu3WEvSFUc1GbvUevbohQHTLOHFiBEr783NN7NmYYfjFyK/BlYweZKI94zWrBWMFJ9LidDGyl8+zD93sx11xBHYQfWN+CswAbnO2q2gvOuZjzC4mDp1GhjRKLH6fdZZZyKEjYOTlntjMo4Lp5xMl0GaJTFq91SbUThFcA0XsEDrDYW8KSatVL5+F4j556QTP06I796b2shf8xYtsMgyCUYLBvUsQAjiLo7+/fqa2lAyKko6Dhy3Z/5XXXUVlPGXshq+9lotzWcYWH015WsJXgPl3m7HHcwonDrgMn5zlB/l6iQYG3pN4Pui/KoqK338YiT6e6Y5OceFugpz/Q03mM8R/+jXXxNeyl9hhXqSbpBRNnthJX5D8xFWz4diQoP5f+310SBhgIoYeJICbLIo2K3bSRInfiSuG66/HhP6DwidsuqvuAJ2bTSSBcZ5P3wv9Y8RntKzl9n2r9v5tBKYMXOGObHridh9Px1eIKC0GuCUREPsjhs3HqfaMKKlfO5k+xK7Mflw0ElDm4+Wq7qCTH4wQOCEPTo4Kv8q7FoYN368lD8HXmtgQpu7exdit6/K3wv1pEvnI+x7RH4YN98bJ8L5rAilPB27lFkeDVdeGROsy8hC4v/99a9Cn/TZJHNyr1N8/a+PvFRVVuKEzffY4TJWTguy/LmbmB9r5C4L+9hc8P7bl7H7ghVhdezYmezyveoqK4vy/njCeBnoUz7rXzeclGq7ww6SHheR+eGHefJh7U8+nuDLvx4GT+usu675Bm3oA+w6osHM8j6kw6Hm7wcciKChFLn77KRuXDDB+8CkCQeylMfvcq3VormZOOkzLGp9I/JZ3Xmii5OwPPmoDw0XThRT/2y7zTbmFLeQRCmsY3fKZAoWFdEBNqEBCPmcXJYJDzBtu52dXCb/Dai/k1F/ubuHb4T1f8X69U0V0kL5vE5Ed79Kx9veTg5xgpofC2YcTD+fz6CfToZ+moVdLcw/JznXat5Cdu588dWXtvkiwJqVTZGn/qaG008afiSvy7j9DomP5b9Sg4amFRaseRKPi8Tc8VuzRi0sMF2CXaYtIdHWIQ3v0+IBYy7GYub3aCs8ycH8sP2xHbVAulj/22B3r+pvlhMXYx55+GEp/5ooX56o4Wk87rr8bPIksCBf2CF85hmnYwfoFkn+bx+C+7vvHAEZCyFjRWmDlMmF/2XQJg7Yb3+cYvorkg2kSzsAX36Urz6ePLricreDmlikpVnzKtkhz5N606ZSR9bAjqEG5ioYYiusWD+EDtEwejwRQsBq2X1z1jnnYHCDBRJw1IDOY/37Eid6+Z0/ln9l0zXNx598InROknFyUh9ZeOaCOwr0OhjqjaCTGfXNg2+S78vx/XNzhy3bvPzu3brjVMpYie563HW+xhqcpLd8N9xwvfkn9R68xLA+kj523EfmB+xmJZZvvgfq/XaYGIzff1z/GyNNn02cJPWwBfpT6nXq+R/mfY8wqOfYuXnFFVe4SR4mJaRTIXVJ1YcnVbqeeIKZCl3F/FP/1ccd5NxtPGHseBkwMv+rrQ7dit2HbFVDhw2zBjciXFi9wOyFfoH1j4vJ2n5VPtvBrdCLmn+e/lsHp8amTpuCUwRoBwvmYwKihrkEgwruyo3z/wXqKSeMZ0OHkMChEXeUcZfp2I8+wgmaH4Cvlt1/V0KvLAMdq+Ep/+fU/wWo93tDP7D+b4vTemHCNSpFgKMef8xcc/U1kv/evXubv6AP5FPtJhqYnuXRF8xC+TIkd99xMrB2nVrmcpwq4DMHBnqXo442s2H7sPxrwF5ZG6fE6y+/gmyi4AkXZmwL7DI8U+wVl0tJSrW54fobpI4xLlLqo441wumgj1A/5v3wg9R/ln/PXr3MX93JQ/KGRyKS9LmYAwyS2Gq9esI24+IzJ/NqOl04S+w/7f/XxEkQ6nfqf33/tm1Ze5EnsOwmhCCZdsEDWOhn+2f9a4C0r44JS9oY89E+WP6sfz1ho/wV7UPjZQx3QL8OH4FJUfxbBX0/T5Qsi8mIlphM/XzyZ9L+mR/afzvu0M48iklxtpvm0JesN2M/Gifxi+aFfca0V1VWMuok/2zD9z+obbha9GEj7DjlaWdtf6z/vZLyRT8Fu4R2AvXPyujfp0D3M4+0W5qu2QS24GTZRUr5zP/BBx0k/1X+YJy45WkC6nu+WL5DDvZoRxLmZquNNt4Q7LbvYDiwuce+U3oIsR50x4KYHQTayLjTnvYF69+772OzDvpi1r9DsOnpgAMPtHG5aGx/wEV+m/+Z02cwKzghuJIsHu+L64P/CtuG8rn7s1fPHt7+RqHb+oL6be0zK3/NppUo876w7WsilM2Dpt+JjV4EWPDE449GsAcmfTZRJjCboUyo98fDdqJdw9h4euJKTI6vCJfx+jgBXwt74uGHHhFsTfSBzaF76sFe/AJpn4S6Q95aFTXN6aefJt93hVce1oXPwMOTyMw/XwRP7FbB9ubDb+5shN2qsTSVq64w4ucO2DfcJMK01sMJlxnYLMHyXwk2XF3osgP3O8CeFEbirT3SU06FsD2wP2c9njV7pixMsf7x4emxfrieqxbaqNYGymU/yD6MMgQv6W4gpzVYZvPJhAy1RDnS/qT3ziHDYEvayXRrc3FBvxp63ulDyZD8CD+CmMexkYSb7pins7HphfpQokbdao+2wPdgw3PMYR/qyj24EAv5K2IzxgzYXAyzNL5JyVPGtaEzL4f94LhlnPIgJjTj8l8Npyq4q5f1nA/l98AiG/WdTaF9IyyHE0/sCtscOhX2D7ENYG80gI0upymQTqK5q/srnH6k/hmG/o474e2jsUlQef9WmqXeCBuUY7TXXxuNmKmZsCiA+Fs0ay7p2Bs2aNilzdNCk9Bn9jIzOSZEhlaCDVTZrMrMxThgPPQTbxng+15v/fVk01qt2tStjBWPJMWmh798HAWQxf/U/je2/64dhE09jd3kkotXhEFEp84dMcadilN5XMC63MuP+7/6DVG3MXZjHaqqrMRJzOXkxgl+84Tp3HCD1uZr9HGfYbzQELZmE5za4/jr21nfSPkz/21go58qm0hsvlS+KEJIjfP/EWzKobA5WP6vYyxA/Ut9uYkfn9Y3dnwqsUgauCj00EMPSfurgL6ircz+97PPJkl7Z8bY5k4//fSgDyQpNj2xfBurxRMmxHF/L9h438yeDR/GSw2hMyqbyW0p45DeObRlUD6tsZv8vAvOl6vhIVJfI8antMet/uU4SmxBjP95cpjzLx+Ngy2Ius8wPMVDvUf9F0Uh6bD97YO2QFDR66M/oa0whuGRBuof1n+xFdjfumz8gEXlQ3E7AU+F831s/pfNMHdyto0HUheV/+tvxLgM75YnKiVP+OW4pXkz9MMISZ2pO/zRaZr2shEC+ajfQMZf3Lkv/V5VM5z2+xrjyknyPtn+t9m2jTnllFNLyr8edtGDsL31/a8gdhH1hLWbtf2fDNuGG5aZB84/dcBEPGWu0nBlc9PgwTDIbKpZllogo3FS/lxMyDIh//d/20vfSmrgdAXnQ2hII6fkL7+iDxDkhj0FpxK6nLbxeOiwKdOmSlpWbrCS6dv3SrE3GDcfjsc5jmV95mIjvxlELVNL7MrG2LAKu/LyK8Bp5f+c8YfkJWRD5Gu81Is8KceE1Mdi23ScaOGzFG4JoH3LdPSRdNgQP2f+R74niM0ezDP7H45N1sXJ9SnQO2Nw2oSL5RXo77gRqhX0kH1Cwgddj7b9wIOuRGCPo59nu/kC+p2nZVl7aX9xM+puWIziw9DzYUd0795Nxo1gEvnLYuy77rrrwWb6VjZ1IaSU/8GwmQ5Um8nFwE0/IzEfxPo3iONK6FApU6Ebw/pJ21fl10ff1xj9GPvf79GWOf/Dcqbe0BtDtPylPz/hROnH1P5eEbqTm/15CxT1L/Xf6qutaiZj/pBlxxNYsrjj5AfHllUoMSslHn9y3DWB8eIf51HV/uU8hsrnpvgjMe9qHxtbbP+z/THdbCW0G5epuyw28O4Hu3E7matq37696B/OvTLPcf2bCD18Kvpznoql/mkIe6mysgrlNFf67Tm4XYvP+lhUPx/zZbVlDGJLmykZgv6A1zkSUx/22oyZsINQviuvTPu1rtkXm4P/Ch2g78eXhQeMYd/Oebty8y9ciNP5JZYg579ORT5mfjNbyn9F9O3NqpBm6FmO/+d+9z1SUy1pPu+CC2XctCj5YBZ+lh+f87mJ/dWX4QvjH1JWWWUVjM+XNeMnfIzoWbdt3e2Kzea8jSb7cKzUHWWr40/2fxxjfDNztrQPljdFcg6lL+x1frZEHpTNosb/cf3n3B31Nu1Szl/UqFmB9zYefRbnL2D3Ya6cc0TUgXy02Dnneg4W5t58603f/lmOq4Cf4y/KZ/6bwO79xM3vDB2GhVrarcDHcWmcgkx+LCWme9gDGiBCCGj9/OVjJRIKfAqpS2r6WEpM97AHNESEEND6+cvn15RvrxBUoVG6JCXsnVlx8HiSBwQdfrL4kn5FOtc5D2MB61ooV1Z0LhLIFYIiFAwl5NOQ0kl6snGHTK+eJ2PAtbSkZ+bMWZiY6YMK9xb8uM8YSunII45EXEE+d/n1xK4cXtvB3XT8fs7fdvkbBgmsdNhZgIkITtDzyDCfgw85xBz0979HBSHo8KNRO8wzOOZ6xZVXwleN6/F2loWGusssBX+FNBjeW8rratBnIc+uUSMOv5oMTk6m6y4AH70DRrlBGsVx0kpOYLmaI1cIdu3qyo4BDDrGY832bf+KHTrLyIQddzP3vbKvTOIx//vvtx/K4HAmTx67WwA7N1z5c+DXuVMnMVR51ROv/5MrEiw7JqXrm7PPPstNhBucxJkig7x///tfwrHbrrubfxzDCVsKgEKD0D2x45H55xVRMuno8sYAvOP19ttuE/lcPKxq1swmLeIhHx8qbQ5EtthyCznlIMgM3wP3P4j0DALJLth1x+6t5hjQVcByo2H82KOPmeuvu06Sx9MEPG4tCsjl/zLUJx5DZkOorKo0xx9/vJ3sBH02BgT3//MBd1rECUZdlklWV58YLq5/IkhZJVU6GWYXn4DCoHZFrPqfKqfk+B5osLBeXQdjiDtnuPLPK6DWpsHk4rI7au1EOMNwl/Exxxwj12zG8mdgMrMHyuDrKTgxhbCHon7zCh47OMVkA4xBKnNet8GnDeoi3xEVNf/42CsEsYDFBx0xr5M8/oTjTWVlpaSHJ0fuxZV6PPlC+rLL1ZUJ3RUxmNb833AjJtcxESAdIAbwvTCQ5iQyJ4KoD97H1Qvc4cZ3tBqOPN+ICTWVT7G8DkxOYCF+ZBfFUC0ntbb/v/+TXU1cUOCumb5X9sPk3Vcid7/99pXdsVpmXDTmBDjlbbtdOA1Iv90Fak/GDEKdaIxOkPJzp6fQ+cbp4rUm/PYKUyQf2cTAJy5/MtPo5Wk4lj+vNzk5ioN1qicm+7j7ik8H6Kdd/wb9hIE35Yh+gpHEDpPPIQdjce8gLu65B3FyNz2NY+5gPvusc7B4ZRepmKZ3sTudxsd32MG+KhYfqX9lwglx+wf5l0IFApDNngOkfWJnE5+QP/HaH/DxuDuvQ+XDheIzzzodi+VN4bORvPjCi9j52sfMg4GwNBYEuDi2Fq6A08eenBghXobgN+64y4zXuuQeG2VAR35eHXU8TkB8NxcTNMjFAQfsjz5hT+isFSRTNNT79e0r13cyk926dcOVAm2RTETCSoXHR+cBQcsPJ4t6dO+JTRM8JVeNU1Od5DTT8ti9xnbKSS1eZfH5F5+Bn/HxRAwWsLBgQC+jpHHLxWv6/VUPCMsFrxOwqYM8G224IfqkC2wU8OvDydqjj/qHJLUVrtq7DAsxEgBxPYDB8/XXXw8/9F7TRhgMQe9hIMAFvHkYHD026lEz6LrrIRYbBTAo4KSqv+oN8uP6z5TzuHw3DKh4vRAfyr7wwgvNp59MFPncZSWn6bLlJH5FOtc5Vrc+jzRWp7oV8XPh6P777zfD7uQkKx4XRr6B5Sb0pC1ioYevipMJclJJRSEIr+r5HNcuLF9vWfRRaAe4Dk8L/r3/vItdX2gH2PDCazUHYqe3XfyAbEwk9OgJGwFtkNFxIYA6sr7oL/RxWCynDhyPiS6W77HMO06KyoMAP7f+L4Tu4kQBH9nMAv2r+Rek+xFb4KprJP/n9D5bNrOQT09wCRvSt3TdOqjb3XFtxGZ2AODKiM6zz8Be4WAfZSj2CnYl8spLRspJqX7og7X/O6nbSWaHaBAidey6G0Q+Fzlt34o6hr6V16Tw1Nz1oJuKhdhYUh/1e6AM4DUvLhn5vKE+MFLqQnkPqGsMw8kd0YUyQFBbDXXw009ArjaHoC/7O04h2grDSXq2LegRyJfTjY25uIuMIq4HH3rA138ubHXHYqVswoFcTkRzwYnth2nk4J56ku1aH4mbG0ZQvqx/vPKnU6fOsJNqyAnKm2++yV8lpfnnhqW1sZmJkU7BIup1aH8v/fsl+KvNbrvvJqeCJH6Xf5bvdUgDopfrUpI0RuVL+fWw2Yd5tLZL1E8hfZTPXcmUv8EGG4p89kkj77rb3HbrbSJ/RSwc30a7i4+TT3A47DHqY6a5/1XuG1gk6MMCYgL1KeG/Hie/HsAkDiNZBdd99cJGobVboU+CLmLQ9//zPr5heobUGV5vwsG6FKqESHUkxWzB/oC2DQeckTxr22vfWW14uvJvu+wK234ZhKpA3/k5NuRciIW0T8T+POjgMrZ9lH8fPYDs+IObNrqd1N0stXQdJsvqRMRvT5NWQy8cK2OLuP+/+270jTffIvJXw0LkWWeeKe9Wy5CnE/rgNAZtE+rai3AyktfAxflM+uB++A5C8yqRLz8+wQ4lfkU6F84dQzGpgn6H+p/vmzZ0KFMwsFLhmYU22Au6cPJnaINASZnSHtE2iIm4Cy+8AP3Vx+DGZiNMNP/9ILRBfRBVn8svk+tlmAlO/Bx/3PHy/jnJ9Q3GY/fjyjXe5OAfpMfa0OhHgZSNRui3KZ8bFcKCPon4b5OKk9CP4zTkVfBXYGzEzX2bCp0TDXK7BZhlAcvZWzZujkfa+zi4EZLfEd4cdYz9gY8ewANYSJY+FSJ5OqF7d+gMTIRzLGP1nY4l7OY7O5aAznDjzz59XDkgrqpmleZYlgMWvJn82ZhoYn93J/q7uP35iT+fEDDHTxYP/4iRI3Fq27bl/lI/KhGCUhwznBmYfKa+5tX5lHfIoRgHYCwofSD8M9EHclMKrwhjyG3acEyKcYCrF0DZp4R8fR8/tf+N7T+/8SArB9Jpb035eqr0631wAkse8GX7v/or1pPTRdywyXKY+OlE6JvTccLdTsAz/zvjlCxPxvOKvwXz58uCx2Voh7QRmX9uWOBCRu7Jpivyh/HpZhifnoWgjhg599x9t+gDCuHVzmeKPuBYg1KNeQH6gHMavLZvKVxNxJPSvAbTP5E8wWX8M3Dtf4+e3bBZAe8Z8g85BLeiuPEeWXl1qB3vvSHBt+HcAzZDVHAchoc8sY1KnOg92MpiC4KBYxXqgE9RrizLY487DrbgLmR1Wa4W/X89xq8s/yZYZOjRszvaQHMsoLC/ha2Ab5xq27L2KPoy2HmUz/bfpXMXjOOmMEY5rcLFPHnIYItqEf5qOUVp2wS+G4hNf5wU90Ed4Md2yAPLn5sdTz3tNLPZX/7i8oH38cILsljK8SWfYUPvRP+yrJXNXwR94EHMOUhe2W83hW1xkiz485XOm4dTS/j0Ace/HP9xAebagbCLnG1Bm/olXMtG+VwU4YZOyZ5LI0VwsfZZbMzjc/55F7iNJOL16XQ+57eBv/rqS8xfYDzETd54vfvhBg7OxbC8KYT2Xl8ZD8Emh3yOh7bHeEjlx3NUjN/qyu4y12A3ggDp0vlzxx9a/322PRDZNkwE7BuePuNm1s033zI3lv258z9HYgzBa815SoW3OrXC5i593n33XSl/LvSvhqveBw4clMinPr/hes5b2OvquVmbG+jkumb0CQ89/IgZBJuNbaYBFtp5yos3k9DPDd0sQ2Z71VVWEZuJm01lfgS499+HzYT5kXk/zMfm6VVRn2Az8XHlFNun1w4a4E6xWuIDmHfR+sdPpnTHe27OjbZ459KPYV6W8vnUg+3L+Y/4mmrOPT3HOTE8lWtWYZx6vIzfGX42Nppxs7hs/iWDsz+H4uYMuVqXtcml0TneT3Z5kP/s+LMBFo1OOfUUmROjnG85J/YM5sQGYYzLCBFtH2zKkyu7pcKm9j8Z7JzYsW5OLIgNJ3adfQH9p/VvOha9OB/DW7Uog2MM309CMj/VwVOavMKSDLyunXO3SKJ9kLQ7hrjT7i7jcmPEccfIJwyEzReEhmF+bASe5IDE9sPYrJnML7lwdMDHqxK5+ZLzHyz/Qw49CGneH3076hbSyCu4r+x7BRbD2LdrmqO+3ek/Fx04bLwWoAd6B+PfV155ReJnUtdq2QL14ES51px8vBrx3nvvNffJDWALZeMIx38r4j3q+7e2ZS/Z+M0w3rbEp3yYf851cUHwU851IV8Hw0aRuXibBDsXV2b8H9d/tr82sF+4cYQbUBkXTxBzLEBbwPZZsNVh18rj8k/7jVf0I2lSzscdf5z0vVLPYRezfVL/M/8cf7Jshw7BiflonGjRliaCGZvzKlb9Vjh+f0T5B14R6735uEhXSalgxebDgFKm/gVBDvKRLMqvTM5NHV8ePu4fkf9wAiti9hEAyIiMSR5WnsDtSR4QnsDo8BYhVwgOGCCF1RU79Nq5E1hk0iDqEseJYS5gsdFRmfPaJ7vaHbi4y4+dzlysivNe5ksuuTS8P8Rxyy23mLvvvgtQhSgiLmDpy6IMPmx83DE6FQZTrZq1MdAfAbeWJUa/QWqAaGw+65T7bRhEcMXd1x+EZbqo8Fpi4EJDkJNnlE8jjYtFfDhI010AIWYhyXVV3HXNBnMOBml/2RTGlSstLmB1wzewGIYPv4tx5JG4uioTCe8YPwNXqnGSlZNVHCTRcOejZcwgnPDiTic2YH1o5B3R5QjZjcQ0nAiltdNOO4IcuNi5HIQdvaTzXuzzsBtSydZIxIARCBmMRp0FZeiECeVfhQmTKijoEDM5wsNrktj5sGOyA4RAI8TTcDTYF8Bo5AQNDT/uENDyEm6UAXdHUPFQ5kEYgHM3MuHp06dhca8jklptlq6zlLkCxl1TDFz1IQ/TRuP9pZdfQrSckOE1V1iFd5OswqOMGlBid7mCfHbWrNfChrrAU0+tcbczOeKgN944GJNi9wGPTmdbntzhwhIfxIG2MXz4SPir8U2LDeWaEhpDWfk0kri4xJRzIuhMGEHZ+s9FrOOwUDcTp8+wCQft7CJ806O1SOKPnMBC58X3y+uzrr76KpmY8gwAWLdo8L3xht29cOhhHcyB2Glin2osQE2QO2/fxAD5NAxG7HUFIQamm0d/H3oQHQiM7WFDcDTXlSm5uIDVFXWdZcH874FJCF7Tln34jYozTz9D0sqrs4agrPmdNObfToCjLqLMt8ViKgfo+kg7wAkO5p/p0F2gDMNFL+ad7+CUzM7MkZjwu00XeLT+xi8RAmQnGxfO8MSL1fRb/XQ3Ysfi8v77oVM/XHJImj7TnX7ijkDewzwC6dSdKTwFxqtP+XBQfhwmSbLt//HHR+FO7jGY4NnEbLXlln6wqvHT1SSrqzQaUBzMM/+c3G6OBebAjTaHhQfuoucAj4MaLqq0bIEBt6vuNh60OUye8V2ws16/dWsZmKsM1mXZsYQwG7TeENdBnSsL6EpXN6QtQEqjOxffAOJ3eXh3Nu+I5wSdfQI/d2Ud2qGDJG+33Xf31/sph7ouYOL0x2TZE48/DhwnQHaRibmEAZ6xqKcnY8J23nzuzMeVmCKD9dQWiE7W0Bd/p4dy+T1D7hSqWauGuRWTnjyNFj/DcEJwKNoF5bO98kpXPtS/h+IdzF8wX/qfK2DYr4LTtOGxueJkGScnWP8PPuhg6L6DPEtc/9ddbx1zCa5H4OmX+OEVYzTuKZ/fgjsBg+PsI5JyhViNPna66dixo/R7vG+fmyrie/w1CI3Ml195SeowJzzD1VJGJnm5uET5dmLzFC+ei4v/OOYfYgvy24FcYA+PjZ3fRPsAA8FNMUHBb+WpHmQbvAsTSygWfBtiS5nssnomxDBhwgQMmk+S/mdN7Nq+5hrYMXiWRP2njpETA5C/TRts8oj0UkiBwSLkKJzAuhqoaruZRWyBaICP8Ghe5uILob+x0zw8Wrq8ohOTqs8/L7XxVixgcCclH+Xgtzv7YkMOB4ZbwV5ZY/XVhc46xklPTqxxY4LtW1cVWvzDBUjupqQAfuONdkGInSAksaAzD+Xfeivew0i8B+j//THpdhiua4gf8lAXcrDGya3aterIFTZ6Yp7XSMgkPRjlFG1jTmCyfXyD9tFBrsDhqcTLMVFr7QIhyw/j5gkVfkuA8g9B+/i7pN3yWB3FxdUKbKT6iyyQhtD2HfAaFV5LRf17wom4YWCnnRwLY7eDcA7I6Nt0k01wov5cH8U3KN8OHQ6VCQrumGcb5jdU40fSyDaMfEr5HoQBnkuj9G3cTQ4myudOQj2hF5d/b5welV2diJjfk5NFIcCMm2+FVw1xAM44+mHzVTOc0NBHeQK3UoJLnvFjx5knn3rSvIVNMZwQ1Ilk4XLvn5Mk8j03ILlIzb6e8hmeOsraRxVyLTivA+Gp5Kx8tltOCBPPSQZe7yE8gVFse6kv2EFNm5fxhhPmCOgeDaIu0Wob8523WqeVLC7Z00aBi7cscOzAh99S4ISh9r9BN+AENMYTnAhaC7tNs/Wfepk2IZvFeuuuLzdJSITuR20M9sFX+XfC0so/krKQPMdAe5EnsLgAi1MoG20k17jG+l2DsE7we2jMwz4o045RG1Seadi1zytupkyZJrvfacPrZgCe4Ox0eEekFFdMYUGOE6Sl3v+F0PNiQ7sU6sINZXAnuL3mj2MGnnq3dprKt7WkQhawroEtSnzv3tjcpyewMEbgWIElxA0BeusDRelmAa1rvC6vdev1JQ7F0eUmMto1vDaLk2lcMGF7JE3lExru3h3hgw+Bzvj7QVJ2UzGW6Iz+josr/EZLX5z2FpvX1X/y87kAE9j8TofkDZHzOvLSO9djqaEkGIef5EL4fpisb56d5ELsN910ix0HQP4WsAG5cBI/jJE3ABx3LMYBPGkBxIWubJQvSA2Q0n5O/xvbfwMH4OSsLDxpzMHt2MmewOIGOnvyw9JE99EuQP5ZvH2vuDLZIMWSe/TRUWbAgGuEYTX0adQ/2m8wFuaImxDuufte0f/Uv/zeXPyEXAcopvOa6/noH7fEDQP29LJSLT+vcOMGQi5WU49wQ48uTmmMdFmn7Pi0wqy//nreVlYem1pbE1WCuoMx3rvvnnulLGS8J+85hGQBcbHyBNiPnKzlw6vjaZMzRnLG+pffGOeV0Vn9O+ajj2QzF8ef/C4QN1/xYfg5OOF3KPoyLgzShuV1j9zIIE9U/8Ue5ZgATzwOZzr4HRluuKiDUzZHY36HbS/kIkASOPoRCn74PaAhGJfR379/P/RjzS1XJN/XG1DIxw0fm+PdZUv2psEYQ+MaPuo06q0NN9wA3JYr1hOcc+Ck+qoro99OIknHP7JJ2vXb/KYQN/RR/m677YpNLcckQfntTF6Zz9No3NDH7zFb8ykRgND2YTza/3wPW45zU8888zTa1JoYD2GcGOWfIbgJ/FDYdQy3xx64Whib7TRm2XyMjTrs/yTvSOcGqCe2tJRryYw/JN25mIEgDit/3DDENDAtF110IXQ230H6/Nz5n8mTMZbmBkHYfxxDcIwVP0wjx3/8HiL7mq22auO7chmD0X6bN9/UwakRflJENhxLBJo7fO4Bc5hcpGbp0Tbi9+n5cNz4FGymN15/U05iZ+dHyMPxIm85Yfn7mylIwCPzQZy/gCiewOIGMz52bHiI6CXa+pyv5PcOs4/Y7UMxJ4b5j0PQj6ldybnRTh07oR9biFuu6mADKPsxxh3eP+OShVjMiUn1QhrkZIqfvwn5z9Y/TUc8/uSJmQuxgZNzYvHDWAbfeKPMiVH8ttvEt1Vw4SjY/7y9iVfVWxsnlc8+meNIYnXDoHKI/kRbZxvaDPNl3HCkj/JwnozjyxnT7Y1eF6Jd8HuafMgzRG5r4Lw15jNkbq632H+kl8u/xq2u8OJncfMv5LNzfFbnU3+dhbne9PVA58+cDdv0OHsqHgqEOoc6Xx+Vq67i1eUC1suvvIxoK3D7SF05+e51umNi++T88VuYA6T8Dphn4acobKlUGNrrd9+FuXjI56aKw3Fduz4qlzeW9eyFuXiMo2rCXqftq7al3YBeevwf13+emGT7k8VhEWBjHwNbvQc2IVH+zuizjnd9Fln4bc0uXTrDPsQcOQ7I9Ec9521Y8cNY5JrYF1+w5Yv5X3v71vKeTSRpZlKs9WX0r7JoEHUVH7uBFqCYTlgoOXKE+IPKDwtYcY6jfAk66/e8eUIe45kDAKZqaAJWej76DSyWMq9W2LFdO1sRNEQmUn/KBEdnO3XGHfx776Oc9kU532m4eoMfY+UOER4BVnlkOuLoI3A9w1eyoMEGxNVU/0TybOPCwA3kawYOkA+Ge75EmsVqUJ5KeOLJJ6TmcAfaHnvskQSL8x8InPBwOwHRWcpketld19hleHV/aXS9z7GDNMZD+XqFIIuXV5LceuutvrGLLDCp/GuuucY8hl3G5D0bSoan2RgJd2bKiQAE4ISkftBQwrsf7m60R1kr8H2Rm+RqL82/8h155JGygs6Jf65kywOmBfi3d/u9IUonHe1gVOkjsFjIO5356E4p8SQ/Vtree+0tk7Q8oXE6OpboTQr3008/jcXCKwXm6vkuO+3i8x9Hx0XFA7Fzm4PZNtjJfyquBeDz8EMPy+IFN5F0OATK90AqXz5pbrmL9CB08tIZgSqd9XJBiUkQF0zL3+MAiLLFRBHDt23XVu5EFnoqRnbHcEFy6tSvsau+LhZ1hmHypZaw6uQKPXKasd2Ogk9+EF+nIzqZqV9Nld18N6LzTz6wGMnjTmAOVFj//wZD2t6zbGPjt+NeHf0qOvUKfLvAfishCupFTsW1RdwlycWsFpio4SR1qfz7AJlIeJqJbZ7lf/6550cfCscC2Hgs1nbtJvWIJ2r4wXq7mO1j84Cv64j/rHPOko9ukqiTfHyddmcud97YYPJOuEMZfk5+ygksCcPv06BNg+DbKfCadJk8QJqJkBNKssBj4ySO+eedXzTA+cjJr16uDYB05NFoN7gurQGOKtud2i5BLgrrVJtb0LbvueseRIlvdGETQOOmTSXp/AAm3wllMQ7uzOIilzxOvteHSZzwgK75V/7ED+SIEdzde6vk/yrs7q1yE5oa9IknnpCd+oxr3333lUUKiYs/kXyWfdeuXWXnNtNz662YPMdkMuXZ9sDJNQOedGODjUul+ZhzSQ+UCIrkK5aLPDy18f33P+DDs60wiXCZkvLl4SksdZxePPhQuVaAunYw9ODSmKAr9QwePNidRsSgtD1OWmBQpA+NbKtvK2Qnpg40SP/nff80gwffKPWfi7OhL7H5Pw7fl/t04qfyfm/FZonluHMJz9MYoF6JSRs+ovfcwlZc/qSJ3vv7gbIIwx1Kp/Lub1fd4vrfCfWJujY8ofxplHJHF68eugp93yKfqPwfxsBL+gXI44BcDNsQrY0Gfn7HkTuvOGjlY3fyMZ8YRLuBLOsPr/kJVwjCAGU7gI3Ax7cDLHD8GP1zBK6i4Le52G64OEBdmz42ofyYLz9eWxenW9bHAhGLbknUf50o4Pvabju7maWU/Mdx4uAqTNgy/2fLZhacOMBjryilYW+v3eSpaXkQXzb/PFXzxOOwVxDHUeizuenFPzab3huAatSxZzAxCH2OfzxRsRMWy13VCWyAuIh8IK5/ZXvnKb5TTsPuxJKcYM7I4+l5ftB+RexOFV1IZSxPyngr7LiRXHAEbQB0YVPoQj5ejwBmXaMOZ/6ffRrXimITEZ9s+4iTNve7uZiAPtDwSsc2mJw49TRrFzChsukEp7uYf27i4Xc7NHUSMX44ic4rZfnwHfB7hdnyP/Ioq+8bN24i7V8jEdsFbZhZPpa2i7ZhiS3kn5NStF3m43Q8d3+eipPbfOLJOF5vyRMu7K+z8h/BtyMGDhiIELzO9Qw5iSMR8AdiRsJ+vi3XnwX5ypvHKCVywZSVr1TpV3gCDPYvTwjLVWcu0qAj3Thhxx0QLC1tsrL+ctcmdzOn9cVJcfJvu+U2LFBzExvqS2zbO3mOO1cf4/FHZ5xUjHViHJTfn52B0x3N0PfTBtCH7azf1f1wPU8Ns8+++G5Dx45Ksq6LhO2f/d7HEz7GjmsM9G+7Va4KVGYuPLFM+D45GctbCmL5ypdzwaTl79sGipH1V26/yEYC/1Gon7xWnYs2HBPZ8VKW0S5+cvGQT1ymDz8CPY8JND7U8/sfuD/eXPruSOPpOZ7eYvqYGTlpSxsarLE+Ezvt5J4IkcbBFOkVgiT9P3vnAahFcfX9vRRLVOyFooIgGqOxI4oCtlixt8SOGntFY1dssWDvxgYqgqJGjb0A9hrsWFBQsQBqVLCgovf7/87M2Z19Cvcqvnnz5mMu7LM77UyfM2dOSc9G+VxQpDV7OtMRUNO8ZZtYEn3XRslxCyTTCKY4SzSIKWhf2bXbyKL4w6OW99RiPlo76DKmUQZMdt1p12xbSYNXOWUy5espagftdxAW9G/IkDLjVkjj0IocUh9Te+VnKK3vxqVNVLKM52/2RvbI2SS9gHYDOwekmcT4Tz75RHb6mWdYWrO3YkxAlREt2JvKCjUj+28+NgUG5jHUX5VdgG8SWCI0LS2p1rN0KeIjIh0vCyywgK29ll7JvP5GvOKiWYmwAXrQQQdVVWLE8BGmRo3zx1+k6QVcPbim6088k8DSmTK/OErgE17GFeLlsFeCCBEM9TlY9JF3331X86+F5uG1htMQxV11iUJI3s+ihdDPbeZpoyqnQEI87G+dIeku1t+NN5ItQrvcUJiiputv375a96Q9Ip8YIbkVdRfhgqiFRrqJs7u7fO6okPsdKE73Dcpzx+Ox324vbRIwpcLca+fw6qIqenVtq3081/Br5zLNCebfRedflJ9b0ljA3Zy6KTOYHcHLkSavdDAAH6O9kvV3F0mFwyzh8K2uUr2Hx/6SRNtww8BUZnnIz8dfoDmoruAWwots31b4tJ+mZdhUQvqccy1SYy4NRx6PP/6EJLPUT0IMjOgbGQocfmVZS98J/JK/f0T44Tz0nc5Dvy2dh8I6CuPlT9kC0prC5Zm7FP6vcf6wfNNMHZB+C1WGUufGJZ5wq1pR83GnNL+E/oN0KkRs5j/7H2YCkMprzvh7+OGHzc49xeZswzmJQnr/449D8hYJdOYTZkzAXXJXq1IWGAKcUYH5fNIpJycq5GrgvqyhSjb8keHZ+eecr1cxPdYYn7402PgU3g7zyBprxrko2PfcI61Zl4lZT+MvP7fJv7KojF+klWwfU7jRxOaQRGXcf6walY8kE9sDIv1l7XUTmpilKSJOkyYCaGKfiIENZnzwBmfGz/cRpTGa2Lrr14Sfj2vtuWv1EoNLQo+h/zGbMtssWj91Fg/0sgK+V4FLSC4zcBtX0MvycijZgYeIprqeM7J56vhbmW3lt6I1RX8hJ+g/jF3o31ZmrSPmlF/a/kbjy/f2GvZna8D3jJCMeu6Z52wc7SlceDNpDKleKTPRKhMaoFSVnnu+zjQxptGIc9xyUPBNM4nwB4q2d6uYF3CX6Kyy2GLgA9M//+dtrpjsgVtG27Bp/cmvwNU7a886n2zNmQSpNGRw/tpFF2ustYUrGgaGhT+KuZEzIkkNb80vaosU9lbR/hWh1ZOoAFMRtTqg2qciCZ//RfDLF1hWsbzvVFF50HP1XNJa4TXxII1/2i8PvDRso78Hc4HF4YZF7kAd2HIbKnXgMyiNE1MZQGj87W9/G0F5jgbKuALgXiCboTcNkfjiHAb/6ykabH8Sx6uq1lZcB0cffQylMvj4eY3VONmTTz+Ti8EefZQ4I3oEzohYmTxygFzAt00zEh6Aj50A1Av9/vcrZHNKWgUgRexQXjyYAIGbXESrNSVdAzGxhuOQduGF4rpWPhzSVlplZWqgmNLrOVZq1aSWkE+4guBeD41e3f7D4wZL/RHd3FrSHtTf2lgcXxhERLKmY8eOVaUouCUbstskzdM6iqbmEQWfA/jYseN0a91WqnKk+k650/8gbOiZpo1zrnn5e/sbh4EIGcAPnFJL5NnmL4pPYbeIF1irdeumm/7j8+DYHFJfJBsXd91pcQ89tJ/0qHa09jBY5CHn/X/cCceb6ihsaRhXu8Y/RC8IrbjTxOXz++V+b++ePx+hKI22iU7QYowHUhEmRmqBAZDXn3KHNCErnki0DBW3DO2PGotNN9lEBeOr2p2mjeNpjU0iXyHd6djsoP+No1Z5kDkSeovLqGQAVMD/avJX4gqVdJnSLgOxXtIx5hTF2z98N2Zfff2NFuYd7BPOITjs3QX9txIfFmSMQC4nrkArkEcAJMXX7x57CgH4ZJKQill14aJNSP4e7NHxAP6nOlBDgPpExON3RLyBU2yyuANxcIhyEDSn+DbWZfwURAw99qdJyiB3DsB+G437+7zzLtCYk9HF3TTWdeCgeCAuJk2lsbimDqc5AVzfN6gP4cDHsUb5xYJJSro6G0ltHSHpCJ9/xDUJQh2U6D64X129T9r/Ntc320yxG8z2EPZLqD8c2nA6MTcWbttO61MgRpKvFVj1odwKzp56+imTLqD+R4toyYHPnRN+iTe3DqxIYq21Vq9scXHdaVrR3JaPx8ejsv/rjT/j/oY4ooKgDpULrLT+zPW7/nGXJceAaLCTAsww/0nn8FEZQlzW//4nn2RSCJQJTsmhuigjJpePzMmS8wwsBkVJPIjon/bLo4CPHS/sjHwq8XrU4I365wvZi5IMoP5IkxnBkYarM/9iZmaXa2cdNJsz/h559BFxYp5j42/TPpuYikf6ETf4Bmytsd6KWAOR3Q4aAT7EAIicSLPB8T8gma/j3h1nTB/ATwnX5Mm6d5fUHVGNw/odamtBowAw/vUIfR2axZgXkLhcTOvFJWprc0qYjn9U6bDX5o60sQJIG4x5601Ty8ClqjkPt98AqLL/qStrK+uvSZxqv4pZqrOUJml/R3Tp1yFIZzhhM7/AYi9JuO8Mri6DdQGCnUwybiNVt3BR9uzV0+xcICubO8W3ppGHHbw0B9l/ukitBhIDVS7mj394LTx+jfHfqP7ezC4MfY+MF9xekAgOlVnhAgsJLM0fcYHiIMRsEaVv1uixutaRo1XO6vlHXFN5fM45ef25ONhYRJffr7Ci8KbfEKXaCf7frsR+lOau/voddqipjqANrUEUTvfRjYy347W3wvHH/nvxJRdZlKT1LY23vwFTwnT/wb4kTEkkNBCWLzGZ+Y3ZU08+GfBCBR4lXK3H6sLV9O52qnhHvYvZMdT7FSr7XXcKL1AA6nS58Erhs/7S/wAEr2APYj9lXzUn+EbUE4MF8JH66NixUwjjGcsX8KSnrCy33XZ71hopfsHPi6+oECZRRck+bqqMLT0qZK5S+1JGzeHDDsv3cyWP7UpIqP8J4hRHdQtz2MooABAeUJdK+6+woiRsTj6V1yr4o/45KjtRUljU/wAnaCTzz4kklNsYimDISCoQXhMPiuWf9ssDr/L4+1Q4wYQJE+2gjTT1iEdGGv5F3ONFHOwmqRB31o/DAm7DGrWY9OFTHlwA1ai98+tsByRI5bGI7ONiP8rHH3HT9e9J7Z03ybYQmRyjMwAG1NP+t4TJ+mOA9Gju+YMxNWbMW6YuZdB1Ay059f+b1N2guhJYp4oJaAXNsRhYBT/t/5M0t1eStLS7oKZYe7DyxOZUZ2MiiQ1CpNAo8ZcPXsvtj30IpOtYf7EbxdjJc4j9j4SIc15jh5BzEHFCu5JrGH88n5IqTC5JgZ2fl/R+2eWXZlze0P5/PVUc+8svlxePHMwpHm3iF5DMv8FDhkaVQwFPQ4KKhKhcPgICUyysvKwUPB+QZPlFnI3k2f8kV68uteU2F0RgERDslhaaCxSVPUS4GPB7iPudtbJW/9t6ZyqvUTUc52NSf9qRPIB9/HE6S0yZbOOU9Q53KTZBsXumSXiqzhLL+1mCQKUhbayS2VD+eOIkC6hJEAmVJiVJrRRFahG51K/G+KXACy5E2oQLzqL/J4touqP2ONIsI5VWqCpL4af1z8eACoe6QzsHNAE/FuoX7b/UKcX/jPGg8gIrwkdlK1oIkA5G3aG7dP9bfY3uZjsqrT/J3x0H/nQQrWIXEKin9fb3+j/99NMmSUC+hx9+uNnZMxjNrD9nC+y0oJ7z2GOPr1p/wRXuvutugWs021O5DZM4/wxWfKTjj73e14NQlKRAxI+f7Amc96jY0ksvkw04U8xZeq+IbR5TJJWM5hHc0mrPAUl7pusvEttL62LDGyuF3+/wfrIt+pYR+wfp0j0AYi+THcc7dSbQIAMftbWGhHI2b1RfH3/st1MMH+0k3D/MnRAzeSYVSOHnMTzcfnlwLhuW3XDdDQIozRG61DWpRE+gKMA3VaWSxGD9WV6aY07RpUAthzoxpKspPYyIe8V34nKmQUUb20dYJ8RMQ94CUIl/W13Zt4V/XCRpQEUzd7lUCt4tNYM0IMyiK64Y9wn5/PW002ytJTKMJx0WW1SvXuGQPv9M6l85/h0WtsewhQeR/mOdh2C4ednOQ7IVrH0lZcAI52VJqihf6GEBr6R6Zfi/xvkjxf9jrfIfu2hkPxDk1ddYXXs452SvkV5jcWaU/gNAZ8Qmey4UN5SmCc4ai0nrAswcAVS5/niiQhL8mPGGJppVVunGqxWzIraV18c/MH39sffkAVMAdjwnavyNHTdW9JFHjIGOUhynPSelj+SXzgKKevj27TVOKBdz8S6NT3UiKmQ7Lt7R1p8UPmHgv0ggGu4LTSyeDU1SXozdtAc0FzQ7eCvkRY0VTM9fg8Vs3Sae25pT//T8aTQxaS7JXZIBr2gEeu5ZaQRSmS4XTQwbWZQvxf8vuugSs6OEf5LcsmQ8GU1SX6lWKM6CaI3A/XYZXeayfuKSDMJrGf+0fVJ2AEM8ztJIgmGLt8HOP4upPVWMwimTtP3r9T8JmqK/WJl1ocL6wzp91oAzDU6t+c/ejuYV9p+uUq+PKtkQWQWqgf+GQD0VfMqpqBAMF1hniAa47LLL5cF5+1jjNNpaOXHiJ9msogHeetstFpzTutQSqA0/Svi6t4mPv9CAonU9KVrXzQG3PEb42erxfAejF+sv46/y/J+Of+4K2P9qzT/MCb355pvGJHldTr8QUzj4mvBWHGp7l1122er6yYcqIhGMmlH60Gi/cZyHdiAG8Qr8y5rFfONDHs3tf0uRZBBeEw8i+Kf98vjvg68xwiqlmvmosWoWdQ+fSYTkNUb95T8xr3vvuU/SDbrN1zfIJFyAZTDJl15tUEYifU3ENpaIC56HdJghNeL3v9EFFm78+PFSibCfrQ9Wb0aNOHIsosUo199uaxXH1J9ts11VW8Uk5R8168laUDG06aW3wStQHCRQ2dWrV28zTJ9HUA6BCyCIsZpdHCSw0ggxs/yQplA4fJ1oRSEgBJhdIFVuU3EBuCoxwkpOeWFs9jBd6lB/9CDDdY5LJXku1eFzUW185rwy+jDxYCH3OPScukinecTHwerPsTokoHIIOw7uyhcAIjoeKamXxLkKQbzs8NWpcwhN4Ht053BDAutYXXBUujN0MHtSOqtpf+9ke/O8avQ/6mTgJAU5Oe10qTV5UmLQSjRYyG9NHegRaK4TVt+Fvt/KEsXvHL6+lXfKLYAKkeVzUWmPqHjxFTsVw4ZB3M+kWuaM7He/4/KonEe9ufG+7LpBpNIQtUsNOOetaSyH8EggivNgl+zzzz7PFpT6sWuuvDqPW65roS4xySZ/PUUI+LPPPa/vRlNZAze41wVDko89IRVvQsTGSAXFN99840GW3ucf7X/8MbrA0kHQXTHWM7vwqzvWlWDMmLeFrB1qSbkk3mMPjXXliXjw5lvqIkmVDpepf8nh0ydsmiAdpn6qnbg+SCNiCPMF52nsIz4CwU/c0coJFXvM+UqXI+DKe61e6Jxnrof1aV+tTwJjLq2/1PiG9ieQTkocnI/bmmh28Hz55Vfs8AUXVYgenm3atLGx1bNnr2wVqb0ytagOLOaX9n/eUYTFgJygKa8qCTP5MSbh5qT+1wohmF9SYFUu5nX/fVKBdmkgOLFurbvuugbGdO6Ly5z6Xy7Cc7jUUS4VZa3Kt44HqlUfllQshzMQDRCf0DDKMFn/6Sv6rACTtEbyChiIzkiQ4foIucbuWD337rvYs9Jck7O4UssR4GveJhKvzNuysV0OsEIUJe2IUV24qVzVGdK1tyB+L3fiCTogIUEbHQSpJ2zdczDUiArEb68LEyvWH661W+Gg17pH7Hrj3zJJHqhzQg0fxk0pU7Oc4HPx/ZTWVuBz0HBJUC9ayCd8YVj8uaeftcKn0q2+Z1LeoBoqzCMvw8tSO8Ph5tup38mLvEL9MaT8e12Y9erZO1ul28phHlhoZrYvWSNxG2wotQL7HxhCygULfjWev8b4d0IK47+nq8WoAd/tYVL/ExNcgPG9hRB7khjB13CJpLCel36BAUPCc8JXcB7E/tepc6ds9dVWz3qt3Ttru9AiofFiNowx7EHggE+6whlZKs/L91/GWJDSUApPxG/iHD642r6SdGD9ZZhOb/3zrMgGTtegpiLgMhiyBj5cox0k5YQ78wyV/QmVPRn/FqCHw+c7XX9naan5cVvACwhL92wO9dVSAjpYay9/VngS8FHbm+NJDkS/Bx1yUDZu7LisrfAkiF8eRPs+9oRUO/6M+uftq74zPAtinMq6pl3uJniWA9Hviy+/aAR36gRHLqpQnE3QLgAAQABJREFUiy4JtkOQwKL9a9rAImEzHHvRY1JV+egjj2RvvaW9XnYj6rU/aloCMSYU1GxPDdEFlgpWD7dhvGBzKrja448wGyt5/cVFvOtO2XbbbhfTlfu/9KU0zT1/1FsTWRueFKcu+BcEXri6k8a2MnjR0I5wkS4/6H+zPbf2unncpvbgvDL1XrwuIqqw/hqDTrwkcPgkff+D97P99xW+qEZr7vwjXToHUU3zJHbeNLKZMyVJnxSYYgS1NM9ak4SLmznlK1XP4Fx9hHOpHLVwLkUy5+shEXMbWAphPdxc6yGudAEm+D/pL8Xn0suttP/zNcMGkGWVP6q9wvjzswR7KmquuOQj7vXsd9hTqqg/GeLFnoV9CdYftCyYOvIacYlfyzE+UE1MEqSikdBL3fvvqV8P0B6njt1gI/a4gJsQpwwmfMGB/LnUQ6KGGGny5rpfsv8Csbn4XyGBtZRUOp6dF6s5+58xAB0o/E3jf1vZB4GJE5fW/6lnnrJLV8b/4Tor99Y++HMc51O0enRbDRWNxxZJI5AzThee9hT7EOpytR4Ih0rhp6XBVvPFqDxUWWBSBVduymHH+0DOe0q0wQaoM4397ED8N2aEylVUfmJzJ/RziNCc9ZcsWPewzTPffPOrPgNjrtpvRfh9/PHH7NvmisOlYSP+6ZE9yPBRETsbEAnDeUD4+tlP1Kwz74AfGAs1JyryBJ801c2KE9YZ9kxSyCVxsYHK2MNtrj3WaSd8B7wIlXAFec3xH8LJjfU/vOhL9W/dKuDefiHylgiqXJgy/9dfd/1wzlAaVOKxtmKnCFWTrl2GfH+Oe+ftoNL3n8+PknTtR3aJ7+m9aHyD/6Flw5wCbB2OjATTW4d/jfNHDrRG+zveT5zplWNG6T90Omdpzh/ffTM19Jl1IAxxOkOITtOrVy+zkZaqH6Vc4RwQVAMOlHaR+eabF+/gvJH91/31m3pN/e5b2Z99PBv56CPZ229GnCnCT5JYC0H/yi+wFOj4KdEhxnfo0N6SnAVe+ZjWHMtHjzrzj8iO/7aaRXi7qfJmH9O5DRttcvl+bl/VD6ODso8JWKr6Pa9kWtmY3L3I2+kvxjy+rJjHKXMNd71oYth9xCEFtUykiUHLrIX/V8JPx5OrECSv98a/lx0gFbosUxuuX6mGnhhlx/qJikXO6Ok+aczlN+kCRs7OCtIEEdpfHhV18vpb5Lyg+ooBTeF+0PjMbIQSoNY/X/NDhuVsleeuu6vMnxVlbgq+Z5PSAI2ptJ7UkRJAw3juOZ3f5RBAmX3232TjPxC+LtyyOeOP9nf8M8Utvd9owsrzf73xb4XwSur3L0dpz5IEJHsve7AHQeNm/wf/dunByr6yvPQIOG6YE021RSX8yjwdfsg7+UpeHe4v/vW8/DfJqOyVfCWvSfRf9up5+W+SS9kr+UpeiR4usJKE4bUiFp41vCyu+SeB+Wv+kictfMrZBQmsSy0eFx7rrb+esq4/o0FsjctPcS6DsLmobto9fg5EeuF1gYV9C7z8AotcuWntd8Thqrw+5PgBPfKkoBzh6EFocMQ13e+Jfk4LsUSeUj75q3LR+1133SXOw3uzD3SwzoOIpoK0atHSbvad0EJ+geDAbTL2jdDTHolxaWLFyw9pyuikk04QJ9YqJDf4plZNBBFqgcgkahapd5qFv6OjHKI/9YdoAfGCmGGxFbFAzogFvtiaT3jYBdZTz+hc9pMksG4PhBnPOELjQjK9wPJeDdInOozKpZtFyNmNrV5vn0Yg7yRE0xOHSB7VVBlME/cEG/dxx+oCy+LlBTGi3igRrQsf1VBxmup/7J8gKt6/f/9s1PNKrwPorbfeEsXHYyEs0yJnOBMxrAriOtgMVs6Vwy1ilfvCq8Nia5KFSoGUxdJ1pB2If8stw7TQXmcVOeWU/uKuDpy51+vAyuYG/EuEsGCY3uH6bzr+t922OLR5OSpLx+b3vojvc8mQJ6q03Nnm9YxUCE6n/4kL3LMHBJtwdA2Xb+hA551DwHHitvtI3F9ePp9/IIPtpW8Wo7ITPoKzocG4gbpJ0s4dtoEOPbQY633FjVnZ/57vBxrr+7pdKBkXPkCq13BsgK77OBB6iwNLvgEqk0svLxBA3zQZSD179hA3b5SUjMCG6aB0nQ5KOLcR5eXAj/ecQK334rKa9ekNM9ZKHHeMVepPyvCMuQk+7Y+vqerbdbdS/Znfg6VPHsI0dmxIi/Px36lTJzM22qGk1zfmHaKGZ4WXHwTJ6MILzxNxpHMp3klSZfa8uPpxt+lyG7WOaRbpO/rezxBCjB/9g+g9lfC2J49U+o3v3FlGSW75a/5i+f79ttuk5vTaqvqTDwZqu0q15fNaI2gfVJ9wuC25IruS95i33pbdj0Os/Vlrpzf+3o+ME2SwifTK78MFVnReV+Bfepk4KiOR3cMf12HjTHG90v/YH0F6EN6TPffYSyqAJogQNq9UygzMWmpPCZUM0jhc1nnR/Zc8vf/tXQ/Wfw9HrdYssvWHy8ulwHT8WyAPS9SoferIQLQQMda4bvPcinw9/zyZXlhbaXfg+3pbpCBmdEp8zrnnmjQmbYRtFCfoNTZKUinakltTUstHmtRyAY03bMKRBg49iOiV9e/cKcwD1hvgw0HcT8QDXHlemVfxMDAFLK/2rzH+8zVG0Cpt8+UFEOgHH7xfElgiaskhRbOKbHlRh0CwLZhhUqJsUmJLx4PxdLfhK/cIXwnrsQey/rTQHP6TpFtSfKX/iSdlo0bBpBNXlphxINwEP4flv+R5y223ihMPNSy1XBGTvQoiTnPWP8spJt1m660kZbu7efmeSBAHRy7CeT9JY8/nRzr+ff8hjrsUPpdvrYUX4LCNdfPNQ6z+ZTwpFkRxkCx85plnDObtkdGnCLVsJIGV4klXyDO0HfODMqbwCaGMFkcD2dd/yyl636Y53FpzmDHkxLgUz6qEj/QpnODkvd/++1WpRgvSPuxn2FtKiOGWUZJb/pq/eElNn/wJggGnd+X8Y39g7v2gvf6jjz9SOaTKUHHzvV7Zoa7xJhEAKGO+RhqYAhbqPA8Ht7cWCm3oof5LO1XC32brVM1tGpPYcolXc88fviZyqQ9Xp2dBnz4/KvRpbcYvjymuU+2NEIvo/72ltm0T2xtDkYyIIYYq+j/YJVsiKWeRh7/5b1od1nfsTDL+C9uLacxwXjpCHKpN4R9WqpiU9t9qa6lD2203qzdzzfdXGCSYP6F3Ql3S5zniWoaZiaxyySN9YKOCCyjSYXeU9g2NmpRXrw/ozHex1KuzJtHWK62MdorUVqLS95SkfWQYAnb5ojfmTYC7CIL8wlkietSZf5Xjz9eMfM1RgdBEEFRRORD/DXkjTTRy5EjzNNuvbebyCMWvRY1lwTd/FaMY0iYVF1je5kTLCeR63650DsgzIcfg5IVtiPfee1cSCG1sLlqARU3i56/5ixXp5+6/Pwf/69t3N60tn5ltmbMH6ALLKtm8/W+cmCsP1NrL+N8mb4Oi7NQRCay/SosJ4x+7eb1798Y7OIuaxM9f8xfZXfMLrMJ2ShEamE5e0BqPH/sDNmN9/Y9Q8n5lPYBQxvqPXaRNNt5EUZPc8tf8JXtDe+gRXIQoM+/nIjSHkL9gE4XLzbnUz5wdzClBc9ZfgKCN4s3XR4uZiQusYt2DuYa5g6tcf2l/L1Pl/st6YerPffBaDvFhiTxlkkmeW5pvkFwAHwD+hWjGqLjUJVdU0wX7xsnFSAIiQraz6+67ibai9Rf80y6wYrwU//Ok/kv6evUP60RrxQiV3UfnIc5wc4jYe736ArvNaM057/zzLM4+e2sMbLpRHr+odgHN3/xXkbNbxUgzMKr+wz9t/zZzt5FNxiVtvSZu586dTZtRLFJOo6KMZm/oSPDk2Dk5kF/n/AF8c3m+7hHO7ZtvJolatX9gzhGtLI+Xv8ww/cfhfyjJNC5gOENge8zqnKz/nTrpDCF6nTFaxoLYXg/+pticb2bVvocrSmefFY8iFPoIeNmH48GZyCVg2swR7F23F0PtDz9MFc40wfIoNNSEPHx/JyX7O/QgHLZQoWnhiJn2f+X8I47jn07/MvMhnO9V/9tuG2a4JvGKihV1cJoYPhD2ObcVoZaq4lGEpufPM0VDwvZeyVnUEB9GzkEDB1m3nCJNLpU0MWKl+D9tkrqCDlSW5OEM4vjPtttijzwwOVjaBL5/Ywfrfe2Tc0lSj/UzlK5SKEB9AU21pvMUSWCFV1P0l7dEQ+p3eGBWK9mBjVlWZGe2D9997724t9+gWBWtU5kg5nPKyVIh+Jwz50mIoWWrmLRI4G/Ydnzs0Uct5aDrdZkrmoXRIrU3NXf8+fjfyvF1ZT6983+98e9litWweQvTBYzWAwcNlHeov5lJEe2M8X+zxtdsswW6iKcLnRtyM6aFxx63pMEGVhuL5rD8F8/0Pc8rf6kRWsPLopt/Epi/5i85rMLnvwe+LrB0LLBFOLReWklvT/fzX/z93X89bvVvGiN995iNUiF0nxaWcIF1oLjZ/7Deeh5ov57Kf+sNylIifaBG4gERdxhRqGcKqnAazK7FnnvuYf6dRazs1++IDBXH5M8moUbRmw9hcf4phL0DlUXziNiJ87L4r3nWfIQYICGjR7+avfba63Yo/UZcNAGCVO8Ifu/evSz1j4K9hakVK7imHYb/EvFWEWQHms5fXWD1RwIrXGAQhlTKwZJkQD1S99VlF+oY5/pKcyBmJsLK0+J4PM3qv70MiWNIlKlLG3OZQhkvUd+kFyGkIycTY5caO9oGAnHOWUyE6A466MBs3Lh3I2dxQZgpiHNSfSXu8iOF9OK8hM49CPzzRDBBPYqHpfHwg3CMYVi7wKqSwGo0Q8nDhw9XVlIFdNwJWbt2XHh6btquNf5r9b8R9VW5c6U+asSI4YoXOBlBeovUoRcpE+7QQw/N3n77bQsfqgusOeeaQ760KM5Tha/wDPBpQxvXXD4JEOqC1l57bYviqfwXz/OkpxVEFnTmQtNv38nikge2EYh7hS6w2ndILncj/EmTpPpgj76KIdH71btLBYD0eMcipjAsQ3lstc3WQpK+l5HOxczOEv7Eg0P0GYkPk/aiC2urmfQ6I6Uydtw7gtjCDmluKBxD2qNHv2Htj8H2DTfe2NQaok5hQemtb2jRIhs+QnZWzjvH2h8CGEQtL+fbkqo59FDUZTaaCqBjjjnGil08PKbG+rNPq8ynWRA2TXbccSe9N0o1W6PsWARC75o9NRalys8dqt2GqD0bNHYulQpBRwDdcCTtHy6fijSkvUkXWINF3NQx2lTshYNSURbihDkgCQmNv14iqEBgJsYkqU7kMESXdJa+4MOkkoM2ZvzFbsrrH3LE9ychhm1yCRZ5RBdiYPR39OuvZaO1/owaNUrc728qnHSNZsj3Io0hLgxDbE8bft3Pf/F1CcnK8ecpOWCNeHiE8vtJqokuzjp27KigNAePyWX1LSK0SF2ovI6UaPiaUuGDCxy4NysHVAJcKgJnhzr1t+h1Ho1SDfiSHQIMC1Fbr7TSSjZWukpFyiKLLCxOoDmsfVET8bHavovm9/noQY7OS+2/ePs7Rj7RrUznoOIDhKfsPGaWPfHk47IvcKYFbyppLVQikBP9f6MuhiEksv+gOiQcgkJO5DBt2g8yqryzGZHv1EkqPTTfIECBpDI2NteekXKAkhLDug8Pf0hvXPweb2pcOXAE5+WqXv86aH2ECxRXb/wXqcMoYh6//vobOQdTgMHTY1a+hxjnnXeupOJG2PznohcucS9hiFHkcIjW1ne0tuK4jMKoPblz8UL9cdWcmGX42DgbPXq0/r+mefCCzQNf/xfVmnO+2rV1y5YZayQ6vakd6nn7o17NvoBSlCn1CyHh+WuM/3DBLeKXsuzZUyqvRHD1tnG4/P5dxtkxNI/jwOzS2KYWa/M+8hWhwZhhWKM8B2LjQv/H7s7raPjKa1ovxJX2xFNPZt9KUkbNbKm5UOopjlNyCnvjCDohjDHbWy1XrfQtlB+ljzDDKRigdlkRxlht+BZJD9T09GUtVFoMrkOIw6X157KD9S+HozcOya6nPmfGUR7G8BQP8aiFHD4cFdMNkl48Pmursk8P//P62yWnGgyowci0JFgUWFsqSAbepWIFIijrz9+lQrCMJ4X6H3JwuMBaRGW4Uiql3DGHHxLuQv2PO+54ESzYz5uuP2WkfSHGbR4vd1Gb9pcjIqOFA4j9//JLL9qFEfU/YD8usDZMYkQbWNdJAku+MBT5PPV+yCNXvRQxkLJ/XXs9bq655sw22mhjI0hgSH6hBeNeL4L9eVFtFXv9qsleX9IKEIkxRe4BMDbrWAfxX1J7Z7/DD9Nb9fhLW5D+n1uXAzAyVOZHru7nv809fxypCxb23CCJMCjPib0FSWDKhXruxRfvpL4CUgErfInoNewW2b66zvr/SNlkRU2sxzM1MmKSIS16+2sRY8s5eg08d3BOqekderOtvxC4ypK/Id4Etelee6lNlRz7HMx/zyn8Uvjy/NOozuaea261KZcuwuGZayMeVnGEr6YXoIpH+6f1Pyzi0OSKFoM5NFZ4d5xLrznTm5cDP3e36SwCswrnnxP7n6D1kAt9gYbRQQRP3Fp+ARbhiyprF72Mf1S354yDpNN/4PN7vq0ZOgvonfHJmlFr/aH+6foX5qPwds1nO4soHNXLqOeqrD+wcKEd3rGWHTJksJ0/PSwtk/uFVMVzmC6wrrt+kDywkQaxvpO9eww/BwC/h1RwHS3c2fP1OPzix3NrXUhywQxufvEll+RtUg++JSvl2Gg2Rpuz/5K2ufgfkpNTRVCuVHHenP1vnFRwHSgJLM5/XGDtLOJkZX2e4gLrr7rAUkMcLlXJvXv3zmtVq71Cvf2p8/wWOp9KAmu17t3EYHm8B8RfzqcXZCPYh+RzoVR0dapQle0w+L1FEgYwAPKOyvA1tB5UljdmHH8ahctgw0e4jPaQ1buvYaoUizjl+ccs3lbEQZgGF4/97PCbs/6SL3NntIiBC+gCa+Cga+UTSnie7J4Mf3gEUYQrHKdzeGAWYvzVOn+HVA1Sq9s+D/e6epn81zKt+UhjpIyx9eefMxYCC5VUhwu35b2ck+y6CPffbfe+tnZV4t/nCq8dOXyk0vykukaag9q/Kfy7nXCTFkk9mMODdOHG/g8dB809MClhexymj0Hak9tofazvKkvdYKrSaX9f1VZccWWb/0vqPLSwJMDnkN0vXFDlOlESWNiFOS+vP+fWWkwxlih5/BrnD7LzGviv+wWmAy6w1E+yz2QMDQn88Drj9B+H67+cpV/TGeJ1/acf0Bpji4MAsjay1jqOd77a7eGHh1tRoGF06dK1ooTl+ecwPBI4xGuaS/Q/9MeNN9rI1LhzVnH6CEwO50aciXNezvSjTNjfURGMQ41vh6hJiXPX8OEj5AteeYL8hfvypcasR/9k/YMmBl5peL/w0nrnf+AF12gqNKGJsf7c6JLEHqwc6u1/REnPn6jiXGc6NLGAVwnHkAv73RJ6S5jxBT/F/y1iAt/GNTacVNH0HDmRs6DoxdR/DamZhsZEW1WuCeTHWZQLo++0fnaUiuugOpiY6ovB6gvhWrjLcibV6defuLVgNUV/mThJONseeyntT6ZqL9DFPCdydacYWvS32zaUeVHtPZdqD0qdp/Jfwvwd6TrT2qF6o4K6Y8eOadIkptSkS6hi7DvjbPzAuNVS52xsG++hcrL+L6F1pp9ob9Mbf6ElRYvX+Q5aPOWY3vm/3vgvChna/yjRn9mz5pX90+sGDsyDuUO4XwxRzD9MrWAfHef191/8EP5A8g2XM17lMfFNY/ON+2X97zn5b8ir1jONkb573P/b8DVWmJa4WDn7SSua+ifxLM3Pf+Q560V4iy0C90lCCYO/fJkh4T9wgeVDtRo+ixoEYkpelzNfOWAXAgPnZDVUqke4wCK3aVpctpG6AKSAFpVI7WUi9P876/+tDL4hPXO3dGu20Gaw3LLLmm0lCgrSvdXWW4pg+aOpNzpN3LtWgdgMXs4zzzzDDHkqsES04jtXq6Z6txeSeLkkR9yl2dD+twy7ObteSJCGsVSv7J9thFFiTVYj+qiNgUf7dBCnR+iSPIdchSA9FSSw4BwrOySwUNPQdmHZdrjyCmt/4ru+Weq/lg6MRwhJLOoZEU1tvsC3g15HbUYkzHPgPbgttelM44CABFbVBRZEJkkl3TRMkXVZqMN3bxHfyMbHX8gl1st+4rsFNOoQeH12i9Kzuffrd6gOMGuHJBVPptK2Okx9J4P1OBM5RQ9q4vKc9VIJ39p8qNpc7U8+gdMjpkgTqiFQhYdKPBwHPYgvuECsG2rv6DzGYH3qyOZHqR7gMNqc8f/Rx5LQ23sfE91dUZysJ510onKwjjBVL6g44etwEdKxK1PLMba22Wrb7PsfvpOkyDzGFUr7f6t2Qt86l48LiIDF4R790tTfYdBRcC5dd604+dT+xx8vuxjdVsvBMNYP1WUtKSASpGM9jxRfuBSlLzkg7LuviHSySUfZAyIMAZyxKKlHU2cZ6mhIhxBAMXmJg6mQ9sxtiyhViuzo05xxRzN+VTBTudQJZMo+Q+vJn/Zn7LKQpRzFtBP9j6qG9kIsL79MBM28SfIXy+/nPjz1q6+8mp054KzsS9lXAj6q3JZddrkIx2MlJc69wsswrRvXad3AlQlS5qVxqItU1g9FhyO+l9QV4tJsfPyjc3nkIyMV2iBJvbOzpZYGyZcEli514Ljn/bJL3P5YnoP8m+eu0+XYMF2SAX3X3XaTIc6trSAOn1x+/HGaGeH89ptvs85dUgmsCC8Hm78Y8Gkauztsv70hrPNobLOutwAbq+Gc8Mn422QTqRvcZ+8wFvSdI1rK3g4auQRWAf8SXWzdd1+wF8Xcvvvue6RfXXrMlf4CIVqdOnXUW+HCuieEWREOP+yIrFfvnjXbP6Qo4KTzr974L6CEN9Rfvv5GtdqYynh56+mF9ufikkM6a0Q/cfn37tVb5c1jKXl81764DWvr99+qOkGc32xgESMeqIEFwYHLtHouzznCH61LGtRp/OvzfylJg7ibped6ud+JgPNDtt3229m4WGABGaq++lprx7w89QBE/19j/NMmW20VcIHll5UtSxHRasF3NSWA7t8fG1iBmSVXc6p2XqtHUNNbWX/GTnAxxH7yWAqSXnepdL1+IPjKvfr+yWxAniYucBy4A2sBKSBso0plei7PWS/p/MvrZRHyWLZnsBY2TvtJF7AdssuvuFTZF6WeHiwPs3XEDo7oNI9MCAKBSjwIgqx/2O3oxdirgF8uFzkWZeMLtZdwQ+Jb+wIr2M18WpLqpHVpVBKk9c8ZfRaRCkHhSV7H62+QWhTND/YfLqt79V4rD9NLk86YJEzdD5eYid2fCvgvvviCEdoo1/4HpBJY1KxB+JPwRK3p9P+FZvMw7GdNFiBGmDr1uwymEfC0hRZcMDvv3POyNlKfVvRkgMOFTbAXpb1el4rdTCWqYik44KRDlEb7gdlzKOM2gGLebqvDOPVuL9z+csPti1IGKPrWS9r+5kFpLEIeK0TM/clHkvXNPH/8RYdiU0sig+zGGRxzM8K88Dzg/0V7I6p868E/+xxJrj/yqPU/9miWWmpJxQ2tZjgGxE35BAmsTnqbvstrphfgwzhxE2XRn+H54IsV6+/3whe325rzUqPwkbZmX2L6UKpDrxukdeKWuE5wCaC5Vqv9Of9su52IKWI0oGKmcmhOcbJSXmW71VayJxTPRqeeGpiRKqGdccbppr6Y9P1PLC70nfDK/rum8LxgtzSkzi96BcQuepHuMgdUZRR/ro/7FV7sV02tdzGT/GeQLh9u1ZqjpjTGpLV7945hKRz1hj633W7beJZoyIbcIJuPJoEV4+U51n+5OZ7tKOsFUgFml2WKrk+rz/fT1K+6tEG9XTvwzMsdz0xhhPePPvwoqqL/STZKxdBx0kn1AU8nJM9ZL/R/vf2XUlr51d68n3Ha6dnvlls2FDzUwKAgKYTEEPlWXmA1Z/977913RXM4UOnjmWvnXQQuL6XBe/qZZ7K/ivGtqfOfFajGY4stGbNoCOlmKu69/X38sx64RhlscYCnxV4y+PYei3T22QOkfvVR8xoArrzUUjUglr1+UD9vo/nLGG+nM9IV0ANi+1tZLHoAEPr5z/IR447wCJhjHX5z1l+yypmZknUPfySfILwy/5g7PcW0WwnfOrKi/R1+iJz2Dbn+PAd8bKsxv8wGlhimgov56ucnXXQb04cKZxfdMH3kYPOXIIG1++5WrCCBtUdeGJP61vwjXVPnn0r46fib9AkMGXtxWDQpo7332UsaGHbTZf6PWffugZieA23GC6VH1Zrh3Kpf391305qq85BX0KoHU+dPshP/R2Ncgony/HPF0GedpZmiNRpbhLRhXc0AwDG6y4ydP8rlooJWQF5sj0d1I8ViPWe/reVmlP7T1Ph77VWdpc86K/v8888FXmcIO0uzVoGz+Dm4wdTHr/+HP3gz1tz/QvVCHaeKPgLORF8sOL9wJjGpzB0ZQizz+DDJI0k64rgs7dZt1RhShs+liTOogLffpPEJ/Y1L+UC7UUvG/o+drXxie+fNHl7YB8FLcf3Yz3v3tvfKh9HE2Memaj9XXs54SLa+/oU0KZwcWLj0ifQXzn+77LqTottArAQVmcffMTi0u6ujr4f/V8I3jRWYhdD6E86RjKfG7Aed8bfdCnpZ0/jPRx99LHoZ62cW18+T7J1Hev6HGbr9ogVDbrmdi/qX/cklhDVFf0G96DbgwRo7KR6c56wXrz827/5sZdaaL01OJ53cX3C8jWOKNGEeJnXPJwe1gARjw72nGMBrOdaKbcQIz8XefKKTQDsC/jSVc1td+LGewaBs+PrPXP+nd/5P5186/ivHX75nmQaZgapCqP9NMh/Cvsf568+Sht10043zsLSeRi/QOGeu0kfFBVYay3vPouTtH2Kk7Zw3dohIWXKv/KWccTO/8tR68f7/vww/ucAqt0BeUfeuqDADUmufuRA3SeGv9gtqyJEzdR4h+KFC8FIR53AHixN1vfXWL/orRLEO9Aa3hUAECW5Fw6CsMGAZs+eg/eBDDxh8VAjOEW1gkRmq5l6SbYyGhhZmJBTOidR5CREr/Fj2UlbWxG4z7zx5PZqq/wcffZC98tIr2YILLZCtvMqqeboAQ5xoOtAj8WSbk4j311xzTQ7+0EN0OfHO28Zhfq04CWedddZS/Vmcdtllt+yrryZbGkTzVzGiVWhldBsfgq0fIRqqni7HTrdLshxAbN1vv/3WbI5NmDDBgrC9gA0GHHqiIczgjOijxcXbHz/qD1canMX07x2336ob9dYEWVmtwopz0MEHZmPHvWs2sMg/uIAEwcXDQhG4IcvIB1wjEHVxEOh+t8zvquD7+NtcHG6NP/2QLbfc8napFqsXy9GYvfraaONWI6+gYgpY5RFJGJvtXXf9Q+LzXbMll+oqdVxqPDl0uB8n7qefRJheWv7owW/RomXV+B8xQpwwUnNl8BX3Ri18c7WZ09qnDM1Hl2WfPxjXLvWGvSmkmsxWFDGUxNv/VSFMSE1BTFpcHBMXXXyxahPytAWbSzDBvwzjrou2rwn/BCE6L0htEO2AXvZUb3IEZy10sfLGDgN7yp4iuG8myREL1/ep0gltOvoVc8UVlpP0yalqE9U0FCX+qk1FaLdDkxKuLQ6aYIeqwSTV4KohYiGRYtnnWfAFV9FLL7xo7X88ZdUFls8/LrAO1nxpwQ6joxHqdpb9nZBHGtzKEdafqelYV2WuvOJK2Z8LY92IfDYWObAEtZ1eBWtPJLDkcckVUsmoAyAOqa0ttuDSy7mB4wUsHop7s4g114toQ8LTNV6WjfqYCY4Fiwi4LrCUwOFasB7HyID9K7Y+iUtbfbC4pN+8/4nj9Wd9Qn3AKiuvIIQt6tcW/Knfi0tMl1Rj3n4r21IHFFddEPIPtUO9xy233Epupl99vfXWC8HmUzFDlCSFf5MudG8QcRUH8azzEh31Fke54r4uEfa/iOBK/bss2dVUSMJxE1yAzzuSHti9Qq0bCCeIMWsyMQIHbliDLhfC1y5B+Lz+5BFyK/KMHjGgUQhZsEVI3IBYzKm38oykHeEcxRdJj/MuOL8cQ9mn9U/hn6716aknH1efBJWtuRpBK1IYfx9KbRaIPvbdaJM+m/Qp2cvKx5ngc1EK0lkqofJ6/a03jeBJ/bbddvvsIe1tHJo66nL0Ihlpz+tkcLPstVdfy446+khFD0wCQbWeouUNxLu+VBkuwtCnv7SMuHr7Az8vl/JMx39af8AddWSQpJxvvkisJbGVY/r7P7rljz32GEUOBKizzgpra6yC+fMYKW7Bs8XNaOucAs0YsNZW3I/a57bcoo+1v80jVENF+OiPZ/1/e8wYHdS3iiqbyrmHeXCL5XXIIQfLrsR6VnQ47FGthjtB0i+riADlfZLWHx37n306SVIlc2cnnHCC1fvXGP/AYm6wxmH4+OpBA7PZXAWJqsBSa7iACBpff/Wl1b+/cAEIjBQ02NjDBpZLifoeW64/9UOt2yuvCF/R5QIqCCtjfPft1Gw7ETR+0kXvggssKN3u1xj813QBeORRR9v626OH1HKhvtET22/ofxUuH2NcULdo8LUA6NXOsyDkWNbCl17OGlu2yC65+KJsMdZCRfD9P8RtNAlAcDUOYfMIVwvlaBQhRWr+tIbjwiUTa3iDpOE1P1R2IhaqJ4lVVMHeBeyuO/+Rddbez/7fgvUpwgdHGaq1kP3n0ko7fVawRtnA+mv2DBJYckFlHHX3kWTehoehzqrSBlYo41G2/6whKd2jtEbhHL6964GegDvvvMvmMMajW6itqD/EOIhrQCv2mNBipHWXqhDcf/8Dsj9suEGphMOEjw3SZQfz74zTZV9A+Fhl++d18uxj/Rl/SE4inY7btM8mMni8j4Mu/YY595Jqg7R8Ys9BeV0v9T03w9Cgd9p6UeE2uAAuPPk+Vrjay6++Ym0GB+yi4oQtt3aIG3D7CZLIXTGD+SB1RW7RVx6+/rMmIrXU1PkjXOoHVVq5YWhl9/oboyXlzbosKTGtuQMGDDBu1Er4qF3zvXEeMfYM1FhrGRud/oeIYeqwVLuzzvyr+kR4D84Lb7/TX399fSdZegHrWeCPA/99UW0qtFLq+S42afxa/W9tKiLOSqtoDrZRm2qvo//BZZjHOOb/WWecpTFavQaMHDlC3OTnWf/TZzkhQAWi/ZG253wzpy61Bg7kbDRLqf9ZD3fdZddsytdf2fmnvxiuUK9OXjmepzJhUxCJd3ceRjzUUcFQx3vuInwkd4+SJBx7/Vpr9bD1LrRV0mIx7j/uuDNbsmuXrOtSS5fOEsced4yapUH+S5ldoJbM1Qo3fMQIXfLqLBEdKgTn0AWWl6l6/pfhEzFcOiOt02A2QdxObjFAAsGTy2tcoX4qjREKcIn6/N4HH1BOjZLM+LPw9T7Nmv8zsv+iquuUU06xAuymPt1KBLnK+mNT8OprBtr627Xr0hnqquKAaNb+h3YQmAdwqTr1pDUzJLBO12Up57/D+0mFIJevilBr/FtGnth+IfZvqbKIIVW2ck47jUtXj2CxTfWyS/yxHsDE1aAx4XX1PD+QatVDhZ9M1V7cRnMLXBlmqZBbkqe/2m+Yfykuc5yYAFfr1j0Ar3heconOe/c9YPMPo/R9+vQJMZRXc9dfW/eE/6MiCmYExh918b2MNWEt4Qp/MVXPFQXgU7Du+MedWVe1BRd0LTiHy8/XX4ui7+a2v8MnXWAs1BlDmYG3F3OC0OC4oOmzeVBVmu+ZNeB/9lmwgUX+4J9IEphT3NekQvEoLsFV1x66XDmqVFdFiL3LOPqH6kq/53VVaBGjwH9azz5btqNwsGuvudbWH5g5ObeHuEkKf7Xf6vX/5FNOyp5/9nlLV89ON9IIR8b1EcneC6Ru0duftRJJVva/wBRzpGrjQIvC/xrnD2tPHsre4dsn32o8VMrS/r1Q489FowXqwYCL9Z9R+g9n09E6S70pmtzWYihDnWXl/L9e43zYMM7SomEedHAwgyL47PWYF6A49C+0rFY1VIS+8MILubpOGLa66ayR4kx9xPC4V8LwmMI/TrScl18aZWPC1nAYfGP9YUAcKtyNz2J/bxTjgHAQSXAScc01wz6mj9xZ0+nLz4ZdpVJySanvc/zjJdE2j9M+hmMfG3DWGZqnrew7HwrKZMTI4VL9zrktuHrn7xic/zh8x0801LIF2y6ic+4F2W+kTjOtP3FHv/aK0cQo7+Im+SQpIsukPv6fA4svjGtMSdAmPdZEFX2BH3D+G/XySwoJtGOYqGutP0Yvk51CEKU/6+K5z2abKkVY/7wurAnY9K5lL9fL5PX3b+qSjv+U/hLoS7+1clv8mPh4lfnFl14w+CVcmszyHhE+F2l8pOXyjb29HEMBFfC9/U855WRpNnre9t/f/34F26+ttnH8UVfqf8/dd+fM5Wuv01vS5f0AZw68EBortEPKAi2+FvzR2lMmaA/kfDf33KLFx0E1vfN/vfGf1p9CsP+CuwYVgoNy+MGW2P5UI5tDqlWRRF1owYWqxt9llwo/ulf9jlPcG4fKZukcok/E+vv4zyMk7R/8ys9a9U/739ufVCFuksJf7bd6/fcUZYjlL88i95XHfyL8/AKrqpppC+W1KF6q4hdBevPq+28M9E//jfG4wEICi4F/kC6w1tcFVmmElPL2m+yhmjQNptarQ1QJU0QLAFCt9uCDD5m32cD6jdS5xYk18pGRGbrW8ZhfYoNninC28EILJ1k0GrHxACG3n0gEn8llqlM6dbI406v/p59KZL/vnkY8+I1gsnFA2Eub5e23x2SHcskk+Gv2kMoKGZELy5zUsYlI84AWQWButMkm2T5SNcU77mtJb4EEv/zKy1Z/usmIVpKOcfeONtpDDzlM4CDqN2QLSBUblyHGsR7rL2+pySrEmzt3iXqOYyYcjFFRAtcZl4uuOs1hUH90cWOQGFfW5e8d3KjDwcFSITjOLrCuuEIXWBG+SbAI+cADLp4jRAD1+pMfUnnABT6GUrfacku8c5e2P5JKEHJRG4R6hQJBCOVgU9tP9gM+/ODDrFG48PYi/u60M5wcXk7eGrPbb78ju+bqq62M3WVw1w/cbGyUAcOMuB1M1eKfSuXlEhA1eUagVl5SiiBukxtUpjaWxh4Ozn8r4HPTb4Q22khItF32iOidOvr/wAMPzCZ9Msn6H7ViqU2SsEliJ6KFCOGFwfpK+I89/phEYs+Ud4MZIkVacf755i9Aqc2w23EqnPZ6n11qBa7QBc684lDA0V6nnYptj2fzNNZPIhIX7dqYjR//gRFhUD1CdY+XSpdVVxaHkOr4vS5Z/vjHP5m6iuVXWF7q/U7N8/L5j/049BbTh7hw2dbd4DNextoF1iF5OsY68z60e97Q2niktuchqelQ/3dZokvUIR7CDSG3AwtEiXCB5fAD944TP1HttqjBgmME6SmKlafJS9Foh0AXH+/bt6+puaT+1Nt/c65feSGBhboAdyNFwOAylPHPpnqWOLwwCuqO9v9WlyEHHKD16ZPK9Un2zy6WtM799yp6gxHu6RuHa796nHpa0X+svxCGc0fF4pqT+yUvpiJRhDyiFeL6HkGe2u32239f6398t99uO1OBl9Z/mjhDUYsWVG5K2mTLrYI6PhIoY/RHD9UaxHuBfBNIVRwtDN/lZ7mhQZqHDhlCouyMAWdJRaWQPfoBD718+eWXujA8xvT+44sNrAskDTi9+qfwQXwQ0UcaC4e6gXXXWc/Uh9I+rH/YgDO7QtCqtCz36SMJrMj1RJqcW1HvJoHVrkNN+Kgd/EgcUxCo4Twif9TDYCi8cKFerLFIGnJJSHW3305qM1n3QrB8wsvtsl941TVXKQ4qRSNXJxmr/+uN/7T+wHUE0C6wdNFCu3r+egnO4fqv4MP1xtj87F+fGXzW1h133FFJA3wSfqy19ZB8bQ1ZDRYxu01cW5m/cGLiwlz0y+RGIcSXhAt4hTG+duubzAPBB8xpIk49/ezTBt/2ukU1xxXwxBNPZGdo3vEOIwH7Zdu27QyO1595im0uXLicDxfyv8b4p/25vH5ADAS4jaVeFZsI4ALAZ/4jhcDFk7uAC6ykz7L6OLPtp7lW7pbQEZ9+IkLMHqFdqCfjb755tM4LjjsuAA+VWlsclz1wu9p+rbbZh71VYwy3/fbaW3dS/5UBicHl9uzqq6629Xf11TTG7NIyHwhWn3T/T/t/5EhwtXMsf3A11sIFF1owwDffgBexL4a1EKlQqbPotLiVgz3R9lWBu/QKSXLa3KJbi/lBe26//Q7ZzjuBF8gxMGL9/66yG14gb1TuosrH+z8/lCqsWKO8XuEXfM0usPR52x1SISjmF2se5RJfZIflwOxdEVP9AsvhEwO7gEX7hnXU4SvY3O20L7iLnJdRlbD55VzKAc/SGMjB5i9iZnlBKtF0+Sq3/wH7Zxv+YYO8/vjdf999pjaMd/YzpApK/UVA7jxf/9VFq/b/P+7wx+y7ad9nK3DQFfNLUhBrz3vv0V4v6QDqBv5j6nBEoHOXS6nKAxtYi8a92MP91y9BwH/nn3+BYu/04ugXFd7YKvhEY5/5dL4YFpYQI0Dukv7P/eILfY7ERFPnj5yrk0t9OKQjfA07k3IbP/595dggKRj16S47ldoTzlTW1DHCbxgL4L/YsnVHG7EusL7hchzDvpKKhoFmvg4//9ULOGdQOR0ksHI8v6L+lXOw6rwkCI6bfmK4aUu1qWxjxjZlr9p9N63zXwiHVv13+CPr/J+UKqwx1GfChIlhnf/2G+t/+mWw9u255hQhIDrU1GD/l/ib2tlIF6FxnvrZ6BWdjcB/6f/+JpEazkaN4o7dbEvtE4K/li6D6R+HDz6H3RucSWAdzlpZrH8WoAd46L5a7z748APr/+20p+7ka4ZHEuTbb79T8/FK+aR7KqC13+26W5T4bdRZ4o+231Efn08TJn4sqSAuKr41/I/+rzQKnsbPweYvof/vu0/n6ksuNd89mLO6SLHm9uEhmI/JZgPrKfmh/YD2DWdVRYr1NxV6WsNw4RxwhTEIeHktoPRwADO2/3Le2tXw1rD/nnvuOcalDSjK+6T253POOdeYOPCDQGwXWAqjoil+XW//CxdYB1l+EI531VnSXDL+0/q7tEFz2t8nPOfTLzifigllkC6hK9d/O5/K7iD4IW677aXKcMed8/bHDy0Vh4vD3VRx6Zv1d4++exBUwxXtHzo8yx5/TOe9M9XPwj/b6PIXGsN8882rtMX8e/ppSZrRz/KabdbZsivFcIqtYnfNXX+ZV2+8/qZsYAWNBJ6eNX0fnQk+HC9cQTC23z6eCRQhbc/b7/h7dvWVV9u63H0N4QpHH5NnQf3vuOMOG39w7rdBY0eVq66/RZH3fQ/cn3EZC/y+fXfXuWyrGFTMP5Pc66MLLI1/bOVxIVfpKO+/Pvss201rGo49tlDhLUA6/+yz797atz+ycLQ0mMp6wY3D016gObBvk9/qq68h5otY12T8Pfzww7lKc5gAUUeJnSqYIlq2jJcGBsUf9etPvW/UZfgQEVgpyJkaE8sss4zB9/n85eQvs2PV5hBvOX8u0Ukqy6UWz52fl9n/TPJJ+1TZBfgpfkW1f8n5o5xv8UV7sS5uhsSMXPkMXq7/jNJ/UgI/THCcV9LxSv6G44legrtUZ2nMLdC+dCM2xMejWkzvG+vcZ7aPaRA81CFckIFPjxs7zsbcFX+7XBqL2tq6toMuLL//TjjTCuFygFQ4h3/vPfcIXxfOBCC5wITQTW9hoPn+zhfaqpD6MbB67LMveGUYn2ib2Fm0pNyRn/r3duGr4O24Aq+EafBHrT99s88+K2hidm6zmKFeEyZ8LJrYIUYT8+oOzgn7RAzxwlsx/0IWAX56/sS/t6Q2+/VDhXERv8A7PrGkO+uMy77s+dfD/z2cRORnkoWcI1VYaLIFw2emfRJ6mc6Ccm1kG7CKXiZ/mPkZB+SGWYIrdNZwehnpBksoYOgw0ZKEf5h2JDGphn4K8H3+EdcGjtq/nrtXe/tl0EfVTGXczxLr0aAyP6oyD7AssFuJOrx559e5Lm/2RpX5GSsz9Z9dF4N/u+IKlVlrfuz/evC9/WEwgYndXaABbqlPyh4AjR8/3rQkMY7Zf06QyspVTUowhINbni1aPPW3892AM7OFFlhIWRT1/0Z0T2xwOq0rxdend/6vO/4t67whjGHpjdQEQlL/k04+OXtedrBwXbp0kaay/aSlp7PwvxZiHP0qg0YJ3blw4GtDK8zHKNTB+W/uQVAxni2fBH6Rb/FWFb8I0psD8N8Y6J/+m8f7vwu/QZOWliu5vH40BcFxIKX+pQTE0/9SNhUeFZ+W3Pz0CJNRRGr9oXJuvfXXz/OqBR+1LRBQKdallwTVUlX5y+Oiiy/UYedBKxkb9py5BJaBz6686qrsTiEQAIOrmEPNssv+zozvQRgHxmeffmYHle4i7KEjvFTHkE1Rl+QbYoDdfqsccPT3Xru3SWEwAeF25eAw5aspdrMLt18qevmwdMuiax1gLKro3cQQ8Wf/+jz75/PPme7lWWebzdRLMM4hWrmhYorwzlhJYB10SKb5ZQjOtGk/StpkEdnqWTNbfvkVsnfffTd78sknxZn+msFvaAEH51nZ0tFAIm05WId06g98s6WkjQ//tP5//etp+QVWrhqHAuBiZPqTQwLwQYjdQbjcjEsDxQuHyQIJIqnZAdpLevcVbzZJoG2ijX/WWWY3WyCVF5bo16fNVF3V4bfZ6kJ6Z5919mzDjTZ0cJJS+dikF778crL5de/eXUYeV8zgLAFhe0SL6MhHHlGYoKvh3KaAj79HZXzwrAEsstJtr4G34krY0emezTfv/JLkeyl77PHHs8+F0GJHaNqP02yTGjJUaj+iCsHYHHl5eDG/JCAQw4bKP25lauzlll1O+qnXyDostqhstryYPaGLJ9qGZNjv4YCKIWjPxuZG3CQv1waKWG4Oy96Kx9WS+rv9tr9bpy6y8CKmsgSJLmwN/PP557M7xRmGSjV0bZ8gvdu0V9r/SGBxgWVItdK0Eqfcqqt2y1bvsXo252/mzJ57/lmNs6d0QTBZ5WsU58QKktKCcBUcZYaz5UXZ36DGq6y6itQidNfm0EWXjR+Y/wP3P2Dtze0/XK8mgZUQtZBOgEuZvCgnlwht27U1Dr8VVlzexh5lePW1VwWBtayFkPYzTY+0tZkeHFiC0d6UoyyUsbjIZa0puL7ZNLdwNQq69IKbN22biROkg/jPGr/Kf5ZZNH433SSbXQYgEU338Ws2HUDAldAO2PEgYOUS+Kuuvkr2wm63+s+vi7m1pGpoOa1PICNvq95ISDoCyfqUH36Uls0YVYjAR1qQubCiLgmxx4EEH0iHz38TMa+lZlT5+PinNbxcvMPJyIGW/DncdBKXXlp/IkOIQbWkzTkFrrvO2tk666xrRBDWQez4vfXGm1b/FVdYUWPsBNMd7nBAXocOiYRCXWK6+gPgVzpPk/snHthmChzVItKIc2eDDTawdZB1D/gPPvRghuoUxii17KT1GrWIuHr1t8Dkwfw/Wwgu2ykNAYfnoot1sLr7+G+r+QqRDgeXExdYrH/EZ73FBhbwkcByQmIlfAjxxLVkSkffDhw40FRz6rNwMV8kUrgk/OLLLwSm0dSOYKtrSUnF4ffIiJHZI48+ojAKDVPD+aW+rDf+C0DhjfH/pi7y5q0g1nq8WBz/tF/z0+NRIdpwHRtSpjKsuNLKput//gXmz16U5CWEqk91wYWE74+69KSeqKKAYQEXDtSb2/qfqxKJAN94Q32v+pN3S/U3dnc4DDIPXnn1lew5rV+viaue+gc1ShDQrSksb4gLXL6w/syrtX7NHmtI2nEVu0B89tlnJLF7t40R0tD/7D/m5DGj4598IF6wF/n6hwQQElaoPPznP583AvxswgW+1SGY/e/EEyWBJZtdVAICbjjgi9BgF+TFHkveVk97KN0JJ2ajXhhlvox/dM3/TmsNNqhefuml7FHtO1OmfK1WapQdqrK6WMYYxLUpuggmu+7aF1dcXnur1J198cWX2ciRj5iKUF9/GWNw9abwKY+7WCT79PFva6GIwuQBkwL40nLLLWuMCuwBzJ0vRPAkLfv/MUeJEMRAkeMQw4UDaU1NWodiT5wgaRHWhslxj+refTUz/gz3N3jBCEn+YXiY9tdsMw48yu7OcVHguoFoC0sqgQ2sp55+yuD/Xeu520ewKDEeXLtjx43VBdYi2RV/u9KLbmNroiRsD9da/sUXky0PmGtWlNRQ165q38/Vvo8E3IX+Bym2w11HlVFlDoc7MVroD/wvtRORwn9JOOlxkjhkVOwnCayNog0sb/+Jwjn2EEcpbQgH8qbCx2YXR/ia4qTvUAM3VLS8/SkWnyccf5zZI+R71VVXlU2Y7manisuAl158SfZqH7CYjv8cp/jdhE/4+eP668XgI5UedAVaAXwfJb8KcNlVVwq3/8cdtj+hAhQck70Tgifj5aabbg6X5kpo48UJhxV5ef1TGN7nTZ0/jhRTGjbkWGsG6lI/DkeyMq0OzJnJmh/sQ+uus062tv5zQTBJeyM2Zd+UxC3470par0/of6LWv1alPCZNUp/ssafl11o4INLxs4rwvFYv9Um8pLVAPSrbB3/8IKrYWUo5cylIm6Zx0/pfKULWnSJoUQ/wkV69ekozwrJGTAUfGaY5+JnmIBGKS2ogBViPaZ9B7RkOPIwxvLrGMuv8y5KwhKkKqQbvf/JBXSMEIxzlGhHPRlZGhXeVtOHKK3M20noonBWj97NpXE79Zqqdf2w9VDjxuURLGR0MZ4uVpZ05jwAFCSyXPkjrH6NmH/uaofWB7d7PEktpzbD17lHtqSO0p4YJqT0V/KiTtZsAZJwlaAfmZAv5oqptdakDm0/EpZe01oJLQBxv1bqVLn5/MPxv8JBwlqDtazkvWx4mD9SPhfHRkLWepXXWR+ODvQJib97PinfNtToHaF2iPAsvvJDOAdtnHXUOAC9+7tnnsrsknY26bzjs+wtHA3+odLXgU+EZ3X9hzvlk0iRbf2eZZbZsvXXX0frTOntPBOGXdG5gTrDGoZp06fwCS6VTgZqz/707dpwxzbL/o3KJy6a0LvT/syLynXq6VAhqEzAJrN69K6tfSmOBSSaoRn94+MOCoLP8b5fRuVHnUxELN0DKNcabEPfQL4WTMXBYD9ZRXblI+kyX7LdK0uyNN9+yPFYU/sJ5zPcR4CXgQtkqPPi8Vuc9GE1xCy+8sPp5O7PTQj8zd+64806zJdZCbYrNT/o5Hf/NXX8hxr/+mrjZF5hPuOkgg+fFCfhoOBMw3pj/tpdFfBTmg5GPPMrQUTPIdp6kNzp37mx5aIpKcnevbKIYmshvk01g6Nm3lL998HCA0cM/2cfCRVOcE5JsYb3g/OUSEbmtPRUiJWR7Hg6DtcovsNAms5dsL+ZOkVP8z+oq3GLFFVcyaSuY5kaI5vCocCMqCzEUu6k5XuTl1vj7TrjdTjvvnE0VAZgxRNtsKsm4P0tCzl1l2erVn/gw3IEHUCYkexmHK4guRHu/KSmHBx58SOehcMnIuojdQ+zTOgzWUerL/sf+T397mJfHPWb0/JGOv0oYxgQdL7DWVP/5mm1lqIg8I/QfbA1jB435zxkCO1TLaw7Or/X6lZd1ln4unKVZ7lHRaWYMEvic+VBRPZm5rd5jXq2mcQ8R/MPxH5iqVPYU+mMFndFPFiMvfYzjQgr8G/xzlZVFW5FN+yVFHxkv+gjrX6BvhuEO/GOlWWo1jTNv/0BTutnyvtz290UtXx7WJhYFlCgAAEAASURBVJzPtY+x/pGOsnXRPjZZ49PwSp0PoXfpYbb6Omsfc5dekDAYVhFNDJyO/fylF14ym8+fin7aqlVrqeHj3IZqNTGkxHObNVHSTp5v6pWeP2l/8lhekqzQOxYzmtgLMqXyuObaRO2lWbaQ1jXwmFlazWLzijynh//7+ku8gCtvJgiFxop0/F0tycfbtQ7TN8DhAn4xSXuR7jmtn/+w9XOqaIAtsxOP1/op/MYddRosegl4Jw5mN6NnpJW1kLzr7CuFn0ZlHXO7pND/NtHePjt7u4QBwMdVCas/mr04czC2FtHezsUeND7or8+JloyUOKoqW2nNh/5ia35IOl34FqgHKgQZ/yZNr3bAZj3Sg+B/aJ+CPoiQg9MfWP9O1oUQzooYy8klKZel+M4vfL2XznfLcr4T/XTc2LFiZIbW9bn1P7hSYIC0bKz9WY/o/8rz//TGfwo/2KsdbUwdAwddZ31M7rT/97J5d6zmoe+/9D8mW+YWEwEM+sQhr7aLLCL6zgRr9xtvEH2iTaBPWD56kC51Kfwq/+hRr//T+LzHZiy8KzwqPi3efwP8XAIr1Lyymul3+h7bqYaXN2UI0pOVt6rn5M+iGN294u6Ea0EjwSR21tcFVnApgOI9DEoR++RlXK9M2NyFeDwvukgSWPc/pEmVieNEKgSRwMIJDvAZHKjv4MBgmeGvwoZlkvfwzYJwsnR+L7igboVTF4JTH70Hzw+EABx7zNE6iGjSCT6+tAULMHDZEPDcUMTUvcXR16plyzwtUQPXx316i+2XlG0JbSLrrLuuLoTE4afg/v0LPe9k+o4M5R0sVQPA2n67HbL7H7hPC8iXNeGzOWEkHSOkViAylPPLFAAEW0oFt4BF0MM415+plMAK9fcnnITvvjdOly2y7eAXWKoLnIibC/kAWo8c+QipPP8TtaCOGvWC1dH6TLF32XkXu2ixODE6HOjoukd9CDmTgAM9xI5WLVqH9PLFZhR9gupEb3/gw2VkdVe5IAgDY2vpa03bg/err75GxMw7zB/Q8srz5rPdIu2kOmXFQNTU95AhUiE4hw7foUmJEhx9mYx/93YON0YJ+u+HDRPi4TDiC2EAZgGlzl2W7OLJ7dclOUhmCEt7ISx14DMO4Sp5XARiq0wCIyzJAfghUtvCgaoyI9+84NhE+uC2W2/L2z+k1JMxr/GP0dFTTj7VNgirVKw/hlBPPvVUqcOcorghVZwloUwq/FJSa/amCNHA52I4cG+EYLus1QUWbgeN9XvvvydemBG7gB9ybpHtuUdfEXU11pP259Jhc4gX+uWCCc7n4BJbcApLiZ+G7MTLp1rcX8DjsD/qny+U5v8u4g5CVQnwyQORdcbfWhAXRdCi1O5A0CF0QNhJ20Yf1Iwfiw4x4uSTTjapBPckCA7gO/4uou901h+ku448+uhonDJmSN7m0u/0nQusm6RL/QaDX5bACvH8+dabY7T5HyMk6TsVLfYs/RzXP2q7eKdOulQ8Q6oBZtdXUX+fD3jBbdShQ4F8VxXPPHg4ZHLSu2CyJlg7Pva4+aXrL9BofwjHX02ZIiL9VzqwlSX0QtYh3/AenxVeSBAgvUL1QhAvYfxzwXfA/gdm/SR1C/xNN+ujw/jeeXaB02yovhtMDzSXip5LiBRyRBoYCS+7KJMXhGAQz8LlkPP6v/3OGKlXUB9IbS2tUav+LdQfSJ9gG7Jw9ce/xQmg7BUuVYhVznWbl0L1F9Cyo4GS+Ufg1dcIgTXiCmPESinfCEDpQQ5X1sXR3bowwt8usGAOUJjNRQ7U+uuxltRh2OGcIKUX/Kuv0UWwuHatL+rUH25k1LxAYCocbSVVudJp//RTT8k7lA34lMwego+KG4giQd1OKLM/Z2T8O4CLTa1PwAUoQQofacF1wQWu5NJD66MkXLlgA35jo2w59NnC5n+JU7ZG+3/40YfidBa+IiYZ8gk1DLXQJ5np0SB8ZUMRjfY2Rg2vvwLMkPWxUmv77XffWDyvv49/vlEbyPq39dbaWyv6nzy8vuG9/O1r4eOaw2n9rWwxAeVu36GdMUkssCASWoKq/h98Y7wc1jt7IrYSU/hj3n5bUlVHm8SD93Fl/cGTdhZegIHm3Cl7w5O0FuJMLcii7fRmkHP4fxXxEy5+ysIBGIaPFD5p0TzAQQ0JvxxPShp4zJi3TPIL1dP16t9SuMuOO+8onfLbxpRa+X6UqltJndD+a0ltmkmd1Oh/mEhQM0LZD9AFFkQt4PAdXKNdjr4APiZ/QnjsLMIa3LuFC2nyp+rsWXCZc6pUjkzROpuu/yn+tZTUrb0lQi0QMDRf2LsMaxFq0QBsly21cBsKJYCsj2cPOEuXj1rzp7P/wSjQXwfqhTReyvWlRiEv3tL35p4/jhTR6/XRb5QIuSEr5avx9NZb9OkxZhfA8o9zLJ1/HTtqbzzrzKq90Yt0oi62RsmQPC6k+8nGKcRpH//e/haJR9L/YfyGNq3eY8v1JxmMBhCuCCk1jz4dPvs0XKsLSTU6Yz6FjySjEdGT/T/tf8Z/VxGzYaoAQEHwKspyiaRS70MqtfCiNAa/0xIdtR6uLztyf9N3o3Aw2QTkQl8Oos0WwvPY/9YSgaTA8xQmXCucgSBeBRWCZQBlYGMkkYpkCMQfd15/SkJsiJ0776Q1QxcjJSf4V8dLI2ZXWv9QiwZj+FtZF1swSNB+N0oaPWgVSHIqFykGBE9/nnhCf0lXjrLy0BeUbEft80jKuiPuWRpjSOk4/Mr1jzFzyCGH2l7j6SxTKlByDjm2gmDOyP773nvvSw3yUYabednoF6DwOKzfYcb9zMXl0lIhOOCcsxQQ2r85+9+748ZlBx58sGWGRM8uUlVYuFCXp3XGPU1nFPI9XNz/vSQFYC4EF9ETzxCkp+r/6muv2NqJnQxKxvibRUyZSD6ml1Bv6cIa6V7jVLcaRgA2SMJ7J9YD4cqzS1LaojSj/QU0lExZDFA/I01Qb/2ljpgwWGddznsRfqwXhODmrL9cjqCCbn7hVIMGXkeWJTeGdU9qo5A8sappLTRYahci2x9zR7hCgY82Gv660447meYOYmJW4Ay1RdmFPPJnxfpD3BNP0LkMtZmK5PBNaoNzmXzSy+ziPBhyTGGZ5Hrf3c2rkMDKIZNTNuYt0Rx0/oHByOdfJf7dIHzA6gpeZCVyKAVMtAWN1GUXbUPBsYfUeYnO5eiWrAwfmKUsFQd1lmdLop1x4PWvbH8YjjmTcx7iosUYqmNGfoFF+9nZVxdYhauGPyPnj6LwRVs4rKAie3P7LGxxVcP3+s8I/eeqq3SWFrHf2x8o1N/z5hMNNjCtcIbISxHbH/vAxx17vBgSvrP5X2v+ddYZERtWSKEEJ1V/wpmQVudsCrBa8JE8fVOXbIQdi1rJbqvl8G+A6WcYNi45Q8uGN+dK5pnNucxUqx8FDsI+lsy/dP1H20f12VAZKhs7t4nBDwd8p795/duKJrbKqitn/7jrLsWXLccbB4upG9VqjLxKF1IVvuXzJ5cv2EjlLEBMeyTZzCPm1BN1/unSZckYpFiC2RT+7/BcYpd6wPCXSmgDjOYZIImmx0WPqQXf63/IIYfZ+klrpPMvrJ9iUFdGSM1Btyk7ck0qFGsR4lSGpUyHIQbwwf+RdAyxVWaRQwecLTwYGrfagjJVrj/gH6Y6v4rGl8JM32Op5WUSWLrAgga4ztrryF79MKuDwzeYEf9ebNHFDf83Ca+K/me8DRAtEsGOWErlE2HaIhXe0bpw0snQ4oWvx+Dpnf+bGv+xJnYJDy0SZjPTlmABEYDep0yZbOrmx78/3spFiMPn/A+jDRLU98pGOX0YbL1pnMf5T/TcJfMv97OXAl7wT7/T95iqhpcXKgTp+V8O3y6wGNDO5RgagAaKE8laIm8OazmfYoVv2Sc2b/FDRHq7YtB6hAcffNBU3HHz3a/foVnv3r0VVB/+4MG6yR4q4r6iXCHCZvucsBlK5PmiNg9uElaeoZLAmoOFs8IhLQOXP+o4Phc3pLb3CLpBt79tjBN1hz9tn7XWjb5VQzHKtU1hpu/iwBFX1Y3KGw5e1GVZ/ZW4pU7UlHlLqQHA7kyt9ucADvL3rAgfH3z8geqgVUBp4fbbZ58/i2NqVHah1AC0ULwT+2O4nUNagG9EfYnuUs79pWIMji0OKG8KccQTrgPamosw1P2sssqqVf1/gw5MtLEGiNTuiHgsYgG548gXh+HKJ+ww22C3/K1aqYx5qEUJKgRFmIFb4hL1lTsOk3ZpoMxSLqdQB2I1qM1+zK6RlNzDIx/Ovvl6quAjZl9ImoTahudbb43RGDpfYu/j7XKMwl4sdRiLd+wYs5SHxh+IxFBxgbzworhaWN0FH4QV6R0kf9ABiz7qvB6WfYDBE454LpZMYkNpaX841laQBMnhGru3C8lxjlbUVuYHDQpUZ/x7/+eXhsqXy5IPxn8odQcXZV9MEeeO+p/6s1j2kITTLjvvajacbJPM2zzd8ANHuHGVUfA68OGMGaL2QEXQZCGr6fhnw8HIsxsVtmwUQ8Uzd7LEh59/9hkRrcOiD3GO8f7tVF0QUl3Faj3LrFIJup6Nszkj501Mnv9gf+VcIdRvvzNWffJjBNAgSaN5jKutRSskBAPHKmqFVuvWzdJSnnHvvG02sEh04AH7Gff8WSJcvSnJGuAzzpn/NtZFbIPgX+lQyWDqABUXuwaBsBFqGSTadLGg9ncOZULYNDeTBBb9D8duSEOJQjpgoPbjKl16DteYQWUR/W/c3iJ84GzjRYpL4w+OEziCreEsNOTz4w9an4YNlUpN2Tv64vMQQpBAYdR7E3HKb7/DH7PW4koNaQv4RL7//geMm/vDD7WGMP74R9q52kgidBlx2+8X9Ql7OuqAi99WJXsA0hwhEKEgwlD/YEB+CfmGeCFW8UTf9uDBN0jt6Ss5fPoFTtpea/eSXvcdS0h7SCn1dRyYNYcaWwjhk/SbqT9QYFrSyvFfhBbwKRZz/UapIzKpwq+/kRe5KEA/cPSgYvRoEQ8++OD9eGC7IGRgVQr14ombHvyJEyfJNtVDZlOI/p9PKqzgmOOC8mupfNtl112s/TeRBJYbe2X+Q6BCVznzLzAMxMu6GvCxGfXKy6/Y/ne0xgw69oML5YwfxY+8X399tDFxQKgWtS6vP9xiHIRRUwbnXehDkoZa1hv/xAjQwpPx/4ZgBGmDQQQXjijW1t5yRZCFqP7gHw8/PNyYDj76+CN5K642eKQ6l19peV38HWEcWhB9uGxjz2Ztpf/DXqKLGrVdMRcTGIJ///33ZaiC46LG9z/KBJcUhJAD9t/fpNhCrUgby6q03/0w1VQCQDT9SioDbBmXf8vW2jM6dsx2FtELqa6QtrqOv3T8Ww0E56fsR+EC12cQ0lAlF6YxHJPds321Xz3/z1Fi1rnY6l/gAioNaxRqsdS+dkGuC7pazvcfuGWHiNOfC3P2Xtqf/b9B62+H9ouZ2iLwFa+hiqb38CRf+n+I+uUFjTHWNOLxbKk+7CIiyN4aY2FvJXbhHH7wIT9chGLZBxgYU6b/6csvPv/Cxj/rDzAg7m680QamkquVrYUhF542hiWBRcOFuVU+OAIfBgn2rheN2BvrFMdf564q+5/31fzoYpmm9b9RXJVh3nI5dkmCixbwkW6H6A/8v9/+d+N2LELpHhGHRUQdO+5d4UkdJFV9iYKr6w9RcIjWMDhvaV/wX8c/UG2xj8YC9gZTZ3MjMidVEu09HvDh8sWWAqPNVAhusFEIrmh/JBJHjBgufExrqOD30Bhk3Uwix/fkhzwYJ6o/8+8cXYKEvb7Av+aVDao999rL5jb7N/U//jgZJGe/jmyy16MVQP3P+Dd1OCIApOPPYHi7KQfWX/oGddRfsHeSkH8qCvvfRrqkQ0UP3Kc/5/zT3PMHHOGjJf07n1SyDBo0MMBXuVI3WnOG8fmq9sYwY0KbILXdq2fvbKcdd9QeMq+ShJqSVlUwR7P+JPzNcIzhwyUtLxxDoXAnczGWu6T9c7/4ApPIUNlM5YI2SLWJwGUuQiFtbH9ekXCHMew+6fv/XBzlPv+A22auOSTpvbGpB2wtruvcVcAHH7rp5mFShfuhVcbx7+WFQ3P+u+7667L7pEKdATZE++Kc4uQlomWjN/byQZLseFq458fCHWk3JLpW795NUs37ZP8c9U9Tl0MNbD0UZzhjwxiVhG9RnbBPHCF/8pOH/ttaqfFvGiFK9lSAXMD39h+ts8RNkgQOZwliqO/0bKE9FSYYVL/bnmoF14PxlzjOEkiys6bT/rZWtmwQDruCqUm6QxKn4D9Zy0z73c3a72DwAUJwRanKPjHYfljHr9YZavhw4aAw7imqcTAn44P6M1dg8rz33ntMM4hFVPuz/i/acdFsu222z3rGi5sytFCKtEQpfHtXlBnZf99463XhR0M1l0aHSw8VYAHhVX/c8U/ZH7Qf7b57X0nefSYJLNmTOzuomgVuc/a/Dz4Yb1I8tP82OuvsssvOsfixlir7088+pQus09U/jSJiHaXzag+vlpqzefXncupCneXeH/9+jn9ddNGFWceOHW38+fqDjbXBIvJiG5TxT/uD/87SetasZ69epq4SpjNcgNw8+BZbdeS8B+507733GVGO8cD8o/7YCtxuu20kWdlLuRf19/nf3PXXJLBEeKecAwcNCgWltILhDq0I4Brgo1xEpOOffXZvzeMlRYgOlSxqilrxW24RkVRenJd6SNo6L2tsEYeR/5I8gV86l03VPqb6o+UEDTvEs8tsw5swb4C6ZNaJ6vn/iS5N99h9N6VoEC1jCzEx9bV4epTc62qLUFfRHIit8oS5Dl7UxSSpunb1fdsKq/Tl9ofec+JJ/S3fjh0XNzuExGzu+EvrTyYaVppTN+g89A9T/ertz/6/hrQMINl2jBiSPpT6ryWWXEIXWBeozMGx/sJ8zP7fS+2DjacYop+ij6Ongf6l5w8Dmuw/5OkQflQ5thRuQ1vaRZoYRorQHLrB9/rPCP0H/J9zr+1bagzqz/5nZ+lll832329fnSHYqyucNVyjND68anMbe1qUOZRJmh2Upru0yiDhPuusvm/GWirth6L/nT0A+sg7ca0ISdvMM3e2txjnGsS4hKo49h9wuG6RPkIpOENDhwJW7UsT2Y8S4Z44YR8T3m+gwdtbSUK+c/bnfUUT69LVuoI8Y8nsm/EXzm03SzJZ+7lCaReYqaA7HqYLfzRY3IQGBJ0D0ISADavUsf/4+mdtYoEBSuX5E1oRdvq+FK3W25/6r6H5u6vW7kXatkuztvfm4P/AD+fIPlZBu7gWU2aoJB0YZhpM8jfdNCS79x7Ry3TBm+I/iwt3R3o5rJ9JMWL/G01VzG4MZ7Ss2GWiok2v/pXwydXb/wfRrq+FPiotEd988638fxLut0YZ91N8pLihfyMo4lq/fPwttvhixvDWu3dvspazwuo3QrGq26MyxL5PE0PaM5LSDhc/1xodGG1naG4iB+BA51l/fdEARX+zy0vAJM7rD65C297H+Q5avDrY97+55pzbtAhhYoD8cF6q6Z3/mzP+gQ/zquHqpvZ2kHKvrj9S3k+JkZXzF5pJ0ILWVedaNMawjl+qcQneyrhETatLGoaGU2mT/c8qEB9e//BJrXDV8CtC8vrncaNPSJ88LeF/KXw1Hnuq2sAexSv1j22YNEXdV2sjT1L6qE5SFWyg7fG/Bn/aTz9INH1S9gkir1po4dKd13REV5e/lk+pTqWPzAj6E6QGBi6xuSU5w6UKYp958zZR/39Jf/Y3X30tGzgLGufWz4Xv8bEThQ5pCDxIHKA2zlwT8D399H5LVS59VKeqCm4CPgP04w+DiDV2gAKxvpyv54mu1EkTP5FR7rnr9h9xJ0+enE2aMCH7SoQYiCcdFmsvQkbr5o0/TZkPVZ7PPv/UDhZwzrSSig6c9akXJu9gC8ofVcF4aP6x2EJwYdF2yUKmJ+oyJk2YaCKriKjnC2OeY8W2UwUgiajXqmB5/PDj97pwnWiXWD9qk0bFxMJSedZc53nC3fX2mHeMYDT/gvNn7du1N7U4aT4eN28ePFR/NuExb7+T/SBpnXbt2pkqwAKxSXOofi/lqQ/G+pixY0yUHJWCqX27UlyyivDpvfwV/7yAfEzflfIsfZB9o114kgPj1wmsefY50Prwf9TmPmFiWEOQ1mzXroNJu3ipSiBLHwE+kjuTJk0Sp9V32WISIUcN18+B73Dq/ZZAlj6KFPQJItYgAtjaad+2rdR3iChD/H/T/sN8+lA2pLjQayMJnsUW7yjJXCHU/wb4Y8eONTt5VBeOzVzlyL+x/qx72JT6+uuvRFidz6TaTPr331B/HwlVwyOpv2gJWus/NNWYs+gwh0oV9sqmXCnP0keRkr5HdeVEmwdTpSapo82D5o4/7NLQdnBDwrSwROdOYnwokGkg2ZyqA//XGP/k8bUOTgsutIgOu0W7lECWPor6+1tVMB5J/0/VOozak08/+8TwlY6dhK9Ibdz0XJrn5C+nKP3H2VffaozNozEmCXYuCdylcc2vAr4VhYB8gfKU4RcC1AThap/+6xM7ZHfQnjj3vPNY4PTa33OZHvwvJ0/JJuoiD7364H9wSaZc8p5H5W8pz9JHZcyw3OGbV+9n1n+KzeGJuhD/SrjLfKZuFKJ5nuf/MHyoX+A/Or1LymZh4WOtbAr9HPjffPNNNla46Hc6XLfTPtC2/SJqD5h04lDMM+OlaVeqculDly466KPSF/wb6TdwKLhAf2n71ypNCWTpozp2VbA8Pv/yX4Z/TRMxdw7tiUgizf6b2aoT1/HhcgbbiNTJ+6SoYDlRLfjp/G9q/pEbxIaJk4SPfKLzktq0bft2RZtWAaiGz1r8scoLwweqbzqLSAqRnqSXyq7XfSK2UP5g9L1QxVLOCTzvC7NDsIDORrNKqsX6tBnwyefX6v8pWjM+0nrHmsFlJcx+Zoc3B1AudVo8NYOp6/KzRKclOmezRgJNUcBy+lpfaZ7lyRhi096MD9yC8QyVF4/Ecf3/XgxTrH9IXkz7MZ4DdBZoyjUFn/Qzuv9ytkB1Vpu55pQNpPlL9KDmwPc6lOJawfRI9r/mjH/Py39LeZY+PEb4ZYyAf3A+Bf8yR/wK+IYrCN+Hue43c/zGtHug6q6eK4EsfVSnIBhCLKr4rJ8577VdSGekRf5H1t/KEqTFm6y5A6Pv18IV2Mtg7G2t9cRcPkDLOWAbDrHa2aSS3V2aZ63x7/H4zeNqTnwo1W3sZwstsqBwuaiKP4+Qppr+eylJ6aNIB+7N+ecrcAutE4sJt8DkQNHo9c9/Tzz+hEnekfUefXcXM9FWRcZ6K4EsfZSi2Uca7OsPlyRzzhHOQ3NyHsLVaf8QWH6meZYLU473n3L++KX0H9awTz+ZpDn8qXCXqdnii3GGmL9c5VJjlOvPF+puUQGnGxPRWNraRW/l/LdUFe2PzVu0BSDF1bZth4gzhUglkKWPavhVwXho/WEufiw86Rsx6TE+DW9nfDbDOf6B6lv2cRiGZ0nOJ2kW9eAz4GJRQnRVzTUcoJLfGYiZr++9Nz6bMOljY3IG/59DewLOWqMKQMjOn1XBOdBq+J6m8vcH7ZOoCJ0y+Stj/lhQ6vmgmf274JfKo/J/YJeHUg3L3u7MQ2Fo5FFZ81l/Juv8CiPSItD42Nt/Qf3zTONL2qY/TvtJdOYx2eeTP88WmG8BremiAc4WmG+Insa15BXwYdpmfnwqFa2Or4NXTc+V8ix9VKeqCq6A/0v3/1NPPTV79plnVMEGu7Bl367l/qfgA+t/ZfwJbqlOpY/qFqgKxqMC/7FUFeO3Oicl08LDhWHiLLf4nYCK3mkokcJ3nUDPVcGNKqDuU5N8eTd+lNw3BKYQeMcpbh0QwbtOYEhsaWfCn9n+/+njL2zW4pbRjLzM9BU7p/jM8T9z/peWQV/ZZq6/1iz/++s/xnAffOBBk7BCSrLkVDz2n3vuuju7/IorbLPeU9x2qCxKV+WQJtbFPnjHzZz/M+d/aRjYqOARRkscM+nQyWOESDPxn3SmeUPNxD/TVglDxtuGL95xM9efmetPaRjYqOARRkscM+nQyWOESD9n/cGuq11gKfdwgSU13HVA/E/At/Fu5Sd33MzxP7P9S8PARgWPmeOP2VFncnorKfjnzP+Z80/rjbmw/nDJdNihh0kC5+0MdYODZNcGW7O40PLh6d1gAelDwTPbP8V0YnupwVLf0GQexhfvuJnrv4+ttHVomfAdfSsDiYCT/y8df0Er0c2WB9oTKu1g/0/DDxWY2f//W/3/n9D+rL93SrMWqlR/J0lLX53j0Lb9D4auPfruYbapYc5GU0TuZmD8/yfU/z95/ZOwBzzPyc1z2juxB8IikXfHz34ppecDl8MJofYsRQzReNbxLiI08VZKzwduJvzQDukWVGqoGKyfOt5FhCbeSulntn9orRrjD4Pa2BaiiUwCSxxauFL7mc/Pe5TSz2z/0Hg12j8yAVQ1bqn9qkKb9iiln9n+/3Xt/+STT8rY9Lmmo79nr57ZAQccUJI6pMuxb3O0bAx9G9UXnn3OgAzd5T67bYyUBkoxrup4FxGaeCul5wM3c/yHdpi5/9lgsDFSGiixefRTx7uI0MRbKT0fuJnjL7TDzPFng8HGSGmgxObRTx3vIkITb6X0fOBmjr/QDv+B4w8Vmqhi4VQ6WCozUTuTd1cs9c/5mdn/FcOdxssbNLSOPUsNVbRwHe8iQhNvpfR84GbCD+3wHzj/YsHyn1L/5b7Nfymln9n/oeGaOf5pLtTWDdSlFXOmR481syPrqIKu1yMz279iuaGhmtn+RC21Hx4/05XS84GbCT+0QxPrH2r3hkq9ISyhdoHV3pm6Y/Jm/Mxs/4rhRpvNHH9x5ITRYc/SQAnB30tq7QTZTBwt9Z+YG+gnlZgrmUrqmFw/SLNhP/YBMTDTrpjz6d+/fx6hlC0fuJntH9qhiflPpFL7xVT+owss7hflpheLKOhv1A/iWnnbey7T+S2yrcXtkCQsIiae8XUm/Jnt///B+LtBOqn95j69wEJk+v+xdxUAexRHe5MQXAMEhy+4uxPci1doseJWNCRYkRaX4A7FIwTXFv+xAkWLFgiQQIDgnmCR73+e2ZvZ2bt7QxIopendl7wzOzO7czu3Oyu3u9fUv8b/NP7359n+8GjAgw8+BB90x9EmqKoz4OP1Sy25VJgLRzXy+Cp+yPmRh/8eRrPtBL/cwZFWrmn/WncsGv/X+P//gfa/Zce6Kf9N+f8fKv/xBRaOEMR1Fb4xZR99RxvZjD9bN5NisNJP6lY04+/qbgtnrGQoRyzQxv82/vcn9r8vvvgivmt0shzPyqPfOf7nMczn4mQWHrk7tlcq1k39b+p/OoOoUn5SQamw/pPzT/3w3VO+wGL5l++e4jjyZv65+ohaUdJjber/+Nb/U3r3Dg88+KDM7eBjjWHppZYK8+Abpzw6lL75oYceAvwQZbRdvv12/AnHh4UXWlgeSWN/mKWwxPjaf0z+p+YIwaIqSKeNeL27SA+mkPeATL1qoxexAVoOSBr9helrDTjG943CbOwfLVBrvp9n+ZMXWPigNm/5PLzR5xnETf2rfYBN+W9ZMsBo/C+MUFy1xefHr//PPPNMOPOMM+XcZrU/hws8OoF1mKvJiW2y8cZhJ3zsmd/bI6Fp/1p4uKb9b9p/qbu1FVjqUj0HlYwVTa9aoVgnm/rX+J/G//78/O952IF1++23y431739Vy2++1lZt1vum/qv3a/VwwYf1mv5H0/9CMaitR03/qzBMrXXExdRzfhz/c/lll4Xrb7g+1lP8ToLvwO69zz5hjTXWQCi6uH+n/jhpSE31WooeFAWqV+N/k01qzVdYr/G/3+t/+V14LuqmGc87/3z5Ji2N25S/VjWzMA6NxKspf9EO2e+41T9+O+ycs88O991/P9wiX8Pg83U1pu06Y9dw0MEHhQXm58k6xdXYXy3h4LjZ30U0VOu/HSEoHKWaWNlRJMXyFGvkY9TIULZCSzYjuIBDVTYnFSElKlRhg5GhbIUldhF0XIeqbE4qQkpUqMIGI0PZCkvsIui4DlXZnFSElKhQhQ1GhrIVlthF0HEdqrI5qQgpUaEKG4wMZSsssYug4zpUZXNSEVKiQhU2GBnKVlhiF0HHdajK5qQipESFKmwwMpStsMQugol77z33hvseuF+q1r777R9mLD4OmnxgIatRFFrCikSGshUqN2/9HdehKpuTipASFaqwwchQtsISuwg6rkNVNicVISUqVGGDkaFshSV2EXRch6psTipCSlSowgYjQ9kKS+wi6LgOVdmcVISUqFCFDUaGshWW2EXQcR2qsjmpCClRoQobjAxlKyyxi6DjOlRlc1IRUqJCFTYYGcpWWGIXQcd1qMrmpCKkRIWF8HfffRduueWW8MwzT4chQ94On33+eZgMH5affc45Q7e2trDiiiuFZZddptSoukQcOj76NY4q0OQUGj8juIBDVTYnFSElKlRhg5GhbIUldhF0XIeqbE4qQkpUqMIGI0PZCkvsIui4DlXZnFSElKhQhQ1GhrIVlthF0HEdqrI5qQgpUaEKG4wMZSsssYug4zpUZXNSEVKiQhU2GBnKVlhiF0HHdajK5qQipESFKmwwMpStsMQugo7rUJXNSUVIiQpV2GBkKFthiV0EHdehKpuTipASFaqwwchQtsISuwg6rkNVNicVISUqVGGDkaFshSV2EXRch6psTipCSlSowgYjQ9kKS+wi6LgOVdmcVISUqFCFDUaGshWW2EXQcR2qsjmpCClRoQobjAxlKyyxi6DjOlRlc1IRUqJCFTYYGcpWWGIXQcctUH7/6uGHH8EHvDuEQ/94mEzeRuFCQKMotIQViQxlK1Ru0/+FJWxQ4azjULVVTipCSlSowgYjQ9kKS+wi6LgOVdmcVISUqFCFDUaGshWW2EXQcR2qsjmpCClRoQobjAxlKyyxi6DjOlRlc1IRUqJCFTYYGcpWWGIXQcd1qMrmpCKkRIUqbDAylK2wxC6CjutQlc1JRUiJClXYYGQoW2GJXQQd16Eqm5OKkBIVqrDByFC2whK7CDquQ++8867w5JOPh84TTxLmmGMOHB24SphTF7SqnEJLWJHIULZC5Tb+D5Zo/F9RHFzpcKiWlZxUhJSoUIUNRoayFZbYRdBxHaqy99x7b3iALw5A2G+/fTEnNqMObxNUYYMxIU1OYYldBB3XoSqbk4qQEhWqsMHIULbCErsIOq5DVTYnFSElKlRhg5GhbIUldhF0XIeqbE4qQkpUqMIGI0PZCkvsIui4DlXZnFSElKhQhQ1GhrIVlthF0HEdqrKeNHDgK+HWW24LgwcPDu+8OzS0jxodZuw6o5y0061bt7DZZpvF0wIKB6txFWqajf+FJX4k/5t2YKmVFZq1q0gUaS1Y5ZQpKWyYIgqrao0SRVoLVjllSgobpohC01ZFokhrwSqnTElhwxRRWFVrlCjSWrDKKVNS2DBFFJq2KhJFWgtWOWVKChumiMKqWqNEkdaCVU6ZksKGKaLQtFWRKNJasMopU1LYMEUUVtUaJYq0FqxyypQUNkwRhaatikSR1oJVTpmSwoYporCq1ihRpLVglVOmpLBhiig0bVUkirQWrHLKlBQ2TBGFVbVGiSKtBaucMiWFDVNEoWmrIlGktWCVU6aksGGKKKyqNUoUaS1Y5ZQpKWyYIgpNWxWJIq0FlcPjAzt17CSnf7oWGwmqhMOUpLCq1ihRpLVglVOmpLBhiig0bVUkirQWrHLKlBQ2TBGFVbVGiSKtBaucMiWFDVNEoWmrIlGktWCVU6aksGGKKKyqNUoUaS1Y5ZQpKWyYIgpNWxWJIq0Fq5wyJYUNU0RhVa1RokhrwSqnTElhwxRRaNqqSBRpLVjllCkpbJgiCqtqjRJFWgtWOWVKChumiELTVkWiSGvBKqdMSWHDFFFYVWuUKNJasMopU1LYMEUUmrYqEkVaC1Y5ZUoKG6aIwqpao0SR1oJVTpmSwoYpotC0VZEo0lqwyilTUtgwRRRW1RolirQWrHLKlBQ2TBGFpq2KRJHWglVOmZLChimisKrWKFGktWCVU6aksGGKKDRtVSSKtBascsqUFDZMEYVVtUaJIq0Fq5wyJYUNU0ShaasiUaS1YJVTpqSwYYoorKo1ShRpLVjllCkpbJgiCk1bFYkirQWrnDIlhQ1TRGFVrVGiSGvBKqdMSWHDFFFo2qpIFGktWOWUKSlsmCIKq2qNEkVaC1Y5ZUoKG6aIQtNWRaJIa8Eqp0xJYcMUUVhVa5Qo0lqwyilTUtgwRRSatioSRVoLVjllSgobpojCqlqjRJHWglVOmZLChimi0LRVkSjSWrDKKVNS2DBFFFbVGiWKtBascsqUFDZMEYWmrYpEkdaCVU6ZksKGKaKwqtYoUaS1YJVTpqSwYYooNG1VJIq0FqxyypQUNkwRhVW1RokirQWrnDIlhQ1TRKFpqyIUaR89ClM6HXCiIL/Oll/VJMqUFDZMEYV5klkoirQWrHLKlBQ2TBGFmcY8EEVaC1Y5ZUoKG6aIwlxlFooi8Td9A8tENAVCXnxVBlzP2lB2pKYXaTYp5wQYvXQZVxALOSmlEfJq9Df2R1loyp9VBa10WlNiPdGQwkgt/xpXEAs5MaUR8mrqX1P/UBaa+mdVoal/0TOop8hDOTXy0q9xBbFQEsj6ESQ3/qfxPygnjf+xqtD4n+gucu+hIYXOpTjUuIJYqEaCPF6N/2n8D8pC43+sKjT+J3qG3HtoSGGUKf8aVxALOTGlEfJq/E/jf1AWGv9jVaHxP9EzqKfIQzk18tKvcQWxUBJoxl+wReFzxSqN/238L+pJ439TtWCVwJV7Dw0pjDLlX+MKYiEnpjRCXt9T/9pH81BHjRSj1P3WSyhVYR5Tzovkxy+R1ewDXhDX8hCtUB/fp1YvoVSFPgZ0MGuN/sb+Tflr6h8cYeF3xfM2/ic2DY3/hXts2j8aIW88S6EWLWwRrwW3aX+b/kfT/0Idafq/Tf+/6X9YC4Pmoul/Nf0vKQ/SdajvP/guSL2EUhX6GM34v5n/aOZ/mvkvepmm/9X0v5r+V9P/KvoH6C40/c8Jo/8pO7Cy7p8FDMl7hTUhlcR8lRyXpNBEVcAIOZKxLWBILlwTUknVq9BEVcAIOZKxLWBILlwTUknVq9BEVcAIOZKxLWBILlwTUknVq9BEVcAIOZKxLWBILlwTUknVq9BEVcAIOZKxLWBILlwTUknVq9BEVcAIOZKxLWBILlwTUknVq9BEVcAIOZKxLWBILlwTUknVq9BEVcAIOZKxLWBILlwTUknVq9BEVcAIOZKxLWBILlwTUknVq9BEVcAIOZKxLWBILlwTUknVq9BEVcAIOZKxLWBILlwTUknVq9BEVcAIOZKxLWBILlwTUknVq9BEVcAIOZKxLWBILlwTUknVq9BEVcAIOZKxLWBILlwTUknVq9BEVcAIOZKxLWBILlwTUknVq9BEVcAIOZKxLWBILlwTUknVq9BEVcAIOZKxLWBILlwTUknVq9BEVcAIOZKxLWBILlwTUknVq9BEVcAIOZKxLWBILlwTUknVq9BEVcAIOZKxLWBILlwTUknVq9BEVcAIOZKxLWBILlwTUknVq9BEVcAIOZKxLWBILlwTUknVq9BEVcAIOZKxLWBILlwTUknVq9BEVcAIOZKxLWBILlwTUknVq9BEVcAIOZKxLWBILlwTUknVq9BEVcAIOZKxLWBILlwTUknVq9BEVcAIOZKxLWBILlwTUknVq9BEVcAIOZKxLWBILlwTUknVq9BEVcAIOZKxLWBILlwTUknVq9BEVcAIOZKxLWBILlwTUknVq9BEVcAIOZKxLWBILlwTUknVq9BEVcAIOZKxLWBILlwTUknVq9BEVcAIOZKxLWBILlwTUknVq9BEVcAIOZKxLWBILlwTUknVq9BEVcAIOZKxLWBILlwTUknVq9BEVcAIOZKxLWBILlwTUknVq9BEVcAIOZKxLWBILlwTUknVq9BEVcAIOZKxLWBILlwTUknVq9BEVcAIOZKxLWBILlwTUknVq9BEVcAIOZKxLWBILlwTUknVq9BEVcAIOZKxLWBILlwTUknVq9BEVcAIOZKxLWBILlwTUknVq9BEVcAIOZKxLWBILlwTUknVq9BEVcAIOZKxLWBILlwTUknVq9BEVcAIOZKxLWBILlwTUknVq9BEVcAIOZKxLWBILlwTUknVq9BEVcAIOZKxLWBILlwTUknVq9BEVcAIOZKxLWBILlwTUknVq9BEVcAIOZKxLWBILlwTUknVq9BEVcAIOZKxLWBILlwTUknVq9BEVcAIOZKxLWBILlwTUknVq9BEVcAIOZKxLWBILlwTUknVq9BEVcAIOZKxLWBILlwKVY4QjNHyyBmtcnelFCvBlJZg+LG3nxVZrpXgm8EUhyIZrdEf3xLW2K6elGwpGH4a+xdvn2sMlpW1gp/RmvLXlD/ZVVBTeGpJsfSQJRh+mvrX1D9bDVUqM5mvKXgZrfE/jf9p/E+p1owpGGsPJQTDT+N/G//b+N/6OpO1NYVIRmvan6b9adqf+spTS421hyzB8NO0P03707Q/tZUln+srRJr2h/Wl8CNN+9u0v037W+88aqlFvQFPMPw07e+E0/6WXmClh63+snjsVjScBI7oi75EaJ5h0oqMkalCgE7OUENEzoca/Y396culTPiC4UpURMfIdNJOzlBDmvIHC3hrNPWvqX9N/Wv8j/gE7xicR43oGJlO2skZaojI+VDjfxr/0/ifxv+IT/COwXmUxv/QAmM0jrOWkzPUEJHzocb/Nv638b+N/xWf4B2D8ygRHSPTSTs5Qw1p/A8s4K3R+N/G/zb+t/G/4hO8Y3AeNaJjZDppJ2eoISLnQ43/afzPf9z/4Jxklkm7sgIKaquVItqUenlLpAaJcklasBS0GJ7kcRMwJHLHLGPCRcOfpAVLQRP0JI+bgCGRO2YZE270wxS2igS42K3GeJ7k8WRJxSJ3zDIqWy2tEq8msid5PKWkWOSOWUZlG/1la0m4xnie5PFkScUid8wyKtvYv2wtCdcYz5M8niypWOSOWUZlG/uXrSXhGuN5kseTJRWL3DHLqGxj/7K1JFxjPE/yeLKkYpE7ZhmVbexftpaEa4znSR5PllQscscso7KN/cvWknCN8TzJ48mSikXumGVUtrF/2VoSrjGeJ3k8WVKxyB2zjMo29i9bS8I1xvMkjydLKha5Y5ZR2cb+ZWtJuMZ4nuTxZEnFInfMMirb2L9sLQnXGM+TPJ4sqVjkjllGZRv7l60l4RrjeZLHkyUVi9wxy6hsY/+ytSRcYzxP8niypGKRO2YZlW3sX7aWhGuM50keT5ZULHLHLKOyjf3L1pJwjfE8yePJkopF7phlVLaxf9laEq4xnid5PFlSscgds4zKTrj2tx1YrQ2hH0B0EoYakiwlWCs6mcpTGKPmoUhTTvwAoZMw1BAfAXgrOsWUpzBGzUORppxGPz+A6CxkqCHeYMBb0SmmPIUxah6KNOU09m/s35Q/V0MMNcRXGOCt6BRTnsIYNQ9FmnKa+tfUv6b+uRpiqCG+wgBvRaeY8hTGqHko0pTT1L+m/jX1z9UQQw3xFQZ4KzrFlKcwRs1Dkaacpv419a+pf66GGGqIrzDAW9EppjyFMWoeijTlNPWvqX9N/XM1xFBDfIUB3opOMeUpjFHzUKQpp6l/Tf1r6p+rIYYa4isM8FZ0iilPYYyahyJNOU39a+pfU/9cDTEUNaO9fTSCbp+VY2Z0X6cK3EQlrC+66piQLA6e1G2HKbk8FavfCUmiJSyP2eiPjq6xv1ggKxxN+WvqH3wcj5tEUeC213RlBSX1Lxr/AxNlhkomK7Dcco3/bfwvO5p1haPxv43/RcnAv8b/Nu1P0/6qkyTMW9EULNF9lALPJZr2t2l/m/a36X/UOYem/9X0v5r+V9P/bPrfzfijGX804w8/mMhHEf914490hGCekTQcSpjPtuB5FGOXyRqO0P9aFCAqFWlJa8K8tOB5FGOXyRqO0P9aFCAqFWlJa8K8tOB5FGOXyRqO0P9aFCAqFWlJa8K8tOB5FGOXyRqO0P9aFCAqFWlJa8K8tOB5FGOXyRqO0P9aFCAqFWlJa8K8tOB5FGOXyRqO0P9aFCAqFWlJa8K8tOB5FGOXyRqO0P9aFCAqFWlJa8K8tOB5FGOXyRqO0P9aFCAqFWlJa8K8tOB5FGOXyRqO0P9aFCAqFWlJa8K8tOB5FGOXyRqO0P9aFCAqFWlJa8K8tOB5FGOXyRqO0P9aFCAqFWlJa8K8tOB5FGOXyRqO0P9aFCAqFWlJa8K8tOB5FGOXyRqO0P9aFCAqFWlJa8K8tOB5FGOXyRqO0P9aFCAqFWlJa8K8tOB5FGOXyRqO0P9aFCAqFWlJa8K8tOB5FGOXyRqO0P9aFCAqFWlJa8K8tOB5FGOXyRqO0P9aFCAqFWlJa8K8tOB5FGOXyRqO0P9aFCAqFWlJa8K8tOB5FGOXyRqO0P9aFCAqFWlJa8K8tOB5FGOXyRqO0P9aFCAqFWlJa8K8tOB5FGOXyRqO0P9aFCAqFWlJa8K8tOB5FGOXyRqO0P9aFCAqFWlJa8K8tOB5FGOXyRqO0P9aFCAqFWlJa8K8tOB5FGOXyRqO0P9aFCAqFWlJa8K8tOB5FGOXyRqO0P9aFCAqFWlJa8K8tOB5FGOXyRqO0P9aFCAqFWlJa8K8tOB5FGOXyRqO0P9aFCAqFWlJa8K8tOB5FGOXyRqO0P9aFCAqFWlJa8K8tOB5FGOXyRqO0P9aFCAqFWlJa8K8tOB5FGOXyRqO0P9aFCAqFWlJa8K8tOB5FGOXyRqO0P9aFCAqFWlJa8K8tOB5FGOXyRqO0P9aFCAqFWlJa8K8tOB5FGOXyRqO0P9aFCAqFWlJa8K8tOB5FGOXyRqO0P9aFCAqFWlJa8K8tOB5FGOXyRqO0P9aFCAqFWlJa8K8tOB5FGOXyRqO0P9aFCAqFWlJa8K8tOB5FGOXyRqO0P9aFCAqFWlJa8K8tOB5FGOXyRqO0P9aFCAqFWlJa8K8tOB5FGOXyRqO0P9aFCAqFWlJa8K8tOB5FGOXyRqO0P9aFCAqFWlJa8K8tOB5FGOXyRqO0P9aFCAqFWlJa8K8tOB5FGOXyRqO0P9aFCAqFWlJa8K8tOB5FGOXyRqO0P9aFCAqFWlJa8K8tOB5FGOXyRqO0P9aFCAqFWlJa8K8tOB5FGOXyRqO0P9aFCAqFWlJa8K8tOB5FGOXyRqO0P9aFCAqFWlJa8K8tOB5FGOXyRqO0P9aFCAqFWlJa8K8tOB5FGOXyRqO0P9aFCAqFWlJa8K8tOB5FGOXyRqO0P9aFCAqFWlJa8K8tOB5FGOXyRqO0P9aFCAqFWlJa8K8tOB5FGOXyRqO0P9aFCAqFWlJa8K8tOB5FGOXyRqO0P9aFCAqFWlJa8K8tOB5FGOXyRqO0P9aFCAqFWlJa8K8tOCIIkcI6lvpTNSl51UK7niiWMJcXotkbQkUVYBQ7LwShS1+Gv3xrXhjf7eG0pWliLpfx2vKH4wh9mjqX+N/4GAb/+taGdYNGCSziWMXaNP+NO1P/Bhp0/7YGn7XxkbU/Tpe0/7CGGKPpv1t2t+m/c3bWtaNpv3NbdL0P8oWaPpfTf+r6X+xG9H0P5v+ZzFYdX3siLpfx2v63zCG2KPpfzf976b/nfc1WTcm7P63fQOr3KmsrQxmnaKpzRyppuCaYeMbUjgbF9ZoZVgR8YRGv3R1vEnMfo39rRto9jGkKX9iCmcPKzclpCLiCU39a+ofhhq+SFjxafxP43+KYaiVD0Ma/yumcPawelNCKiKe0Pjfxv82/rdpf+Azivmu5D2a9rdpf5v2V6qFNZmGNP0PMYWzR3IcOVYR8YSm/9H0P5r+R9P/aPofTf8rbzbYwDb9r6b/9VP1v9wLrNhBybspxfjIE6W8OoKgMcxfXmlMleQUUxgl/W/keL7hhqi8Iwgaw/zl1eiPdih66xJQiylUiQSTDdV+JmuISjuCoDHMX14av9Gf7KSYwmgp/xs5nm+4ISrvCILGMH95NfaPdmjKXyoniilUCyUYOZ5vuCEq7QiCxjB/eTXlL9qhKX+pnCimUC2UYOR4vuGGqLQjCBrD/OXVlL9oh6b8pXKimEK1UIKR4/mGG6LSjiBoDPOXV1P+oh2a8pfKiWIK1UIJRo7nG26ISjuCoDHMX15N+Yt2aMpfKieKKVQLJRg5nm+4ISrtCILGMH95NeUv2qEpf6mcKKZQLZRg5Hi+4YaotCMIGsP85dWUv2iHpvylcqKYQrVQgpHj+YYbotKOIGgM85dXU/6iHZryl8qJYgrVQglGjucbbohKO4KgMcxfXk35i3Zoyl8qJ4opVAslGDmeb7ghKu0IgsYwf3n9lOUvHiGoSt19yZ3o3n4EjGWISKSfMr02rMQC5sApKZJt9KM0xOKglksPIpleMBNQ2wGmklTYVoVywyu1knZj/8b+TfnLq5dVlqKeKSjTa8NKLGAOGv+n5jGbgtCUv6b8wQJWNAzRQlLAMr02rMQC5sAp0TQh0JQ/MYZaLj2Ixv6ZBcxAWnYAm/5XMpHYR41UwBw09U/No1Zr+t+N/23aH6kNVjUM0UpSwDK9NqzEAuag8T9qHjUt/A9Jr732Wnj8iSfCE48/HqaYfIpw3PHHqUSClbhgNe1fyT5qpALmoCl/ah61WtP+Ne1f0/5JbbCqYYhWkgKW6bVhJRYwB43/UfOoaRv/87P3P2kHlntY+vwI9Zkq9DzFEy9hylMonArbERr9VljUZoRqIYWep3jiJUx5CoVTYTtCY//G/kVnQcsMoZYQhZ6neOIlTHkKhVNhO0JT/pry15Q/rS4GtYYoNIZDEi9hji2ocCpsR2jqX1P/mvpXrjZN+weLcB7SeYqWNhqTVON/YMeKER2h8b+N/238b0vf4mpKS5nG/7S2knAqbEco+Z/nnns+3HbbreH5F14Iw4Z9GdpHo3p2DGHRhRcJJ5x4YvYMUioJywQQEE6F7Qgl/RpfJRQq3cPES5jnExdOhe0Ijf7G/zb+t1xtrN/nakpLmcb/traScCpsR2j8T+N/Gv/T0re4mpLJpBdYnlyWLodNtsqoUkw4IRBqx2iuOCky0RUrJ1IOq5y5VyPUUBLPsEZ/Y/+m/DX1L1siaN6h2g9r/A86F84+hlYNU6WYcEIa/9v438b/Nv633qk0/rfsRMth86RVRpViwgmBUNP/bsYfzfirtlPT+J+yEymHzZNUGVWKCScEQo3/+Xn7n4GvDQyPPPxIePbZZ8Nrr74mG9H5PfhFFloknHiSvsCqPu0qJT12w5rn35T/pv/f9P+b/r+5xAwpO9Fy2ISrjCrFhBMCoab9/Xm3v1nVaPlQq4wqJT12wyag55+/wJKMubnKFm+FvSHU0NFwJfNpUCB/ODZIH39Utk+PnSQbVjT6a99Ke3upsaItSxbVoED+NPZvyt9/V/3j83r55ZfCdNNNF2aeeWYr+kVhNmcRi7oW+EJMgwL5899b/r/44osw6PVBYdHFFw0TdZooZlDzJ/miKRwhZjbaZwz5/5LpDno9LLbo4qFTp07o2JhJYSxErFkVEpWbUglGzeOu33x9cb+N/sb+Viaa8tfUv8b/mLutIM7dNv6XftMZpGhPpH8sZP78PNr/Lz//Mgwa/HpYZLFFQ2dty4v7bdq/pv1r2j+pqv/R/ucL2Hn0yksvhSFvvxMmnXSSsNhii4Xu3bsXN6b3B1g8rAnZ/+65557h7bfflkwvsiheYJ1QvMBy7nZCyf9nX3we/vn002HgwIHhm6++CjPONHNYb711wwwzzJA/e4YmwPxr+8Px5uDM5u80AABAAElEQVTX2UYtHiaaqFM17xN4/iXDE9D4oz2MDi+/8nKYdtouYRaUafotV3zj8wVBn/+Elv+4/Z15/u+a//qfmX9B2XsJ7e20XaYLs+g83/fUv/bR7VKmp5t2ujDTLDPjyZZKtAYF8qf6/DnH9fLLL4cu03UJM800U1P+4Rf+m/qf8QWWPmh5xPEnJ7mQQ534+KGalkKXSk5yIYc68fFDNS2FLpWc5EIOdeLjh2paCl0qOcmFHHr77beHp556SmL17NkzTDbZZC6FsUA1LYUuSk5yIYc68fFDNS2FLpWc5EIOdeIZ2g6ndPrpp4ev0AFdZJFFwhZbbJHxLaBpKTRGuXF3Ag514uOHaloKXSo5yYUc6sTHD9W0FLpUSLrt1ltlBV6nzp3CoQcfGrk1si7auKGalkIXW0mnnHJKuP/B+0NH/B186CFhlRVXdh7WRRgfVJUodGnkJBdyqBMfP1TTAhz+9fBw+mmnSzrLLbdcWG/99a0hefOtN8P+++4fRowaGeaeq1s46+yzxk9fKdaQN4eE/fbfL4wcMSp0m6ctnHVmSldvLUZxIYdqcuqH2PAdMC5+SNNSqAkC5iQXcqgTD8OHDw9noM6TTfutD/t976VpAd76V5T1Z57FYG2icMghh4yz/u/VVSfg9NvDLuSUFYMu5NC6JB/HdwruuusuYXHiYfrpp68Ty5OtSTMnuZBDWyc8lhxNS6GLlpNcyKFOfPxQTUuhSyUnuZBDnfj4oZqWQpdKTnIhhzrx8UM1LYUulZzkQg514uOE3njjjeFfL76IOB1Cz149w6STTFrx6bkaF3LoOCmtE9a0FDqZnORCDnXi44cWad3+tzvCU/98Upye9uNyNS7k0PFT6mJpWgprWJHkBBzqxMcP1bQUulRykgs51ImPH6ppKXSp5CQXcqgTH2t0yJA3w3777R9GjRwZ2tqKtrwmzZzkQkCHf4W+Ato6XmPd1tXdoSar0MmMRh+a7Sn70AsvunD45ea/jNwaWRdt3FBNS6GLnZNcyKFOfPxQTUuhSyUnuZBDnfj4oZqWQpdKTnIhhzrx8UM1LYUulZzkQg514uOHaloKXSo5yYUc6sTHD9W0FCKVkaiXF154Ybj9jjusS8bV6ksvuXQ4+uijyx3T8dNbxHr8MfTV7kZfDbPGe+61R5i+S+qruVuCtAs59AcpZ2RNS6FL0JOOOuao8OTjT8rk3qLZDiwXYXxQVaLQpZGTXMihTnz8UE2rgK+88ko47rjjwqeffmqmYcK9Tzk5LLjAQlGHxhk/jXksTUuh4+YkF3KoEx8/VNNSWKQyZMiQsO9++0kb1a0b2qizzgSnmNYsyY6f4iKWpqXQJZaTXMihTnz8UE1LoUslJ7mQQ534+KGalkKXSk5yIYc6cUHvwHzgk8V8YC+Mwyd184Gnch7lgQflfQjHtyuvjHkUTUuhSzAnuZBDnfj4oZqWQpdKTnIhhzrxDNX5CBLLdsgENS2FjpmTXMihTnz8UE1LoUslJ7mQQyl+azFHp/MWLonvRzUthS5GTnIhh6q43kNnzJ0cjLI11pemBXjKaaeEB+5/AOWzg8y/rITySY/DudyTep8URn43Miyx5BJhk402MVfEucEHHkhxpEyPtXImDr2nUi/qBd7RH3JwUS8iSz1eHtJ7Hhc9rWQ1LYVOLie5kEOd+PihmpZCl0pOciGHOvHxQzUthS6VnORCDqV4vgPLEihJkV5DEnGhO6ahhljURGmdXLwFLxkplkgRNCCiTt5QQyxqokwY+s8999xwx+13otKPDv36XxWmmmoql7GUW8UU0nYeN1saUsOtIYm40B3TUENMV6L8e/Vz8L35ZptAb4ew6qqrhgMPOig6Q9ywvl3292LZNqSGW0P6ueY/ZjLdsGIKed8et2wbErnHHHNM4IQ4G8cbb7gxGc/kNCGXmqGGmK5EGTv9VLPllluGr7/+WhbQrLn22qFHj/299iIhl7Khhvwg/aYsJWckQYTumIYaMlb6OWj6/e9/L49uo403Crvvvofpuemmm8KlF1+CAaQ06eGSiy8OXbFa5IfqvxnpXnIJ0kVCON4+/AXpchVK7dNJ2RG19gP6eeedgwH/nULq369/mGpq+CHLdcJ8Eh63tAyp4daQRFzo7Rh0fib2o9qNN9kE9tsV7FjbNapCxvM4w1rW2Qm74cYbQFFPQS6ucoRILeiOaaghFjVRWicXk/WShSKQXsYA+7vvvg3TTD11mKutzYkm+T59+oRrrrkGd98ezj3/gjDH7LP/aPrLJpEbENVJvylLiGFOymhF7krASxasGlKjHxYQuzjjGGqI2TpRxq/8/VjPn3XtsSceF59+5ZVXyu7avAD4O53wnz/7cXdiwpS5vqp//zDlVFMC+/n5H94SVyuO+O47+Pip8QKm7b+y/LFE1ZQwkourhltDEmGhO6ahhpguUqzNhS0xLx4utjZXdROmuEZ1pM/QV9ju99uB1SFsjAH97nukti5FTREUU8i+xpC33xL9888/P3aY4AVydrXjmzftYdPNNhMq+9AHHXhQpUgKUxLVlEEx1BAjJYoTy/RqwEsWtBqScITumIYa8m/V//JLr4QRI75BfZjG1Qfe2U+jP6pJupLaRFNMYX53YsXSj5csWDUk4QjdMQ01xG4pUbx1SqpTojnDR/YcoTumoYaMk/7rr7suXH7F5ahZcT13586dZRLtD3vsGdZdfz2vOeIt9L+CUyO+/W5EmLroq9GbpzuKeL++fcPVV18t9AvOPz/Mjr6aS7TAW5OE00K/16Z6FTKexwsNDuTc448/PvzjkUdl/LHIIguHE/03sETUyRtqiOlKlHHTLzfmI7s7jYk7pqGGjJV+LijYauutwzcYa8L7yfOfbPLJw+T4f+mll0oYP9VL1CRdpiwhhjkpo1UTJMVLFhI1JOEI3TENNcRSUwrb8G9HfBemmapowwsVCm666cZw6SWXSjzSpI3qinHhBJJ/5kltQbx61XBrSBJP6I5pqCGmK1H+PfrjfOAd8pyu6t8P/cip7RZ/i3mUrziPAspaa60V9u/Ro/ZxRlv4O40Uy0QRNADRzz77JAx5K+7QnH8+9CcmY38ipaGYQsb1uKVlSA23hiTiQndMoOeedx7603+Djg6hv/Snp5K8Oql/q/5o2KRNMYW8b49btg2p4daQKH7M0ceGJ574R+g0UefAhYEp4RRBMYWM53GG86uGW0OSOKAfe+zR4bHHnyjNE6YIiilkPI8zbPN8wNdca03M8x1Achg9enTYDP1Q9pW7r7ZaOOigA4XOH4nz1Tcy/73mWpwb7OESbg+fYE7o7bfeEl0LoJ87Cfq56sJUP9NgveD815qoF5JG5e7A1AhU7C+hO6ahhljURGmdXEzaSxbKakjCEbpjGmrIBK0fL7Aw3Y8VQDI3CoukbBeGczTPU1xhki5jXsLjKofuQqN/vOx/HiY+OHHMZ9e/X7/4AkvNatDb3OMqMOHZn06Pg++OcFfdV10FTu/gIrP/G/nXJxuhz7PHVar18z9WXmA9ETriCIGb0Dj62Ior1NSq0Et4XCVb66dE3z4Y5F17LQYSk4Y//vGwsMTii0tETUmhplaFXsLjKjlm/ZTSWApb0TTFHNbF8hJR/+efcVLq9zJI3GQjvsDa3YQ+/Oij0As7FT7++JOwwvLLhyOOOKL2nixChrTW/xHS7dnzAKT7aVhxheXD4S5dn4SmoJA8xQnPQ4eRq794scMoL9IlxB+VLOMq8OPY/9NPP8ELrO0l0Y033tjZb+z0H3csJtXxsrYTJixuuoEvsNKlKSgkR3GFSbqMeQmPq9zY53+zzTcPo0eNCiussEI47PDDpTNWTrGvmxS5EC+wZpt9Vigqd9tUN+HY6/e6FFfoU8xxL+FxlWr0/6/1f+LL4sdQADqEK6+8Qo41+V/uf55zznnhrjvjC6x+V10Vpp6SL7DSpbVGITmKK0zSZcxLeFzlxq3+bQEfNAo+aHn4oCPgg+pS1JQj9BIeV6lx01/2ZHUpaso/R/0fffQx2tye4ZNPPg7LLw8bHgEbjuP4hy+g2FegLTbaeJOwx+675VnOQt5CEecChz59roRUh3DmmWeEbt3mqYw/2IfeXF5gdQirrNo9HIxFYNWUUjnMVGaBulhe4L/7+W+2+RaYZEGbvPxy4fDDj/AZK/AJO/8+dzWZB8lLeFylf17P/+BDDw3/wvGBvP6AHexrYWIsdOyI47U74P9ElZ5UXY4Yl3219lGj4Sd9ucilY19tgNT/Cy84H321tNiIaeilsRSSrrhCla1CL+Fxlfx++x/HF1j/wAssRF8UJ5rwBZampFBTq0Iv4XGV/H79GkshYyquUFOrQi/hcZWM+l94/rnwx8MOk/HXgpjs3HvvveWF9NdffR0mnXwyee4+tuIKNbUq9BIeV8mfPv+bSxs+EuOIFeGzkOdS+/OxjAt7hk8/+UTaqMPQRrGt8XevuELNTRV6CY+r5E+ff9Uc4YSjX15gYSEUrzQOjzbnwsZrr7smTDbp5OFwlPPFinkUPtXy89c+VrRPeu7+6SlOeO011xb9iYD+xJlh7rnn1qiAKkmSx1Xkh+sv3y/twB20nP/r178v5iPii7yfSr/mLEKfZ4+r1A/L/9GYo3viCbw8wucf5AWWJmvQ6/S4Cvww/Uzx2GOOxUL3x+ILLL5Eyy6v0+MqFPX364uFt5jnmxQLBg7/4x/D4jrPh4VUm/AFFt5gde++qvRDGZMp9eVi3WuvC5Njp+Fhh6U4mjLL5ZV9rkCQ/VyWy26CK5+Q/eBrrrkuTAEfT//PelEuT3rXChlPcYWk1V9ewuMq/cPtX75fTTlCr9PjKvXfrd/twCoyJ8Bn1NOZac9TI4w9tNhA0G66wuL1mFTSZyRDxl6pk7TYQP7b9WuDxQIcd2DlEx8u24ZOSPm3TJUQfWvPwrUqnN5BGHzr9b+Qf81rHRyX/B+DSf3YMGF1x/W6A8tSqEv+e2kWG8jY1r8vhw0Lk0w0cZgYZ9FPqP7HXsDALhtv4ndgRYuNHjkqfPb5F6HL9NPCBmNussb0EMr2b8dE1eeffRamw9nDkq4ImFSyt5EMMTXxRbp2nLkTtLUfsthAxvb5p/uiSkvB9BP59BPsYNv+98CwKl12sKUXgF7QYpf0H3PM0Sjr7Ahit+FNfIGlNi5i+IjG8ymPHe6TGdf8b46jUEeNGoGXjSvKC6w6jX379sOq3gHCOh+TIrPPpqt6o/QP0R+zbSnUqf9emsUGMq75b/TTvGbB77V1nYDF/g/aXxZG4PgkPv++GEBMizPMLV9yg3aXJTpz5HkMj9tlsYH8XMpf9J9cAIAVo7KD1e/AKu7Y3/h/yP9Q7eabb4aX6KPDCiviJfphh4+b8SHts/FzsX/MhLez3WW6YyMZMs55ZwTGbscLwM8++zxMN30X9ySLdAV4HZ4eU/iMu43R1nFCOV+sQf6YL6Z2LV9gXdlHyv/ZZ52FF1jdQPV68MUMTBxshmdN+qqrYuVrL92BVciNWU1LrsUGMiE8f04Gc1EJX0Yejone77smtPx/X37L/J97/n/1y1+F70Z8i28ezRguu+wy3H5xx/7GXa0t50/D8pJAXmyiXOBFv14+mT79+kpdZEU+7/zzsANrjkKdSSHa+OlXfWVoKQMZ2/p3/AknhH88rDuwFsILrJPKyY51eHz0S1/cRxwL+7e6IZ+Mz/91110brrgCL/UhsM++e+O7V3oEeRHDR/w36M+fsylDNn58/b+EzxqJ8eTyaMO5CCVeXk87xhkYF+J7YF3w7emfwv55Pv+9+ZeRHVT45z8h6I/zgTwJpd29wCoeL8CXX34ZOk88MY7sxjzKj5j/uCCmjyg6E58hiC8Kkl6P2ZP9EfX79InrvCirqfSneTJVcf0U+lVXHfyx9R9zNF9gYeEtT0mqvDyq3sGPrZ8a9PQaOanpe+5hTPq//HJYmLjzxNgpNTFSlVoaRrePwg6szQMOGcNmBPRDD+5lPOpmmZ4EZXpilunSdc21sZ/LpM48I5bLOv3DpF50DpPwKHsRMCmkWOBGMqSkbeyCFhvIhOZ/xsYCP3b+3QusXL0pUnLJ4Bw85atmXQxFBeINH0pQLI4usRJFOQo1CQ2XHW6jv9j5cMftYt8BV/UNU05ZrDRQ4/2P2p8TLJttsTn2n2LwvVp3HCF4cKm0qYGsdFWQigQI3uH8L5S/uAMrHSH4v5b/zGf9m5+/P0JwY6yq3hWrqn9K/eUKMC7l/5xzuYMAW/ZRQGTl15ToMPLmJZGfxv9/jmMMtttue8nGxhthB9YeeIE1DvrLnbBxyX+UdTEUFfjj5X+zX2K1N76DtgImyzh5XNf+yqreAVdj1XCHcD6ey+xzzCbtQ1aWomHKjzwLaxaMCEJT/7VbDVvAHnX2F3up8QT+eM9/QrH/McceHZ547AkphfVHCBZV1wofkAm4/NmAG9m86iocIQj/qUXITPAzyf8W6FeN4uTX8iti99BhcnvxXt0dKyqwKf8/9vhHdmChreOqVL7A2g27tbMPWH+P/a+59urQ98q+UsZaTTiNsh1YnDjAylccITih+J8a72LVTBE1oYZb+R++qBiJ8cZKKy6HNrnYgaWRm/KPRvK/q/7HHaajw7L4juqRR7oddXiW41L+N0dfbdQI9NVWXB6LjY7I+/KFd487sK5BEWsP52dHCNaU0HHU/2P2v7kD6zEcITgafcpFeYTgCdiBhftp1f/ht2T/+ew/wxuD3giD3xgUvvn2uzDvPPOE+eabT75JvdxyyyLPeY/U6lmBsOq8iJ1wd999d3j99dfDe0PfDV1nnSXMg1X0884zL779t0KYddaZRZqy4+L/aqwrx25zlwrv6owzzsQ3gefO7/A/aH/N5LiUP7l5MUy1/m2+BRahjOTuwPzlqugpfqJNHWUCyn/d83c5FfS/Mf/nYrx3B3dg4eb7D8BC0imwEOon8L9XY0FMv75Xyvhfdrp0ww6sn3j87+v/uefg0yp34UUe5v/6XxWPUsy9TeXplh9/4aEd+Wda/rnw9jF8n3Dizh3DDTfcFG9YsyewWv9/7PLPXWBPPvEYdiiXjjH8EfTrZgQU47DK6quhHxqPEBxT+6MP75qr8QKL5RKF8axsZ6AayD3fElqRAOHH8r8/tv3jvbo7VlTgv//5/yf12wusSjZ9CSk9XAYr8plMZsHEceQhbw0Jzz33LDong8Lbb78t5/7PMvMsYd311g3d2rpBAYS1h5RSEIwfFr77nrvDa6++iqM4Pg2TYQshz3JnB2nJJZcsopkHTbEL/a+8PBAff7svvPveu3iDO0w+njpXt7nCuuuuF2acYYYoX9L//HPPhQcfekh4O++8M3ZDfBYef+yx8OSTT+EIro/Dr3/967DmmmsWuqKir74aHu65594wcODA8OEHH2Cb4hRhjra5wlJLLBmWXGpJyKpBauwJ/fyA3cOPPoI37E+G9997T84DZR67d+8eFlxowXA+ju66/Xbd+eCP7tJ0FWa35dQmfuV5uvzzzOQH8bG8oe++Kx91nnXWWfENFthrnXVksqVI3QFNN8IX8cH2x/7xj/Deu++FTz7/FA3rVGHOOeeQs075IWteY6t/xIgRclb4vPPNG5Zeaqkw/fTF83LaeaTH5pttgTRHx9Wj2IE15M03w/PPPR+e/9cL4evhX4du6AgvBBsuvfQyQc45h3T2mtXl3yUtKJ/LpZddGr795puw6KKLhVVWWSU8/fTT4Sl8QPNf//oX3uRPHHr3PkVyFVvymMLAl18J9z34gHTGvxz2Je69S2D+111n3TD9jNNX9PMDhS8gPdaFrbbaKnTp0sVuRe11/333hRcpg4vlb+GFFwaW2/8FDAT4/EheZbVVwxKLLV7clsrV2//YY4/Ft0rS9uTPP/88PPjgg+FV1Lt3hr4jdaUbOisbbLBBmGaaaeQe4o+mqzBSvx6Oevt/qA+wwwcfoj5MMTnKAerDkkuFJZZaopJ/VuTnnn8+PASdrM1bbb0VvpcSbcD8vyC8hyS3rJM82ug51NPncRzEa68NCrPNNgvssUhYCuVkBtZrvR2FRgjh/Q/eD3feeZeUk09xnN+000yL+1oyrL3uurJi6XKsxuRZuYsttmhYbbXVEbNUXlzuaxQJ98P3Pwh33H1neHPwm4E6pptu2rAEfMG60PHV11+F7fUIvE3wAmZXHAuE/PNieVP9rP/rrbee6OczffGFFyUXPCe4eoa+ZVS+sfL6a6+HdgxCf4ljb2bBYBDHx2KV6eXyjTHWp/Vt1aEoNf3sRDzyyCPwdU+E9957X/wQ5VfDxNaCCy6UVjwhWjy6QHcQJP3Mx/g8f8bT6wN5RrDfm0NwvvEn8NtdcKTkEmEd2I/fSeM3xHjFHVh7AMv1W9DIhoSj0RF8Qs9xxioi7kp7CP5+4GuvhqHvDEVdnV5Wlm2wwYZS1v3zv//++wN9HK/4HGYDxmeX0iePQXasX3/1dTxabI3fdJMwxxxzFqxSeSr8z9vvvI3vptwsqfFYBL3W32B9vKPqEDpP1Dnsuls6QkqPpemAAxTOO/9c8Y/Po55wMmDwoMFhqmmnDgstsDDanyVQXvQ+eWv1+vndrQeQv3fN988S6LPWWnutMLUdzaB3pVDzrbCgF8Hnnn0+/P3vD4rOnXfeBbb+PDz62KPh6aeejm3pb9CWrr6GlT/G/hpt/j333hteeeXl8MEHH2IlYecwy8wzYyJjeUymLw97xroSNbWH++9/EM/keQQ7JN+pt1PA++77P/jrlyTKGmuuERaBr7CrsP8LeK7MP1NfBe3uEkssISIVe1lEIknRkCFviU8ahEmYt99CP2eaqcLMXWdBHV4ntHVrg2y8b03vOfguljsOvrbZZpswrayAhVjpuvqaqwOPeumKbxOw76EXfcVlaJu++frbsOhii0j7R///7DPPiK+YCZM+Sy6+ZFh22WXsW0vDsMP1mWcjn5NFM8w4fVhgvgXCRjjKdCIcqVl36f3W8Xz+NX8iV5iFqwYfx6pByl2JnSDTIY+ans//LrvsEkbC9zz77LPhRZThV197DT59Nmnj2H+aEavk669k/zr9+njYP7v33v8Lr6A9ev/D97GSb5Iw08wzoTwtF5ZfFmUKR0fVXWxjHnzoQal/O+/EvuDnOGLpH9L+x77gr9AWr4Wo8T7oPx+l/0Q/7t0P0I/D5NH888+H8rQK+iALi/+8HQuR2P/ojxdYU3EBQFH+vH72e++55x7pT7K9mgpHDc4J/7Ek2jf2e9OV8s9kuJOA3/ZYDH2VlXEc3NPosz799FPoN7woqw579+5t9rc0nP630D+/9eabJTcyQQIhPq9fbLihZJFlZDfngzTfhK+8MhB18X7pv375xZehC8pW25xt0s+fYYbpkVJe/uv0G80hWl7oF+7CJOcbb7wR3n8/tk3sVy2z9LJh5VVWwvedJrNYXw0bHi7Hjr/2Ue1o/2YOv8Qkcyv9PF73Gn6fBn6F3xHcdNNNLR0i1P8q+vX33wffiL45V4KyjWhrQ97WXUd2cCQ7FFHxLDgIvuwSPI9vvgpsQ3Wlv+ZHlTAvd991V3hjCPoKGOOwjtD3sK/Ato7fwKL/52INvsDKr/T8NX/k33j9DWHo+++FO/6G3X5i9naUwwXkyB/qX2WV7tLnoSx3FfHlDPPP8QaPEHzzzTfQt3oh0J+wvzIPjgpi+7/00ktLH5rx4lXVL/777nvCK68NDB+8h77flFPIGGCppZaWslvOf13519QJK/KgcZzCPvO77w7FOOUbmeBmW7U2vp2afR+4uL0r8K2jYSgTvLZAWZh1Fh63W1xF+efu/yuvuCKaC7agT/oAY7mbbr5J7K/jL8ZiP5hX584ToT7wmeAuoWt86t/LL70kfe2hKFtfDR+OvMwa2jDmWnvtdSQvdfmnX5K2A3p32XnXMPyrYfBJT4dn4PvZn2H9X3KZpeHb57fn/xr6hBwXPffCc+E7vGiYc6455Rsp8+ElgfY/JVOln+Hwnf8n7TGeJ8e2U/B5zil97SXxsfWoQMtBEVmDgD9k/M/U6vJfaMGz573dh2+GviR9hYknnjjMjG+7Lo++wnLYdcLJMC3/RNh3u+/++4B1iBPArBtofzeEf5PvzuIh7rD99iiz7NfGq04/5zFuhp/k3d15x134xbJxpMlywSSlr4aFaWCI/r44NulqTLLx4g6sGTCWZV/thRfRV8O8CMdUC2I8x3pPH+SvOv2pfcD46oOP8Ewmi+MrbR803wr1RpBwJb2i/FOnHCH46KOifhE7QrDUXwSX/YiLLroosF81ESYzl1hycZTb2eQF1ED0I7nwoR1N6hKLLYFdTvvge7tdEUscUaZ/FMbvF11wYXwWaINXw7dPOgE++eSTgWNQXrzfKVHmZsacUceineZOtzhG1gwqlChmd0Qt1LaHv/zlYnxX9jscORbbX0rOv8D8YW74DfYpF0J+11xjDZKlHxfrVxyLdinGosJ0P9egb/bRhx/jO8Uzom/2m8RBmboUPofzD4stznHkqmHQoMHyzNnvYf1baKGFwsKLLCQ2atX/YILMP9v0e+hT0Q5xUUOaB5sXfnxp5NEyGt5h2cQ4guM/7/85nuE1EXzW7uKzYtqXXYI+JOY35p1//rAe2pzypeWFz/U+tO/vZW0g59LWRxvIsXp8vhK/uJ1y/5/j9mcxF/gC2pbX2MfDuGThol2ZXufjSjeg+kvkIqj5VpiTy/pZflj/X3v1NbRxb6JfjHm62eaQejsL/G7dxft9+O9/lzK1E+YeWC5TH/Cj8JtfbxnWWHN1RE35/6Hj3zgOf1jmHDl3ycZlvnnZj+wu5SYthGrHt1QHSD5UP+cvH3oQcyV4/lv/DvMocuJKso/a82WMr6QNxZh3JL4LN9scc0DHvNJGyxyKmbJdPivxLl4s+3Ep52G5A4vjT/a/lsTcjl2Fuq9Q/u+9926UW/qpD6XtmAPzgewLcM5FLud/LH6B0A4PP/IwxotPoa3P50VZf8499xzzv/3780SYYgeWZldhcgRSnxi87PLLpH+16CKLhtVXXz28hvEQj+hjX4/+tWvXGeU+u6MfTX9evsrjL/apODfIe/3Xi/8KE082Seh9Uu/isdiNoK2C3e/H3CDrEeYG6Vvm7tYtrLPeutIuVPTgZtlelRfexjm6BzBH93oYOvRtGf/zSMcN0QZNje90IoqUWYGl/PO4VM6rS18admVeuqCPvjSeS3fMcfIbUnppeWG4eg+YO3nw72Hgq6/gHt6VfjH7ihusj3uYFvdg2TZE6v/fH0J9wv1tzXm+aaYD3gHNME4CKPreq8Lm+jkY6vfzf1vj+4XsI/O64YbrMdf8Psrl3xCK9Y/fwJobc5Us/6ustLLNvz+Hvg99OtPbeuttih2niFYqf6+gb3m/9C3jHDjnz/h81l5rbdSztMOP+lMGY/44Z/0kyhDn314b/Hr4Bn3Trmj7FlxwgbAO5n7ZP/H2jEkgLvLf6lL5cRn/QImYo+z/xnb+5W4Ze8Y6Oznmbtvmmkvqdz725B3rc1VY5EKDCk2OMUr9iZL9ixQMqHwHfgKreMaOqY+dzxHswpCm1yQTUuGVCD54yy234MOYl2Hl2khrY1kZeVPMynaYyN3yN7HhL+v/FzqbRx91tAygeFvMJy8CTjcsu+xyoeeBPcMUk02RMlHweVzWySefHB5++GFQoj5t46m/Y6eO8u2UDdBx1aKj+jkxOACdTcbqjTT+9Oc/w9F9ZfrZiHH1ll6cWOZK4+GYtDddcpcxZX7HZPc99ggzotNqyorIzMsHGMAedfRRmFAfIgMlDnzlrFqkwYEr9b2DyU0dQPXDt2em9hWJiWgmgJaCokloNQwl8XlwtRUnX7x+JkuZaaaZOmy//Q4yqNY4kjB/QHjv/XfDOVgN8eyzzyHIYualov032vAXYc8/7GnRiqhy66MxwX4SjitopX9ynFu6/349wkorr5SlzHibbYJzU1EgeG4qJzlPPe3UWv3LLbMsVsgdJue36k34u9Tn7++L5Yjf2GL52wgTCGzo45m70S6T4b6uGYCBSWF/Hsdy0sknhUcehoNWotwNbAJlnfCNqT123yNssGEcAKv+667HB4XxgoHPe290+PmC1T1SuV2e1c1OF+Osj47mPvvuK3RvkFNPPa0YoLWHU045NSywwAIiI3pUWYyV6MB4hOBj/3gMqzs6h9PPOCP8GfXuI7x40uev9Y8OeI898ZFjvNC0q5QuJ4KPQXn+Co1kvOLz1/q3YlEf2EnyUeXsZqzwYfk779wLMOHPSfd49cMRHAMGXC2B8y+4AOkfjQZzaDQxxo58/vQP0+Bl1AknnlAzCIQM+HfdfRfSPi9w4MQnyJIqdsbPHDjW40isoNx1j92k/m3S4ng6f89yQyUCVyn1x/2yLMQr5b+tW1vYb9/9Qo8DeoDVXnzXghMgvH/I4/+mOM6H9X81acQPEt7f/vZXrNy8QHAeL7fzTjsJLj9OP4+L2Ha7bcNwdIy4TZo25WBHVllvupnYiy+jDiyO2nRRpUNFu/Kj7+p/aBvKdERnYCdM4HLgruWffiibLCruaHyfv9Y/HlPQt19/fFx+VKX8tbW1SbnvdcABcl8bywtA2I83Wlw+TxmtYHC3Ib+BNRHq4ulnnIk25qjw4UcfysfsWf/U/02CFyf8NsLarqzfdttt4YILL5T2h89hJz6HkkIG+aHo7bbbTgb6k0wyCc5n7hMm5wSru0/em4/KQTvvRfWz1Kj9Wf/4PK/F2dEaJ34zDnUC5f/0M04LZ511dhg8+A3wc//LOnvEkUfiZQYmm2r0s8zRZ7FT6fOv+qfCx8l33HEH6YCV75lhuyEJ5MH4kg11Gn+9TzoZfgVtKfwCw5TcCS+1tC3l838JL+iPQhkcDhnVL/nFfbN68PlzksW3f9fhbOwr+1wh/H322VcmzEvZDHvBdw55403J/3rwrZxU4aW2JH7KKafIy3/av3fvU8OCmNyou3wc4YNw6223hEswEcDjWMr2p1JOQm/JCQ53Y5zUiv2MEHgE5GyYAKrrf+2444542feRTEDzHlU/B3dy9Bee/yabbozB4ZTiI8v6eVxR71N6ozP9NY5lOAh+/SO5R+Ze/R8nEni+uQ5cVcfY5t/ny8eNAx7uwGoPfXBsTxxMx1R9/i+48IJw1J+PwmDk3Ur5nxqTeyeddCJeaMWJPZ++2r+VfvJfxGCS/StOKlDO9z+Z/25tbeH4E47HJNmUFftLHcMkFevfSSy/6AsOx+AWzQ1yFMLOu+wcNt8UfUHw+SLiKLSbnLBl2U0PG0z824X+E/24O/EtU9qDCwA4IAJLLvV/fNl01FHHoJ4MF56kBCGWf15cTb0n+pP6rFSVlAccwcG0N8FuHfZV4kso3k27+B8eteEvf5fU/09Mgv/p6D9DV7QS783rnxQDW55fr/fMtLgLvvcpJ+NFtetrx1iiit+T2Q2Tub/YYMNkEuEUaSsO/XXln+yb8RKB7T8nTnk/an+5EZT/afCy/gT0X+fAJAz5fCnDesPJPh53Qv8bVykztXRRlt/85CIljI/CVr/9XdgG7afkGTz2/07CGOARTKKo/b1+9ud233X3sOEvkLfi0rjxeaDNxU1yEoQ7mzLDgRP7Cv0weIffgH7vf7vhJcZ+6OP1QFvH8sf+J7+XqemrvjKB/F743uXAga8WIvH5a/+LT3bHnXYMW6D9oizzSD9C/avj6JZlV1gunHrq6ZBi7cif/7LLLivfD+gMm9rlbsjqGspuymzSz+MoWXZ1stJFhX1bP3/VRZkTT8I4AeM6xpUbdP0/Ttxsv8P2lYlY2rkvXqBTfnnsuGF7yMvr56TgnVg4Qv+/4YYboe3fIzyFF8Bss2j/uufPj9hfe/W1ku641j/NyyMcozL90vOfZuqpwo47oN0tTSrznvsV379kvLPPPBv3+Ce0EZ+AU9i6yNlee+0lk7NXDRgQ+uPIYcp7/9ehY6fwe/RTuDCizv4cg7M99uNf6tf6x+e5x27wRTOmxYXepj9k/I9brb00fb6M4mKkr4Z9Zf1/n/+2tm7hePQV2EeVOPjhy8hL0U7TH/Lps4SLHvyo/S/FIgCWzzHp5yQl2wIRcuVP9U+GI9CvRb9Erz54Xtdw/IJETz/t9HDW2Wehrzaoop9Hfh3xpyPxXRAu8qu/Yv8a+UY7VKd/eXzjdk+cSsCjEfXS/JcTFXohJOXx+BPCI1hgRP8vO7DwDazy9TG+l9SzR49AOOVUU4ZDDz40LL4EFkoW179eeknGf/rCmO3UKaeeGqbHRG1Zf198z/tqlE3S/7DnH+RFIpPhS7kDMbfDbzPJPYLv61+fK9GXKCYxo4Bq51OtqBHab3+zZfj6G/YrYx0pP/911l4n7LfffpJQnz79sFNrgNzueWPYMUc/+hHudcGFFigWskb94lMxb8CLp2xwEvQvF14kN1bWz7Za/HoL/8dyzt0XcX4ppq/1jze43DLLhV6w1eRYNM3rSZTNo/78J2BagpL/JWkyjEO0H2C7b0Hvjgn4gw8+WNLwNqRf691b2/eq/k4dMKex5+7wM7EN9HF9/5/f6WV95YuQcv2bBpPdJ6Dssf3m5dMQgvup8EoEH/T6eUrFmWedGQZioU1ZfweMb7fAYk/6Wzr7chp8UcnyxzlFzgd+g7pHGdpz5x3RB+QpQMX1Q8e/7Ef+Gf3It6UfWdgCeqif/SPOBw4txuHU378vxuFoK/QSXyNHy+NkjqLsSn7kB+mgneF472HMUdX5v0kxX7D//geElVdeUZOU73JzgRIvJuPLH8efO++yExbBbGF83JYsFjgabQfngcTTFvq1/K8AP7X7HnvaRoJy+8N5UY6Hh7z1VqX97VTYgf3pO/52h/j/fpgzMF8vd5J+fP5JjW31ppJ/1j8ucuduLtZbtv++/zsTFk/+CT5Zjn1F3CIbMQ0evYz8c/w1YgT727FvzxI02WSTy25P6mMcfifxZNSjRx7GHGuk4De1Px0xicW+EeekVQfj6qWLAXmE4JmYozuqmLegfp3/YoHkgk/OW6zj5i18/m++CX1pLNgahjkir1/bv6kw13vC8SdhQUS+kIL3wfEc507Y/zvjdNzDMZg7ef/DTD/zxrmTPeHP9R68fvZdqJ9WOQ8+QRds8OU25wJo/+6rYAfWwQdq1oOf/6M/1jg98b34gS8PrOjXGsz5Ge3n9uvTF/1tjOXwF4/xzb9DKX4OY7y/P8q+fiylLMdy70D4fbUdiv4Y6XYVD4uLezgGeRULoVV/lGGoXeb/z8B3aP0GgCKqiJXLv9cxruMfjev9348x/2LvMvxiA58J5KQUjHnDr44/hFD8eNkx5Z/itgMrxvVRSfFhj0fpjF2QNE6Uxi9LnloOMjx/ncfGYFQmojNg1eICeGvOjxrLKh1UaH6H5ERMTiwgk0UauV3e5h7Y60CsdvyiUN0hzDPvPJjEmwRvyF+FsxgB+ugwC1bSccKdH2bz+jnZezsmfWmUjhhkcvXC1JiIeweT3kOxo4StQUd03g/H8UzLYRWu3GBx85xY4WopFuFp0bB+ihVtvIkZ8UZ+cnx47jeYiFp9jdUlDt869+zVKwzDfVJ/p4k6hnnmmTd8gRWo72PlBPUz/3Nh9wmdDp1PvEBH+nwjysk0fhdHjAcTTDfttNL5HISVWdxhRMmZZ5oZL4nek6jljzbGlPBbsr8Ix1ZP0PwnxlLaRRddGG699bb4/BCH36rghNprqIzfYtVS8RDQqTxQVknFeDEN8jlgfgO7TcSRgjnlFFNhlftCWGEwLLz08kvSaPLpbr3ttuF3v/0tsFz/hZjAuu22v5p+Ogs+s/dgQ+4GU/E94Zh/8YtfRPUgor3BC6ZNYcl22K1LGDb8yzACEzfTTD0tVo12Cx9++GF4C40c41P/yljBcoh00nL9pkBSTjw2aHyBxfjsZOmqsEk6T4IVK7NiBSZ2YGFSURwW7H/BheeHv/7tb5BHWcBznwcrWuiw+LJl6DvvgIyXp6Afho8X8ix9vd5CZ+UPf9hLbnLllVYKhx76R2UJ/Pijj8MOO+5gNK5Iv/SySxBWVwkXCVts9/ttcZ71F9hVNF3oc+UVUR46q1fKI3nsIPO7QDQSVzBy9w3LP1ehcDUid3TQCevVY/8e2JmxJoJJP/P87ntDpT58+cUw4bDDNe9886E+fCErs2WVI9KZCys4eXwDJ5fi1R7kmz5oYFg3WX/TLqOA76fExoeypL/z9jt4CY20UUa4em3Q669hVdsIKX9d4GdOPeU0rAbBgMmV/+ewuv9IdD5H4WW61n+WMa5w/wy7pJgX7jZ88403BN8EAw9OvMmVmyvSxB55/q/GoIeDMtqCHM0/GzeujGX+Z8bKf07UUl/SERXIC1lZhcIXWKvhRVNsxLmind/C4KQkB4SXYVGAtggxJn6h88mnnpAJB+JrwkcdgMkv9v7YOPND7dQvq1tQj6lfL+Z/X7xY424xsRl4XBnElfNcmcRJSorPjM4cVw4xd/36x4+mev0/5PlTwQB0vNnBIc4/1hX6/Q/QSeJOWF70hezk0/9vvPGm8ozkKSDPiJJf7vkrQ7739thjCHbAzp5ZZHcuMi07XDggHzwIEwvIFPWTvt/++8vqGwZZjrn7i/aYHqsOL730ctFZ1s+dtHyJS/+/xpprhp49e6r6AkarJSJW+WNVYL/+LDvtsppa9S+9zDK8DfEj8cVnjNUH7RS3zjOlWaRMvS/tT7duc8tuhMGDXsegd7i0P9xxciK+b8C6GK+knytpb731FpCj/aaFv5LVtFhF9N1330r6/BHfj6396Ypp2G+N/fkCVQbLEGK79qmsqkVnDmWYA+4tMamwmqTZjpej78gLli9hY97L9F2mD926teFYmm9lxeQ3334jqrl76thjj8VK0k4ixwHOXlwYAf2rdF85HHLIoSInP7AlJ1rY8ZSnifLPMn3ZpZdKXBXkDsVtt90ufIF2nPm/EpOdrLt2xUxaMCKRKJOjfdDPgX62f/Q/Cy24cPgEL51e4WpkpN0JfY2TMfE6f7GggA+U/i4+P/q74rsYknCujBPxfOm0AFZx8QWWXuwb8MxwSk+PVZaffoL6gV7iXG1t6A9Nid1GL4m/YP9jcezE5Y4h9n+4G3ROTBQMGjQY/Ra+EGAKxYdza9tGYUvxUN0Rxvu035rnzwHsE0+iXYEQ+4I26QSCzz93CPL584UAjyBi34z9Hy1/LAunchIMzy5dphnPFniN/rdQNg4+5OBA/8mnOR2eTbdubbKjmjsSvv2G5bsdxx0tjDbw2GJ3SUyXeuIAgG1SwA65adFORB/UdYauYbIpJg2/kfK7Onw7/Oc++8FHfUpRuZcukGdZGDQY/Tj4C+rvCv/5PvtxKJfZilGJ1QF9naHoS/WU0wJY/9X/ffH5l9b/Y/Jtc7XJS+uJJupcxIQ3xG4jHhlE/ez/fAF/Sf/DM+PZZnL3eSo/KY9MTzIIfRx8qf/lLknSKbnM0vBByAD7Mj0weRmvmAYHlOxr0/7s/7JN5ouEd9HP5oIHlj8Ozg/Dh5O5g9LHLQIA/n48HrBK+P5wCl4oUz8v1st55p4HK0a7yErHj1Cu+fyn7zIDJqg4QJxW5C695JL4rQDo32fvfWQ3szDkJ+lgftjPpYIL0Q+edZZZBKfYBchb7M8hG1j0xl3R3I3KSbi3h74lcux/HI4PSy+Po670HhlX+o5sy6G//H1W5pcv5PjdBq1/LPPcqcWJG343i8+ffQXu+qJ5ZLFGtgMr5sF+XfnnboOh6PdyUQT1Mz7979zojzLAvoCumNbJHN48XzDT/3IhDHemc4X1h9ih9tYQ5LWwv0x0ok5JoiCq/qHvvIv+Si/40C/Biv3fuVGXuWMt9hlIRh8LO3/OOP109P0600zFFVOJAY/n7NhW3Qqt1DtaxilcOf86np/2/xj7wF4Hya4H1jP2f9hv6oF2/I0hQ8BtD3/CCywugNRrENrKHj0OkBeJHKeed975svCHJ3/E/lwIT2Eno17LYjEc9bOs7Y/yI3czjvXvoov+Em7DmEufP8dcs842q5w28t136Mvij/fa68Be6AuubvbnPfTDBPuAa64C1gE7SeFTME6aHAs5F1hwfix2HCqr3XlP3HHAld18ac6dLd3wPNisMV9iGmpB+TgTEyttbd2YNK5of5bxXpggis8zlv95UX6+wPdZtf9F/XNide6ZZ+J5dsTzLMoIU/kh4/8soXRLxOR65613woEH9xI/ybtl+9etbW75phX7Ud/ArzP/C2FX07HHwa8XZe2RRx8Nd92FI6eQee5Yi+WoPSyD3WrUyd0p9L9+N6cojCYRlD/cwdG3Xx9g7HM/JbpY5pddbhmxHv1vjx77ix4anO2I7vLU/j/rO/3YJHjZxfInC/5gP37ngxNh9DV2Ffo5juwl8w1st0dLO8kx5pf4hhFXouv4e6452zDfcDqOeuqEW3QPpZxgKcyFHFxEynxxZwIXA8rl8s8XDY/CjtS/D9o8nqRDWzP/QOR66aWXsZPzQGl/6H8WmB99F+z+TffSHobAp3AxnyxuRjydgNbyxwWVx+HZUTV/2O/mi3b6f7ZlKhdvLdcvNyHxQC/yz5eZ32He6Kmn4BNZ+HGz06HOzT3P3JIWd1Bw1yvT1b4JcZnsnA0vVipmbMciiZ3EP3Kxk2+juHhxc8xLsP2dYcYZpe9FnV3Q7+WJNNwlxR0pWv64E2GrrbbmHeOK90ZMnzf7L9QvbR/q8KQTT4odrq+EEfATlJ51lpnhU88MXC0f2/D+EG/P/P+yGEfQ/3IxMn0hE+SkNedPqHNVjDfjN8STfjDkJcjf/oo5DeinP+GYeRq072+/+7acWEFpznUc9sfDsbhG23fGDLKAUvv/nHR+C3MgndCO+j7etxhjUD9P2OHiY562IcqYgF75LRXUSLRfV/40mh9/cGfI64MHg9UuO9p1jMPypzZn+doFL4i8fpkPHBAXKU+LNpR9QD43nqTDk5Z+jQX4a3AMA/0/dPzLMe6++3A+MOrgffFkBu7YfB0+gm01r1lmwrj1/aFyn3FB+5Sin88o9lnjAvxzcXKTvhSUiPhhH+e2W2+VuMwHx7zzYozNOR/d7cX8ywvlYmHOX9BWvYP+HE8e4sV4XDTEuU7afwvYbcklljKzcV70QLYdHMuhbLD/x7aDc1Pa/6Vw7MeyLwA/hXC82qX/Q9/AeVGmzx/2TTj3wZMjWG7pf7grk/0jlvX+/bADy73Ik7RYz4v6H9OOvzp2Yj7Y5g5F3kQU9zp3t26Y5/sCp158LIqpn4vbeGQid9PopWmQPy3q1OeffSH+l3OCfNk1MdoSnnig+qUvefvtkI4LlebD7mjWI9qVGxSYf/Yxy3ODog9KZDHgE49L0D//Gbt2RXmeAvMWbyCJ2JtgWeyx/36yw1r1MyJ3Fp16KsaQzCz14bnw5Z3M82A89DHm5sljXTwT83Oc85Qrisd7wAss2q3rzF3R7+A8TAgzYZ6Qc75vvDlYdlJRP58JFwT4BcBMqy8Wd8uiBUhcgHk+Lp6kTexbrNCffBFjII6b/zsffbPZ5+DLNe6qvUQWBT4tPh06Mf6eBnV0nrnnFf2cu+WpTJIG2mCO1RmPJ5rpC0lhgsb+2K23oV4UtmHbMCsWHtCfsm+JBOXiewmdsyCR+f8KO+B33Xk3mX9muFPHiTAHsIAsUGR8liVGXxbjnyOPOAJYYVBg8fJhj4//+Ifpev/3ffMvrLPsa+r8C+cs6Bf4fUT2LTT/c7G/h7LBsZ7mX6xQ439jpdJ6HXMaf/M85vYo8xADJHmBxQaVjWBKhFgRlngxMn95ecn4qHJKlHK/EhE/0MHJX55nPCUGfEceeQS20S2I/ET9L3DXEt7e8ngKvoQ679zz8TKLna12dEqHhwPwQoRHGfFWN8POgV/9+tfobLAydQg88uNYTLgPGjSY9QRvrd1LDai+/nrsZsFRELz52ZA2z6WeQwo8y2a7dNBO7n0KJrJHSOdROotolGOZQudFBgeYtKA2pMHvkHDXyQycEHcW4eRPTzxwHjsFMdlNxu2bU8KZMCJfOB2HSZE33oyDpm222Tr8Fis8vf25MvrBBx+C7g6hGwrGXvvuFeafb0FRw4HfrbfeHAZchdUfUNAR98435nHiAzrsXoDq5eyvJA/V/pEmwqi0t4WLLvwLC0iYfa7ZwwE9ekmnjvc5cuSIcAeOLrzwLxeJ/qkxYOPLhammSvo5qGSDyHvris7agbAJJ+rY2eHFziyd8gjYu+uMXbFSnS9eeEX9tyDuXy66WPRPN8N04aADD5FjE2P8dkyO3B7Owwp15n86TGRxR18nvLxg/uOEPzq1kloH2UF06KGHyLnm1MCLK4NPgZ2564YNH51nPCIi6jc7Mli8JlYOJzZZ/tT+k2D1Eic8VsBLz07FoEiU4Of662+Q49+Yr1lx/BE/9MxdPXpxxcvJJ+MIH3RCOKl0AgYLcZDCuw9ht112xbFDcSDKTgkHH5GDnUPY7nsOGlDamPeLnIdz4ch954QDtwNwb9S/7nrr4YXEvkw2u+qeP9Pj5N0TmNRv74ic4+yH+eafD4OTfUK3tjaJz0ngm2+8Idx4080Io9MzxWSyeiJNSPIji8Nk8MfOAMs/X7hw1XW0NXbpYZBNPW9hEoH52GabrcLvfvc7SY9KpJG6doDo1xUSmn+uKroWLzc0/91XWUkmHPSDju9iYHfsccfLsYDM/x+w8pTHgujFAYO8aMYL1Y64tx123BGDFT2ihQPS18MpWF01lJ1C5J81jd+c2KOYMJKiARrzHi+PRwoHZOx8ygsy0bEDdsqtJ40Y7c6G7OSTTpYJqpgPvIDhDiKsYJULSY4OmJTelCuj2YjjexRup9SJxx8XHnn0HxDtgHROwOB8kRjP/Z4Cv8YJP9qfL2qWxLGFvGSSCp1Mlv/VcUxH3IHFPPDqIKsHH0Lnhs+/ba65sWMFfmj++cVW9EM3YyftNThrW+3P8kc/5LdU/9Dnzx2o++4P+41k7nGUyw6w3/rryTFbWBcVXsfWfvrt+HKVHfkOYSOx3+6SC/mRLOEH+a+7+ByOw8uPx/iyFnng4+TRSvvsvS/yPRfC7Xjx8Gm44aYbw01YqcRkOEjhJC0npBnhuOOOw27FRwU/8eSTwsI4GsyuQj9XnD7w4APiTo5GmY9H7aBoQb/3/zFeca+MW/ifzbASiSuSVsR3FQ4/7Ajknprjb4wTB9lcUUQyU1gWu08PxOTGZFgVzhtnx+NU2OufzzwLbhyo7rLzLpl+dtjYcaODmxMDzB69eqDzh7YQCXKRyJ133oG24SLxf9NhAQhXTMVjGvy9xDuSX5LlhmKedDClN8mjffb6wx9kYl9oEqmDDFi4q+79j9BRQv3bGm0lV4XrSv/PkJfT8fLm6X8+gxicEF45HjFQPOfddoXvRGd6cqwe7I+XgGmhSMC3Fe7B7rQzJU8s/6z/cWCnK8wwcQ/fyVXFLP/rrrO+7dAqnkxheZ/nhPNINb6Qln4OOqc8LkAKDu6Uxzny+fOoo1kwMc5V/nHyBf6OC2X4/JCf88/DC3u0Gfr8xYzCCZgk2TF8iJdhC6E+9sau2nihhiAv3K2pz38adLiPR9mUvg7y+Nbbb4XDsBDiU0yGqxB3n3GV30SYAKKfehIdf7ZJMvmLstmnfx95+eH1U1/MbcqzUuK9uF+JiJ/iuegOLMpfiQUVnKTV8u/zzwK2ysorhx4998cE3qSij5M3x8Pn0S+w/d0bfbANsIs7Xv5e6vVzMqDXAT2xQOFDCPCYxq3Dr36FMiWTXwGD1M9kwuSfLFNQ0H2VVcJBhxyIp0H/H69+mKS8GpMX1M/+x/IrrIiVhXvGxRGsJMXFybkHpB/XHtqwCGJvPV0KjgAAQABJREFUtAM8nogtNf3iLVj5PwDPWssf/Wj//lwAMBVSiOkMwyRVz4N6oj+JIz3wxwm7X2ACgYNn3s8HbD+PPQ67sLnDazTqCBYDSfsZb0IGgLL4Idqfu0O40IQLZeIEAbI5lv6H+nisHAfp8h2+w/EdPrkLzTMlOqDPc324/PLLJQezzIo+D15SafnjXfEEBB6xzLLGxWecRGS7Ei+mwatIU5KM6Srnww/fD3vvtU/4Civnaf/fbPlbHPG3GSbhot2+G/Gd7GjgET+0KSfm1lprTSTZAf3uN8K+eHFF+hLYIcCX3uX884Xh7tgRzwe8MMYnJ/U+Se6H+pm3K664nEUnzIJJjiORt9nnmBMcXjjyGytp2X/ncVncOXE8J50xSSMRoJ99083Zd4T+VbujbOHlsOofgj7Qvli4FneCoz+y/Y6yq37KqfGscS8DXx0okx9xskduL2yKYz53473KFe1UBBIQw+GnqH/xo+t9wW+X1efd2rpZ/ZP7BCce3bI5XA9KHfzfxFicdcihh+IFz7K483g9BPuehrzyG1B8XgOu6od+HZ9BvPhx7J4Y2HORFtP9PY5h4640ll1e9I/Hoi6/gR3C9L9b48jU3/3ut8JjenJJlmK+JBsgqn6G/4pFFheyrQJ1zjlmw+Kcnnghhxcy+BuJtup2vKS56MILwW+XSQzuapUjOkHhxWOMevXsJWmyf37OOWcXC6g6yKKHf8FXM/9/OuLPYZnllpU4Xv8v4WuZf65CPRwnOaS7E9E4ATOW9Y+LBS+66AJJgkcLH9CjZ5gXE6xc2j5ixCjk5XY5oo2PkZNcHP9MjYVkqrMf2w4uXuENwjh8IbkDJtP5kop17TLUyZtvwXHE4LH8cdL6CIzB58ekGf0vx9BctPho0Y/Z6BdFX7fof/ClFV+U8IhGpr8dfNFGG25gz5wvzI6FL+Kxl+Rvi+f5W/oi4PIDHeM7/mceJRnLbUxW/Q8nkLlgki8AmP9tcBzQb9BXkDYfEaNfPw39nn9K/lfpvir6CvDruCetf7zLzfE8Wf9WgE/nQlZRWuR/TPoZV++ImPhJ9NXYNtD/af7J06svFvJcjd2v6v/53S2Ok3k6AvPLCdNT0Yb887l/InpHOXJ6V/Rp+Hh58X6GY3GN1DHMqdD/8/SarI6h/8PTBd6E30Nmwzbboo5hvsFfPv8xVXILLVBy/InHYX4E40D88QjBk4odWNRP+3Nh1tFHHyP6ecT7Jdi5ykXIdonh8AP9PO3keTmRhem3hz9jV9DSWAih7T9XlV98ycWS8rzzzAc/fhriqSacYgCb7rjjDuEzTObzOa8Af3TEkX8qVEU506sIydBF/XUX83/dtddiRy594mjxiXN3myeKSpIxXY43r8YuASbDCdPZ0DfW8ueEw447xcVFC2K+gwtZqZo/4lNRvrT+xZ11R8jRnrEcsn25NlyBPhEty8W3PL7U55/jLr5Alh1LuI8t4Ft+9evfoA/FcUg76vDHMsbjQh+wMUf1h3jUr8s/dzSIz8J8xeHom5afv8yfYBEUDbxqdxzbJbseYk6RJI7o4skwV4j9Z0f/Nc6lcU4j2im2772xeGYU5jQmxc4NzmmgDSzsX+7/r4wjvXqinx/H7VioDv9ynIzb30LW28Oee++JI9B+IalTP/PFK2qLv54Scfdb2L+Vfk5KH3oI55cWhkg7dtMPD/ff/0C48IKLOEjGzDNOXzj5VOm7MVXqZx7Yd9P5N/p/7s7tgkl+f/3Q8S8z2fvUk3EKBPsy7aGtDaeN7LO3+Gzmh/X/5ltulYUvrP+8O9YLLoKJ/UiQkEbsV2OiHjyZ7EfZ1YvHnl5y8cUQwwLVLtPKgkEebc0XGSi04W/4vvX5510o+nlEJ48o50R2tHw7dhRdi0nxvoiNunPmWXj5gTbLXxDkpoNeWCDLZ8vyL34KbceUaL9Y/rhAJ/ZjB8s9bsN+LP2UKJEfjPM5L4rPSSAPfMm1F+ywIF/o4z5p51tviTvymX/GI+jHIwSljSSBlOql5V/6ypttEiMyNhLanPVry1/J4m/eBV+UcWH9y5i/pJ7lcHzyn3BKRLzwhErjL5kbRP+Tx5JzfOWv669DPUJdZxyO8w5Df1r6ySLUQfqSnH8a2Y5+MsY/x2OxKecGNRe8n+Mw5x3nLdjjGY05OsxbYJzR1tYmqfATOzfecAPmLW6U/PPoZj5/naPjZxn22mtvWbzH57/llr+Wl9dcbMFrxLffhdPOPA0nscQdYpznXHuttYRH/fQKnL/jQnctf/NhjMPFYXYP2AV+I+YJb0I5g1CYUuZOLpBFk0yI9u+PBd48eYT+l3202bk4gDz0rTbdAi/T0f7xxAK+TNf8+/m/uKsQY2XjFotl6NORPhfjcOFU+WK94KIx9j85n8NFk/HqIJs3/oK+I/t/c8w+l5yQNA/SoCznQW7HPMjF5EMnFy1dcP65Mt5XHQ/cj0V2p6L9gn7OWe28yy5F2x6wCHOELCZ58O84vhDPn3O0a629NqLSqryKXIqR1dKR80PGP0yh7H9bzb+wTh2IhTvvvIf+O+zPE2M4fxrrU5CXxMdjPjG+y+iA/t5W6O9tFW/S/0qW8AO71V1a/yJPhIG2zr+mIlZBZPpFyMtPQpmaShL/nitTmwVSxHcwkNkDEyVkr78+JoT23jsyRbX84DgvnOmL7ebLYGUIj4bTjs0Vl1+Bxv06ibsSjig4FCs7vD0Ye/DgwVIQRo0cLSv6zjn3HEl/2PBhMO620vnhCwA6Qu8INNMsyH3h+NloLrqoW2mEVPr1xbZ2mSwPmABeQrbzctWIXtTP6woMEq6/7gZg7eL4dvj9DiRnl2y3R2f7E3Q2Juo8sazC0pXjH8Ph7IiBHh8LV2GdjlWJ/oWEJnTcsceHfzyOCVN4UT6mvpigY4Mlj0xvpsXzq7BJcM+f3wrYdtttZRUUHR07YTPhjX75ijsjYC8wfierhbYy/XT09953b3gGE0GH/vHQ7KWN6r9QVrJi9QHy2n8A7n/KqeVReP2cWOKKL67WKl/c8vz3hx4WnQfjBdXKmOzivXDV8WZc6YTHw2zxpREnXPRS/ZfhpZm8fIH+Y48/Bt/TWVKLQhRtZT90ajZlB4+Jw/7soC2y2KISR6IUCobhDbyUOwyI2OBz5QXLnerX5AdchR0mV9HRdgiLLLpYOBHpaWIXo2MRB50dwomww8IYQOil+efugE8x8cZrVzhJvlyTCwoG4MVc3MEBO6CBZEerrD9lms1RURQAZVcKVlbQqDySk0dcdC2VA5hOVq4+jYEhLx49wh0UciHe5awPN1yPvAWZfN6eZTtyY1kB/gkauJ4HHiDnhrM+XItBguzCQnxxtugodoBt9AVWEb1YtcFVRQG7OBfEy78T4gtvp4Dfn+OWYirlt6PYuCv7nLPOEn8jDcyG68mkGHlSFagECbMcc5fJyBEjQeDxfvFoB7L9pWnyXkwBApycvgMNHWncOs3VJ5ksxLl7lCtH6bfYGG6CSSkeH6EGipNeKG/g8oPqcUUcFYXw2GOPy8sXxuQuRG4T9wq+xU4VHh/4zdffYIIVu0xwFIo5Ti3HeIirro7OwYGYTEOazP8n3KGy4w7RD2EijlvD4woXUWs/HGjw+3bUz+sqvGS1CSLk/4c+f7Ufn/8666wd9oX9yhdXvnLRAAe3tP/GG20C++1m9ivLxzt1bBCOOQ67DR/jsWYdUNYnC2effXa2skrSgJ14zBC/J0Q57mzUss5VvJyIpf5f4KihPTGYkUChXJ4DfCrPledRNJdeeql0hGK6+JVCl9c/H59yceCJF1hY0chBo780T9wpwcl1FoL5F5o/nHTCScWEXJL+BEdo7bbbruE7rEjmC0+ZkCj0D8ORatth4omr07m6jbszynWeKXEBhfqsbXD+9G+3ipMizH9RFLL8k6xXnAgYgHk57ALCy9Sj/vznfOVOkRke4XUjjvKiHVZcfkWZ/NA0FHKSh/2IT2S3ZBBfzG998Lr4UvhOvlxHfB6Fy8kXXkyex8898veHAxdfcBckRqLy3RCuztL6L+0bOtaMfwReGJZXkkpixY/an/l/5+2h6OfsLu3PBuutH3jMq78oy4+TD8S52ksvs2xYacUVZZUYFfVBP+Ma+Gxe0pF3A00hFj9c5fvRxx+iXfx/0s4E0K/p2v/nylBFUa2nRSIDihpKq5VGiWq1DzFkIkVl1D5TkChiHopUEyThr0UlkQjhoe9P+9omEUVMqdZcbRFFW0N1eEUf4b7vZ629ztnn3N9Nbpqd3N85Z09rz3vttdewjTFiBHwYIQ5EfZ1qyf53qRBoZ4ioUqPuEz3xtP8m4laE8yzwD/Kh/jCE3HY7eIzUKIo7r9X+a4HpJ+BT/1X1P0Z/H3roQYM/W1JtcIHF+M/rv+1229qabhzjGTD00Z8kojNp9vmy8EgdZLsKn3l3K2NKKXaDuKg90RKn8U8+f9flHn0W0p1woMeYohgQim+86WaDD86ASpO2hAtG/Vk/jxwzyggAhsdJRVTgcXlZWT8f0NrB+GP/58DtRGkBUmaxfrL+DR02VCqbj6QINYeNpBOFT0KARt3vApXNLqeUPpgUooFYo7bfweeHlZWcKFBWf3vFv4zAh7uSMKv5eMaZEGbdRZ3eFDPI4YcdYQTztXp0EwOI4zwRjydxbxTjw3zh2qyj22teXnQxOM/K1z/S4rA9ysXgEtmx7bV5b1trA74VWR9IxR+m9Zm6OEOI9tPk2EOQbugunOw6nSvy8Uc+N4GPpXkf6tZISt0O0xoOYW4tEWhRkQjnOS6Hb2ujOEqZfzsgsSC8JBz9wRpDCqSpbS8nsQp6hdQZceHC+QPd+BNOOD6SlU/sj34LfEQHe9LEXpfDrxWmTFm9wHF6/fVzbP5dJoJTv759La+8/Z3z9QBPpEbtbP279tofaI293fZ/LgM5GwX8WXM4Cwn3U/phuiSOsZuXFQILxMvX35Bdw+49dXl/c9FDZzRz1plVuZtvEBptrGmv2kCMJOxVdk7JASiRn1O0jsthK+HQkX7Ijuy/J3s7d/wILts2qRocXQwbMkQMP3fbukeaPWQLAyaQVu6ggw628bCr9mTWEsszg9/V+ffm2z5v3l3xXrGR1kPbdzPO7oANPg+xh3nzNREMRiaCASDBlZHooR677vqZ4qyzz4pk9qQsY8eONekQOmnCcajW3cf7yyZ9m7iF35KNlEMN79tFEkioJApna5EucKnj0KHD1VZfj6DoclPvNvGkSVqLXiu6f6C7qVIMjQprcv4vAXXycq3WdXAFyvY51iYuE60zqgSsCazrpj1FJb5YUkO2FtJ4qf4H0p8aT3YhqXNjV13W5daerJMr2oWr6dxpe0yWUcQ1XA2ineb7J4SrXSxcjQs3KwrxVX7UncIMg1Qw++GUKVymV26W1q9b1Sfg3zD3YKur7IxUf+zFTtTFLvsD52nmP31SNk9W//IVECkC6pkfNCa5djt/XpwusKIU4Fb3Lr3PPlHFedaZadyVACJmYfbYuDShkOAfu6p9zmQPTu0Pwe/uu+6yBDBMTuMCq+GQIlu4SHGUBq76y/RNuXEGsvbh/vlvh2B5LLjlJmkn0ZqtHKZLKw52Y6L+kdYJfzqLyuNKmIt0YR4uz3P0KOFmGv/g31MvmRpRfC/W2u9x24X3nmt0LvNI9Sfs3LPPcakWAWLOcW4Lxzf9TTl3G/C5YvJpp9txLof//HPLTdKP8ddHWn5mznQ6WOThjHArOsV/IBpjy5eKwjCZnzdR13uE9kD2H7jtL/nOd4VfbpnqVLU/69Tc+fOsW7cXbQQJvXA5/s+lEfSTGue+KvMbnYknTjrJkuwj4i8E8ZW5vP71wnRMlcMH8eaCd8edwInq+AcXqWbTTu2wx+6V5hNyhKH9JmOsbbM97+xzdYbRvsXYyOHTX2tC/4hzuCa4Lvh6dkoPvEBMatjgcvgwQometv6HKI25GLt8OKGey1fhNFrvYTRY8f67tv/CcLNNMBNZZpbcmGzvhdiuz8mitQ34/EAP0O/N2rNnC5/ATb/8cuETmju4LL21g8YtDsEDcIEymEw1/sEFwOv//JpwgR7CY3W5H3sHOO4oqQHmEnhttcO0aZcXvXpvbvnxE/0Ps94D9z9oPuBf4JjlRV6KHXGb8MF5oOuBf+FQgQpOEzTolLx4TZc+xx1/gtmYZK9FimrTdPHRPH9dJPx+h4RvR3pyZx59PeaRGEy4pNxqy62tHrYUEFkFDPod+P/223/SLrEiH57GZC4aHes/msBmQreQQIC5VEEI/KzJ2MLEHQ6NbsQIa3+kkrGlvuTnjksjlJHDJz5Mr0cIp6eVW9G/UDP/gM5zuHVVhhnTZ5qWpqqDlVJtepZoJ5SB+h8hmtQhYjwzJ4+5NySmQCW6SudR07Sk8gf+RP3jAssTKY1wbGgdVPMK01biY9oAyO8mrelztaYTAekgW9Pl773rwxOpWpP80vkLhlFjSlAEmxdHVHQQ1nG0rTUddwbgY7Q/uOXXwC0TgO+oT++5+x4DNGd2pWkk4L+jc8xUnQu3Fk144Bc+L405m1rSZvs3Ya7p+Sdf/1ZGf5k1W2sXc1btN1z4HsIHTcecRTr9Ve13zFkk7EvmFTqmhYv6l8F4WKXr6691bIv0uVebFgQNjdxZbskjA5W881Ai+XcngZGtgttVQFTemH0QvW8kqZlrJKXTvecHGuXMIfCOk/HcseNMrVcPEVNvEOcSOllxHjul0QNjeIioflB6+XfYcUeLs+hnC4tLZ1wmGkFbMWToUFsIrVeUGkQg6s9k4dBoau90OzZbHeg31RL3100unNGIW58gInjoIG/CH3/UeFONgcjzdUpvuSsS9a8gtZs02K26gUeJzJUicmMAF/ejH8uujSYSjknOQmNlrapo5YUTByPvLOh0u0lgwf0YlbEc0k8L+K3q77HbZYR1SUIc23U7j770f4+GTu3tMSHGjpDqP+zSDByIGr5TVwv+zWrP2ca5oYU4Dr+CgGH1y4REApT6H3GEJk6j/pSANnjqqae1wbRLrHErU29G/elHV42WdDtrkbHLrLJxPLMnHn+sOHWyEEDldeSoUTpkDzWYVSWIh1OMDL4AJCKE1FSIGD1LhNY8jiXRz8JFC23hVPGKg4cNKUbrcOwuZaZMrfds3EmViS5gYXqZPSsWu3Yz8DpZZQT+iENG2OZDeakj/Y86xgMG72/GteFkbR46uXx5Rtwi3T/Qo7hRxLHgcvI61sd/vWxsjqgQ1AWW6j92jOt0jpJ7XG8W1GJBUIWTAHU3XLqGg2PwFRmE3FBSdHPEteWXJ5FLBR/pSDhSWMiumHllmg9IlMD1xiHPCbrO9ea5E4beXMb/GJUPfdXWmQE8Pb9++BHFG3//S7GluOouE4JFZpTgcG04f/uff5jtHLhTUdPhNaKFccQqzI7N7bfdbnnvN3iw9PvrciQ5r4n/WvRIqnCgfF1j92/iFvzgeusUc3TYdEOYKb7F8FXh+1dLVFkSTdTfiVIQ3By+EZO4lFTeu0tS6hT1aThUY47SxoJ6Urhy50CYEkIU7l5xSX/n4inF+9qghw3RAVfjPOrIvB0MwiafLyhfCGMR9iOpvESFGY75Zxc1ihgltwD9wJV7uKQYDOdT4A3z6wjjmvQ/ko5IHKA6CYknNlTaL2viVJ4k6i1ONAKRkrMLwCikytVcfy1i1v6sPw89KCRM7T92zDjjoPXakklV8ddFmB6rNmTdRf3BNI11xt8KEZ7oawywolLreqlGa4t+EPx77rvH7D3RfsOMED1Kb9X410dyxIga8o5z+OhUX6F5P0Ai53Br4Tx2SqOHIXU2J7SmSUpnqIhxRGrW/zRJvz75+ONFT0mPgnQEkn7XksXFtKk+f4855mizlRHws2awi7hDtPajL3/3gUlFXyqGFSz/acAPbkAOCsceP6Fhm6TKZMwYSRnpMIPqnmuuvsZUF1ShDoDvpffdq8v9KVbPffeTTUUuceUef+JxHbYmG2407BAhYOof3Ps62MPh96bG7n6DDzBjsMtfeEHGancWwe4cxfD2hxv617pk6ikcBY5GLiJawU9oV3SGlXnsGK2HygaVm9dIQoD1N9//HUbH/re2Yb2TcxWCHNK8/7OHSWBBkEJScOrUS8o4zj2rSzj5fGTjpFZUhc77H+O6E3VQpP33/vI+ZlNH0ZPzGt4lItI0qW7BYTgXdWc5/BS5w/gzwBEYzwZ821ceFsee4M+afb1wwQ9HTK33LkWAB/2PrvIccLQ/tuTguofbc7q46/I4pK25DD7452uvv2pj6lqtuR/SBab3dqRwCEhGB6Fu3311If1NjanUDTekfYcU2Jzc58tf0lvVR/j/WOsnEhI00BHaf4Zr/LXq/79r/4GAAFQW0RtE9IGRx117wfqJdCnjiPWP/TMvr5dW7ai9JS4LuPQPfNJwIe0drP8bf2RjZ2AoR3HH8VcOYiuAlUpvVd0OxEaS9hxsbkGYDfgRx3Ae7bGU0XHtUZZlPv7wYP08QW333PIX7CJ/ttZLu0gqy0YBOsJ3eIS5a8KPxsHe4Ahdqtsl/TYi/F4yRUHecj8Up+4111xr42/cUd8Q/jQ4stNTktpHH1O8+OKLOpB1N3Ub6667nhWFul0mphe4rqNureDT5ifokuz5F5YbTJjvNhRnM/AJO/AgLoakDljc7ZM0tygV+cD8g7pJVH3OEj6yttYbd1X7E49zExoKcBAUvgmzBrl4Ycy/9iP/vP0XCO/mEMv8u1QXWKhRqpxnYuUUExgOuw03CYdGrVwTxGPaQ04Xgxrwj5T0x7DhwywNP+OOctwPOzc/mHOdCNaBl0QuPv5mG5HvVhWSS7yZGrtbpDyIh6vqFinxZY2aKgI3pTrmmGPNSDhRm+5/xbwzfKTOUe+1y7D8QElWnaIoRHT4/3z7bZPOf117zQfXWVs4+/RisvZHiNComEe7BCois2KUICAGvy/pplJipwG/q/PvriU6c0lCW50iaWTVRVo7vEMBVdX/bTEkjdSZiH13oOpyiiQHolfijEoKpP7tcooPNVr0/znniDj+yDJ5thWzdOmz0Uc3JvfMseZIelgqmOBGhrM54HO2/aM45T8qpkbwZXAG74/UK+nB2DUiuzLGhkjvXr0N/pqc/xOgeJTlDfjg/69J+goJU5j+cpsSef2RDrlYmgqo037iJv6GJFTy+qNuFUYybLFUF09V+6cqdoAfbRSZGbOR8GsYJ5Hkivb3hJ4LjBDztdcDf7T2pSG21+UQeC9MdfwTjz9hdbtJkkIxiwgbN05zTLamoadgL5k52sEpm+tmiyFF2kDIsZpjXVv/L0Q94NL7rYrbibF3SnYhT37Y1nr55T/YONtv//2MSblWBkXK63+IzrFvac6x/mygtQFcOZyfOR+2T9Qaz7GwevvD4GMqPBULlVvTpn1Xb1WcyKt8NuBbQa3Vq/pjw9HKofnH/HdiJ7XDed7g1jcKV2b9j0sAYsQsiMGJdPyfhZttJal7tB3E+NOm53QDwUBV9k3zpb1CB/56j0m7zI//WxdknL3abQyytkTeY4UPvKa52UNnVc6/0MGa8CnxM8Jb/5roYKiKztvfxrguoHbTOWKyGOGa8O28mZgs/AJL66VXtPjZokXFDNFm+Bwqegl0k1bwIeQfL3VlJl2rGNfNmeX0GaXL8f9Ro8cWQ4aA44VLgPQJ/Qscr1+//kZHoaBVqMf37+TbDMyyzOufwx+0196S2j0xYupZZfLuu+8Y/oUdwbUlScbZFika2isuhIg94Xi3T54lLfNbk/MvZfFzuOiBAoQExPB08RAAvLRoqBJzjaROGdE4GElLTSjyun7e9WImkLSnwvxc0Utv7aJRLVbbCn/WWj5i+HBrcxvvZJLy4ht1lWb2Q/G27t9fzI1onvIY0PGQwCI69sTiosAipEjjjhonbQGvWLpZWovabBWr5l/EnTXrOhHNhQvI+ToFXbStQF0lDH3QX4/UxQ/tgKM++fjj/A1dDFyC85dJookumvd/pOIJ/S3Gf4mbJYr4NddcXWyyySYGIQGKR3HnnXcWV8nuOvC/rnE6gssYfXTl/EXEhZpHXJRD/4XuOMroMsqshODvlGnCBGiDy21tn6X1EAaXcEi+Pvyw6BbKJ2h0EVY+Va7X33i9GCsandMt+otGx5mpXn+P7y1avRdG20AaDrWe20j97iVTdNZOjthoPjNTI/ow+7/CiWpO/rQ/jOqsjcL+jV6LdG20P+u5XSQpnmkeMcZNxQRfRlhAeXxhD7fTHv2V0//MvMhmOitHoArgavyvB6Uy+n9/0f/cycMiSruILqLBhxn/rkJwMwvLz785bhkpU0ayn/hPSQqOUDnbpS1EuKUud8MxFxbq7gH44745vjhgf8enqz7uWvtbWRPgJnz/7hi4svNPvv6tjP4yfvw4wwNz3KIV/NkxZxV4xZXV2TPagb7ryvzz+DkE3nHq1OSdh1qIiITyS0tAM9QSl2nT1+o/8mxNJZoWMnoVXZpIRey5x566Te+tJU0FzQZgQLJDviR8CEO/ak4gjzgre14lMb8777jDolygCb/Tpz6VwfHS2a9+rpZaPD8cthkxaxeJiBIGsonqDa2LxtGCzsem41Z9ZOLuwy7MaVK5QXXe119Ui8HMpL3/gaXGGUiG2DYagPSQwq7SIm369RXnwm9fYJdw8i7T5zBtgOlAQQFrG1YeSe+19HzgokAp1OKkiK5T/g5FaRdn70Q7UJoCHaWh/uHI4gypoED/Oaq2ZjQ4fSJeytYIe1xmoL7nueefFQftEqX9m6KhWuAM41ajXN9Tf91xx50G/8yzz66pLYk8V/b0RU8Ef7md1dfnisOmVl0C5IENorFjx9gHXLHjdUlaRSSSuyh/fOf5I/VFP7dy1INxR//D5fMpxl20X61A2FmQykUR4LWOSrrvXKlV2MWy5KDKhvyWxhZ2f3zjEYL6jFSfwBVK/LPPMSLsLeJ2hUtnvhDjnkJwueCDOPaeOu1zQlbPhPOtE/hWx0ZFXb+upFKUnkPLJ3V46cyhI/qVV141+HZrr4jMBzgSqP/HYz4IBuPfBjttYAOqTWrw7jfOZ+qPqhraFcfGBhcKhzYQmM3YpJKLhZg6XSJR62223TaCas+TNIbh2kf8HWISDu56EELg77jjTlI1+G0rUqv+R0fwNHH3EhZG02sAOvmA4xNuNeoPl7kRRGljHHU3542+WMQYpCWof5PL5T0t0QdDTFLY7qb65FuR2J4xzmjK84RMhH5fAuFIWpo4szgUleorlZchWxKRJ2Mku3KD8iAEZi9QBUItzE477mCwWv0Ykq5DFfDzC6w17X/WhsNE1GP87fBJcepxSdGJWwIxS+1HGzUvsLyFU0I+cIrnzkORCnn4wYes/RHVRwI3XC29POFiZu3o2bNHiWwTF2IPBw4cdn6iH0hvnGH0gz5mSoS/Mobquduvv1r6/Ce8D+YCSxdlrq7IL7DyeLzHwYp3jAtvqzkR6fGL+Y/h0EWLF9n4h4tonXXXtbLl+99EHex69+lj/dpq/Wc9wT4UthybXJ4GK/004ZuUzQJJGakPkHRDHYTFySL6gWykEJ82UzPM/O7MxThj/OU2oZDIY/79XesQ+vWNKUJxMDyMgWvgn639BeLQLeI0+kCPniYZAnEA+FzMMnd3Na5irZ2r4ZgTYePlQ7rQ/KokzvfQJfEWIubZIGuMv6h/XEBSuLjAypqlLAEHAS6wPiE1NXDrh8v3pgEDBhghtpZeH8/rMHT8hOOs/nBtQ3gO+DEv4OZkzNL+2GobJCmEf9U14aM+0Q5daoPZYlzgcibg5/W/RBLWrOm19KkQlAnp2o2kwjnW9M7KF+mN6WekLttVyW2328bmh0+Ijvgvxua/pgsQ6o96u6lZG+dzjHHfCheMtYBuPl/tuFNiprLKUNCs/yEYm85+FXS+iCRBeEDi51AxWbD+bSq7R1w6M8bDkYWdteWHFNd8SQ6R72mnav/UpTIOQtJg4TbENVxFYeYy+CSyNrIfD85/c28kC5hXna1Bjrs5rg3+AM6Tp8/r/33h2sa0IfjgPJ/eWThPWa6qBLX0lXft7R0R9l+ShgcuvFHfjW2iRx991LLrY5ecl3t8ZYb6zNGjjzRVYabmSURGg6Gf5cuft0tJCrL77rogQMWfUlKs0ias3qNunmnH38ouk9YY6pbwOVOJwoFcG4ETB2EakbpUcAVdqmu4dZByCPgBxQ/X2uvkmtJlESd/1tLrAymnuXNFNBYsiFcQCC1OFpEDudlrUYF2klQV+Gsr5zj0WGsfcOhx44RDy8VZiHbDxtvkhCOz/zXxv/sl3TFfOB5haGsI3M8y0k9WrPCy59Vc5N2hizxFQIoLu0tNB3zWcGwMwNiIRIKdUwgw57ljhJyzIe3P+u/2ptol2e32fcvokSw9YSpBXeRuutANppI8SlfnX47/n6i6bKE9kVnJ+sOcz/df23dVF9adfN/NL7BsX+3Tx4riNfRSXShc7v4HHrTxd5vUCpmKfoNkXjYmUDPOHoGtB+Yz6Tl/jNQZnLLkZ9tYf2gf4uG47EDqDUe/78bZ1r6SSvTVPP/n5U/Z1B62rts6WZiUEnhP7vL0b2pfP1R7AIPN905n/rA4+jEcq7G+5enzfFf2Husk42KyzrZR/7KR5OH7CO3UVkxRmbfTRXsVscode953ieBJGGv8usLVcL4/iC6iAnK+4tzUdMBl/LM/cI5ijp0iesPAgQNSVK+d/fprM4vCJbDSBdZ26RyTYr274l2TrmScMzZaXWDVstUHBFnO/9SH8nFuZc5RNrN7LeIwIYz/S5Ho0PpNvHBIx1IX3J7CS+wcHIEtnk34FqXM0EON2DlHxE75w+SYE+Ej/TwusIQr41xlVXUWNc/008TNIj24WaiP/dTOO9keEqubxUkRsSl0jqSzqP/RkhhEWxHF/YeI8yMZu3Iwz3WVDhbwLaE+kBp97/0kZYikokHSb4roOCSMjdL4IZwVJthorvr+fl5pM9HybvyEGQnGH1LqRtMQjBz/xwYs6uoMdIIf2RiOJ4ljmMhNlWIErOazlm0D/jfEjLr//oNbwgdMSDZBf8BOFKZNcCUOqIaZOaM1DhjnEur/r9I//p8uSbgsAf63L/y2pHl2BHxLN16X2Zgowd2gC6yQPKL+Lu0pJhR9XKGzfa8kPRh25olztqR0dpWqu6YjLPq/GcY3dFHUoTL/W11gwWRtkimK+3HZqj5V648VhExJlI0/1Nf63G4TXc21KhEDbU0/+vGPLDrq+ncMfFphTZe3A3TRdUMzFRHJDFdWqIIPboYKWXw+JIYVpNhwHsNey5/nnnvOtOmQD/TrWIPy85fh21qTa+n5kDObY3cKT1b9kaKCJh3zz2NUv6hIRlUysFgXgjZIDFfHLrqF3pt0i8gh4Jv09Suvaq39gKQCb0nBHmq/KSLaYmBIeO21V6Xy8Y9mM+9x4dIA6du3n9n9irx5UoaHhT/RlWjLymknhKdseS3GidEE+m9PMXQ6ndBDYahaoLWV9TeYA4jPhdsBolEx/u0C6+SK9pXT/5CCg7k9dzEumX8mGQijFuBwNJhcbjP8KtFlQsuQ2yL9L8O/sIPad4velsaGqye1LMB/zhQTADaiYLwKrW9EAU/nkg74gOMshPkUpJ7WXW8dosh5/e3XX907++3EO4shlYSrcf7J19/O6C/5+ZdL3NPBLVSJVvUH3+PykbBV4u9UBpfaf03rLyaYVKSVtRJRGFl60GElbC/KSn+rbP228fHHHrMBj/ROOPJjwUBkk8XgM7t+phQdJc7vxR19jDZy4O/z1Uz1YGSwkifwp4jweR/ir+JOQgoCQnYHlwr6k5/8pDwUnCDdpXvvvbfgShJESBNciNSfyWIijo1M4No8+uijvYHIT86zVSJJEwDfFikPKn/hvMTwNw17oUROXQe5b5LGSdZJ+8fiRUYmgfWh9co84yVVS5+tbnsjlgWXHXuxkArsB+DoGxsiHfrfQiwOPz1E/GNRBO0MRx///J57JKL6c10gPFO8KZsFrepPitPFpfY5qYbEXSQVBUvFKYcDcTEpuA7wLbjljxPm/QILsdNTxOXaqv5wBKKvGvjYUBinG+eWrtH+IOvGFaA2NUPcp1SLap6eC4t7VQ/ahFtqjMVXrZPHLMyg8swrZ1LMohx3KQrEMy5RLB9J2MCpTH9D7Oqpdp8vdTyI3J82Wbf/Sn/eBecXO2uRvEdtz8GIdMcdd4w4Mh0RrkNOX9VAKYMh6i+zjQnOcHQJw8lSDpMyHi/GCbLsIYOPpOI64tplPvyH5gPwVzb+aROa2HYpPRFxPiRx2IB4GUKj/je9472SmLCil0ik3o0DI4lx67N0ZEv/P/3Uk8WHP/oRm/8ElgiI3geLi/moo77RumIKRzIOTnvaFvtKYQOLfFbmli9fbnZPqP+++37V9JF31v/P/u7Z4oSTTjAYzQsYVBbB6Qv83feobGAFbNQKYfuByfWlvV1NIWFvvikVO+IOWvHueyLg9yum6SCcww9kCz+7GMvG8YUXah3SoZew64WcYgQT+K363y5/HhLXpODnurfXtP9pPziJWX/2lVpFpCBawaeuzz77nAynT/D2Ux99g/6Uo/+9zitf/84X8eqhNH5z5N8zUS7Z+nO+LqfQ+0/u6MRHdB8X9jQAGP0A/LfelFq+ww8r3hGn9tZbtlaLkhXU8qr9pPXnIBE+V4irF6JIxR1ci+lzAo4iAeaQXUks1us/XZIEqLHDgXzAEUq52SvvlfRJONpuVes/ouNwzdFETdeq/evzNu2lVUTLAnswSP+SJUwu2A+iTp31/5FHjire+MufG/YUXf3d3Ut+rnzai9liQvmwJG7oX7vkT2snl9unQtgXlnz+uSK67+xrJ4Qw4KN2aJ+vfGWl8Jv1fizhOXBo5evfBuA5OnxBeMGeTKjIiP7PiZAg8hi5tsUxG3+UyVQISkIA1X6o+Atnc1qHMPKDQI5dO++Wqv+f13oGkRI3XFyXSDkG/MiHCywOiqQ9SQTVQXvttVr1j3yqbq3g53gLHNa2v6eIXa0/UmFPP/2UMyUIR+jM5fBf0H50rKRrcBCFaqodq4hlVqg5+YskLjeWDU9UVNFGjD8nBixQPLgFq0NPmVAvsX6S7by58yQRoL3TR0Iezd65HEAVLOMvXz9/b+U9epXzzzNUwUCu9P9wMWYcAj4pBwMM6wb77+57Ir3bGlchXRoolq72k+E/B4pgz35kEidG/KrFNCaN+5YKd1N+XE7CqauSyVX9HykC1yYcoubeXxKu3cpl8PP5b2qqRdiF4PdHMUbB2VnWg/rI8eivC5rLL0fNlM1E84fB4GGkADWvsP+w8cb/ZvXnMvSW/7zF4qAuFpVYMf9CVRblnS2VILnkoCXIfqJuwMfm2N5772XwHXd03DTHHeGwPY5LZSVAFXBIkVqWjfo/96xwBeVJ5CaukBXBk+q32f4c7NnTcRghN2ItBfWI5l/HDbCDIhxacfL2J2Lg0CRGsgxNGbg4C3m2yngl5x/AUkXGP6pq0DRQc436RzGn6JyChLk7+abxb/UgP7km/J7dnXBCv9ecIppK7jI/2Y/U+gyDQ/R/q/rHRUVn86Gr88/23aWqSyp3lM3bRp6N9Z/2RkIQIlDUpdxXlSjsnJCd19TnXzDSkD8q95r7D/5+gfW82WeECE39X3zpJamn1lqkzDw/fvPCEqDvAJiCwD9dVZDD/1fO/ytrf8r7gnCFY4851uB/paGyN4pDwWL+s66jmstsL//gWrIoy131Z4ZjdTL+PGHr38gHtcMQuHL4kSL2Olryyk72EeJCfPvZwoVWxvm6GFwvXWDFHPP8Wre/119h2fxDetk1u3hK+60aKvP0V8bM/cIH6Nvttq9sYBH68ksyC4G6bEaF+t8kznRhF67Ktmr/2BuJw9hlP4X+QxZPyOZczhCKvRXOw/n4x6Yh+D4FOvssMbiKXtSZawW/VdwFN2lNnKc1UQnKNTEipv6nv7B7pGJ2et4kSdjA4oIU8wvEJ2MYSbnAwjVV8wE3RZSdtl/ZhTvxjhUODK5C/X//wu91oeU48Ve+8lXhL47LEK8zV2VbtX+MTeurM1NfVRGT1IOXcw9wSDRzpPXnoilBm3ENRS1paakw7IEwC7DrniDNRl/U2ZS2KNcpvZcXgRn8qAuqC38tcyLgh0ho00bV+hOxVv6ssq3qn8MvL0OqiLUMkcpjv6T+7P+Mf6+D6IHpkr7E02spfQ9cU/oH6hWXLl1q8Bl/64vp38dTA5g+S7xaEQKPjGpxwXTjzQtsiS7bXGmgUUFrY4hje61lf65i/XNJl7kqI9KLHS9/X3qRvUOmYzqhf1IfQLD/2zzQA1fSgRTI5QyEcvqf9aImYevRy1/oXzCj4rAbv74usMg41n8LaP4I/vv6F+Y3UDdvDMfEa1F/GFzQpMLZmPMc4wjXlfMX8cgbaWCc0zhFk+6kY38ile8zpVWBtplw4gmiLVR4stEtHqauUhtp2huoa+VoVs9WKkuNnic6jVxOt+Ab+hMmX37xsHBp2bK0M7/8vW+US5r/fUVHYj/KXWf0H+Lk8Gl/p510LIPthTc73SKfT+DLXGABH3z5ZNGoopnyedyK/se8naNxz/oD/t9X54BIG+UnD9Qu08W5yv7ALZv1r9YfC4ls9OyIj9GGMJQvU5vm+y97Hjg3KuwH7TXIGIKyhsryTK8txh8h/+r5p95urekvgVusTv2Z/2gbyXGLZv8327+sbBWx9CpfOqk/4W264aRPOjpLhHfL0JW2twVGji2Sv/zyS0aAR2UTKhH8WKkaEFePfn37mt7dzYwg3WbSJuggp46ILY8aNWq14HNr/cgvllma24W0d+vezeulDKsB6QWGaMumweADMUPiAseiiboynOs8rQjp5qmfUiqGgspRL0Tn0ltZZvMDcIKfi5Ci4uERHciBj+7cnrotb+XIFZUTS6R6Alcjuib4FtCi/Q0wjZ3gN6OcqzIsW7Ysdb2H8hvZ8i5SATnUHIcpJH+ICHc4eldffPlFiwkBkfSkof2RpOHW+A+S3KCdzhQi9VlJCeFy+BBGLU8LqX4ir8qnentfnBTocCbf3feQoWy7wKrCo/6oDBkl1Q3EO/BAHb4T96jFXMn4Z1ENruYOiCiJU0Odq3G37BG1o/K//bZbVe/ulnXAJ16MP8Ydtjbw+w/ZiYOIoWSW1tTA6bBOtnADfPGLe0k/9KTiN5LCwlYcYwabNYiQv/X2W6ZKD1VJlwmZWLR4odb+tbRJzio2FCLojpyUeQY/BVQP1d9tYPlm4/Mmyl/WoIyPfS8uKsk29L3+RpIOE5F0kGfe/83xT6jlmB42x3XIxHuuiH9stgTlnBnUgDlJGC5HyqyhzFc/SlgiwiKmQVQD1m9lN+kktSXtP+TgIaauKpLYM+t/FvNjdBEHTLi1sK/EO2Vq6QiUw7bVSabHu00GpYeaEXMPSan1iP7/ozhdMHBNxn6hpncD4GqHTCWmEsd4Szl4dvrl4vzF378oSZp1TN0plwqLFy0WB+OlCm0zNUNIdrnz1MyTAzAqrH9f0EUv7RTuHBFu4GInbTmvI1DPHP7UWIfkaRJYuujErWn/Y7QeVWc4DHJjBD5cDh8/a7/x3mb7a80uVQi27KSUWo9of0P+QQTlZ2O9m/aI1P4BM57f1VhfgjFZeZQE+BSIjUcO9VxqQbju3rO7qURFbz9QbW7vp7lN6gx+Sl49svEXnnHw7MDVGxH0NESwnBN1Pf1VtPZi+vQZxc9++jOrP4wZ62rc4FhLYv/J609dKT+O9+b6XxsjETEi88yccU6JYECGqFmzS5osnFdUoEySCj+glZcsWRxAUI5wXEa8IHVk62+wvrV7+N97ny7xp1yiuFJZdqIMpYogMmnSRJPC+vQun5Z0xDnGQX+YpK1YO4eIOxV1PpdJNSQSaqydRogv107PuQk/4Nkz1f/ll/+g+TDX1CugtzrSxPrXt4/wHKmzwoBvuAqh1uWI2mbzzXtFUO05ShJYqKmBSNJBAqskkkgt6CkiPjTc88uf08XwBGv/YSNky4QLrIaDYxuOT1rZJLAGDarFiLrUPOMj1d8+805K4aWaIMVDd/5GWdt2tf5czEHc4MDta3oA17MT+OBnhkcKJxs+bISplIz5n6X2V82/Y4/TmBLRCDVicH2HY9+Zn/ak2r4TEQTf59Ejml/C4wyH6RGhelJANYwewC/xOL2js98ksATfLsQnef/RjFEt3pvzT15ltkOHVCpJUMNqev2VurKfWIdPfh1ci/WHOKxBXGBh88cJs/WU1PsXy9g3WEdvL7r1ANduOod/vwgz3xZhgv0Hm3H7iUmhdJ3Aj3BwY1Rm1VyqFqp04VB/5Bfe/mhtwE5K5dp18XGfXdbT/tiNQRIRDJULmNckXQuBZJZwpm7dKpzH6ibcnPb6T50jenSvwqq89aZy+DniIuv/b4rxYj9b8xXEgRwVggL8BakQPFkXQ+SX2+p0qUjNSesY+6ll/yfhCuPEOU6I4QrYy8wd7RCuY3JTmRIqfy6bfnlDhaAndKYZiJjgBnU7KMRITW14PhIHOHBuw6EV6HPtZKs/eXQV/yvH7ir6H/icE7i8LF0UiqecQW1x/rpFjHY9e+hcpXj5/Eci6QfX/kDp5C/4h4np5NBDR1pezZ8AFXtyTSIxwSdNV+efjS3wLaUN+PbiP+6XCkF4zH9U9SG9grO9P2NeCTsSFph+ILQ98OD9VvHbbtVZuEdmCynFmSDmBhi8Pr7pxyV1eLX5ctbgzIHL4ZtH/ESjpPrT/kOGDbHzekThubrn/zxtvAcovvNzdwdcgcI23LFi5nthudZ1XZpgOzqPEusbZ1FsJ3ttGxnoM4ffIVSBns/7xWd321XMRlxg5c5TG1FZRDbaKaSty1jZ+IfZaKGYjUiFBBC4Gu/0SXD+WzrP1gsnj87G/5Ch9Mloi5ePf8sjfjL4XDiBD5B9EHYD1D+k5WOkpN/MyRMtIdjLLV3euMnz0kunFYsX32XwGX+ovu3WDeq1O+grSJ14x8jWLBduYrSBiPnoo49p3zndxj+EXFS14l9zFC5cI8i9U+n1iPrbpb4YnKgkBNq+ffuW8COrIPyRJTZXSm0WESE9MRXg0vGyTzr1kjIU4rabNoDxFZXt3yrhl5H0gp0YtwtWuGpUUydajXPgHyw62OhRo/Jk1fsq6l+qydQYP12Sqc0mqojGnDeTncaUO+sU5wPWH85J5QV4Bd3akE8kay+8yHFI1EzChIjrCv6vhVO467fEpPTrljhe6kHLr8PPKuqfw59yiSQfW2luSeMf6UDwS9roXDG9hFaNkNwAdgccMMFf0/MvQM8RDYk9DvhoiQhaWKv6T/2u6IF3L7H2L+mBqXODfsmn2xLXuUKZcP4BT+LD6I1i6jOXzX/3qP/m8EuGGHmaBFbfflVkAUTjxck6c0WaOP/g4fOPUukjfwg+Nl9tnVIoe/2ytNez53XXnkf0Vs7aYckShfulTmg0qOKmkpTwPSQY38kXqXPoX2kRqJKmNySDoEm88847riFENAGcXWCt4vxFXa1fhSdTf/Dk7kaTTpnzyNq/pEnLO3DJVIPq0lJhJUMKgeGyRoJGd4/oFrT/nNnYHv6wwb/t1luTbXQlUlqSgP/wsoEYPh2XVlnl37+/azLhPbIuL07l6VLdGV4ckRQfZ3TCe+4WAAmTaF5tqPMbUWxtzXEXzsQKCHWmxKnOL1bMVdL/FiyQWti5c5RSdg2lcQZ18+5S6fW4fh4XWKJFqHZ23k4annL6F2mATyoc74F/mUf8KEJtDpl/e/H/pU3svyU9CEOi5QNOSsfrsZb6HRvi+aWPJ1Mgkf3HvPKfNTn/5OtfV+gvUQqVyNzK6m9z9shRKaYeVofq09/Iyevv878Zru9s/LcItb4ga0lgSVdEQEn55gnqXhVgS1IPzJJ5QATHs4yQPBBVfOrpJ4unnny6eOSRR4zgGRVCHG/6dNmt0gGyUlPRXuz6mc+aMbjVgY8I/mJE8JVoxozpprIoquzDMrWyyrXglqQLWRFOO+0UM1ZIqIk4iuMC3a2o4jJRw0bFXpE6Pw5w2GTq129LIfwTFVsEaINM7f0Yh0E6BaROajebBy5pJWKGDtp3LV5scal/H20GqXQkMP94wNn5u2d/J7/GBVaKEMWLp0Xkp+aRfaRX7LrcJQSTepwu5HvTTTdNSTG8KmUWGlxUgUEW3H9E2EyLjn8L+dCl0VMiMFFNRHj3lb5xRMV79e5lthjW6tZmIpbTLp2qfLjAOlPcrrrAUr7eX4sNPkZdMXLnLhUwihzPFBqP9vb3dGt/kFVzTx2+J4nYVbWhYqV0IJmjx4wy+Hb4FvGiHrGMmrL2hHZBFlzue3Q83EeqS+lLXSLQ/xhX7NOnj+dTK7d/3Cwd3Fz80K6nSq/97tJvjyP0LUnSfE2qANG1v+ceg0zHOIdrysGlx+BkwyE42/r06a25M9MI/n+TEeAtpQLJ9OtbjinTskGywmSvRL1AG/gD4mQhqqsk2UJv+op48ZTvBB0kOPTS/7fffqvsMHU3cXZUhlJ/VHhNEjHO+GAa498HkyIpP4LgmAkOG5934pBQMIc8OzQkuHARG3eUhSVOAr1HAaN4FbHzI0JGZ1nw62/82Q8AGuM7f2oXU/lW1svy8B/yML354phh9g6WHluMKlujBIAsfpWqrVb/mtRMLZ1/wA1+3rnnWf0hSsUFDKF2oLALWQy/y6C4ccQRoL/Uj1wgzJo1Sx5S63nGZHHID5AR77OLX2ldbevWzUT8Q6VApHNuoURMg0ilA1XkN02H0CXiyGF3KMWvI2HATc8TdTHwu9/l69B6KkW9/v9K/7/66ivFGM1JqojNFQ6uVsAGfHkaNz1c9bjBg/dTH4njS++kjSdh5moe/mFImMY64y+fq7WoKacJx2usP6+xrn8gbBjvDcd4nCukCbaQyadLNexu3g+/VD90795DF16zTZLRCtYsTB1YM9TUG7wvOx4lcaVFfLsAkHo+4HNQYb50iCaP6TO5wPqpGqi9uHE+RJF1raHy/eess84oPpZUZnj9Ol//q7WfmA4x4MbT84DQpktp47YCadReulm6pMkiomZg/Dh0dhcFqvBOl/q0yLesUIrPfgTRl8MEtn/QnU7PE/y21s6Rtna+JxV+e0qy4ZtCGFHrqbVTav4GS1qPuLZ2isOvdx+pAdBajUTXX//6hmz65WtnALQkZXH01XAeL8Uu/ik85+mnnjJ7jVwK//aZ35b7f+8teolrcboTApTAEWou5WXMVm2zqRDqNMXlV8Hn4gnbLrnKRAphRBIRyOn/kD6OchCOw8j38eKIZf8ePkIXw0cc6QFZRNRMXXThBdb+GGkdNGiQ4lTwrVBZfM8gfj0gguMZoeefJ3tzJu2og9T1ktLZMEnEK2JX6w8n3q9l/9JUCBpTQuTOszX8VzWmxo4do+C2YsBAqVdELULUqUrGG02ji9Oh6rt3pCKTMXUFvvprqxOK7ZJxc5JkTqqPtH4uEh4H/oMapJqdIc8mxZeaZjFS2Pop/1wFa77+9bP9E3yyc/wrCrD++uvp0m1DK60GRMZsAzFKF2IN+NTJXM2/lZdU2R40xJhlPitp+TMlNR9JAzZqOheLaYbxN13zqG+fPnVwRExwDOdR/9Mf4DzokG/mVy+Sf/3qlyLwSXV15INKFdYIVD2i3myddT4oILKbO97tLvRV25mdhyiksnlXuBTqRd986x8qo7hKRSR+5tci0p8s23CKh4T9uHFjA4SldHzuLtWtXZzlrvq0WV4H0V7cfPMtxjVO/38rw+ecwCGJOAVwgWX9oUzs7KC9Tk1h6hmNgKm0rer/sKSd4ewk0CUsDBYAAAS1SURBVFQINi+wUqpIG08vm844N+mMMw9irTimdcbo17d/FLtsf1MhqHWE9ZcLrFOMuSXlFBnq+brZPx1t6csLLMFHnfRYnYWoP+3PxTGZrwr/w/B84H5kGqB4L7+S5zSpZ0FNC47zQ5xTOLcw/oDV6vy1+aZaUymYOc8MiRwkvN8UEwP9T1nXXrunxvBMU/9kXlGaKJSepkJQF7q1C6wUj2hdnX+oA4PhiP73umwm23DYinPIAb85/7mkijNYSWBXuivDILkSRnHJA5VYD2LkXvWHcOWEM69xRHQJLFQIfqy46nvft/b4k8624zUfOP/CPcw8YfwEbC+f/+btj8QxKnQTBI+QCtTV83+VNiWMCqVn0AfI3NXmsq77/k/aiE644QpDhxfvrBCu0KtXiSsQRsSQMP2suKPBN/O0ZU7hGU9LnP9I0kaMMCs0LgY0VQgmODSIE+2kCk+dbkRwiGdVZS1DQMzQ2vRTXWBRI4zWm8S/4qGiGFXFOAiLcZmVt3+r8b/+eutLo8L6lq6sE18t6oNXnCuBv/0ndyguEtOBlTPFh/j2tmxa4ZzZY67eWrc/cb4jhiJswjJ+ttBZdeYM9la5lB99dPsP/0sMCtdKghi+fWnoERPJxtKgwcUjzHlDhw8rRgwbLvpQOZEtC//xjFJ2kW0VHgHm4x9GhJ8jNWgCVp13yiJZTC4tbtbaSfmM8Neiv4g4QjjV22//b7H1J1A9PLWE78TYdN7ak/OW9uIytHp1CayzNLfapcHkmOLf0wXWKzoPjR873uAjdYb0mTUOQGvO6xTVjGdEOehAqRAUjQSzAmfEmYrAFNH2KO1/wB8oqQdf+z0CuOpCpAHVTjPEBNenbx8CGs4zWiCJn7lqU87/p7G/J5pGV/B/MjxFON6TwvGwJ+9MSqmAUaF4NqBHRSI4nhEth3/SxBOLvQZ90YOaEeUbtEOCIIKjbpd2MjxVl8m0Q4cLrNSQqPNbU/qH0+K0LzTgW783yhvncPpt3rz5xgil4llaZ/ZNhHrtDZsnFYKXicF10ULojTBSTSu22jpobeaVauLv0a6lZ4JfXmApmksv9tVbNf997xBtTX79JcEzaaLGPdNW84jzp006fZIv889dm2x6r6d573uHt4MYCpUQHLOf8inLEUnS8yRpsvntb5+14BubKgSJk8rt0auPiqG3KDb52Mdld/n79ajxpSSvvPaqqcOjH/K9vyvnL7KBcWiRzSPhkqLVGW2wKkqqiRfV8OQ5c6xFTzt1sqtYTh3rTOYPWXyn0fXRu2cU2cXTVLc+96y14W0/FN1irbWKXz36S+1zZzk8Rdz507sUnzdc+hOSwN5ENvbWoYrCpWVrUZJZW/bfylWXJvgElhdYipfTCQNuPAFidMJnnxdNSrQT4R/OuKAzFczomk/0P/MpmFpdgt3VOsJkbdq0Uoarov+hCWqepBZZf/I1PbqR8swVHsyeisu1aeT0rwq37Jz+YRnox+kgfFXjP+r/shhan3zyCbvvuF9MRNB1Y/yzd6N9zho7MtMz0rqXf63p+Sdf/zqjv/xJ+PtR48ca/gntzpmXVl1/aIwbiIm4Vf3LatUqlX1krxG37pW+wlPP/wMAAP//ljEPqwAAQABJREFU7F0HoFU10s6jydoQK1IExLr2CiqI6NrWAvaugHUVxYKNZsOCYO+6KogI9t5dG1Z0V8UuCCqCFLFgQ9r7v29yJplz7r2Aj3V/SwLvZJJMZpJJMum5VXOrq6urHEw1/gioTb8KxqNURiwNKfpEd4AAvPPeO+7CCy50X3/ztXC+4Pzz3Vprr+1mzZzl9tp7Lzdnzhy37LLLuptuvhlJDTFLUlkMufXWIe722+8QvB4n9XDtt9oSsOQ6UskiDRww0D33/HOCe9HAgW611VcX+NZbbwWN2wW++pprXLOmTQIN8cRn5qyZbq89kc65c11ThF97zbVZUDFF0R2gDLhl8C3uzrvulHg9TjoJad0qoxEtorrquZDJ3m7mjJnIQ7W77bbb3BJLLCFIgWaIUvSJ7gApAHsI5HXHHXeIhE7scbLbqj3lFY1H1QjRX6GfZvzs9ttvHymv5ZZdzl1yycWuQYOlNBi2j3sX8jlo0BBXVVXt+vTu4zZtvakE3TrUy5ol1O3Y49x2221r4mrsyvznzK12nTrtKnHatW3nTjnlZMC+vD0hH/fLL6e6zp0PFf4dd+3oDjv8MCWe41d0sHw7dQT9qiq35RZbupNPJf1oNGWSj+GsM9WuB+TYvn37DEkxIjupdyNQ7+Y6N/CigW71rN4p1T59+rg333xTyvjIo45yAwdcKPxvuPYG16hxI0F74skn3BWXXyHSPeOMvu7ss88WBgcddKDbe+99lBTsUv7BKwa5fuec414Z+ZqrhRg9Tu7httzS1wOPEhGhQtyee+7pZs6c6ZZaail3yxCUKeJoe5g7d45r0qSpu/ba0vYQqCigdpbaIbcOdXei3bGO+3bXNEtqtbt16FB3x/A7JOwatMmmTZtKrAIJKf/33//ALb300m7w4MHAqXazZ89x++yzt/v559muYcMGbvCgwa5WbeS0GBnYQ9H2h2dtf+edd3ZHHHkk8lcGMUuzhjD/e+6xp6tGW11xxcbu+uuvL2BEdnffdbcbdMsgKf+dd9nZHQkeaqpRn3dlfYNp2471+ZQS/tOmTXNdunQBr2rBOeqoI90hhxzi5iCfbdq0dr169VZysH0K56Ie77prJ6n/0k5OPUWDHPUQ2+dccDr5pBNzesjHznIJa4+9UPY//yz0qYcWhx76b5T/LNSn3aFPq5CnRis2CvLL8c9ydffdkN+gQeLaaedd3FFHHpGF0MrSGnyiW6Fzzj7HjXx9pMj/ZOgLreshSgZQvnugrs+a+bNbqmFDN+SWITmUKVOmuEMPgx4Bz3YoqyOPYDkcDF041222WRvXs2cvCVN9pPxDEoNHjqw4OnXqJDp109atoS9Jh1LOG/ZTrKtQTU7aBNpdufxfDj3x5JNPor5UoV8b5hZbdDEhx/zccafvK0/ugTYfdFbk45NYOaGlIXkf2x9fffW1rlkz9KWKktmzZqHPh5xno+43a9LYXRN0h6JqBOcmTJyI8vbtZcMNN3RnnnVWTjJ9+vSG7nxLdOdRRx7lBgyE7gTG9ddfh3rVWHCfeBy686orpPz7ZrqT0j3goIPdPhh7WOM5R/42jHBpSN7nnXfedhdeOMB9/fXXIv8LLjjPrb3W2iL/OzBOYf9Lo+MfcZjPp5995rodczTwq9waq67hBlw0IIRKm+7YUcqf9e+Uk9GmCykaN26sO+647hJnzz33Rv08KKJkSX3l5VfceeedO//2HzhHIJ9b+ud9zjnnbDcS/QrN4MFDoJcxNshQbh2Cvv8OP866Fjq9SabTBTn7EPVUtNH3P/jALdNwGTdo8CAbrKSMnyfOOsV+yvZHIWUKZPbECahT0KHUfxtLnToz0BuCNnbH7cNF/tdeda1rwvprDEkMGYJx3J0Yx8FxEvTnVlt1KGD4tovq7faG/vwZYyZ2tLfdinHckn4cR/23x157o07OdY3RBrT/9En0X0M0gDaE9aGj9B1V0Edt0XecCryIESAF1A7U8gB10GyMw9tgrNYbY7aisfqnB/RH+y3bA6VI1LsHDhzgnn12hPQ/HP+svgbG2kXUIgO4B9+Cvok6CvW/y8Fd0EfsnsMiCZbxfvvt53768SfXqtXK7tJLLzM4nslVV13lHn30ceF/zdXXuEcee8Q9eP+D0g4vv/xy17JlSxOH42KWO8cizp3cA2Pz9lvlwtXB8IswhnvuueckP8zn6quvIcHF8jgZ5cGaMPNnjBX2xlhhTrVbsfGKoa9Tmta+C33d4EE3S/532WkXjEdsX1dOhD6/SuMOtK8haGc0l152uWu1MvKpKJnNdHaCHmH9b496czLGHGo8iv9OmzrNde7aWYI6dsIY+tDDhNQszoX22svNRb/XROrudRodtjIzkHqpbbCLoEeplvK48/Y7QY3ja9S1rK8qJVH0iW6Fzjv3PPfyqy+L/l/zr2u6999/X8plnfXWd+f2OyeXBB/Hf3frtBvaw2zXGn1y795+jKU0GalY3pXan/S7d6FOY/zPsbbmJcc4c1j+NlznqAy/9lqMh6XvJ0ZM0bn9znWvMJ/I3b333utq16kj+QwoQD2u+3Fu3LhxrvGKK7rrsjErx/ZSnqKLmrjrQF8aCskXTOSmAUWf6A4QgErzf6Wito8TYrqo11nXmshYgW0qmohLvX7kUWwvVS43VshQOnXEGAu6o/WmKE+MG8qZIv8iDsN3282P1YROyVjNU+A4aPjwO4P+adoMY7UsHZYm53Sc29EMHz7cLbrYYkh9NeZXs9ze6L+ZXuY73z9YCkWi0R0gBdQ20c8/7zz30susM879da213AUXXCD8tfypGz5Ae1HTD21pvXXXUSfsPNFTMc947z2P365de/RJPSJKhvrmG2+6fmh3Sy29jNtis83c9O+mu/r160OXt3Ibbbyxa7hUA9DNl7IyzHOjb9EnuhWScddQjLvQ/i67/DK38sorK7lg3441kVsxt2WcC87HmG1tm0eP9hnGZkcfcwy7JpnDs19T/l4XdBR3u3ZbyjxO+YckwuPNt950nO8zd0cf083tsMP2QpxtcG+s+bD/XW7ZZdzNNw8S/+In0AwBeZ9O0NOcj7RGH94LfbhIUVFgz8V8tSPHkIi/BdLJsZYa9oFcB2P963Ey1jSkf9dQbysprmM89+xz8Kx2AwdeFNY0FmT8T0qnol69i3n7spi32zGep69cPE/7LQ3J+1j+lca/Su/4E050Y8eMQQ6w3oC8N2jQABDXBLCmyDUyzJ+uuuZqrAdynuWNcvtvrH8Mxnzsbowjyf8krAdutdVWwr+4/sB5KfXzz5iHk/+wYRhHLu7HkZT/rVhH0fXLa5Depk2bSWKHDMEayh0YyyLSsd2Pddv9bbtKzSrLnaBK+SuitgsiXHbZZa4l2o7UqSzGTMyV98I4lvW/SWPoqeti36GyyjKlxAMvBW7BmE/G0/A4EXLosFV7QJaLx5S1KMiBPGluG8p10cUBWdzANbAlMBf/Ou6C9gnUKjTgu++6y9WtV0/o2A9jv/7aSHc21sdY/jv+fUf3j3/8Q1CYx13nM/+y5cH598knYyzJdsQkxqQFllyHfpZjSZiB2Zq0ln+/s/u5V197VcJORnvkukUpCdQeeMY1ugZh/Mf5110cdyCc47g9dtsjLypQ5hhu3/32dT/9xLF0K3fJpZciqZEL5fDayJEhDe2QBmYlGo8rZYP1sJmzsHayFNZOMl1KXJn33Yl5H/TvNRy7ZO1pLiZIHIey/nPtizohozbf9T+uY3BcxcxdhnFu1Okx7bb+X4N62bQx2jESxHh3Ij7Hv6dgrG/XQZR/iaCyDEfqKoGiT7X74YcfHev0ww8/Kv3/OuhLzkOfkmVOI5a1F3b+Y/VfpfUX6WvQjhZk/aWYyGJuSzMVMQKkgNpFosbtUfwXa4Os2tYoBfVm9QKMhia1UoO9r6moGqC2penhGZikv/Pu2+7j0WMwwNvd1VukLgJIP5rBWIy4C4u55Nm9e3f3t79x84IbHH2lY2c6+vTt7TbddNNCWXu+/ftf4KZO/dItueSSrm/fvkKYkxEu+tKssuqq7iJMKGtV1QbrfFonfD7BnXBCd8cNmAYNlpQKVqsW8MDpVih6WVgB/2uuZQegC+lCVnCYl169erpRo94WBXjlFVe6lZqvpAhiK8f3MYD7YtJEDKI3kkV/RXp71Fuupyw2V0uH37//ha62LKzn5f/sM8+4gRdfDI70xwYWFvOXWGLJkA6lV7SVvxdecBm0avfuu++50047VfzaYgOIA85y5Y/NT/fQgw+5VVdbxa2+2mpOZTVmzMeQ4wkSnwv+ucV4+EqJgzXLkQuL9OiNPHMSSFlzs8FvOnEQuIa7oP/5rk4t1BVGNEn+zxtvSL7pz8XO1q3bCAKVHgdgNLKIl5U93SE6gC+nTcWif1ehKxtY2cJzZMQYGVNT/9nRdcKGF3St25IbZJRPoBw4yCRY692qqHcDMJjlJgkpenSPO2HiBHd89+PdjBkz3FKodxy01KolWED0/B984CF3/Q3YAEE6VmrRzI3/9DO3AiaYN5hNkalfTnNdu3SWOI0bN3YTsbBLc8UVV7gWLVoIHFInQHBJmP+oX7U7Bx2TX2isxoRkfXcOJhS+vuUxH37kYWzW+kFJhw5buRNPPCnQ69WrF9rDKN8errzSNVtppZL8E5lt9IsvvkB72EA6Ny8gdGwy8OIAi+0um5RnovELSlzIqnbXXK2DMk1/SIK0fdLnBtYgbGBJdKCxXr344ksiYi5EdO2KupArR+c+h07gAuSPP/wkeDtjwchPgCOm56R81fa+p512GtrTu+LgpGQT6C3lr/qHA90Tjj/BcfLDgQE3YI4Mi1JVmFDMwcCqk/APG00mpcq/b98z3Btv/Mctskh9t//++2OCc7MEsQzatGHbMGlGMoUuJuxMkN/ojfV4FPQQ4zFw9dVXc/1xsKB2HehCkz2Czz7zrLv4kovg7wNuu031ELk5obEw5X/aaadDfu+APvU+Nrk32VTSS9qaFC+/4yG/8eK7s8jvSKKUGI3jIwdXVtdHivzXxaIVF9k5iPXMgJe1/4cfesRde/01UnTtO3RwJ514YsZDaVXLZiHzvMgii+TKgQtc3Hwqln8+kZGO9ye259+JiyKz57p1118Hi2rnhvx7PB/PDk64KCuLIoaBUr8cA7onn+KiSBU2vIb7DSy43oOsT4XMybNt27bQ/acJrPkPTFHe9z/4oFtt1dWw8Azdb2Xlc4h4pYb8b8NEcDg39tlucchDB6seW1OIPl827dE/gGnvXn1ca2zEBv7i60vnyquudI8/9hh8qtwRRxzudtnFb/Z6es49iHTq5jH1z+fjP3ONVsAi8Q1cVJXScF9++aVsALP9rYhJ1kToZJor0Ie3aNEcfIGXFYVmT1MqiCFh1dDjP0ubH/3RaLf7HhjnmEmQxuGG+V13Y4MDxLofj3HONn8TMiNHvoq61w9wtWxA74kNXMm04X/vffe6m2+6SfqfNXDQgZMaFQwX7juyTcNYXSEe+JD/p5+Mc8d2Ow6sOend2x188MEanGFUuVdeedmde+65cFf5DZj2HRY4/x7RkDQg+Z+LfuXVVzHhAf9b0Nc1xEawmlh/WTc4keFEG7FM/il/v7jxvlsGC1wcM2r+o60U83Zv1KlRWCDCGg0WKHtlYwaL40voyiuvcI8//jgCUKeORJ3aCXUqK38eTOFGBvv/a0Mb8/GU/9sYA/bEWJCGh1H69++PcVztUEs8UO2eEf15sY8G3GHQn4uHcRz1Z2/0n2+BdS3Her5Ss5WCeJUjebz//nvoPyeZ/pO+0PGYUNuxEBcbmQ3lH4jRT4xSpU2TZTqTf6eOu7k51bPdeuus685B/RBagufjMR1+kd45P+YZIPkWFHyUOsfax2OszbbSAIuRPDBRq1Ytg1GePwmcDd38+muvifyH3TYsW6BQyt7+AGNIHkSg4cSVCys0ikXggw/fx+IB+jxkYm+0A27of/P1V65Fy5Xd5VjE9Cbm//0PMI84+VRsNFa71VZZ1fUfMMDVQZl6o5Sr3QQskh9/vB/PccGLE1WfNyeH23bDAiLrX7stdUPRUzgNuvY9HOKrRoK46c45TlH+M3+e5U446XgZ/7H+7RLGCpF/aZl6+vwS6y4svLHdsf1dcEF/txYWpaPxdLwe4Rg62/hkvjNRiI0QYk7DXKvLoV3g4Ji7kzvssEMlDj4lff9K0L2aSg94F+X6xUSM/TbYEIdCGmTxGUYT5a+g8n8H46rT2VchH2232CL2VYrgCSBp1dIHrIq+ajWMZWqznglrz/9l6DpuYNG0wHyNm3pnnXUmxlJvwKcKGzrHum232S4kRckzNseNc+bOduuugz5ZaHiapEWzoO2PY0SOFdn/bKFzLqGQzz/rzYMPPyD1b1XoFcmL4HFDD4uR3FgHFXugS4KzT79z+7mRr74q9e/e++5xdepgXpUz1XK4Ydy4sTh0xY3UGxCKPKH998JGzKi3MLdFlb8K/WJTHctLfM23n79Ngi7aYAOM5RvicEJmFmb+X9T/JKkcCeshFfpyY93PJRmSN1dgDvLkE49L/kWvF8YKbJuzs8V9vyGZl79lavnH1HhfPWy07rrrZv2oT0eIA+BWbJjIwVqwkLGaLNopBm2aKnf5FZe5Jx9/Surf8GG3u8UWX1RCiMF586i32T9grHLlVa75Suwv6cobP79CmWy4PjZ/0N8KG+VlcdWPNk2VHGR5+aVXhOxaf8UGFtZYaBTzX0//y116ySWCS1/Ow3UzVxDN5yfMcQ85+CAcLJgBetXSZjnOjKba/fvf/5HNq42xUcWDn4ssUg9kkSdmS5nmQeMyCJFogEKoAMElB3a5oMr2x/a/Mjf1xWRMwX8kFq3PwYIx9X/ngw/BwYk9jaQ9rXvvvcfddNPNEpP9vh+beUpcl+BBRE7t227BdQP2T6RvTbWsibA+0xyjG1hZ/mUdbNQbFJ3rhbFMa+kjiKl58TbHG1OnTs2tgynW7phHzJ41x627nuoshqiphs6iLvdjaL/RhnRm/N9/D2szp50s/FthTYMbdLI+VeA/YQL69zJ9IFO3oON/rp34g6cNcWDjlv9a+Vv+K6zQCO3rcrfoX3ybsnJ855135MAhD6A2X6mFjL80mzzUOkw28rL1QGwglyQQPgu7/sG1RK4pUv484OPn4RwnxZQSfuaZp93FF7MN+vLnuGhx2bhhKNdR/MYjQ6/jwTAebkAlkrU2Wd/DOHU1jlPPxzyffQIxaXz9f+M/b7qhGJvSm5cJqF89JycHHodgjEPcCy7ApQMexisYlQMm1e5qrgPJOFYpROQPMH6cGMax7Ds8f/Y77H9EDmuuhosO/dEP1Tatx9OKcvA07cF++gSOAgSXILOv5sF0jr+IyXVLriVIrKz+k0A15HZGn77uPzhQzvWw03ue5jbHJjvTuiDzL1Ln+q+2/1VXw9ogDjRyfhBTyLThcKaMJTFO/knHyVgbrE0KHrPf2dnBW4xx1gvrFr5+CFL2efhhrNHhECipboN1ixOwMcvyPxvxX3sdhwkR4GWlm32eP/P0/gcY0/fw47+VW7bCBv+lQpUYTAnXBTmmoGu99TAvwPzVr50IWvg8/PAjsoZH/bcV5pMnnnSCxCGC1k/q36tlTYDtieOnTBdB/u22zA5k+uxnB8oqr//lDoPi0AXHuZpmD2QbuzwwiQC/XuLbMdecOB5jntq2xdjyFMDkGwh4kO4HH3rArboK1sCxVu3XbX0CPx//uXsbh1WXW245x76MJkQHMOPnn9y+++4nB1B40eMmzOkjBjFpMqam/i3s/Mfqv3mtv/g2y70M56684iq/lxEyEFPqx+8TMbbYaJ4HS5ibEF2A4GJQZtSPNk1p/sULIZ4EdyHYG6ov45Qx5THUV+18RE4cfEXm/ilOKkBxPY6Tzpzs7LbHHn6xXaL6+MQ/F6d+X30FixuIcTUWpZs18ycFRrzwgrsQnTLNoosuKicqV1xxBbiyDMJ+5tln3SUXczEVDWRrNFIsCgt/dED/6NbNfS4LnFVyUuEgDKIYM5MCbmTMxWS2hxvz8Rj4VckJKr+gTaR4+pJwnBxovtV27jmk4aKLLiIJt3TDpbFpMcAtv/xykn/hh/g/fP+D63bccVg0myqiv/yKS7FItjJJy+mXLp27uq++mgZXFSr4Pu6AAw7wyRQM5yZNmoTNvePdjz9+LzjMxG0ykV8iw/DW999/LycyqBSWxCJRHdmMQxiSq+3BE47pZ0wUA04UHCXKk8j77IM0HHigl5cnLd/7sJB2442+0W3WZvOwYMOTw/vuv5+cKuYkhovBLH/NP3k+/Oij7rrroFAxWajCgLBXr77oFDlh9/y7dTsmLEjvtNNO2DQ4KsYHDidDp2IAOHbsOGlg1117vZxclfjoiHaVRYJqOZHAzbAif+Z/2jRMvg/pIvx33XW3bPJNCqXGSshPSrlIOBcbZDxJVW4g6iev3VjvsGA6F1pgHyySHHTQQRRpkP/sWbPRkfVwo0ePBT20i92xkcJNtYKZjJsdhx3KxQE1Vehc/45O9ih4xNQde2w3LFB+KvR5c6dRo0bun/+8oWz+pTwkaoyv1Gn7DSy2Rc+haxecdt7dnnauduOhpI/HAuxM3JJkQZyBQfXGm2zi46Ai8RTyxTiJxfwvi8VG3jxYHgrd1r8ff/redevWHQPuKSiLKnfZpTz93EJoaMfGFHKTzC525xY7cZOjZLEe/Nn+eYLsXTmtn93AAjHy/wB+PbEAMmfuLNT5WlL+W2+ztZxcoi4aN+4TtN8LsYn1eZBwfkNW5aa2JDl8SONR1PNrceKJ+V9qyQbuSkwyl+IpLvBX+V+HDZGHHnoU8UAHnrJJFjawfD2SUz3AaNfOLnopX28/99zz0D0DhEwtbDaxbnEjf8gtuF2GQanwY+qATv5MX0dM4Nn+2rblSUjWY29Yx7m56/WQc/vsu687EHrImkmTvsj00A/wBkHkURZgs5NfpL+w5f/IIxj0oNyZQ8qNC8s8veONzzdPG3NwRP7UdTvv5G/Jkb/tf4r5F7eQ4GbtudisxSCMnhBOly6dc3WdaJ+PHy+TMp5OIWJfbMBvwg01SV2g7p7+17/cJZddikWSaiwQ1cEJptluCdxMHHzzIHGr/C1/zxikKhjyPwQbDby1w5u2XICsU4cDVUlwZvvbgjxpx/K9+irtP33/G1IIYpdhU/upp55kh4ODGcPQp3LgypxU4+bJ0W7ihM+F5j777O0OhO4XMQmG/9x33/3Q/TcITrxZZhAAVpI/T//L6UUk6BqksancYAmpC0RGjBgBfXGhuJdAPb4SaeYmdDTV2Gh5FQtE3PCpcn/BJPR69Cm8GUej/KdOmey64HCCDHMoL9SLnXbJbulJxnzuqKs//exThDMt1Y6TW+pOoYVPaQpVKmoLqoxzHpNFMtzWwziHdcn2P6wX/XCqWeob4GuuvQp6bSWJPA39fmf0SeS/6KKLYVJ6kZyuVg4vvDBCJqqz0LbZ/3DQzBsemjpOtnkYg1louwU3IDHxAC3Lf9xYbGDhcBCai9sLJ+IOPgR9UiF3r7zySliQ5clP3gTX/M+ePRsLwg9hk+5tt+2222X9toaCVGZU/kX+nDSNxAYE+d+CjbyGvIGVUfe3ljEpQYrjOIsuxfDEuUny/vvvoj7oBtaC8R8xwo8jq8Gch5SuwGLV0suwvsT4L6NOnRfqVH2MU66TOqUYvk9iGucijdyAbZKLzxTyFHPnQzpLe6VO2hsnGA/c/0AGSWZYPpMnYxx3LA9M/YAqybaMcVzu5CwOCOh4EqHLLsP+sz/Gkxz30nip/PDD9+7YY49zU7EJy8nhZbht1KJlS6n/LANOytn/yGEbHuZBNPKX/AiJonQ9dftVDG52eh3EA17UZ7rYIdQkTcccjbHb5+NF/3HseBBugNv6x36pB9LxMcfaqP+779EJbcSObSxnDyt/ujjRHjaMC/VzseByofsrbszY8pv+7beuJxY7PkH/Tf3PG0aXoJw1hTb/vCH7xaQJmHjWxal0tCkgde16GDYmOpJVMORPvXEMTtePRz9AxL1xY+qggw5mgLjxERonY9F1NPLGds7xUteuXUL+ZUK+KxZJWB7cwOqB8sjmX9LX8WYLCod180rMl3ijnUY5cBGCixGSUOTfH9Y4InMTM5pK7e+xRx9zV2JuhSS4rp27YMzJsWyQjhCIY1x/kzhsfEbygKoxh+HN786Aq1xH3M6zY9RncMjuYjlkV+0a4uWMASir5ZdfXjKj9Y9zoeO6d3NTpkyT9PD2Q8sWLXNc6ND82wDqun/842jMU7SvQhs78ICAovm/H/OUG7A4QDFvthnmKaefHur/jzgJe0y3fyAfXwv//mhfa66xphym6tbtWDnJvRhuvPD2/9Jmo90zqcbm/yFoD1/J4UG+PBA3NJFm1JcFbX88iS1zLh6cAKz9rmZG8x/nXFXIS+vcjW4e9tLT9FejHvG0e3H8w022V3CbhvWPtGROWJj/83buuHHcwOKrAddJEshf57b0WGaZZaGLLsh0kabOYU76Aw5HHOumYG7LQvM3GVsAXLj5f+Qgyck+6lvtRjwPvY5+kLp2ySWWdJdjnMiNGpv/V7VPQ7nUxxrC9ddf6xo2gO43+ddDQpyL2k0Y5WS5Swal3ZSGHnzIwe6raV/Nc/w9lC+NYEOK4++rr74u60fyHOiiDJ/A5jpbKG9gsT56U43+4Tm57cn2t4y0sf5uObYxGK3/P6J/OIbrDVOw3lBVC/0D1hugE6XFS9JL0+/p+y9f8pD+Gs4111wzjMk0/7ztcAT06LSvvgJNr+mvw2HLFdBPWfmTH9d/OI5j/Vt//fUcF2Ct/D9HWz7uuOPlhQMuIG6BjWma8ilUX7UFNXw0/4xt+x8SU/3jCVej3dwlt6YpFM4/4waWJ0cOX+GVi86dO4uHH5sN9BsBnoh74YUXZf2JNwJJn4e7uBak/Ksxp5LDRah/bbfMbjZJ0vPpfwOHevvKBlYV+pujcQNrh4yDA48R0uexvBddtH62DtYIPKQ0JW083HwRXr1h/7P11lvjQOkJiM+5kTcHo8/66ptvUDcxj8D4q07d2rn4YdEYMfx8U289ICehD6TOnSsvu7B/t/znYHzYA3NJHuBi+XPDrHPXQwP/BR3/+zHee/mDpz4LSAfK46svhW+9enWzw9tZYMBBrsFf5a/5t/w5/uiwdXvICLcAjfnhB+gxjqmwJkFzINZt9tl774DhD9YOg5uHBfTwbAgWgLJa2Pmvn4d3ydqWy9YDs3FkVivCPBw3ZNj++H8oxpGLL7Z4yP8QHroazjErNpB42LdZUykP1pFjjzvGffopy5OHZ3fCaxZcU4qGB6tPwTxi3NixQo/jYR5uEEag8thjj7qrMI9DoDsUa0SddttNItv29wzXgXALj/yXwRyOh39WwLqoz4Kv/yLz4451U6d8SVJya6ZlyxaI4w/+cP3pK+gYGi78H3DAfoB8+dKeNGkyDoIfhz7oR2l/zNuwYf6Ak63/IiJEk/ogrD1/GfNw3MfGC6R69RaR+Vfz5s19MskY5v7778e88EZAc6GLF5cDdDw0TLMg8y8SmwtcrnHyIDr1/1577SvjZCGSffhKkKxJj8FYEn67Q652TZpp5GaRzCOZGwitK/TTbtkancqf64/H4ULBLNzyZ679QepNJP+8oTb89tuQ7lrQKxdgLP1XmwT3LcbS3Mj45NNPBd8eBiN/0uP6rhx0B3/Wvy4yptxddIW2P84HTuh+gl8nRLvoc8YZOIyMTR0hwY2k23CYA2N6ZENuBcmcCnISnckbWLgs0A4bWJy/ZGZ+639ce2NdZ5o6H9rV7d4pW7sEMdX/vPl1x53DJf++HTcV6pRdHFvigBvnMVgHyZtqjKG4DvJPeHM8hrFlz9MF5UuuLUMONIst+hd3FcZjfC1ETMZ/DMr1RO5RoPy32AL9ATeSKxgRUxa2sPMfq//mtf6ic0+yXRpzzwFYi5Hxe0ijv0nGNWdeGqqqVctdjnWvFi1aCobWPxbygrS/QLYMYPMfg0EVTNgXsN54ExwB0JCKtmKSEOowKoO3Q4QM4UMsGPPaMQ1Pju2w444YxOBEEBTauzjtMHLkSNjvCg3/ZIofPCsdPh147z33iJMLWTx1t9HGaIi1cToGiw4PPfQIBDVHaiefWFsDgy0x4P8FFltPwcTym+nfgn6V2wYdewf8/eUvf3FTcFKFdD/88EPKGifH1nd8RsieTpNFC92pLSykZ9kL+b7hhn+6Bx64X1jzycP2uCa/1jpruQZYhBvz8cdylfdrKGLG2ww796f37JmT/4gRz7sLkX6WCtO6EZ6waY0bFMvg2vhbGNy8gM08PhlWF4ujs6DkeCJgGBTR4lg4tvK/FAPVf2Exlddczz3/XLcOTgmWM5p+CcscX3wxUU6nUoGxbpD/BkgHd5rpx5PDI/DUIiumw9rLZZdc6lq2XDnw74vbEnzyjmaTjTd1bTDZYtzxUGRvIg9PYUBOVjS0+/TObmBl/Nkp8/SV8l8fG2FMwyqtWsmGAhdAJ02cKPzX28APhLXezcGmGK/J04RnlEIFF2/56Kl7suQ11cOwyCmJEdwsIRE9QKpUida2HZ4QxGCNsPJXmxF4q4iLFN9M/wZiqnIdtumAQeU2OPHj6909qHcfoN4xPtvCGbhFU6duHVLDnyQEtjfHonPnooyaM9EJ8DkFxSTfQXha5u6775FyIN4uWKg94nAscORJKQmxNX7eoZ3jSJmU89lE3h7jDRjWWXbcvEb9Ep6aYt44B1x//Q3RmZ0V5KBMbrzhRnffA/cJzjLLLSubiuvgaVAuSn+M9sAnz9geaDZrs1m2EepTxXanz/aEG1gZYf+0H54QBHOehOepIlv/MzQ5Nc1TJMtgQ3kQNnOsYVvqz0VyCg+GXXAzDO6+hZ749tvp4rciNgG/wKYxZcjNEXujkAgqPy13tRnGxV523J989knIPydl66+3Hm4ATsMC/Cvu9X//W9oycUlsl124ARMXpTjx4QYW+cebUqTujfKfgedEDzr4ADndSDnQyIYbJpeMWzRajxk/DA6UGBLy/PMjZANeooLghhttiKejoIfQmb311lvuRcjuS0zSa2MCNAeLklyEGTYMNwgyPaT8Fqb8RX44yccBFPOwLBZOKL91110PdWaa42Lz6/953dWtDV2IU4WuCot6O2FzAs9/BRPyFHxyAIP5XCb7n9q1cEsCC2PcSN0Uz8iwri+x+OLuVYTxpPa333wrcbkxL090wqXktdx//PEnLGwdJIcHiEz9u/OuKNMjWKalRuNLSHAEIES45NJLsDn2tLjZt/FplfrYtNkeT4ywjMhfTvViosLyDxsApaTw1KhfFCGxYVgUWVwXRYAruheHObT+bwa9S/276mqrIf/fYNHkWZmYkScEhcXhS1wr6H7Nv9oMFlPgn2vT6Ev5TJzQInLA9QBPJd2Hp47oWqHRCnJTghMK1t1/v/66u/+BB91POMnEhbi+fc/EDZT1QzqEd0aTuvNT6E4OXGlUdxJWlryxeE+mOznk4k2uSmXGeGo0vubb3iDmzYu/7/B3xz6KEzeeyOJg/z2cuGe8kieP4Hn44Ye5SZOhbyAV3uL72zbboE+o6z7DRIRP68imKPI/F0/JrIYNrAGycOfLn3V3V2xgsfyl78s2LKKAnTwP1R0LWuTPZ0cOwqZEUf7+BtZ5ksXiU8ZPP/00ngW+ROLUQru78eYbRbdq/tWWyPyogDIPHozgkxP0vgUnN7nhqPxlQoFxFuVfejosIwCLC+of4lZtQ2xgDRo8SOIrX7UDdoF/rk6tsII8xdwiq1Ovv/Y6NucewKbSTzgRWcedgT6Wbd0aGQuiz2KaeVqwCSZbhJWv2s8//7zXn6x0GCNttAHGcXhGlPpzFPQnD2VxHMdnvLjoQyNPnmBhyQrtxn/+092HSTOZUP/xmRCecuVt7TEfj3XD8QTM19DD1L+bbY5F7dN7hf6f7aQTnollH8kNrJPLTJJy4gmOAEi69MNyZ/nT/BU6qA0mbfWxkLbj9lhkQxTWu4m4TcPDEDJ2g8fWHbZxW2/TIRvzTHH33HOv+whjHnLgmKcvZMyxrJjANgDe33x5m4ATWcp8STxNvd0O27n10R9U4WrIhx+9jxsWT4UblIzWCqdGL81OjRoyAnKznze5SYuG+n8w6hNvhYnAxTd+OJ7jUy3MG2+ddsBYjmO6RetjPIeFl3vuvct9+MFHIgcZzyFvdVCPlIH2ueSnzwFrTtnX8Sb+Z9hEZ/1fFqcyc2OFV1+Bzvu3tH/ikgZva3OsQFjlr3ZItTLIPCZPnuwOx1iX3rwduhNeSfgLnufi2EIOCIGYPUnMsQHbWznDDazOXTvL2IbPER9++KEhHcT/J+ruA/c9IPVvOdTddu23xNNba+fmQn7hOxv7YS7kZVVIdDnm8OOtwx6n9HDT0S+z/rfZbFO3Acahq+NU8zcoI/ZVzz/7vPDn+JsHS7gIo4Z95MM4JEP5bb/99niatVvgz1vCQ/GyBcPaoK/tybQVzCWY9/zrGc6xnFtjjb9K+/tL/UXdjjvuIJi/pP3xFhrr1nSMPVn+bTAWpu5ZDTcdJC/Pod+VJ7mQRNQ9bkS0RF5UUnwOh4dR2MnJE4LoV8UoAhznYmOehz6Yp3vQr7IvMcGidrpjEXDsON3Aut7TyL4sTy7g0SyHuW27LbO5LTaNxowZK/y/muY3Azl2EpllDBZ2/p8locTS9N94I9YH7rtb8t+IYwU8m968OW79zal2r/37NTwPCr3+8ww56c7+n2MaGo1PmE8Isu7zOftyT6QSp2g0vrY72pdyrJbpyTWlXrQR/bc9NiPUaD/C+OFwnhIzqQpjNRTacGzcxw0sT+kGLKA9gIU01v9ll1saY/n2mOuvjQ2KBnJIgAvX077GBjFot9lcn7HWVOTzH9mGhLij8TzW+M8/l3bBTSnWAWuISX1+2mk9sR7xs8h/3XXXwUJpX6yv1A8Mpk6egts7p8ptd+r7yzAG5QHlyAnz15sHoX+4G37elwcwWc/4bOJfsBBYHwvFXLPhHOOva64h45+62MBgfbbyR/OIxjKIvgFi8J1YT+ANLLK9/HI+g9YSvpaIR+caAfUnTX2Mzbbe5m+uTr06shD9xhtvYZxWC+My3mKaIzev5QZWxj/M4xDX6tRc8uB46603s+cruYF1jGxgCcPsw/ELn/9k6jj+2bzt5m6TjTaW/m/kyFewDsYDDqTqZLORG/I2K+zDn0HdJAY3JKnbuB7BjTJ6yhiyI29gcQMrv2hMmtoH8qAIx//s/7bpsDWeeFwUh2gmYwyN/v0jrKXBsA88s++ZMkcUD3wWdPzvN7B4y96/nKLxaU9GXToct325/sS1tQvOO3+By9/yJy3KYb1115W5XrOmzbA+9QbGZiOEB8MbYYx4FRbC7UsKXAS+U8ap2BDCi0zNmjStyH9h5r/kPwLjyAux4cMy5PoEnz7liyo80PTmW6PciBdHuK/QD9euXRe3R2ciQ3hVgxtYS3AcCYMMyqsB6M8QFOeFPlTWNvhcPMc0xOUrONR/q+CWOQ/vsm3wmXbyX19u+ZyTxfTWJBwQPPxQjCdAvN4idWT+zXbPuiPjCQoYccM4Fk7fd/ixANeBxmbrotz0Z9ttg3Gyf24/snoe66K8qUQT10U3c0svu7Qb9SbG0yNexEbfVIy3ssNIwJNbRdAV5F/JZMmTOSUP/5G/6h/eoGdb5Tob++CXXnwRN0T/LU/5k+Q/cFhrB/T1hKl/FmT+penQdkS6HEtujTbEDedFoeemTPXjZK5Jk/Z6XBs888zcARnS4QYWnxDk/HcO9A4srNG1dltsjjU6rFtwTeMV3J4Na3QoW123YHyOpfVwEvO6/Xbbo81iLI31jw8//EheJZg4YYK0ESZkZczz9TUDxqc5ux/mc6+OxCEwHNatno281JZDjdzQWXzxxRD2mnvplZf8GA007NoJ41P+XMvjWJwOjl04p2KhyfgJa1/ECTewANPMb/2Pepr6musvdRepi9cKdnaL1F8E9XJLXy9Bg7pAfnIBcLgFTYGDI8eWMh5D+ZA/6+QG62MdhOMxjDefx3jsWRwa59xKxpaXXIYnFlsGPcAX4HiLn/xbwn/rrTq4v669ltyMfQtr48/jgC4vmZD2KRj3cV4njox/pUq7sPMfq/84/p3X+ouM3zHeYxqX5dotZMfxOw/Gs80Ov92MLdpsjs1OHA4DMttQMIxs3SHAA7ng4AhAATvvLHlC0EfLR875laQuT7DUFWkRuhGbO/c9cL/kh3miXzDINbfTllm6oTvt9J44CbeGBAX+APiszStoLByNSXwlAAcHaFVYMOLkbGcs3HvjYxP+8KOPXC/QnYETQ4xbjj8Xxy7ETjRP2KghBe723onCYvr4exyimBWhaAOHHQ47QSlN4ZTVTRBjJ0LefDf3zLPOxq4mTiJkxqe22t14081YuLtPMsWOAU0Zf14+HDTwd4822WgjOQnNqMWTu/TjEzZvjxoFqAqTcp50XlpkpPyJUzTKn3FGjx4DGqfj7VPKK89f5c8TXbxVxPdVrXnvvffkaun3330Hb+a2NP98/oibNzQ8FRCfhfSp4EIgn/n5+edZFfmvvHIrictFITVhoAi27drGGytCFR/N/zScWO7cpYtE4zM7VHY2/4EeAEhevixPHOzAaVPcXIEPn1i0pwI0TrSrMZgbLRO5GXifmHVU+TM+qdK0aNFCNlI4OA+8fFBI01CcsOQJPJY/FfLtOF1St269DMtbfLqsN05MCF0w4MI8rxbT0M/yF8/CR3Ayjmejc3wNnWNDnBzYukN7WdyV7W7w1/KHOMTwqcx+OKnHAXXeYCgAHN5EpMK2/G3+GacpJjNnnXUWbmgtCxdD/cBrOBfkUf/4m3Jc8FXt6E/ro9ODKW5uiad8qlE+PK3Pxc6l5cSZyl9xePJZr1czfyJ/5hHpXhkdzzHHHIun4o6Hf5XT24Aad/62v6XGzown5Cvlnwvl199wg+iXXXAKyt+s89TlN9067iL8+dwGT0NVMjytGTaHIcKLcQKQT+fQSNnio/kP7QRhOlERnKz8GefGm27EZIn6unz7b9RoRbcR9NBDDz8keRuK0/H6W3yMT64LU/6k8BlOvJ/Rt4+bhkF6pfrHRbwbrrteUs6BCn+nzBufI8LF/GcIYsltQ9wK4XNmW3fYyt2NRVaNUNS/KzVvIc9YcWJVyfDk5bMY4EjmIT0eJli5Vatc+ZeLW5Q/cdTvnbffkQX1mdgsJCG2ELZ/Dvy4EEWTG5xgINg0PG0RsiPlz0URrSf2VK/yGj3mY3c6+sqfsTlUzD/1D/nzEMqBB5bqfklI+HiKdAqEz5Ch+J0t9KVM/1XYeOaGsRrlr+2fEwnesngRfant/zT/qn+OP+F4HErZRskY21MMA1U4qTu5EGQnpIww6m08+yaHSYCEPPaD/ltvvXWD/CVNZJgbnRlWBpSFPoxztPwZJCnBR9sf68+pOGXMRQQ1xPns009k/PP9d9+DF9tPvv8/8aQe+J3BwWgPX7rV8OxH/pkaPoNhB/w8MOR1qfIf+8k4xw0s+u6x517yG22WP/UfFznlSSzw55Ow4c155J9tnM9OMj7FwTEZn0oqb4SrBCn/s/udjQ0s3MCC76DBt+CEbcMQ1T8L6/u4q1k3MJHxFDI6mfy5ESMbWDiU4H/XMJAoAKX854IiT5NxA56hwWTjT9X/3EzYZputS/jztxf5nDTTzzTOayzI03k8pUcjKcFHy5/xRX9uDP350ENSr7hgvuQS+oyHRJPxxoAB/d2LI5BeyX9p/8vEcBHlLPTByy0Xx5N2I0LekD8Zp6mBS97ljJeW/2q49eN4kr8xx2dbSYPJYTuiPGSjJov0EcbaHH/+jNO7yk3o4KP8W7Zogeeo+mOsvaiyyss687X8yZDjL27aUieQvxjmibThYLoarbii+x43D76bPh2TylVE/0oYcYjrY/mFMGwYe7ni986wUMG+JmIozYwyGH6EcfHpGBfP4u9N0JumwL95C47nkDeM55QWUfniAF8HIH+7iAmnGO3reDBEK0yx/R+BE9J8/pQ0dipzoCYjlVlZuuESCB/mnwv4b/znP+Kn+AcdfJA8Kcr6L2NcLOZQqBzj+t9BQURm2Og/PQTGxPBZbf/7j0qR6HMx9huIxSWUFbyljICL//JHPxq2IT6Nwk07aX8S6sMkno9dwp8Yo0djfM269tMMxRLbM/CxeZCAp+h541TLn7/bw7EUy56LN5zXLY5FH+XPE9Ddjj0Gi3gT4TcXG8M9ZZHT5v9t9BlnYmFJ2gNYkdsiaA9cFPEHDeKTrgvS/j5CXnrhFO8MnpaWpJfqfx4aOPCgA+XZdC8h/x2KOSoXFChb3hjzesnnnxiEzut3Ln7r6xXB4cEQbp5bQ5zuOOwx7pNPRTfdgBtYnkL2xYb4ADxZy7kt+VSq/1wUYXlyodKXtOe/UPN/cizUP5t2hvEwWtDrIYEEPH/Wv+4YK/BQSDnDW4S8MW+fwbP5nyd/Q1DqxVmoF9ARmn/+nsodw2/HYn4dkZ1fgMvmL1l55Xhl9C7Db2A99eTjiMMDYvi9UtRRa1h/qQ9fwIEzH9/nVZhIAfn8s0zOwXrDslhv8D6Wioctfz5J//DDD+InHXAg0oz/eeCFh6YaYIPMmpdfelGe3/uJNyAQ0GqVVrgNvqtbaaXmclCRB6V4C6xx08aOv0XOhcCieRRPQV991ZUQmZ9/lRv/6PiTeeAtCd4Q52ZpeaMSieWv7d/i8ze/OfagLHmKnOsKaqxMPv0kG5v98F0ULxGRGNatE048ES9e3CJzPT75NpAbD5m05bezoSPJn7q/3LoBeb2FDZQ+OMhKIR7T7WhsrHOBnCGIiPRx5M+XikaiHUvxIoRBols9CBHhRRH0a5wLKX+hgM+od952Z0Fn8aUc+tH4PvwO2dyt5jPUeBqVgXzm9mSMGSx/6r+PRqN/x1j55xms3zAF/qTboiX6QDzdpWtp9GMaF3T8z9+H/AAHT7n+cMvgmz0TZhj833kXz/vxJi2ccvAAryeUN0Bg4mAEwsfy3xOv4vC3nrX/py15zepfg6WWxJzrLBy+XtnTyfizrsgGFuiFg4LCpfih/q75+gepMd03YRx5v2xSw8W0QZDMFWnT8HczN94Q64EYR9I/zsOJUBUX6uGUDbemzRgtGK6P8Hlt/oaWzT/56PhjFYyjeCuVNz2L5owzMZ74tx9PSLqAwPHE3jggp/LnY18DsQH1fNZ3KF6glY2/OebnKw06jvU58F+/CfZASf6ZadYtjvs2xnoE5UC/+NMqsfzLtX+mgenbFfqK+af+5ybpJ5+OC/kvzj+323Zb3KI6FtWROfGmdMOldP5l+cs4me2I/USW/6L8mzdviTXp8307YoEbfvpK0tLLLO24QcLfRw1yFcDLjanj8/m88doQuJpippfzR47PKvFv1KgxXg2b7jgf5eGfSy+7LMutt/zayUg5xLhVhw5YJ+QBBJgCf/o1b7YSNrzOxhp/fp2Q83NeSmD744tFTbP6yZcs5Hfa0f9w84QbSpr/BVn/O+MMPPX4nzckoSIJfA48+EDcptxH/LgRzd+EpeEaYhPMoUT+mYRGjxmNdRCsQc/4ET4IEfnn2x/Hlqzr/L17a/jTMNRRX331tXgrfy1/LSfqr6Pwwlg8TCSYgZR3ZX7gv7DzH6v/FmT9ha9mvYDN40r5Z0J5o/MczAuXXW75kG4PxLwIhI/mv4AoTo8d49Az51eo/4UNLBMxgAEwDAREYfq6JBh5NI8QvvlAXiPn+9t8J9fXdI/Iiftaa6/jjj76aJwuXco3gCz5SoqbT8PxXN4TTzyOk2rfS12mKq9bu7bscvJJjw2wW503kf/72Fi5FbeV+G60GAbBsAPfCqcDD8CCnDxTFKJ4wP/InDYwPzmYV/55QvJ2DFYfw+8ofPMNb5eguvI/yPE3Dnb8+w64Bruvq1unrvD3n8BU5MK3pdm4eKKV8aprVclb+sxfjx4nycKyND50aNzMWHSxuBBAerxuyqt9/JH0wVgomr/J82d6+SbtbVjsewsnv+fC7Tt4h8ZWG8psFbnpwN8VY/qIbw1/52AgFnI//ni01BXNP0/NHn7EYZKXC7E4SeM3sDYBlBHJ6L3z9igpr/dwM4/5V/7LQAlvvPGmclq9Hk5CWf5UyvF3H/jEX49Il8wyY695+g2sQxGS5+8raMwYk8WFf97wgoVdc3861fJX+tGulh+tHXrbUPc2TszI0EMioN5hAZo/2MxnuvxCXmX+o3HllL8tRoyNNtpQBlbsy0RUmbxY7/bff3/5wUUuDA1FXY9PjcUUlYcyIgwEyLdtXxuJDSx0Nlwk5Kmv21DPZvCqOvgy/3yf/G94RuogPC9n31zO06/GTaQ5ssj1OJ6v+RqnF3yBeT7c8NgRtzH3w3OZdSAPMVlS9JowxSXPomASlklIfoiS9Z/yvDa7Fp/n6108DS5vaaPO8Ldnyhme1vgXnlQbjzpLGbKD5dvEW7Zri4WwH90h0Cusf3LFnjeaYObV/vM8/FM7twy5xY3AiQ2+sa/55yTw0EMPlTqg7y/z/fxDu6IuSkbRYaHH4uIQ+XMDi7//Uok/3+0+HZ0mDU838gp1VkPEz37kx3q5SAXjN7DiYMtXKoZU4xbn07LhMBG3IrX9sf2vu67XQ7wdwIk5b8JyY8AuSJICadS0/DXtX0KPUX7P4TQab55o/VsKJ+W74vTXVji90nE35AX1ROQHmUaTVaboUQL5WyGmrmMDa9hw1nVOxtF1g0Rd1vXttkVdP1AWuuZV/jwpfyYWMFiIzZs3k6cjS5iWeJh0BjAAgv0hJo589mz8+M/kxBXlcDmeZGmJTTXWF78BkA3IuLgum0N5GiTEd9/5my+UV9zAMngA+bYxT/LxSROOmlT/8pkk3qY9HO1gNbQRiWWiSkJzn3yg/J4kru3ThFNP4jJ4AazGzbrZUq8effwx9PnTpVlo+fOE9V57743yb5+1FyFU+FTLYYwTTzpRypFvNZ8lZZNHmzN7lttvf9xghH7jm/jU16znlnBIFnznVf6kzN9QuheHUCZMGO9poHxYj9j/r41To2GcQ2QxkTp/w4eHUvibQnwul/F4e3W/A/bHDy1v67p26YJTel/i1P/qsqDIcAom1/dh4Tn/+4yey+fjJ7h/HHOUOPbCBhafhfMm8n8FN2u5SMLBPH8TjTdBaIgxdcoUOSTBt+r5fBt/tL0eF0LBv7yJdBnO35EY+fqrgsrfPoq/gWV+bBpR5FBCdhJP6Sol+Q0svCPPccAg/q6hBihizi4NnIWyZr1/9JFH3XdyyIbJRx3Hl7/Vw99Eai8/FJ2PSxcXHtnvsP/zpwXRJ+XRctz/9a+ngH8n3vbHQjjwyKN2nVpyOvkkbA7yRgM3oaHeoXNu9/oz0PMAb2hxUZwLfLwFqfWfNuvT33F6et/9i+NJ1ge+Ic/DXOYN+VzqrCMw9QUt5Wn8gErXaGxOXQH98cknn4kP83MlNsRbtGwBdzQ8xMTxx6hRb8ITxPgfBOrWXcS177ClH/NgAzIawyuAARC06PLPjvC23A8/YjzCxoh5JRO4+eabyzM43NTgb1jyVOSll+Yn3ZEnDnphAYELziz/U/A7VOxjJaMV8k9vtkveeHkb41PfP3j+YTyHPoKLCt6YVKPS7MrfqIMgpM/F4mA0Ho+bQmwXPHHMxXRPH7fNGi6Fvq6r6Dodf+6G55m6oq+bV/0zmQmsZoPujTfeKDd6+eQOzeY4YXp6z14C84e7O8pGGzawsHCgi60xJ6AKB5/h7tylq8if/e9h6IuLZjba2u3YWHkM+vvbr7+R/PgEOzckwtoAAEAASURBVHmumWM/mQvV5WaKCN0k2XI03sC0+vcD6IJhtw+TG6qyyJAlgrcoV8HiIw8EFRfMT8DTWmNGjxFMjqu33rpDCX/9TWLKtyFewLjp5ptcbS4gwij/D3FA7Qos6nz2+WfybBfD9Hdna9L+uJjI3zB5EzcxQDCUfy3Ip1WrVqjbR0pelL9ICJ9bb8NvKuGwF43/PQc9GBJlyI3750e8IPWP43m76azSPQ6HG/jMLA+lXcXNBC0TQKREXcRXER7BWP7bb315avtbAqfdY3nq3DbyR3R5Rq6m839LqZh/JpPPt4lef1T1OusTFDUCmR8+425/kJ3picb/JiSfzGqN2/e95Rk3y1El5GOU4x9p4VYS9OTl2Hz67LNPpK4wfVfCzc1tmtwCnGxg4XCeyjqwxYYKN7CeeFLGXxyTLp4drrX8+QLC7RhTPfYo1xu+Efr+U4UDZYuhTP7u9sUztvn1BoMmYGAqh2d5eE37RNZ/Hf9Roux3OnfGs0y77yZ1QvUPD+lxA4f6lHrM58fLf/kVlndtINeDD+ks88Yid0qX8wQuZt59190SdV782f8yHVzQP69fP7cObn2VNzFf5cOdzG1vRn6pa3nDgDcNfFHk49LFm4TDMDZ79933sfDMTfMqtxwO0O5/4P5uW4zNumBsxrzH38DyNDjfknkc8OX3D3O6nynzeHy5pk9vHKJA3rrhCcHtd9gxJFtTw2cbhw7162Df4RlWbX9szy1btnR8JnB9vCTkjcYKZGQDiocdP/sUOosVCeZK9OnNW7T0Y0jOC8G/Hea/PACqxlJ6912sDWGM/NYo9J2kkfW/XEuTNY3QB9pYqPfoN1lXaeY1/ufYletPuv5AfKXEMdUluPHA8j8Gmwg7bLddVl7EKhqN5f2L/HnLiM/1Ts90GbFqoU5tvsXm8pLGiis2DgSVEseAHKuRPw8L8PAQ5VXeLPz8l3T/hVtzHCd+gdtQ5Mv6z/nJergV0gMbp/c/eJ/of26oUAfGeXj8rR+2Uz7R5p9tz6dW19rkN7uzjLL9Uf78rbVDDz9c1kk1m0X9w5cY+EKIjieKr+mQm4xj0Uc99sSjXk+RT2a4/rsD9ZSuiwojlbhHootP9PNW2OcTvBzY/upgE2F9vL5hx9NeDhxP10csTXXGrIzFjVsZmyGMt9G7HdtNbtLy93p58Ej13wrLL4+DPnti43RHKQdJYZbMBZl/FVn7cTLGkqPeEl0i4aBXD+sNuTVpBGRsPAoc/frh94RxGHAZHLwdjNeFeKt6ONboOIf1Brfi6tWRp9556IXPShYN2z9vqj2IA5ccS4vJGG2Om1xHHfUPufgxHhsy3MDizW8aLf+z+aIGZMSbcFxf47iCBy18Gij3uUjDIm7bbO2keACDtPzBWzzlh3KSDeGsPWmZsN621bVWRoDRzSfGqbT+x/6EP3Xw9NPPuB+xlkM6bdrgqT8cQKORjTO0KRpunDXRjd0s/5Q41w655/AGyoflyxyx/fHFh1VXXQWHpY/Cb5KuUraK8RYXXyXi0/Ucc5M/01sLa2U8YMTfUP3b3/4m/HOla/hbwsEbVPjsYk3mP0X95w86MQmRegQz3cW9DOy58Pl4zT/1D5+h5Ut6++2DsUU9He9l2QmWoRv8ygEGL4ABkAjWJfUPlZd+weQQ4MvEljce0+KXx/O+RWzudk/DaZzJU6fI7jNvPvG5PUvPwkXas2bNlDdPp2PxwW9erTzPwVmR/1coiCmoXLOhtLjxsyJuEvD2i+Vp4SJ/Lex54/gnxKZgcXwKBjR1atfCifim8mSOxCsT2XoRppbgBhafmqmHk+N8qoknuebHnwN5/v4Gi5c/MHgaJunsjLREBYpOchJjvSw8ffp3eNboC/n9Li44NcXCEp9YtDhKo2j/BKX4EXayZ2HQxXfZeUqCGoCNuVjBrJeF+fbt5CmTpSPhb5MsA2XJyBanyNe6PV7EFig6A6r1snBACIAPnTdOQM7SWY0fCf9GrmzPxiL84lgkbYSTM6x3aiw9C2t4tGvGXwUuscswsF4WVr7cPODbrV9987U8Z9S4SZPslLFilLc9LTzwiQ5lEtoDJzp1a9XGabwmZgFTa7WnUY5/pK4UNUcxpBxUxBZ3GQbWS+Fx48bJD1uzwsZTxj5UccrxtH6Kzd98+Bwb9zPRPhvhtMJymNRZY+lZ2OJ4WCn++vknP/YSEzGA4TvwnKDwiQ0OSuadxphqTe3Clv8PuHLNgw888czfguF7/5X7qFL+Ki1JT5nEWy/2DR9jgYvXxXnDs0nTxnhqSduq5kgpRl6E5GnK/v3F81AcJOiI96uttloQ/jYteer4HUXcLpiC/rMBDgPYGyxFPHUXU/tL+HOBnwMx8qTu583h2tnGzrzSqLxpLwx/pcNNB/44PG/1EmY/sDye9/i1yn/eeSvmSFOZt9n/fjl1qpuETZ+ZWOxo0byFnGCU2GUYWC/C1LdchF8Ck7uGSzdEXjW3HtPi5znnXUVscZeJbL0snKdGfTBX2oV9/q+IY92eVqQoUHQGVOtl4YAQAB86b5yAXLH+SZ2aNEk2sXhwgfWJT8bQzJv2L+PP8e4Xoj+/kvEbn/5ahIc1tDizpFqeFs6CZQFg0qTJeLp1Kk5L13GNMZ76tdu/8s7b/v1z/jZnQ/xOU9yEzGPR9Q3G2hMhY27GLIbFV47/6vOmeZkMWi8Ll1L1oV6uE/HEzQSZnHMeUXxii3E9dqQoUHQG8tbLwgEhAD6Upyun4LlPmUdgPMffhrDjOUX32JGiQNGpaLk69x307US0fdZLnkYuvj/PylOGRKBlAY8XsQXCh1u2E/k8EAzp86lSrZIR21JS2IfOG0dxvfx5QGAKTjVz7FcLhyCaoe4uBZ1mjaVnYYvj4fL8ecCBvxHM39Pw85SmmKfUyeQUKQoUnYG89bJwQAiAD7U45DkF7YG/W1ZsD0VscdvIGV3r9e13091k6Xd/BL2l5DBK3HAqUgwJKwsUscVtmZXhXybY0PYLG9RFX2ETk7+5KroI44Nypsh/Yef/pS06z5XzX9YDjl045uQ4u5GMtX3t/m/kf0HbH39njc9sNcRhq4bZhv2vxZ+6gofxuIFSG22sSZPGwrMo/1+Lvy0FpmE0DlzxMFBLbLzam8WV+H+L9nv++efJ7yfxdno96CMumn2H0/8z8KwvbyrwVi+f+OUNiQ8++FDGVTvh2XX+nmEl82vkfw4WtceP/1wW8fJjs9JU/Br8Wf84j5zMev79d3gRgYeKsT4EmRVNJf4/4Dfr+FwZD4xTZ3k8H9vCRXq2/bF/55PXbGfcNCnXB1biHzqbjIHlaeEifx5mvBOHgojD31Rr0aJFESXntvy5aM3DQPjpGTkUywVcjtO5mfcF8sFDkVyn4hN82hfmiInDUiwNLfoo9sLOfzkRn4CNm2n4/S/Ov2UcKeuBRY55t/LXAae4vWcOkV78TcfJ0OtzMMZfkWttmPuWmiJFj0E52vGE1sUi9izoqangMRV9B+eSlPcvqX+cf3BdlD/DUJ/rEa1WlsPgpenM0gXLjpYkPT5RIQo3J+S3xlHo3MDSp/W4IcfDCHMwF1sBc4PGGOPx5zTyFAOZskAx/+X4f42xJOsfX02gzuTaIJ+mLm+KFCMW08k1Oh5kYNlxzXkRPOk4v/yz7PhUJNd5uNG1Uovm4bBEpK5QZf7EiGngOuFybkX0Q4vyOdmsRZXLP+N5qoTysPex33nzt5iEdf7F+TPXjGSca5llEayXhRk8PRuPfY81PP5uM2+J8QZ7ZR2REYX1IzYUJ+MAOF8RWhK3/XmIpSbzv0jRp+5/Of/hBhz1Al9+Yf1vgnr1/z3/x8EJ1FqYYmFZQXHH0Fb+iFwpViV/yymPk3dF7kxZ4v/L5T8Wi+7d8WOolN/ROMWzYzjFo5JW28s670ryjxJI9e+P3P64GfLkk0/JFWA+iVZqqnEd/RF3/XXXIKhKnmXouIs/nVZZa1ZuTTFOHifvsqlI9e/3Vv84uD4Rz5qMGf0xbplWOf62ktzqlWLVklbbl3Xelco/SiDV/99b/Y86LpZihLSmq+1D8q6ITVop/798/KcTRSvJvKTzEs+7bKwk/1T/Uv1L81+jIQIYAKswAFfyJ5qGqe2j5l3eT0NS+/tztL/p307Hc4AnYpN7Mm4/HOu2462a+fT/XKQ94YST3NLYfLno4ouyilO5NqX6p7JRW1tZpRHDb7P/57PVr7z6ssyrBg26RW5EZIUvdaZSblj+8lMMeAKbV8aukefKsIEFV/mF6N9m/n1iK6W6kj8lpGFq0y/6epf9/nnyXy2vFWQ/DdJOn/j88+Q/1X9b7xVO5f9bHn9hAwut1qruoNcCoCVZYucxtKAztFwgHNnDh9wu4/W7aHKIRpMW/GOEAOUxEn9f0bx4eJX3EvyQLA2vxi+7LG56QO5J/qn+pfbn28hLL73kLsak52f83gCfguR7xnLDRvST1y5jx46VJ/n0WjzfC+bTEDRJ/9ieI+lf6l9Wivvuuxdvlt8kwtkCz1GdhqcwUv8H2aT+J/W/aB+p//H9j//me5HYqRT8bZQMzmMk/WvHv1GOFBYkleYfSf+m/if1P1AFqf+xnUm+F4l6s+Bvo2RwHmPh+x/+/vHrr73ulsCzRENvuxXDxXIHCmNClD+f7GvZsoX8bhSauDcaKC44kv7/Q+l//l45X3LZFs9vde/eHaW84PWPG1i334ENLFSWa/jTA/psGOtKqDcBkBpU7pPHWHD+Sf9Yaeal+P8pf3n+T5/OxG+/nXLyqTahJXA+5an80/ibB00yk6sccKT+59fpf/QGltHcUgKxOUZIyybYuUIKvlEHZV6K5m37jXESf5WSl0mUeoSstATORwnB9P7nDTe4Bx54wLVauZW7BD9KyoZlJV8aNe8TuUYoMFAgH0V9U/lDEkGRAVYxedt+g8gMlveLUo+QxRZYCRcCit7qtpzVL0bN+0SuEYq4GZSPEoKL3ur2tv2GKAAUy/tFrhGy2ALno4Tgore6vR2/47A5dSp+xJtv3pM/f0B8gw02wG8WtcB7tbPwjMUY99JLL/gX9NEB8XfHzjzzzMCnkOTgr/zUQ92Rc+48b4amWN4Zcx0hpRfsfJSK3oqW+LNdWikEkQFQKXm/KPUIWWyBTRS+G87fl+DTSFPwZBzbP58u4m+Q8cmspH9Vwr+O/G3ZmGLJFZPlXMTR1CmdWOoR0rBglxLJ8VM8RUv8f732p7KmrfJWP3Un+Sf5/1r6X+taqn+p/am+0Tqh7qR/kv5J+se2Am0h2W/pde4iHovgN635RByf0aI2yS2MxiiiaJ548gn83tyVOGR4mvz2IYO1vSmqui1n9VOcYqzINUIRN4NKiUhA0Vvd3rZfS1GxvF/kGiGLXZZRhpCnFHNmORdxItZvnz+fauXvJPEJ4l74nbrWrVvnRFPMm7q97X8Pajh+k5FtUX5vB08I/p7yHzKrGQseHih6q1vzH7WwjahYSkNb3Z+n/vnfq8TrOjBt2/G3xrmB9efJP+uFmpjrCGlYsPNVpqK3oqX6F1ueyiQIrdBrRalHKOJmUCkRCSh6q9vb9mspKpb3i1wjZLHLMsoQ8pSiZrWcizgR65fxlycE9VZOLqmGQwljEyaMxY3Kn/NnQuCR7TxmeStrJf6o2CI+7TS86FSfeLGab07OlDHwPYGgg84771z3+uuvu/33O8DtiR8cnJdJ8lfx/ffk7+XNskHBxn6hbDEk+f//yZ8/mMsfeOdvzFVjq4pnKKQp4QcKtU2yVuy6807u0EMPl7f+87/dUb79pfKnBP489X/Q4MHhh6fZ4PnDqcfiGZSt2ndI7T/pv7J6Xz2T/o+6NpxhkzGNl5AHzdeEeR0DvML4J8RM/W/SP0n/qKopayf9o+ojjf+T/s2UheljTM/jp9omLPU/EIbIA3LLyYWqhmHwXwD9y9/NOfKoIzj7kq68+Uot3NFH/8Otseaa0jjtxl/1nGr3zntvuyefeNI9++wzru0WuC2Bg4hSd3O8Fpy/zvVS/c8EaMrSg+ZrwnwZo6j/h+OvcR+Pcz1OOcnVX6S+GzToZv/bR7+A/xD8BtYd+A0sGm5g8bdcUvmzJP/c/d8c/PZUp46dpC6oTmEdMTXfw//P9T+tP6FQgp5HYUh5wCNXLlnJLWD/k9r/77P9h9/AYnHnTLnKEGpNpupKcEjBqMEQHoCskhl3jqlxlKBYj8RfuhorkiC6JP/QDQf5BCDVPxGFkUeoNwWgBMV6/LHa38yZM+W24ptvvOE+Gz/efYu32BepV9ethJtYLfBDlq3btHGbbLwRBKS95h8r/4WS905b3OJjPVL+i/r38Sced6+NfA2TqnquSbOVXLsttvBPU0iVMbIT0LjLCh+eJSjWI8m/KP8oxkw29AgiC0DS/yIKI48ouDxUgmI9Uv1L9Q9LfbZKhNqT2l8af2bLwKF+BCDpXxGFkUdoNwWgBMV6JP2b9O8fT/+ehN+N/eijj9AQuBjJE4S1XMOGS7kmuCGz5BKLu59nznLf4jevJk+e5KZ/972rW6u2227H7d0RRxzhagP2JvU/qf+Zd//z9NNPuWeefU6qS/fux8nLK1nliZZVt+JrPZL+/UPqX5zk6dO3L0q7yq2z9lpu7332ifUhTibhl8r/D1n+prRzxS3+qf3/Ftc/zQaWL6B8MWVJtp7FwpSwGJfBusybzVZyMUpISSg/kYbGD7gBUGTjIaB380uj8ZUm/TSG2vTLm0hD4wfcAGgM4yGgd/NLo/Ej1wiZmB45fCMNjR9wA6DIxkNA7+aXRuNHrhEyMT1y+EYaGj/gBkCRjYeA3s0vjcaPXCNkYnrk8I00NH7ADYAiGw8BvZtfGo0fuUbIxPTI4RtpaPyAGwBFNh4Ceje/NBo/co2QiemRwzfS0PgBNwCKbDwE9G5+aTR+5BohE9Mjh2+kofEDbgAU2XgI6N380mj8yDVCJqZHDt9IQ+MH3AAosvEQ0Lv5pdH4kWuETEyPHL6RxtzZs+WmFSkJrZJIxkPAGPe/wV/TH7gEQBNrPAT0bn5pNH7MdYRMTI8cvpGGxg+4AVBk4yGgd/NLo/Ej1wiZmB45fCMNjR9wA6DIxkNA7+aXRuNHrhEyMT1y+EYaGj/gBkCRjYeA3s0vjcaPXCNkYnrk8I00NH7ADYAiGw8BvZtfGo0fuUbIxPTI4RtpaPyAGwBFNh4Ceje/NBo/co2QiemRwzfS0PgBNwCKbDwE9G5+aTR+5BohE9Mjh2+kofEDbgAU2XgI6N380mj8yDVCJqZHDt9IQ+MH3AAosvEQ0Lv5pdH4kWuETEyPHL6RhsYPuAFQZOMhoHfzS6PxI9cImZgeOXwjDY0fcAOgyMZDQO/ml0bjR64RMjE9cvhGGho/4AZAkY2HgN7NL43Gj1wjZGJ65PCNNDR+wA2AIhsPAb2bXxqNH7lGyMT0yOEbaWj8gBsARTYeAno3vzQaP3KNkInpkcM30tD4ATcAimw8BPRufmk0fuQaIRPTI4dvpKHxA24AFNl4COjd/NJo/Mg1QiamRw7fSEPjB9wAKLLxENC7+aXR+JFrhExMjxy+kYbGD7gBUGTjIaB380uj8SPXCJmYHjl8Iw2NH3ADoMjGQ0Dv5pdG40euETIxPXL4RhoaP+AGQJGNh4DezS+Nxo9cI2RieuTwjTQ0fsANgCIbDwG9m18ajR+5RsjE9MjhG2lo/IAbAEU2HgJ6N780Gj9yjZCJ6ZHDN9LQ+AE3AIpsPAT0bn5pNH7kGiET0yOHb6Sh8QNuABTZeAjo3fzSaPzINUImpkcO30hD4wfcACiy8RDQu/ml0fiRa4RMTI8cvpGGxg+4AVBk4yGgd/NLo/Ej1wiZmB45fKvdt9O/c0OGDHFPPfGEm4MNLOLWwgl6/E47iIIq/8OzqlaVa99+K7wus59r1GhF74nAheVPBjZ9AQ6AJtZ4COjd/NLUNP+Jf5K/qVmxLlpPqWHGQ0Dv5pcm1T8vh6h1ImQkp0iZHWWo8gu4AdAoxkNA7+aXRuNHrhEyMT1y+EYaGj/gBkCRjYeA3s0vjcaPXCNkYnrk8I00NH7ADYAiGw8BvZtfGo0fuUbIxPTI4RtpaPyAGwBFNh4Ceje/NBo/co2QiemRwzfS0PgBNwCKbDwE9G5+aTR+5BohE9Mjh2+kofEDbgAU2XgI6N380mj8yDVCJqZHDt9IQ+MH3AAosvEQ0Lv5pdH4kWuETEyPHL6RhsYPuAFQ5OjhnxBUptHfY+rbEnCFoAAoscwu+pd1q2dm5y3DRGkCgQMXGI0ZgQxHrYCQeZR1q2dm5y3DRGkAIfEXYajkkvwhDm1hWTXJCyjzDAKzbvXM7LyV6p+KR+Wa9E/SP0n/5tVLsY2EtgLA6qUinrjVM7PzVtI/Kp4gU3ik+pfqHyQQqkYAtJJkdtG/rFs9MztvGSZKEwip/okwVHKxIJL8cxIIAtK6A7ukP1CkzM5bqf6peFSwafyZ9E/Sv9IaQtMIgDaSzC76l3WrZ2bnraB/xuMVjFdffdVN+PxzNwFPC/74449uxcaN3UrNmrmmeO5t9TXXcI3xu7I5o6TVs6xbPfOM1bekb0ntP7X/1P6lRVVsI/NsbxoIWwgolczOW6H9h1ip/aX2l9qfNAdtOSV9lDaWgJB5lHWrZ2bnrd9l+4s3sIyyUJnQLmTZBgVYcSJ2CAqA4ETEzN94JP5BWQWhAVAJqW3DFI5hEdIwtSWkJNh4JPkn+WedhdYZ2lpD1LZhCsewCGmY2hJSEmw8Uv1L9S/VP20uwdYWonYIMEAMi5AJFlBCSoKNR2p/qf2l9ldsNqn/g0S4D2I0RUUZzQsr6R/IsUSIxiPp36R/k/6tqFtMS6mIk/RPZSlJSEmw8Uj6J+mfpH8q6hbTUiriJP1TWUoSUhJsPJL+Sfon6Z+KusW0lIo4f0b9EzewrFiK0iq6A25pQKlPQI4AkKoxm8se6Ir+ChWJFN2KV2ZaXRE1xAGQ+Cf5p/qX2l/uiLJREEUlUnQH1NKAUp+AHAEgJf2X9H/q/+wVgdg8Srr1io2qNKDUx9BVMLW/pH9S/5/6/9T/q0bM20UlWnQH7NKAUp+AHAEgpfFPGv+k8U8a/0SlYKCiEim6A2ppQKlPQI4AkJL+Sfon6Z+kf6JSMFBRiRTdAbU0oNQnIEcASEn/JP2T9M/C65/8BpY0LGwEa1OrsCuuwXahyTfcQvNVp9j8oOFy2pz5a7ClhyePE38VSJJ/2VMJKp5U/yCJrLH6tlRoUeoUm5/U/pL+Sfo39T9eb6h6EMXglQMG1kGlQFkAo8ypKIuf9I+XhpdlQaLqFJufpH+T/k36N+lfKALoWVUPohi8ckj6N/U/2qWm/jeNP9L4K40/Q/dQApgOxIPGI+tPRJmINz9p/JnGn2n8mcafUARp/JnG374asFvwBl3E7239x29gFfo95ibvZVwGzLJdc0tpqW0o5b2My4AGvWag0lLbUMl7GZcBDXrNQKWltqGS9zIuAxr0moFKS21DJe9lXAY06DUDlZbahkrey7gMaNBrBiottQ2VvJdxGdCg1wxUWmobKnkv4zKgQa8ZqLTUNlTyXsZlQINeM1BpqW2o5L2My4AGvWag0lLbUMl7GZcBDXrNQKWltqGS9zIuAxr0moFKS21DJe9lXAY06DUDlZbahkrey7gMaNBrBiottQ2VvJdxGdCg1wxUWmobKnkv4zKgQa8ZqLTUNlTyXsZlQINeM1BpqW2o5L2My4AGvWag0lLbUMl7GZcBDXrNQKWltqGS9zIuAxr0moFKS21DJe9lXAY06DUDlZbahkrey7gMaNBrBiottQ2VvJdxGdCg1wxUWmobKnkv4zKgQa8ZqLTUNlTyXsZlQINeM1BpqW2o5L2My4AGvWag0lLbUMl7GZcBDXrNQKWltqGS9zIuAxr0moFKS21DJe9lXAY06DUDlZbahkrey7gMaNBrBiottQ2VvJdxGdCg1wxUWmobKnkv4zKgQa8ZqLTUNlTyXsZlQINeM1BpqW2o5L2My4AGvWag0lLbUMl7GZcBDXrNQKWltqGS9zIuAxr0moFKS21DJe9lXAY06DUDlZbahkrey7gMaNBrBiottQ2VvJdxGdCg1wxUWmobKnkv4zKgQa8ZqLTUNlTyXsZlQINeM1BpqW2o5L2My4AGvWag0lLbUMl7GZcBDXrNQKWltqGS9zIuAxr0moFKS21DJe9lXAY06DUDlZbahkrey7gMaNBrBiottQ2VvJdxGdCg1wxUWmobKnkv4zKgQa8ZqLTUNlTyXsZlQINeM1BpqW2o5L2My4AGvWag0lLbUMl7GZcBDXrNQKWltqGS9zIuAxr0moFKS21DJe9lXAY06DUDlZbahkrey7gMSPT8DaxAoIBF/zJegi7+JjCAAQhRo09lcj4JFtP7BCKZM1iCavADGIAQNfok/lYWQZYBKBNaxkvQxd8EBjAASf4QFA48BDlQblE6dBVNmdAyXhJL/E1gAAMQeEWfxN/Koij9stKpFEH8TWAAA5DkDwGn+p+vVbF2lNa+PGYWXimC+JvAAAYg1b9U/1L7Qx2ILSIPl7ZAi5nan0igjEiivwkMYACC3KNPkr+VRap/RQmUkU4Zr1T/IAGRixFOAAOQ2h/ElMafeZ0ba0ex7dFdJrSMl8QUfxMYwAAEatGnLAeTEIuZeZfxSvwhAZGLEU4AA5DkDzGl9p9vc7F2ZO0rZ5UJLeMlUcTfBAYwAKn+pfqX2h/qQGwReTjX9GKjynvbyDZE/E1gAAMQ+EafPw5/bGDNra7GvTG9qW0zqXJSP7Xpr7DailtqWwwLK2Y1XipK/JP8fX0oX0MqD0DK4WvNKqVYDjvVv9T+kv5J+qdUW6geUa2hNv0VVltxS22LYWHFTPon6Z+kf5L+8fqgvIZI459KC1Dl5KWatVSi5bCT/k36N+nfpH9LtYXqEdUaatNfYbUVt9S2GBZWzKR/kv5J+ifpH68PymuINP5L47/Y57CmaD1RW3uTUttiWFgxU/+T+p/fb/9jbmBllVssW9GtPyu9DdNGsOB2iA0g996i0hWEgBX5Ba8ALDhTgxliA0j8fcfoxZNJRqwgpST/XL2kpKxsvOR+yTfEBpDqX6p/HJh5k9UMsUItQZD1J6YN8zF/yTfEBpDqX6p/qf5p67HtLLSS2N6CVwA04i+yQ2wAqf2l9pfanzafrGWIFVpJan/a3weRBEAF94vsEBtA0j9J/yT9o80naxlihVaS9E/SP6gDaCWhSgRAK84vskNsAEn/Jv2b9K82n6xliBVaCQKtP3FtmMZdcDvEBpDaX2p/qf1p27HtLLSS2N6CVwA04i+yQ2wA/432Zzaw8ukIjNS7wND+vqrHNTEUFBs7vBgAxIpCgoqgxEvtEgx42Awn/lA+mVC9rIzEFBQ7yT/Vv9T+kv6xOlYVhPXLwyUY8Ej6Nw74Uv+T+p/U/3qd4XWF0RgKip3GH2n8kcYfafxhxxeqIKxfHi7BgEcaf6Txh7ajNP5K4680/krjL0rA9xWmx1BQ7DT+TOPPNP7UftNqDA+X/2oTCqHwSOOvNP7SevRbGX+FDawSNW9TGGpxBErwYxAgrf5qZ4HqVDvgMUZBzSb+cYSak613lMgrh6MCVjvJXySg4lA71T+IxaukkvqU2l9qfzpDzOkW7yipLzkcbWBqZ4HqVDu1PwgmtT/WjpL6lPRP0j9J/2SKs9QqaS85FFWwameB6lQ76V8IJulf1o6S+pT0b9K/Sf9mirPUKmkvORRVsGpngepUO+lfCCbpX9aOkvqU9G/Sv0n/Zoqz1CppLzkUVbBqZ4HqVDvpXwgm6V/WjpL6lPTv70L/VvEnsLI6nLVyFqZWa8AMzhSp9Q/IGVASVvAoOCWW+JUJsF6Jf5J/qn/aycR2mdpfXgJWZ0TlEnFKwhEkfmUCrFfSP0n//J71D+vvSy+97Jq3aO6aNmkSG0SZ+j9+/Hjx5YBANA4+Ez6f4L6YMNHttsfuuXFBjpDSsp62EZULV78CHklYrz9T+/Nl9SLKqmUoq0r5Z1lxWFY9FwKjDeuLiROlvHZHWeWEWJApnGJEzlbY1l/hNP5L4980/o/tJWsXRaukGRU8Cs5Ir0yA9arU/hP/vASszKJwI05JOILEr0yA9UryT+O/3/P4T1uArdM5vzIB1ivV/1T/U/2X2VBxSK3NSGzbZsp5lIQDSfzKBFiv1P5S+0vtL7U/6hSrF0THmE9JWMGj4JSY4lcmwHr91vVPuIHlZWGTTh/rtrDHzgVnXhrHY+Nr7x0qDhZFwvt36id2kYd1WziLVMYr8fdCCd8k/9Jdn1T/UvvLFuVy6qdEoVkFY+Gkf8qqa+OZ9A/VDqTw/6R/eS7llZdfcrcNHeY+G/+p69mzl2vTpo2vuGX035tvven69O6NcG5eMeUsQV+Kfc/o6zbZeGMJ8wSyrw/OeWkcH4Tv/1P+f0/8mdaXpayGuk8//cz17tXbtW7TGr4+F17AEX7zTZRVnz75YCCx3Hr37e023WTTLCbiJPlTMHlTpv4XZVzqjvIPxMp4aaH4oCT/VP9Q+VL9C01GgNT+UCeKlYKSKSoU67ZwJs4yXkrDB+Gb9H9qf8Wqltpfan9J/2RK1FpFhWrdFk76VyRQRiSp//FCCd/U/6b+N/W/VslCRaB1/Jf6H9nAsrtsXgGRXyZ1aYmhOUpCtDyib94nn1q4iMhP2UQzP3GXPfEXYUFeSf6sNX5OF2savfK1zYfRP0P2oP2KSPFJ9c9KJcCp/SX9o6d8kv4VZYG28fvVv6PHjHbXXnOtmzJ5svvm2+ko0mrXq1dP12azzUKbtwDb/xl9+7o33nwL3rjSI1nHB4Pv1Vdd1Q24eAC8avluPErGq+bs6+lZXWw4JP0LYZTvf1hW11x9jZs6ZYovK8i/V29sNrbOykpE6uUqYgSlvn37uDffeFPWJmuh7KC94IuyWm0VN3DgRaX9nETEJ/V/plJGMPV/qf9L/V/W34k+Z9vI3KJ65FMMEbcc0lDczCe2rAxK+geCSPo39T/axvItJPU/qf9J/Y+2Deks0EBS/yNaQrpe+aT+N1Obtqak8YevG140Fs6ERYveafyR5r9/xPk/Bk/+sHVVVJICss6rpiA8HyNtBDgSJecojVgSLKzlI20t8c9kluRfWnkq+OTqVM5RGqEkWKqefFL9g7hS+8vqTGp/pY2ngk+uTeUcpRFKgqXpySe1P4hrYdvf11994+rWreN+mvmT69q5q3TKvcwNrKL8x3481nU/4Th3br/z3NrrrAv+viyYkDixLi1H65OjmXNYLA+XBAs7+fzpyv/rr1FWdeq4GSirLigrbkb17onNRt6WK6N/xo4d647v3t31O/c8t866a2Ne4p97nMuYGKCm8RfqWEkFy9fBkuA/cf0TyaT8Z0o3Ww4pqSD5+lPOlYuSc5RilwTTQ5R+4h9EQbGV0X+l0vQ+OZnmHKUxSoID0yT/IAqKLcm/tPJU8MnVqZyjNEJJcBB6qn9BFBRbqn+llaeCT65O5RylEUqCg9BT/QuioNhS/SutPBV8cnUq5yiNUBIchJ7qXxAFxZbqX2nlqeCTq1M5R2mEkuAg9FT/gigott9B/avCU0O85GiMZCFzm6LOvG0okby7QqBSRXA1F8OCRJRKyU+nBYo+KvFokMIKLLx3hUAfWeIm/kn+qf5pS8/aCxqVrRW+uWgYXYRpUvtL+idXDaRW8ONrS1ZnbNUJGB4p6V/b0lRQv277mz1nttut026yNnp6755uszZ6AyvPf+CAAe6j0aPdVVde6erVq4sCs3qCBZna/6/d/mfPmYOy6gRR47Zcz97Zc48sJ5oo/wsHDnRjPvzQXXnVVSireqn9iXSy+qzVWmRmPvBP+ud/r39CCST5p/qX5n/Q4rZfJfzr9v+p/WUSSPon6Z+kf5L+Sfo3KkSRRep/7KjYC8dOIgjTxPmXDWWId2e+xUAi0MA/zT+spFVQqf5ZqYTKktNT9E31L2toanlRUTLV1XNRm8zOo46xA4o2UuPxC0GtrhKNDprAx4fKN4fo0fit4B0R5gPl4tNBk/h7OWTSFRnlBJUFw6rgHRHmA+Xi00GT5O/lkOQvlUHqSK6iZOKBVcE7IswHysWngybVPy+HVP+kMkgdyVWUTDywKnhHhPlAufh00PwP6t/s2bPd7rvtxkcB8btK2W9gFfhPnjLZHXnEkY4bKHVq1XatVmnl2rZt67beehvXoMGSktRc+sXnl31y8Qv8VbqCk0OMPCp4R4T5QLn4dND8D+TvGWkOM1cF/rNYVtxsRLp6almZKEzu1KlT3OGHH+HmoKxq10ZZtVoZZdUOZbU1yqqBsiuxfw/5lzTmEhqzUcE7IswHysWng+Y3Vv6SxlxCfTL5reAdEeYD5eLTQZPy7+WQ+j+pDFJHchUlEw+sCt4RYT5QLj4dNKn+eTmk+ieVQepIrqJk4oFVwTsizAfKxaeDJtU/L4dU/6QySB3JVZRMPLAqeEeE+UC5+HTQpPrn5ZDqn1QGqSO5ipKJB1YF74gwHygXnw6aVP+8HFL9k8ogdSRXUTLxwKrgHRHmA+Xi00GT6p+XQ6p/UhmkjuQqSiYeWBW8BUF+A0ugeWHxSSGurMAq95t0kVUpFMmW2201+BHReGZg4p/kn+rfH6b9ffnll+7GG2903fEUVv369X0j/5O2f8riJsjiuOMgi79ksihqwN+Q/ps9d4579pln3EsvvSy/xVNMatEdi/X3pf+5SfAM8vnySy+5Pn36/CL9y5yOfHWkGzVqlPti0hdu9qw5boUVlnPrb7ih26x1G1erVq2imObdS9ew/LmB1QkbWDz53avn6a41fgMrjBuzFAwZMsTdeccd8rua+Jkrnw5YSyyxhDsO7bNN69bwQykW9O+MGT+7Sy652HXCraE111yzND+Zz/+i/H1ZPYs6+SLqZN9cWubHny8ovzZypHvrrVFu0uRJbtasWSirFdwGG2wgt6CkrMrkP8dkHo758deos2fhttweu4n8uYG1GZ8QVJPxH3LLEHf7nXdkZciSJHVfVt27H+9at95U3Paj/GfM+MldfOmlbreOFcpLEW1khf8H+Z/nKDXxL2l/WjTzs2Ox/r70by5fqfxT+Rf6n1z9mIcj1X9UHZFPav+lp51NxYkVxXhmYNI/Sf8k/SPDzbT+p/q0VE2U84lqJenfpH/jHeySuhIrSklQufl3KVJ5n0g21b9U//549a/ME4JZQ5BBG+HikpcPjw0jw7cWA9WUjZ7FhlWxQ0z8M9GXFeA813uydS1fAmWjJ/mLcFP9+5+3v7exqN9/QH/XcKml3YALB7hFsGlTvoqicCSgbOgfov6PwqJ5/wEXuqUbQhaww2YeW+5vTP9Vz53rnn3uOTds2DA36YsvXC38bs99996rWj5vU72oKVt8v139w3w+h3zedtttsvlUp05dd2+ZfGY50FwGe8yYMVKvJ06ciOpb5VZYcQXHjaRp2KhknGZNm7rTTj/NrbRS83lPCP8L5T9n9hzXaXc8S4d09O7V07UOmyJR/j9iY+P/2PsOQCuKZO26ZERRMIGI2TUrRsz7ds0imEUMgAEMmDMgSYKCOYGYEAHFDLrmhDmsmMOqKMGcEFRAgtz/q+qp6uo55yDeVXff+6fdna7wddV094TL1Klu3gNr2rSpNHnKZHryiSdp3ty5uPyqqQ720erffwBtuCH2WsqV2XPmUG8E9j7E0oMnnHAC7bLLLhHB5rX8gfPPc/U0zxWuyS9wTdapXYfuGYdrcjH9T/pwEg256EL64vMvcLbV1Kx5MwQbs7lC/1duuTJ1794Dc7WK9sbqbASNT4jF9M/nqX//8DWy734hgNWTM7A4cJh7/s3BmH+EufoEc/XR5MkSSJ6LueJSB/dj//79w1yV8f8z2p6L+ZqE+ep2YjfaZedd//DrT07sD5z/sqbZaZn+y7nYgQFo7cbfVEr8DvefmCp7koX/YvyL66+4/+LzXx87VhfPn5L3n40NiOwJ6kWRZqWW4vmrI+Hq4v1TvH+K90/x/ineP/rvL/dwDGTx/i3ev/K3Q9k/IIq/P3CXlB8ZKP7Ev79sCUG5a8v8VZiK4h8+cvapMtz4zpCqtTZAInCMIxWbijJOhVor2OqgULXWOXXGOq0jFZuKMk6FWivY6qBQtdY5dcY6rSMVm4oyToVaK9jqoFC11jl1xjqtIxWbijJOhVor2OqgULXWOXXGOq0jFZuKMk6FWivY6qBQtdY5dcY6rSMVm4oyToVaK9jqoFC11jl1xjqtIxWbijJOhVor2OqgULXWOXXGOq0jFZuKMk6FWivY6qBQtdbjxo2nESNuxEf8VWjg+QNp6ca8RJlqU1JNOW0EqFBrBVsdFKrWOqcW9r1/vUvPPfs8bbHFFtRqk1YlT+W0bcapUGszrERQqFpr1XKXx92LsbgRY7HKyjRwwKCwBFgJMBkdNM8AitPaDCsRFKrWWrVqJvBO60jFYo9EevrppyVw9flnn+KxX8uCG/fcjWBB2bdYMKTmtFabv8V/2jbjVKi1GVYiKFSttWrL+eeAzdNPPU23jL2VPv/sM0ARfsK6+bUQFImBusySGtQ6M/z6669LEGH+/LlUv35DCRhssvHGxGP42quv0qBB59O8eXOpAXQcxF1j9dXR0hlxpJ5rKso4FWqtYKuDgpel2z+/hCBjknaOAfnt9O9o5MiRCI5MkP6v3HIV2Rurin+Bqg2zJnORhTUEgdeXkcF0+OGH00EHHZSdQQCoZa0zpZkJvNM6UrGpKHC86vFTz+CavAVz9TnPVSgcxAnBxgwHsTtrhYn/1998g/qfdx7Nw1zxfHCW3cYbbYweVtPEbK4WQFevfgMaMhhztcYaaJ+djZ6U1tFyRv26/3jfBKwEsLCEIP+DigNYmoGVusi4rOLszZtvvlkyBdkxB9quwj5mMlVwoG21njt3Hg0eMpj++dI/6fBOmK8DD0Qr1aYk2+PitJFTodaC9IegULXWhkgEjnGkYlNRxqlQawVbHRSq1jqnzlindaRiU1HGqVBrBVsdFKrWOqfOWKd1pGJTUcapUGsFWx0UqtY6p85Yp3WkYlNRxqlQawVbHRSq1jqnzlindaRiU1HGqVBrBVsdFKrWOqfOWKd1pGJTUcapUGsFWx0UqtY6p85Yp3WkYlNRxqlQawVbHRSq1jqnzlindaRiU1HGqVBrBVsdFKrWOqfOWKd1pGJTUcapUGsFWx0UqtY6p85Yp3WkYlNRxqlQawVbHRSq1jqnzlindaRiU1HGqVBrBVsdFKrWOqfOWKd1pGJTUcapUGsFWx0UqtY6p85Yp3WkYlNRxqlQawVbHRSq1jqnzlindaRiU1HGqVBrBVsdFKrWOqfOWKd1pGJTUcapUGsFWx0UqtY6p85Yp3WkYlNRxqlQawVbHRSq1jqnzlindaRiU1HGqVBrBVsdFKrWOqfOWKd1pGJTUcapUGsFWx0UqtY6p85Yp3WkYlNRxqlQawVbHRSq1jqnzlindaRiU1HGqVBrBVsdFKrWOqfOWKd1pGJTUcapUGsFWx0UqtY6p85Yp3WkYlNRxqlQawVbHRSq1jqnzlindaRiU1HGqVBrBVsdFKrWOqfOWKd1pGJTUcapUGsFWx0UqtY6p85Yp3WkYlNRxqlQawVbHRSq1jqnzlindaRiU1HGqVBrBVsdFKrWOqfOWKd1pGJTUcapUGsFWx0UqtY6p85Yp3WkYlNRxqlQawVbHRSq1jqnzlindaRiU1HGqVBrBVsdFKrWOqfOWKd1pGJTUcapUGsFWx0UqtY6p85Yp3WkYlNRxqlQawVbHRSq1jqnzlindaRiU1HGqVBrBVsdFKrWOqfOWKd1pGJTUcapEHXMwHLC+HFFzaR1gGqDVMdcqSYvibxRSmhdatYkAVIZWKrJSyJvlBJam7dSIkAqA0s1eUnkjVJC61K3JgmQysBSTV4SeaOU0Nq8lRIBUhlYqslLIm+UElqXujUJfxB+/1/vUZOmTanZis1MrkSpibwk8kYpobUaK1MHSGVgqSYvibxRSmhdxq+KAqQysFSTl0TeKCW0Vmdl6gCpDMxrFiyYj+XGLpNASMuWLen88zlgs4xYNqwSWpfxq6IAqQws1eQlgeeP3127HhcCFVW16Jprr6HmKzYPX73VWZk6tM7bjMBSTZTwh2peeu3pp58hHotB519Ay/BeQwrROporoQKkMrBUk5dE3igltIZXzhrq1acvfYe9d5qvtBKyPz6Sc2FI3Tq1ESwYV3JuLHAmMn1eEnmjlNC6rOUgDJDKwFJNXhJ5priffXr3oW+++4ZWaoZ+fhz6ycGPWsjAGnfP3cnZhNbRBiunT5+OZSBPopkzZ0r/u3Q5mvZut3fWLmDvvPMOBIduhqyaVlhhRbriiitoiUaNwusWkIX476svvrKoCwciFkKLkKHYZCtaJDwBQNXCKmq0VCNZ8k91emYLfkFWD4Ii7K9nz3NlSbyAUYSbKxVlNWdHPoMgEfu//NJLZW+s1H4AcpZX7z69ZbnEvdruRV2xRxNHUHjsYlHjKom8UUpordBc/Q3PVZ8+9C2uyZVatKCPJ32cjU7IQuIAVqmJVDIdQTpeslPmChGjLl2OCnPFJ51B77zjTgSHRkr/m62wPF2OuWqEueISINU084cfaM5Pc2ihbBAuqqjXAWCwGuUa/pohK68KzxuvsSUEsWFZz3Oz/coEUXpQ//qgGnIh5gpBZi6XylytVXH8+fnTR+brLdprr72oC/Y/q+X6bada6tYkef+myIig99K8JPJGKaG1b56jA6QysFSTl0TeKCW0zvn0bIBUBpZq8pLIG6WE1t5hjg6QysBSTV4SeaOU0Drn07MBUhlYqslLIm+UElp7hzk6QCoDSzV5SeSNUkLrnE/PBkhlYKkmL4m8UUpo7R3m6ACpDCzV5CWRN0oJrXM+PRsglYGlmrwk8kYpobV3mKMDpDKwVJOXRN4oJbTO+fRsgFQGlmryksgbpYTW3mGODpDKwFJNXhJ5o5TQOufTswFSGViqyUsib5QSWnuHOTpAKgNLNXlJ5I1SQuucT88GSGVgqSYvibxRSmjtHeboAKkMLNXkJZE3Sgmtcz49GyCVgaWavCTyRimhtXeYowOkMrBUk5dE3igltM759GyAVAaWavKSyBulhNbeYY4OkMrAUk1eEnmjlNA659OzAVIZWKrJSyJvlBJae4c5OkAqA0s1eUnkjVJC65xPzwZIZWCpJi+JvFFKaO0d5ugAqQws1eQlkTdKCa1zPj0bIJWBpZq8JPJGKaG1d5ijA6QysFSTl0TeKCW0zvn0bIBUBpZq8pLIG6WE1t5hjg6QysBSTV4SeaOU0Drn07MBUhlYqslLIm+UElp7hzk6QCoDSzV5SeSNUkLrnE/PBkhlYKkmL4m8UUpo7R3m6ACpDCzV5CWRN0oJrXM+PRsglYGlmrwk8kYpobV3mKMDJBzjHlgGUgtcc8m+bmiupaqhcaTjUilb8MW0QhjnICrjmst/xn919UIaMmQI9sRYQJu02pjatmlnp6Jfh/RMw3kqp3WQ5o+mFcI4B1MZ11z+M/3n2Z01a5YEHpjecoutaLfdd0smXc80nKdyWgdp/mhaIYxzMJVxzaW0/xddfJEsHVWND6Xdzz6Htt1uW+B8O25TviiK96h55NGHAaqi444/jpZtumzWQBGV/f//Mv9hQErH/7f2f/To0XTbbbfJR/arrr5KlswL06Vj7edKZX/8+D/62CMIIlxpl9gpp5xCO+30d7kmwvXE5/Xv99/3btTosOfQko2WoquHXkVNsHxgWv68/hM+vIf++TNQWbXsB/Tqq6/Rppu1onp16lOfvn3o1YmvIapTTXWRmXQXggXxTovtSm1G+4r6b5h/7f98BFhfnfiq7HtUr15dfODvS6++OlFOOiwhiADWr7z/rrlmGN1//wNoU02rr74GXXH5FSXDsBCZQyeedKIsAYfXCx119JHYQ4oDTKFM/246de7cERaya07E+esPPMafpw4mgKzC0nP70JFHHCFcfA6SLF24LzKwuMiydFhCcHHHn/dM4qwq3uuqB/bP2mZrPGP1tLhGUVuzZs+ibscfT9/h/Lt27UJt2+JdWaFom9DYOIdWGddcMqfZ+M+ft4BefW0ibYY9qurUq0d9ea7A85KbNlfSJrTOH9nqtcOvoX/cdz9Mh7m6/IrL0SLrVNarhdjrjQOSU6dOQ4tqOurIo7GfGJZj1NOD9EpkOz3y8CNiR5b81HM1W3nvofldCGTWr4f97tz9JxlYsl9ZNfWQYCOWEJSS9t/711P5ee7PdPhhh8W52obfh+ULt5mD+Tr+uG703fRvMV/HYL7aOrBa5ZrLr/sPON9OxzJo/FFRoR/GOYjKuOZS+Jer5leeP/HC1PELo5c/mlYI4xxMZVxzKca/GH9cC8X1Z7eCPt71Tgn3iXJaB2n+aFohjHMwlXHNpbj/ivsP10Jx/9mtUNx/4cmgT4qUS6VBF4+mFcK4CLA/MFnHpXj+FM8fXAvF88duheL5E54M6dNDOa0DJn80rRDGOZjKuOZSPH+K5w+uhUrPHyzHE76G6V0ZrpqSo15WqUKlWue0bJp/Ro6XIn+UY0qKO5/KHzIUbE1ie1OpX61NIQQvC1VT/wuxv8be2PCcz32HHXagM88660/1n/ZELuE/3f/3339PHTt2lFNpg19rH3vMMbnT0nHXOlX/O+OfWkr7z0tVzZnzMyAL6e9/34lOPfUU0HZ1ITvrXzR3/jxaasml8DF5dehKr79RY8bQ7bffBhPVdM3wodSiRcu8y4Sv0MPMbwXtv3H9Jc7BVPDwX++f9wQ668wzaD7up27HHU977LGHdEafR//J+//LL7+gU046heb8PIsaNlyShg0bSk2R1Veu/B7jz/vPnHnmWfQLsiCO69aN9txj92xiy1v351EeoVKtfQuY/p2vvxuuv57Gjx8vTkKw4C7Q4fnu7z89i9/bf7zDzcMf4v/6629APzm7rApBEc40K5fVw+cQxn0+njWdOnWmH3/6CS2qqcPBHajDIYeUHf8xY26hsdiziYPvK63UnIYPu4ZCMk4VzZ49W5bk4+CW2g515FgTCo9GCGHtuOMOCLzurAqr58+fT/vtt5+cU3dk9WzTepugw2kvzv131lln03vvvUvnnMM/EthOZtqMC6HXXTU99tjjkqXUAEElzizjjL0/Y/7TueL9ymK2XDn//IOUTnin/cBzhSHs0P5gOuTQDuhN6dU1Bu+IsWPHSk+bNW+OwNfw7O+JMAoPPHA/vYQfQtjswKBkxmXjy0sd8t8fLFvINeS1atWmnj16UG3sLyYeZQirEWxcSPtygAzCHj3ORcBQA1jBl4504PSo0mqSucJ7r/vZZ8tcMaJc/6Ulmj36+OOYp8upft16CMRdTs2bt1CjZWv1lCpVqnVO+zs/f0pnSP1qXfj3I7Co+V+c+z+xBaYYfz8iTOt1p3WqL8a/5v/+SkcyjnQq13HXOqctnj81/vdvOpLF+Fe4wjBM/FSsoC2uv+L64z8ycX38b/v+Vdz/6QhUuMMBKu7/4vlX4eoonv/F8794/v+h7z/JwEpuP2OMSJ/kZThF4n7FBYvHWVYbVAEmSIlEbYwRKbgMp0j1q7VBFWCClEjUGcO/wA4BLKIdswBW2ipy2l79am0IBZggJRK1MUak4DKcItWv1gZVgAlSIlEbU03ffz9DAlj8iuYA1jElAaxgR5uoX63NiwJMkBKJ2hgjUjC4UaOQxXLHHbREw4bya/WNNt4o/BmBJnz98bzx/LVu3ZrOPffcsu/XMcgKGousIC5Dhw3DvkwrCx3/LVLZfwDGoyK131obQgEmSIlEbYwRKbgMp0j1q7VBFWCClEhuK7dIAABAAElEQVTUxhiRgstwilS/WvPH4lNOOZk+mfoJrb7m6nT5ZZeFCcrZ0PYiNsaIHLqUVaT61dqQCjBBJHgZsSlTp9K666yDfYvqu2tlEY1ic6EUqX61NhgAnOVz6smn0NRPpsl+On4stH1iLF6IZqYSoe3Vr9aGV4AJUiJRG2OEgUfcdBPdfRcHreJybUwrUv1qzTopClA+VydqY4zIoUtZRapfrQ2pABOkRKIGc9NNI+iuu0NwLu6rlLbx3DPPPUtDLhiM9x4ePlULZU+zTTbZOEKcg9dffw37LfW2f/b07duXNtt8c+GlgWGNiHYqUIrUfmu9AMv7cVCkCufV49webgnB1JC2z/vnPbteeOEF2QNqvfXXTxs5jtvzS/+EE5CxNG0y7qX16CLsjSUPY9HhwC+RCqWS/0U2ymyNGHETMgHvkuBQ7dpY7nHc3Yv8++PZZ5+hwYOH2PgPHDiQNsI+ZXZ6djLV9Prrb8jeWKxjcd9+fWnzzTYv6YU20XHX2oAKMEFKsJqD2pItB+ZcBBtbSwDLziptkOO4/fmDBtHzz7+IrPELaL311rehF2g5/zxfJ56IDLOptM6669KFyDaXH/sY1oict1JWkdpvrQ2pABOkRKI2xogUXIZTpPrV2qAKMEFKJGpjjEjBZThFql+tDaoAE6REojbGiBRchlOk+tXaoAowQUokamOMSMFlOEWqX60NqgATpESiNsaIFFyGU6T61dqgCjBBSiRqY4xIwWU4RapfrQ2qABOkRKI2xogUXIZTpPrV2qAKMEFKJGpjjEjBZThFql+tDaoAE6REojbGiBRchlOk+tXaoAowQUokamOMSMFlOEWqX60NqgATpESiNsaIFFyGU6T61dqgCjBBSiRqY4xIwWU4RapfrQ2qABOkRKI2xogUXIZTpPrV2qAKMEFKJGpjjEjBZThFql+tDaoAE6REojbGiBRchlOk+tXaoAowQUokamOMSMFlOEWqX60NqgATpESiNsaIFFyGU6T61dqgCjBBSiRqY4xIwWU4RapfrQ2qABOkRKI2xogUXIZTpPrV2qAKMEFKJGpjjEjBZThFql+tDaoAE6REojbGiBRchlOk+tXaoAowQUokamOMSMFlOEWqX60NqgATpESiNsaIFFyGU6T61dqgCjBBSiRqY4xIwWU4RapfrQ2qABOkRKI2xogUXIZTpPrV2qAKMEFKJGpjjEjBZThFql+tDaoAE6REojbGiBRchlOk+tXaoAowQUokamOMSMFlOEWqX60NqgATpESiNsaIFFyGU6T61dqgCjBBSiRqY4xIwWU4RapfrQ2qABOkRKI2xogUXIZTpPrV2qAKMEFKJGpjjEjBZThFql+tDaoAE6REojbGiBSc40qWEAzN0saJrOTschZL2GhLKBzs158lWP0YGtswJHCZ7E/yjx9PZ/tiVNP22+9AZ591Js4EH5T+JP/+491/ov/sfzoCWJ2w2Tt/mG27154IYB37X9P/H3/6Ecsw1aN69RB0yJV999mHFvyCABY+Ap7bs2eYNxxlHHHg648DWLcjgMWyYQhgrZwFsJKxzuwmsv+P5j/rfo3vv5HYQ+ZOBBr5Wurfvz+W4mwlH5r/N9z/v/f9N3LkSLrjzjul/+cNOI82bbWpDm9SJ9dapklk/8Hr7yYOFnAACylDdeoiM+nue5JzL8+Es2edUDj8t8//TSNupLt5fy+cK/fzbvRTMmsqPP85CDURSw5Khk3t2nTH7bdTXTybQkn7PxeZo+07HEwL8Xzi8ETrrbfB8n49Mmw2Rtkdp8JgIbPzG+Y/7IGFrB544iUEW2MJQT7HxRl//sVoly5dsSzdbBoxYiT2POM9mxb9/pv4yj8R5DlP+nXMscdSmzZt0Cbt/+L6X9z7b8SIEZgfZF3h1HhZy7uRLZeW1H8/LDn4Cs8VQHUwV7dhrurZXOnZhja8fOLBHdpLdlQVst22xdJ83bt3hy9uvbgl9V+p/7KEILLlOGvjXFwPW+O60BIsZHbKzD+36XoM5mr2HOIgMwddY6nsf+Irr2C++gn02Gy+El+ZkURWxn/0VY6q7L8yOrZhTOGfL+9sTIrx/0PuP70Wk2stEyayYvyL8f8Dnv/F9RdGILnXivtPRiAZk+L5Uzx/iuePPi4Xow53DwOFwmFx/v3Df3FpKe4/Ho1sHIvnT/H8KZ4/+mhYjDq7b4AUCofi+eOfrukQhtGKY8baRJZ7/uQCWK6hkUaIJ8+pLZF5RXpOdgol4hKBM2KkEYL23B/pf+EvWEJwn73lwb39DjtiiZ6z/lT/+r7Q6dOh+rP6z/6/n/E9lltCAAuj0BYZWF2RgfVn+g9/Q3iP6WhUmv99EMD6hQNYWyGA1QsZWMlZh5EcPSbsy8SqGMByvow04t+e/++mf0fTv/2O1v7LX3Q6pf7888/p66+/prXWXIOWXKpx0Jnbavrxx59oyuTJ1AJBtiZY4k7/tKrUfzXOS4h99tnnNGPGdFpzzbVkDyrVla/NKc2cMZOmIVtoo402BFQ9piPJe95MmzaVmi67LK3achUPoxkc/OzcCZlw1dSgQT0sxXUb1cYH40WX6P87jBOP11/+snbi/zOM1Tc8VmutSY2wjxS/S6VV1vTHH3+kyRirlVusjPPS5QCj3bz/GTNm0BdffIHxWRMfsutGX9bECJo+fTp9+fVXtN4660q2go4/B7unfPwxzZozi9Zea230F/vbuDKD7yMsMbcQa8M1rN+AbpWx4IBAvkRf8ZINMg54fPHll7BRbdmCvIzmhx9+QMstvzyt1Kx5Mv6pZWc3VeQ4hzPSCPk4zgEsvhrq4iP5XRzYyY1/zmDGRhvl9Sp1OCONEJDndPxF5hVqzupFKg2lV7cERe4KQZGwhCCCWVnxltT/wR0OoVm47ghTuuoqq9JV2BspLb4VIVMJmS/TpgikOebt2muvzeAOZ6QRgvGc+heZV2TWfvjhBzr00MPALcSydFhCcJsYFGHIL8hSffONNyWAs8EGG0ASjUx4cgJdfMnF1AHBtkMOOZThUiICaDB+/n+p/oXaH9Se5s6dS6ussgpdffXVZVplorKVs26kEWX9h2w5XIc4mTr16lQIqkYbh3TogKUeZ+HEq2nVVTFXV/q5ijgdihNP6IYMzWkS+GvGSz5irvRpmO+/KUr65uyW6IKA5+qwQ7HsJIz0wBKD23AASxyFtnz/v/Hmm1S3fj3acH2eqzj+T06YQJdchLk6FHPVIc5VsCxIHPSso5TnP50vHosMZ6dshDT03O/Z/3BWzrqRRhT+MQJ+NIrxx9WKy1XGxA9MuJjccZHK8jhrYoTgPFeMfzH+xfVX3H/yTPAPBvdECeQilQ7tcEYaUTx/MAJ+NIrnb/H8LZ6/xfNXngn+weCeqIFcpNKhHc5IIwTnueL5Uzx/iufPf/j5g1/v8j1pJblBIS397KHQgPR41ZSrxQk+4PKv+GfPmUMbbrQR7bDtdjTxtVfl1+vvvvMuMmrq05CLLjSf3GYO9gV5HPs1vP/++/KRv1GjRvhIuAptsmkryWIo55+7xB8h58APf4Dfcce/0ofYi4d/If7hBx/SLNhcfoUVaHNkQWyP/UP8L5bVHu+B1W5vDmAR9sDiABZnYPkSkG+/8w69/OKL9MVXX+ID9/fUGPsutVylJfZm+jutttpq1iCg1Xqc9NlzZtNjjz9GH7z/AX2P9g2WaEjrrPMX+RDOfaxlo2GmMiLYeg/7Xjzz1FP0OfbzmTVrNrVovhKttvpq2BNlpyRgUcn/1998TQ8//LAsJcT+l2nahFq12oR22XkXmSfeL4SXFmrThpcQ7OpOIm8xqibgg9o7GBcu/AG0adNlsz88Y/+fePJJ+hfmnKPRf/v732h9LHvEJSKI3nrnbXp6wlPif7vttiddlustfMh7+pmnga6C/UNgvwl9+tmnNH5c2J/noYceElt82H333YGqkj1HjunaRdqwfBQysO5AIIH9cwBrWQRh3nrzLfE5ZcpkaoxA0rrrr0ebbtLKsrO4XSyV+6+YO5FxM3nyx/T5Z1/QJzi/uT/Pwa/+68jShfWwXN0Xn35Gw4ZfQ6+/8bp0nH1ecdWVtGy2D9NCjMaYUaOxLNZ4mjdvnuzHw/uQ7YY+6Uj58VK/HJDhJRafeOIJCeTJLizo597t2tIbWBaL2/D/e+GjNn+U5TJr1ix6/bXX6c2336K38f9Ppn0iwZJdd9mFTsRSU7K8lCDDcldDsV/UI488KnY4FNOrT2/acostMwQRz4F+wN5i8y2od98+mIV4tkJFlmSsPp5Mn37+GX2O//+M4EwtBLw4S46X9vvss8+wVxnGCueIrtBSjZeiK/HxWQN6vMr4KIzVeGTOzMOeRHxP85KXPP9cgqtqevihh+nV116TYNBXn39BszEnbPA8ZI5suumm7gwJAZq7ifet4vFk/z/Pxb5rMDT06qG4x3nJySrcu4/TTTfeSDN//EE+6DdbYUW69rprsddNDFCxzyuvvkr6z2PRBxk7+f7LSdp5En377bc0/r576XNcIxyE/BLBq18WLqCNNtyIzjj9DLpq6FX06sRXJdOQPfGzote5vZJsErXJtfZfn+i/5j+2iVZGYGm9uxHY4fGvLXtDjUvGKyJLqd/Df2o1bzHV5rk8elH956AI95MxHKjjPbBKS7A4F/flgfvvL88RfpNutMGGdP4F55fAAzoceU8pfm/UAlsHQVNerpDvUS4BEZp7Okj8MWgXheHnOgfT2PZeuPe7djkaBqKfF597ngbxuUK08UYbU7fju8nz4MUXX6BLL7mUtsISrGecfnpy78czKO+/R/ce9BaeH1wuueQSWnttDkBrv+LZChVZwURcYMuoDacWb8R7fhzuU36O18azdVzZuQro+fPm0gH7HyBjzLY3xlxJ/0usRv/dMVfvvov3FBrUxb5VsoQm/9WazdSizzEaDriIFiqy8g7mYBr3Y++921GXo7sk18Lzzz8friu02QRLHh7X7XhaCe/6559/gS677FLJNj79tEpzVXq26r8Hsr1kviDg+VoL88W94+JOLwiSY9AuGhMb5NHCl2nsRZ6OlpQK2kVjFKt9iWihImtAL/K0AYwI2kVjDFxytUi7Mo29yNPRklJBu2iMYov+50dL+DKD50WejiOpVNAuGqPYYvzzoyV8mcHzIk/HkVQqaBeNUWwx/vnREr7M4HmRp+NIKhW0i8Yothj//GgJX2bwvMjTcSSVCtpFYxRbjH9+tIQvM3he5Ok4kkoF7aIxii3GPz9awpcZPC/ydBxJpYJ20RjFFuOfHy3hywyeF3k6jqRSQbtojGKL8c+PlvBlBs+LPB1HUqmgXTRGscX450dL+DKD50WejiOpVNAuGqPYYvzzoyV8mcHzIk/HkVQqaC0DqzJYN6B0CCONUKtZXV7OQSH+OBMCIm1kaZ6HHnoQbfjTdjX2NFqCbr897EvEhjgIct55/RBw+hmIsGG9fF1ZiE9y+MqyVest6bjjjkPwYbnMb6hk/ypk4fDXoL32akOrr7E6PjoPw8f8BQDgN85oHOJ2tahZsxWpd+8+tHLLle3DDVsJ57q34Lff4a9YQvAM0NmnHXSPPyhfdfWV9CaCKbL3iXyi4JaMwbnCx557tMH5Ydm9pOjYVKN/70n/ZmPpHx1lOT/gGbXlllvS6aefRks0WhJWtV2mRHXB4PPxAev5sv4bL700de50BO2yy85A+qJ2qjHWd9IYZCJxlkze/6qrrUYnnXQSnXbaqdDViksIsik1EQnvAMGIO2jkzTcDV4Xgxwm06667On1ofAJ+2T4VeyOxsV122ZVOPAlBEodi8uKLL6YJE54U/xdfNASBvXUFMRqBitux9FM1xvmaa66hFsi2mfjKRNmjxI+/fA3kc4ThBvUbIqhzO9oH/6NHj6LbbuPl7arx4e5SuuLKK5DlNEV4Pg9GceGsnF69+1KrTTYCl51hMAHeCIa6EuTjx99L3yBAeP/99+Na/wX6auxPsi72KblQMmd69eqDwNFPkIfrnz80n4Rx2AVBI15Sij8oPoNAHY+/Xv/rIag25ALeX4bdlfp/EpkTV111BYI486nJMk1pt912QRbTOrIMGgemuA1f/w2xf9gtt4zFR98QaJmAIOiIG0dA3oC+RMDmF9yroVTTHnvuRccfdwzY0P+rrrwawauHYWlhdi9VIXvgUGp/cHtr06t3bwSb3gBfjeyjTnTAAQeYLthJz33c+PH07TffYqz+IfvBsHa99dDXIYPpgw8/ot69ekqAVk4hu/9PPOkEuXZ4bC/BtfIM9rcJtsP9t96660v7zLFUzz3/HALF0yXAptcff/i+deyt1DCXOcVBOJ6/8ff+A8HH2WKbs7pGYkk1Po+rEZTiIEH+/r/IXavstFfvXjYWHTt1pAMPOBDStP8pR/D7DT3wwAOS4fbSy6/AXXj+rYvr54vPvqQffpiZjD/b2x+BlM6dO5fYhsAV9aR1UKWcg8MuZ4XwFcr7Dd19DzKTMP7yMR97D+k14Vvk+1Zel3pMOd8i+jdfBjbCNwBdSc4w1WkdmnruJgRFOHjJhTOweDnBkudvdv/xe6BLF7432AKWBGy9NfYw6gEq3CsiTA7VNKD/AHrp5Zcg5XuvmkaPHkONl25cocVv7z8HzTlT6F28X6rxoxE2XKuqtjx7+H2w0078TqimmTN/lOf7119/Aw5PGSwNyff/UksuSfvjft1tt90QiOWeh/m3PtlgGWE95CDy7bePBfTX339mT87Gc2ZONIvyf9NNvKwlBxiRgWXBxtLzYosciO6KHzHo+791621kvynWlW9BWPr0PMxVvP84c3fppZbOTrZSq0py7ylgOFt0+PBr6Z138YMPFuFQG8HvdfHs4/fATjv9HZIq+mHmDDrt1NPp62+/lvuP56VBw/ryI5X99z8Qc7WrC5ovvn/eT/L22++Aj2pqs2f5v1cWNf7lZ23x/XOPuVRu8duv/0VZi7rUY8qFcwrHwn8x/4v//NNrpvx9wVq90rT+tRbF9Vdcf8X1V+nvr/L3WXpvhTtMj6rTurj/eATS0dCxCpri/ivuv+L+c3eIkUb4G2aRd1O809K2KefNFe//4vlTPH+K5497QhhphH9g/H/1/EEAixfAch/bbEyMyA1OZFOEPmgzfaIEg2AGZ5S0a4usJrhbGh/sZuIjLL6wIUhQXwJI/Gv3iy68WE7n8y8+w6+/z8TyaViaCYUzGtZaay20+YG+wkdDLuxiNSwDdNlll8mHxvCgy4JP7RB8gp8WLVrQF8jo4O/xVfhYv/pqa8jH32+//SZ0G/6XRNbU5ZdfRisge0L/kluI5ZD2bsf7h3AG1g62hCDznA1zOn6ZPnnKFBu5JZdsRLzR/exZc/CL7XdIh/XQww6jg9sfJP1nMP+Sm/vPWSZnnIn+oT98IlX4ILXmGmtKFtqHkz5EAGKutGnevDldjv41XGIJdm2Fl5269777zP8yyyxNzVdqQR9N+gjnx20BhR/28VdkmUkwx/kfiw/2Y265JZwQgLUwNmthGbWvv/qGZuBjGa+Z1GzF5hKoY6e6hKCdAIjMRSaK8//JJ58g4HG8+N9m222pR/dzEv/Tv5tOnY/oJHoekOWWW14y5sRQZpSDI4cdejjm6gdaZpllaBQHxHjgUEYje+q2bP+qa7L9q3gptdHoTxWus4kTX7GT23zzzdG7amrceBk6lYNxsM9mJICFIBgLmmEZry+RQccfcNdYfQ18GGxAH0/+SOaS/XEG0AXnny+/TmdeS6X+i94pjzv2GPr008/5KzKWbDqYttpqS+qFgAwPwGabbUrPPvtcNhZEu+6yG3XpejQNHDRAgh4cxOSPnJyRw6U+gixhXynrosiZ4/1cRo8aAx7LY2Eps779+mJsObhbjaXC3qKeWE5Rvmej/1tttQXOobfognMzg+ykL8T/1CnTRMhL/w0fPpxWXHFFCapwxlqzZs3keudgF/s4+uijkA21LF9yNBsZjocgM46XqOLSH0HoVq02Ezc6/qKQgxso8Mdin7XPcG/w9Xdw+w4SxO3Vq5cgN9tsMwSpnhUfLNgFgdGuXbrQwIED6fXXX6MtMFZTJk/FWOHehlmeR85EEwbXBTdU/xwYY1ss4MDoRRddJD64XXBgBB1//PHE1zSXv/397/iQfCrdcMMNdM+4cbTuOutIMJD9V+PC4uuvF8Z5qy23Ejs8Foce0kGC9Tz//fqehzlvJbbCIfoR3thATJs2jbp162Z4lq6I7NH27dtTIwQahmKZNr5HuI9NkEXIwTW5TcwONwWT6z9LQ0mAAs33X5Gc1cqBHZ5jDhbwfkNMhxLvf+ETs7+Pf/WkdeICfdTn/7/rXzLNODiHMYtBEfUaa/b/zttvh32R2D8Gfqe/7USnnnqKG0fGp/3n7KYnJzwRrjNcfxxA10wlhlYaf7bki0FFWLP+8489PvroY2QPf4elLxvSCsuvQCviRx0cIMlOxLtM6HL+X37pZRowoL90mbMkb+F3TK7/cn2apdTKb+0/BxtlDyw0rF2nbszASsyCwVy+jffyOWd3z14j1ZIlLXPlruK8f/4RwZPIFtZSmlWmmpqNv4zNIvyrda75RzUfffSRLGXKy5RyFnkzPJNDtmfN/L/00ouYr4Ey1Uvh76BbxmC+5KZOBtCfhtEpomb+f0v/zXFGFP79HVqM/+/1/C+uf77B0rsrf++VIorrr7j++ENbVpLLB8zv8PenmtY6cYHrtRj/YvyL66+4/2QEkodD8fwpnr94MuB/+v1H3yElf+fYdWNEhOaoFFG8f4r3b/H+/dPfv3EJwUq3Y+7G9Ddx2sQ0ebHynNWx7z7t5A9Nzlpo2KA+Pvadio/pW0kASv85znv+nH7GaQg8caBqIR3esROymfZEoKmR+OBfvQ8YMICmTZkqz2Xe5+Ngy/7gvT0W0j5Y/o8LX1IcONsX/H74VXkTBHpYOgkf7YZfM4z+hSX4uGy++WbUt28/ofnAH9/32XtfUAuJ98A6O9sDi3UcPLqPg0fo2PIrrkBnnnmW7NWjy4a9+9572Ii9J/EeRPzR/7rrr+dnJ86CPWNPo59+wi/fz0CmC4IaKHvj3A44YH8EapoIz8GK8/DL78kfTwG/kI7FB/Q26L8W9s3nwP5XxnKFp2HpoDWxfxL/spx9PojMkeug57LM0svQ1VjurfFSS5n/aVge7sSTTqaFkpFG1BlZG7vuugt+zd0YD/hqZAdNoiEXDkag8GtYwOjBbts2bXNLCEKlE8uOXGExBxZ4npZA4I0DZXUQBNH+P/rYYwgYXiljoc2GDr2aWvI+Sln5AAGp0zFG7H9nBCpOPvEkVVkAi/s/FHO4MvaG8mVvZN/xniGtsQTWueciaAOlH3/mRo0eg+XpkCmQlS233ELmkTOTuHAQ7+KLLkFg5FXp/94IvHaRJbiyBlypYSfKi2f9NIsORgCD92hBDJV6Iph37XXX09x582kwlu9q2bIldcQyjd9/Px1azhjcS5bze+LJJzCGx1C7dnshMHUHAlOjoa+mFXC93XD9Dewm8f/II49gP5cr5ZR4WT2mGzdubDDeo+fgQw5BDCXcz5w10q7tXqIPh7QzPP4cQK5GIJfnfx8Ec/fccw/JlOOP3PwhtyE+eMvAOitMcmD3JCw7yIXvvwsvvojWwb5fwYM/CiQ7VNNPGKtDcI58DfJ/Pbr3pOuuG05zcU0PPn8wxmpl4gwmXuqSS1ssa/nT7Fn4wDxB5qZdu3aSmXczsgp4vlfAB14ONGnPvGd+psyQMSfJDusEu74z+tT76acfsbcM9pXhyYOl05AR+dWXXyFzcQztuvMudAIy5qbgOcSZc3qN8fKKLVduyQ2gm0InYCw414ZNXHrJRQhWrGPnxJhQ9CyVC38OPProI3Q55pIDY+yfs0n7n9cfPwDAcwxN7hl3D92IzDlmGMFLqi2LgCLTWtRyqP1REVwrKsi0/yzXP0xkbyjOwAJUAjvYAytxlJlLLUXL3nMeE1GV/WfmY1VqRHR5sfKh9sdoyvvnTLO77r4TXauFftbKMrA8NqNh6tnnnqXBg4dAEMa/TbZX4KLGfxiyRu+//0HY53Mh6tevnwSy/WDGUY+UgP0hdMVLhM6LlQ+1P/qmigqy6DVSHl3WEYT8PuUfTWj/b73lVmq0FGcQ6wj/vv4l2MjXIcaSfwDDQdW0J+qXJGB94ZALZKb474+2yM7mZUZDSVtpr4fhXr7/QcxVdv/1QzB+s00RjOeSNgmyMmKFhdofrUlJK/XPTvT+82ih1XBOkRcr7z2rjOfrTMyXdoYDjkvJ3wrq9Y/1H09dzyhIotdIRWxGpU1MnRcrH2p/tCYgFBVk0WukPFrotImp82LlQ+2P1gSEooIseo2URwudNjF1Xqx8qP3RmoBQVJBFr5HyaKHTJqbOi5UPtT9aExCKCrLoNVIeLXTaxNR5sfKh9kdrAkJRQRa9RsqjhU6bmDovVj7U/mhNQCgqyKLXSHm00GkTU+fFyofaH60JCEUFWfQaKY8WOm1i6rxY+VD7ozUBoaggi14j5dFCp01MnRcrH2p/tCYgFBVk0WukPFrotImp82LlQ+2P1gSEooIseo2URwudNjF1Xqx8qP3RmoBQVJBFr5HyaKHTJqbOi5UPtT9aExCKCrLoNVIeLXTaxNR5sfKh9kdrAkJRQRa9RsqjhU6bmDovVj7U/mhNQCgqyKLXSHm00GkTU+fFyofaH60JCEUFWfQaKY8WOm1i6rxY+VD7ozUBoaggi14j5dFCp01MnRcrH2p/tCYgFBVk0WukPFrotImp82LlQ+2P1gSEooIseo2URwudNjF1Xqx8qP3RmoBQVJBFr5HyaKHTJqbOi5UPtT9aExCKCrLoNVIeLXTaxNR5sfKh9kdrAkJRQRa9RsqjhU6bmDovVj7U/mhNQCgqyKLXSHm00GkTU+fFyofaH60JCEUFWfQaKY8WOm1i6rxY+VD7ozUBoaggi14j5dFCp01MnRcrH2p/tCYgFBVk0WukPFrotImp82LlQ+2P1gSEooIseo2URwudNjF1Xqx8qP3RmoBQVJBFr5HyaKHTJqbOi5UPtT9aExCKCrLoNVIeLXTaxNR5sfKh9kdrAkJRQRa9RsqjhU6bmDovVj7U/mhNQCgqyKLXSHm00GkTU+fFyofaH60JCEUFWfQaKY8WOm1i6rxY+VD7ozUBoaggi14j5dFCo4ksIahR6QTq7HmXQjudOBYen6gSObuAgD/8ZF+zqhFY4n2ltAwaNAh7VG1kUXH1L8sC3Yl9QdBufwR2OnbqnH3sC5/8OHAxfcZ0BDhOl2yLuvjl9e3ItOD9hdgXL4nHSxWq/42xp9OA/v0lwKO+uf76669lmTz+cM7Bn6HDEETJPjwv/AVBsH32Rg+qswAWf+QJ/j+e9DE9/uRjsh9PdwQkpA2frOs/Z6k88MD90v9bkO3EyzJpCcse8fJbRFtvvTV+wd8Tv6Lm5vrRCEGAjyfL8k4LEGRaZdXV6GrsjcT+f8I+V4cjYLdgIS8R1wSZIxfKr+ZlsJx/ybDCR3Ye/0OwOXwHbF6vhfcm0n2idt55Z4zByVnz6J/3CuN9v9g/S9vhY19XZMeIC+dHOi182v/rEbQbP36c+L8A2S4bIDtNywWDB9NzyH7hj/AzZ2IpNLTvgoBXu73bwhPsoIy99Vb59T6PSU/s7bN1a2S0QMeuxowaQ7fdgeATGP7AuDKWEPT932effWW5yNZoc25PZO8Ek2zWimZxsYCX2BuMc6qNj9Xqn23PmPE9sqG60Jyf59KGWLrvAnyoZv98/UWbYIRP+892WfHiCy/RwPMHgeRMw3q0wQYb0BtvvIGlqfrTxtjLhIM1+2NfFg48coiL96Lhpf54+cljs+Unb0CAYrws11aL1ttgfQRzLkj8f4MlwI7FUprz5s4TOQdiOSArJ5bdf9OxbF5nLOXHp8qFr4FVsJccFx7/cPnG+WfgxQg8TXhqAsgqWgbZFJzh9/4HH9DFyJJc+y9rSdvgA6S7/idib6a+2PNK/Q8rE2TMGkul/l/A3juDBg4SU3xPb7jhhrI/2Hn9B2Lflw1hrgpB6P1p/tz5yGarlv2g3nrrTVn6ivvP53zjiBuxZxGuOzAbYKwuQOArzlXwOg3ZVN0QFNbSD/tfcSacv//YFrfj/YAG4JxqiaAWdUMw6qorrsTeedvRWQhcc7fD8pX9xD/vDXUnnl289BwLJr6CscBHbx5kQPGMKQ24av/L+b/kkovpCQTo2H/t2nXpEux3szqeB9on7j/vO6Tjfyn0nKkaCjrhnr+ZsKRalH8Gh6Goxv6FI+lO3q8JNuvUq033ZIGDAEDvsjGLDn5f/9xpcZH4YR/w6K6/f9c/74F1153INEOXeD79EoJ5/69gX8V+/MOHzP9eCAonQZEy438lApIccNbCmZCclVlu/hkTuuuOgcyagxH+v2P8p0ydgmVjT8rOupouu/RyWnOtNbNzLV8t7vVXbv5H4H7n/cp4/Pn9zwHdWHhsMC74H5dXXnlFgoWBI/mxAM/VovzzXD2MudL7/1wsB7oV7/WX2ZTB/y8a/3he3Mu0/9pvX0uA/QQE3zF+/P65/DLMFzKxs4tOoNK9TCB0EGRm2AfI7Pr/rf7ZyKLGX/RsvvAfR6EY//8z959c35jPcPukf3/pvRSm2x2L+S/m///I+6e4/ov3X/H+L57/xfuP/4wu3v/++1vx9w+/HbN/XhX//sFI/Dnff9ygO7L4+/u/cfwlgCWzlD8k/0hipRdkj1ovsvbuMWz6QCzE+mWcyVKFCMCyftk4axuILl26SnZSU+xtxR8T+eNKOf8j+Zfy8mE/+yAvGTzVyJ4KGVf8hxE/BK+/7josi9QsGBeZnZjsT8T7KDHu8MMOp4MOwnJ/KNUIYLXjfbTQ7+2xhODZCOYIiJWQyasmmhFpOATdnVjO7eabR0mT/uedR6023VTVCNYchSXrvpaABgdSNOvHGZHu/uv992W5Q14uaOONN4K6SpYz4o/a7P/E47vRbnvsnjTTc5v388/oS3viMd8Oy/id07274Hhpw06dDqfvZ8ykRo0aYXxvwtJRDXI2wKJv12Lc7rvvXiazX6sfm+F+vf/vvPUWAnP8YZ3ooAMPRBZdR2nLgcHDDjsEWWizqG3btvQWcPwRbTMEXORDcObhzDPOoH+9/4HsQcW/Cq9fvx40fB2E5f/G3nY7xzDo6uHDqCUHsKwgeIkAVjUysLbaChlYWM5NOpO1lc7g+uN9Z3gZQi5HHHEE7bfffkLbIZvb7hi3t7BMGGcL8l4hei3+2vzLmcoYcrbevTCLCCVHvhZysO4oBOv42goZOidythIasJrdbrDBhjQQAa7adRGQRTn1tNNoEjKi2Oe+uCaPOupIoRnP7S5EEPPpp5+Wxtttuw2djXFX/0r8618f0Jm8jxv8N226DPYow7W5qALbH338MZ1yyslhyHBk//vtuy8deeQRif/UTDU9+tjjdOXll8uHSfY/EtdYUyxvJ0XOOTvxtKFkDfKymNIpWeuwlixNyBmK3DnOdJKxys6F53/9jTaQbEwJXgN1OpaJfB8ZhJzxtDfG+Kijj5K2YhMUmiKw/A8ads1w5hAUqk1jx44tvQeyU+RMx7BUZzWW7FtKMgl5uc4LL7qYGtbHfYP+3TSS9+FBQBpt1l3nLzQEOh3/xx7nbMPL4CnMPy/x13RZzrQUBJ9C+ZL552vzG2Rk8qt79933yJYTjPffK69NxH3TN9hAm0EDB9CGG29i/nOEnGMuArtI/1GZ7YEle0Nly7WVzcDKzo0bZn1wRIl/DnR/+umnMhx6/QuTzT83CGacXZEhPwqKap5oLeC32bo17Ypx0vHPESX+tamvOQPr7rvuxGlwBhYCdcjqyRpmsDj+kz6eJFnEooD/v//tf+gU/LBiUf4vu+wSevyJJ82lX5bOhLAVjKjEC6L/FMNYN07WxIjF6r94dE3CGXhBZf/ffP0VHXHU0XL/8fu3e4/utC2eSdYZMeNtBeslxxKIF0T/I0bqEoLICuQAFjIE5dnMBq1JICZ9hLk6+VT5+4Mxf8NccfZy2ZK1vfTSSzFXTwAdfF6KzNO1114r+DD73sJ/dvx/6/x/jfk6CvPF1xHff/x3wrb4eyGOnfbNdzaO/3/b9fdb+6+9K6l9d0XpBUX/5R7zQ2ID+L/r+rfTzhMlffOCYv6L+cenNn9J2PVTXP+V3r8yRDJmZQfORjDivMi3Ke6/4v4r7r/i+YPnQ8k/o4vnb/H8zcJg9sowIvt3jeP9K8bTJRAvKN4/xfuneP/8N7x/XAAr3KDpbZq9H7xQbnInEDLwfOQS3ykRx5RmYLF+2223Q4ADeyNZCVheXu9QZAvxD6c56NTzHARB5Cc6qBDI4qXY+D98haIXn3+Bbr11LOhqCZbwfktc2A9/9OaPTktiWTwOgOiZaK1uP/54Mp188kmC3eF//gfLpp0h58+BH84Wq4UT2X57ZFucfbY2YQ/4f9ZLIavpm2++xd5BX0pW12R8+J8wYQL2t0J2EXC9zu1JW7beWlr8gKXcDsUyadx+rbXXxJJil2Z2g01nOXpxQl4a8F4OiKD/pyOwsUrLVaX//MhGbEKKnBkOvbF83swffpR9wq646irxPwMZT4djXy72v8GGnKFyQdaq1P8TE56kyy6+FMO/UIJNXcsttyTNYls2xv55CcbDsfQaB6p4b61LsI8Xyzkox8EpRvXt14feevNtfPy/E3t/1aVbxt5GdevWJV7u7pDDDkXwrZq23jIsAyiN0YrL6FGjkIF1u/wDcuhQZLS0bAEpz3YoHOT5BQEsztri7C0u4QxjLQGs23HtYH4vRIbYuuutC1SwIeOXtbkCv0h/7LFHoaqisQh4NcKSiNGKkqX9h0aUJ+DX7dOmTqWFMMo3/IbIODwfmYdaxo+/l66//jrxvBAfzOvXq0fD0aflVlhezvnn2XNkeUweCx6Dfn36SrBPGBh5/1/vY8ku/mAe5v9yBI7WXGONzLz2mpeaG0c3Zsvp/Q3XOe/hlpbYB9//ExAknTZtqvR/mSbL0I1YvrAu5kr9h4GNbdnmXXfeQSNH3ix94uv/NizV2HCJRqCSkWOoK9XIbjqJpiKYyTEJvv9lrJD9pJM3/t576QYEVfX+b1CvPvH8L78C7/NVRbOw3xRnGvL9z6UfssA223wLoXUkuB58wQX03HPPo0k1rbfu+sT7YakTxXEjpk/C/E2ZMln6zx2oV6cuXYwA8mqrrc4QAZ12+qkIME6S++9ABGs7ZcFaVt6BbKxRI0fa/N+KYNmSCByXluDZ+/8ce5Edi6Ue+f7j62/wkCG0/nrrBacymkT33YvlRLHMos7/jTfeiIzM5TPz0ZpSWi+Of8NmxAgEIu9BoI7Hvw7GQQI7ogsAPnLheQ4lawhGKa0V0RFLOfLymXzn8fXPz3qdf8by81f7z4b5HtL5F1oMhj/ZedZ5GUlevjSU6E0prTOAq4KGjyN5ry8JhGC+kfUmeyzFTgERrXz37Xeyn5+OPy+H2zvbs83jtAXXA7H87UvYKyp0pgr7/92IfeQ4wFv6/BG32hiIUJxAyMDzkUs81YhTSuuA9Meg8XqjjVC8EwgZeD7yfmyH8ZKbKNybo47uIu9ibaG1AJJDtKHnb1gjtEEUjEB26t34EQuPfy0sIcjXpLbPj//0776jTp07Z/oq2qo19iLM3g+KjZaDZBD2h+IsTL7/uOFN8LdsNldyNtIgtOIjl0r+We7tC9gO0Ya2N6wRCnYCIQPPRy7a3nvTFloHJM8X/h5Bhrbef0cfdZQtv2xYI7SVEwgZeD5y+S3+Qws+RhvaPkhMFaF+FAUU2zJI26tNlqktrVmWlmhD2xvWCG3hBEIGno9ctH30GinXMoDtGG1oe8MaoWAnEDLwfOSi7aPXSLmWAWzHaEPbG9YIBTuBkIHnIxdtH71GyrUMYDtGG9resEYo2AmEDDwfuWj76DVSrmUA2zHa0PaGNULBTiBk4PnIRdtHr5FyLQPYjtGGtjesEQp2AiEDz0cu2j56jZRrGcB2jDa0vWGNULATCBl4PnLR9tFrpFzLALZjtKHtDWuEgp1AyMDzkYu2j14j5VoGsB2jDW1vWCMU7ARCBp6PXLR99Bop1zKA7RhtaHvDGqFgJxAy8Hzkou2j10i5lgFsx2hD2xvWCAU7gZCB5yMXbR+9Rsq1DGA7Rhva3rBGKNgJhAw8H7lo++g1Uq5lANsx2tD2hjVCwU4gZOD5yEXbR6+Rci0D2I7RhrY3rBEKdgIhA89HLto+eo2UaxnAdow2tL1hjVCwEwgZeD5y0fbRa6RcywC2Y7Sh7Q1rhIKdQMjA85GLto9eI+VaBrAdow1tb1gjFOwEQgaej1y0ffQaKdcygO0YbWh7wxqhYCcQMvB85KLto9dIuZYBbMdoQ9sb1ggFO4GQgecjF20fvUbKtQxgO0Yb2t6wRijYCYQMPB+5aPvoNVKuZQDbMdrQ9oY1QsFOIGTg+chF20evkXItA9iO0Ya2N6wRCnYCIQPPRy7aPnqNlGsZwHaMNrS9YY1QsBMIGXg+ctH20WukXMsAtmO0oe0Na4SCnUDIwPORi7aPXiPlWgawHaMNbW9YIxTsBEIGno9ctH30GinXMoDtGG1oe8MaoWAnEDLwfOSi7aPXSLmWAWzHaEPbG9YIBTuBkIHnIxdtH71GyrUMYDtGG9resEYo2AmEDDwfuWj76DVSrmUA2zHa0PaGNULBTiBk4PnIRdtHr5FyLQPYjtGGtjesEQp2AiEDz0cu2j56jZRrGcB2jDa0vWGNULATCBl4PnLR9tFrpFzLALZjtKHtDWuEgqMgLCGoTqM8IOWjeTBnKiPUWFbn5WX4hdhPh7MiuDs7YF8pXoKLe2tQEJ98+gkdr8t7/Qb/hx/WkQ5qf6CcjCwhiA+Z/NFJlhHDB+vgRD1lNar5C+bRfljCjfUbI7gwcNDAzAaCYJmNHZCBdSb2wJKRyJr+jAynZ555hp566insGfUhzZ41R75xycdV6RSA/NELhnkfptbIBuIPlrz/VLduvHxZFe22627YH+eEpP/BiZwCmqqN7PQhHnzBYNl3JUPECh962V05/xwUkiWxkLIQslhOQLsq2VfsuOOPq+j/o0mT6BTsUcaF93Y5lgNYWf9F6A95OfiL8Wv1CQiCcdbSzSNH0TJNOJh4K4KOtyCzqj7x/igfTvqAzj6nO86mCnv7cKZaKxnXIfhYz/0/8aSTsD/XrtEt7I4aMxr7V4XsKV6qUfbAcv5lCcEFC6g1lmc8F8FDKaJXUJaBhYAZfzO/GkGQlryPlqq1X/B/BZaQevTRR0V1G4IPjRCISebIsCDkAskEsDUTH3MPP/wwdAMM5qd2nSq6AsvPrYJ9ywQMcf+B/eVjNvef+3t4x5gFyPw/sezVeRgXPjXeR2wsArYNGjbInJDsXyL7uMH+JptsjOXuBgQdN3Dnc+YZZyF4+K4IOatqp512tv4a1IjMPPxz0I73e2JVQ2TqjULmlvefIc0W8w8++BANxRKFev2PQsCR92KTD/ZyUpkjV/0wE2OFwGq4fkNm1BUIxq2y6qrigqG8DOjL8uFfRBhbP1aUjVU/KDHWWJOTz70BMuekiC9YR81zMhP+uFMHHXwQMgIPD0MlmADn48wZMyRzMOzJFYZTsjTbhyxNxsyaFfbtWvgLgigY7/P696NWrZBtmdl68MEHEWQbCh7KqoU0CnuZcQaXWMsw5tYItkz0yMMP05UIPHNZpkkT3EMjcZ5sR0RyGD58OP3jH/8Q+42xzOOYW8YEZc5WOB8VZnVa2TmbdR4seYYF1U0I7ITl2rI9sCQzKUOraW1clldhVqPq1LkjfYc9zfT6932TyXL+pdtqQv1onT3/9tt/P+qMIIWOv6p/S/9lry/ONEP/6+DZyUERc2tEsLwAzxnO3sxijLT+BlhqFM/o2CA7A2kXGp9zztn0zju4F8HWql1Fd2IJPN6/qbQNAIvdf/hx10WpLdYH/+YoY1Va2ua3++clYfl+0rnr2rWL/Pgh2FZPqWOV1sR/nKsq/PiB98DCvHExo4FlfsEv8zFX++PUONSJvw3W3wDLwvKeWNnQGaFtqiUj6Z133hFMLcwFX/914KeklLRVo2qLeQVldVqVOWcA/uD5/+HHmVhi+DC7/7oe0zXMF5927v5f9P3H/eNGWdGuJrwK046rNE6E2oDmD+4/n3PhP5s6G4hi/GUEiuu/uP+K50+4FXAsnv8YhPwzUkanjDyPE16FWZ1WpbaL50/x/CmeP3KH6Z1T3H8YDv93dvH8CSNgF0g2IGV5FWZ1WhXPXx0eu6YgKJ4/Mho2NEboIC3qenMYaaeNszqtiutPh0eHbTH+/okZWA6s7blWm1p7ndJRFynVac0aXpZvb+wrxc9fXpaP91iyp3Hm/wNk6JwuGTqhpVjkjwychIBgg/zqXiyEX93zB2/+7wAEoTp37iT2OIC1D/bA4ratWrWS/YbEjhyCXbXOm7kfcMD+2D9oLrJw1qMLL7xQVLqPFjfZcUcEsHi/m6wpL+nFv7L/7NPPMu/hXHi06uBDZIsWLWn+vLn0+RdfSIte2Ddjyy23knN//4OQgcR295ePrUcEq4s5/rxc2CvYY4h98Udf7b98AAYXhob3cmJNVnDivC9P/br16AMsRXcGsm9Yx/3u1KlzAJXx/wXOv0vXrvIMa9MmC2BlJn3FtsLYRIr1z2KfK95bipWnnHIq7fS3v9PpZ55BH2KON9t8c+J9khYsWCi/AJ+NQMC++BB85JFH0mXI1nr88cfhtwrLs2HJNXy895ZHjQ4BLO7zUOyB1QLBJ++fA1gLsXfXVq2z7C2ci7R3RsIeWMjAQksJgrVoATJY4XPXcvkVV0gGFl9/tyFjSwJYqszqaDZSrHruuefwMRvBU5jl4d3XlrQLDRciS61Dh0NoNjKHGNB8pZUk8MMfzbXcgIyacdjXhf1viOXyYsYc0aeffELHIdjLM81jcRz2zNpzzzba1Grel4YzwfT7KX/0XW655aB351tm/tnAhRddhOUJn7L779STT6G/77ST2WYiWgnUxIlhWTvmuAy/djg1b76S+Q9SPsaWvCca743GM8BSnsOjjuKlEmX4kNG3kA45pAPNwR5w3NvmzZthrIbKx2TF3HjjDWEPHKwrtyH2vzqfxz4rgsFh6ifT6MRu3cQuexowYJAE/vzHWm3D88c2+LLg8V9l1ZZYGvEKBCLjB+yXXnqJ+g/A/nr4j5eb46BZfQRntfBY9O3XN5iH/2swFi0wz6HomYMrM/4XYewnIEDO/rfbdnviwEe+cLB/GvrE/iWAiYyRckX7D5gri/bPQEVwzcu53oMP+Dz+cWm9iPGUcyJkJf8//jgLXcfgZv3X+Q+zHp5hMv4wwHX5539As/+GyJDk/dPypZJ/ban+uZ0FRUDzXI/zAay8YfBH4jrlfejYf0sEp4dePawE5f3z/mu8DxvjmzZdFtmKI63/+YbSTpB2pnkIrKguUnmQ9x91Dl/m+mOcIrSObSMVddX01VdfYdlPvDPQkuVnI3N5++23D3YiMGvsBDX0z3N1F+/LZtfkuHhijhJPOByJJUW/xd6XzLdsubJkcAqsgn9+vn766Sdy/y+7XFMaeRPmKldiLyKVg/xh/Wc/0WukFtf/V1jK+Oijj7br7+yzMF87bG/N1aLWpnBE1EXKqYUUTYnaCSqMvyK0zttlPuoilceJpkTtBIV/PET46ZsWHSGtU23goi5SeZxoStROUIx/Mf7F9Ze/bezZ5u6Uihj/JMyDivsPt1fJIDpB8fwpnj/F8yf/2CiePxgR/qvIPSkqjtGiUMXzt3j+Fu+f7GayO8jdVcX7t3j/1uD9GwNYdlGBcNeViPO8YUsVpRID08JsaT+2v/2O22NfqdIPsvJBBcvY8DpSa66xJp3BwSzguW+cxCDrdMmTANuq48NnVS1WEDVeailqvPTScuq6hCC/eZqt2Iyuw7JjSQG+Gjb4o9fX+Jh1FPsDlrOkOFuKjSzEf3u34713iHbYHsG2s88yExx4e++998EvpKUaN6Y9sOfKegh+rbrKKtQUgQHO/njyySfpkksvEVu9EOzipaW4iL8jj8LeLdW01eZYbqpPb5EnB/jn87HieF5y8IknnxAAZxe1WBmBF9aLJBuewAYbmY5x3F/5wIg9L9j/NlttgyX2sgwlbcN15u+f//ynZP8w37btXhSXEFRwBlQ2NhXJrNmzsFziobKc34477ogAy3EIVmFpQAQyuxzbhdrt1U5wg7Ck3gtYpmnVVValK6+8SpZg+37m9/SXtf9CF198sZ2Puhk9GksI3nYH2IXYy+gaWrkFsqeywmekSwi2xn445/bEfOYLQKPGjKI7YIM/s1oWl+Jct65AAOvRRx6V6+/W2/IBLAfM2nrJsGuG0QP3PyAa3meMl3dbCtcpjydff5M+mESnnX5aaIn5Pu3U07Avy9+S/p5yyin00aSPxD8vq3hw+4P1LBGUvBN7WY3EP8zC52LOkOHrz186DNaAINMtEKi7Ztg1dv2zrKRknXj11VepT58+cj56/22+GQce+2ZNfG+DiCUcWJMsSj4RCHgfmbXWWitrE2R6/6kwjlUVNahfn268CWOFPaekwMaHCLyedgaWPWQHKLx3zd/+9ldQsbenIkj64UeTRMLX2cEHx7GSRjg88OADNAwBBr7+69Wuh4DTWNmLTvVSsw+YHYZxeuCB+63/gy44H4GxDR20mq7DHk73jb8Pp1UtOsbEM0JGqY5F1urSyzAWa2APnez544xFMvPfqVMnmj59uviXTBbOCHXl3XffQfbiOTb/R3TuTPvuv3/i38EjCfuL498aZOczAgEsycCCIiwhiH2/ct4yqDUtS9TQf6mtUm+lktJWfA0tqv+yLN24u2Xc+QcJ95Td64vtBm83YFnNcePHYSQw83gfjb31VlpClhot9T17Dpa5bN+BfsF/tRBo3W333bJ9zRw234k8b9BSRanEwJEAaFH9z7qV4HPTnOlKvU2eMoVO4j39uGA4OOC+wQYbBF6Pv6P/sKwlZ8hVS+CSl37095+61Pr6G66n8feMl/u/TlUdugXZwCVzlXVrNpZv7dDhYHlf8fOP95vshiVVYyntf6kkoo36Hfv/795/UzBfugcjzztnD26w/vqp2YqdKlWUSqzXkQDoj7r+Cv/p1MVBd1Qx/sX1txh/f9gVU/GmKlWUSsxKJIrrr7j+iusPf6dU+EslfxPlebuTShWlEgNHAqDi/Ru+/8RBcVR+EPO8QUsVpRIDRwKgYvyL8S/u/+L5Fx8Kjso/RPK8QUsVpRIDRwKg4vlTPH/+Lzx/0gCWXNjuH8AVoqJ2J7i7JZBOwCBlpcYeJwg4tWu3j3xw3QEBLFuWTw0CN3f+PDoI+8hwsGtlZCoMwxJZFYvaN1dBwH4k+AS2Fj4o3nHHnVSvfvhVvly2WTuuXvnnywjShAyKPfbYg47Fknr8WGX/++CDcTXSvnbAL5LPwhKCXH6e+7MEERZij6Xlllue+IP00lngjMMIOnp3ILhwM36tzR++zsU+G7zfBpe58+ZT+wPbI6NkAS27/HKyp4Yo+IDmHKSzx3qZ8efl2G6/Hfs/AX469uv66//8VZoHz9G/E2bzwLrg/8D9D4SrhdRspeZ03fBrRS4HQLz/u9GHEdjLiA3shSUEj7E9sLImzl0gnYAhYHsj++y1115HoG9JOhYZQkOGXCTzz/v2NGveXPrxyCOP0FUIXPFSbb0Q0OOlBLl0xJJyB7ZvL7Q/cPYULyHIw8OBD15C0PvfZ1/sgbXglxCQ7BUCknAqJnT+R2MZwrG3YwlBGAkBLCzrB4jvPzu4Auf16KOPSNuxqZZYcwAAP5BJREFUvISg378oOM3s8rw5AaTHH5f9eh/iPfbcXYI66p87fgf2/rr5ppuArJIl9m4CXQtZPDr/vBdYByzvFJa8IozdEAmUikMcLrn4EnoSSzRy+4ZLNMSYhIwy1fPpvPnmG9STg3jcfxjeY482dPyxxwkNifmSNhBo/3mJzBOQffAzrte99mojywgypjbOj5cR1ECcGgi2wnEusg85I5L98/U/AFlBG2+yUeYCj80AS0aLPwxPmzZN/O+J+1ACYDzBbABFgnWcqQJ26cZLy3J6tWrVtg7I3nnI0GKj3IchgzFW664X9OKPD5BfeBE989QzkFfT+htuQINtDzgos7bBI1E3BFynIcuSFZrJyTasAM9LgE6divPGfwfjWj1M9pfLENDPw1jsz2ORjb9kfG20sZwXn5H6khbO/2effUbH4X7j5w/7vwTLca699tqZ4VD5+ed9ea4dfo0szWkgdSA1H9hS+fHPlDb/gUebbPyZl8wkXqINYl7y7m4X2BEXrPA9UlZqPvx7/sWAP6h9scuenYBxykrNh8XzL0slYglBfjbURtbqPbosnVhwh8z+v2QfOt47UUaXeiGzdEvee62M/5f/+Qr179cfJ4srBpPP158FeIDX+0+8uOvfeY2k2ockkE7AKGWl5gOLaj7/YsAf1L7YDeP/3rvv0VmcKcg6/P/a666l5s2aS3+56e/tX4KquA5DAKs25splYOn5Sc0HovcwV2dhOVUd/769e9MWW4R3M5+vH/9XXn6Z+vUfIGfNbTmb1uaKBWrfSCfwehHz4ffvv95uwfNv9//eu+9KlhyuCnn/Dsd8rYT3cjhZ2HP3fxC6o3NXU/+Vnn+Ff4zA/8L7n58CVvT6kJoP/33XvztbuZ/9/V+MP+asuP/tci4h9PqW65qvfCdgsLJS86G4/n/v978+bsJQ64DLUBfjr8MhNR+K66+4/v7Yv/+L97/7i6K4/8LlUDx/MA7F87d4/xTv39/7/RsCWPqglT9xwiEVOc6RDr5YpC7Lx+AdeV+pbA8s+0M/s9KzZ09648038WP2KroKe8DYnkGsd/7fe+894mXuNttsM+wrgz12smKZXvjrlv9RwZlDHIDJl2osNcgZUK+/9gYiXdXUHXsxbbvttgLjJcv22TtkYEm22JkhW2zSh5Po1NOwLxTeU3thWb2SoE7mhLOuXn/9DfHfA1ldW2M5Oy2se+P11+Xfx7y84FZYXpDt+cLdHIIl1b755htaaumlqE+vPqJ+5+13sC/HOYLffjtksWGJprIFHz/uve8fyGJai/6yzjoI5PGH8FDOQdbGu7yvB5xU8j933jxkBJ2aBRWqqW2btqGvbvzV3qLqf9x3H5aQu1a61xIZVtOmTcXyb83pWsh0Lr/95js64qjOwq+EoOXnn38uqquw/9Rqq60G884pSA4+3YbgE4tLsqeA3mcfBLAQYNx4401o4ED+AFlaxiAINhZ7YPGJDRuKLK6WyGRzRT1yBtYjjz2C9w8yKzgDq2GjkrlyzYz8/vvvqWPHTjL/bGvggAEI4mxieiZ69+pNr73+GvpRRTvvuhOdfNLJpuc2L2N5ugFox7+WWKLBEnTr2FtpFpZcW4DlEZs2bYrAVE8EqN6UNjxuvB+SLz/88COdeuopkvXHlxc/PLp3PxvX+Hb0zttv42MssomCoqRPnNn2wP33yx5bm7TaGFlxnWkBljzENk7U+YjOCMrsL66+++47mjx5Mj4C44O9K126dKEvv/xK+s/LcHFwuKRkg/z99BnUsTPvmxMQ3GceKz61UHCf9u5Dr2Ks2P/Ou+xMJ58cx4oxvJQfjzGbaNiwoWTB/ITlBhcsmC9jFewQHXHEEfQtlgBl2+2RzXYostrYf5Om8fnB2OmYv04dO0ozHv9+ffrR5lj2UhxkJ8b7/fA+XLLHGZAXnH8+9kDaAAGtqdl1K82Jx+KrL7+U8T8eAXIbi6z/3mZogX3EHsr2EYOgXoN6dPvY26l2bQTssjZ8j3DmxDzcp1w4U2+n3NKOvyDTkZcybYDxKFsW4V9VoV3gJFhwJwJY6L9kJvk9sMo6+BWhOtHawVOR4xzp4DUj1ZbWmZWwLF3I5An9RJ/1asxhuQnPPy99+h2uK1bzvdG5c2dWlRTOwuQ9tfgSWn75FYgzgvgtpea1QerGcY5UbI1rtaW1M5SKHOdIBzfyhRdeIM6o5SLLIyJrL/8RlJ/N83HdNmiA65IHoozNVOQ4R7IPv9yjBFV/5ZpM5gq29scyup07dS47/iOyueL7f8XlVwxzlXzh5jP4N4r2RWtnKhU5zpEOXjMStjjzedDA8+Xvn6ZNmmKZ0JswXflPsc6pI2vm1LVSW1qXUQWRAzjSwWtGqi2tnZVU5DhHOnjNSLWltbOSihznSAevGam2tHZWUpHjHOngNSPVltbOSipynCMdvGak2tLaWUlFjnOkg9eMVFtaOyupyHGOdPCakWpLa2clFTnOkQ5eM1Jtae2spCLHOdLBa0aqLa2dlVTkOEc6eM1ItaW1s5KKHOdIB68Zqba0dlZSkeMc6eA1I9WW1s5KKnKcIx28ZqTa0tpZSUWOc6SD14xUW1o7K6nIcY508JqRaktrZyUVOc6RDl4zUm1p7aykIsc50sFrRqotrZ2VVOQ4Rzp4zUi1pbWzkooc50gHrxmptrR2VlKR4xzp4DUj1ZbWzkoqcpwjHbxmpNrS2llJRY5zpIPXjFRbWjsrqchxjnTwmpFqS2tnJRU5zpEOXjNSbWntrKQixznSwWtGqi2tnZVU5DhHOnjNSLWltbOSihznSAevGam2tHZWUpHjHOngNSPVltbOSipynCMdvGak2tLaWUlFjnOkg9eMVFtaOyupyHGOdPCakWpLa2clFTnOkQ5eM1Jtae2spCLHOZLhaQaWGcihWF5GJHCRO6WRRljTNCi0A53NAawyZQKySji7gC0su+yyknmyAj72+Y98s7BnEn/A/ebrbxGcqabLsDfN6quvLue5EB8U99m7Ldrz1zFkC9SrS7z03iqrrmom2Pa948fT9VgCjOklkVnDe5HUx/JlbISDW+2yANYOvF9XFmzjD8aHdOiATKq5yMrYFNlC4df0dnIw9sCDD9Lwa4Yi4wymUDjQsPXWW4sfPiPeG+qCIdjvB3pevuhS7Plkv3qWFtU04ckJdDGyLrjwsnK8vByfPH+AOx6ZIZ9+9ik0VdT+oIPpsMMPEZqx6mQ89k26/oYbRcS++Rz4dNj/Aw88QEORucT+OXvsSgQJm7gAIBsZfs1w+gcCGFraIljX9dhjlI21GFXLEBsZCF4y8Ugs0ch+VcXBRA4qskzLiSecQFPw4T/gqsPSj5gbK9oYAgk+ZdlGIfi0EqSZNeA6dupIM76fTksu1Zhuvvlm2cfG+2ebo8Ygi4sDWChDhw2jlsjiiiU6kyUEH8USghDdiqyvRo2WiDCmBBrx2slnsG8UZ/twqVO3Dt0GX3Xr1dOzpPkIQnVAAGXu3LnS5IzTTqP/4eUDpQR7fG2OxzXKZUtkCfTAHPI+SGuusYbsfcXL+706EUEdRHXq1W8gfV2iIc4Pnf3m668QnOxDnMljZ4cPk7fecgtNmDCBbsLSgyNwfUgmFezPmDFDrgX+ePnkk0/I/bLFllsicNRb/Pfr2w97r00EXU3LInh2LZblrFu3LvXo3hMBo3oIBPcVnDobi6W5xtxyq8h4+cgzzzxTVSKzcwL31NNP08XYe45l9WCTA3X13D5SCxaEsfpZgjXVdLofKzFUjfv4hjBW4LfYaks6t0d3LK/XndbIxornn/euOxIBLC78Hfr8gYPkY21vjOMl2G9qtdVXFx338emnn7H98Oph3m67dSzVwXPEF9nj7YIhMv51cb6coXcbrpGHEHwaPepmzEMIGt+CMb8Vy8rxqf7PX/8qy6LKaXtjCV0N37z32NMi3WijjfCRGUEB7gQK79fHS09y5hd3ZO2118Cz4lLpiw7yPdgX6C5kpvzwww+0zrrrSHC+CeYtM6GwYLDkWObsIJKgJpZUZBuciSfZLgJ1eCONMF9RwiNs3SnxXlZbqYHIndJII8xXlJT1YOcxDPvqPfjAg9LOAnW+sSFBiLyabsG1znPM/PIrroBlKq+i+hygUQjq2XPmYAm64yWAytffIQd3wL5u/OzOlzLOyoikVebfRtNwRvzm/pcdnWguPdmc/xvxTLkH7x4OgeyB/fh42VhtyvU9yGy7G/+f+eMPtN466+J5dk4SYA7GtYVzVUbEWn7+P/jgP+CjKgRVLSswNlBKa74fb8Ezhp/pK6ywAl199dUIpjVInP0852d5xnKwm0sHnqtDy8yVGFXLABpphImixMHEev7gkZmujEg0IndKI41YpH8OqN6NoB8/qfbYc0+Zr3Jn9xF+uDPu3nupSZNlkF27vyzX/Hv4z3qXq+K5m6KMqPCPEZBxcYNjpBGLnH8b34SIbU1cRiQ6kTulkUYU/jFQ/M6MI5LSNsZGeGQmLCMSjcid0kgjzG+UFP79WNiwG1FGW0ZUjD9GQMbFDY6RRhTXH4apuP/TZ068Ouymc0QZbRmRNBC5UxppRHH9Fddfcf/hGoh3REq7Gy8jPbKySDQCdXgjjTC/UVL492NRjH9+BMqMThlRcf1hBGRc3OAYacT/6fsPASyEe/A1Dd+t4/UQSDvqUGjNCqW1NnAJERHV1b/IEoIMCcvycfYQgkVl/PPHew4w8Z9+TbE81l//uqNkjCyNPac++ugjZMPchsyJ6WhdRdtusw31wAdrLZyBxcGnWtDxUnlsgwM1O2LZws0335Jm4mP9c88/RxMnvopMnQXi/4Rux9PuyBLRs5UlBCWAVUXbYQnBs7GEoOo4g+o1ZFDxkPFH/m3gf60118Rm758i6+p1LDn3qGDVPy8h2FoysNQCyX5I/Et87n+TJstin63taHNksVQhy+LlF1+k+zl4xClS8HIBlo5bf711zT9nnZ2BgMAPyADh/m+DANWmm7aSJcY4K4QDFBOeekr6z1/pLrvscvmQr7P2CwICJ59ycvgADgvLLru8+Oesl28xpi/hV/QTEazgX7QvwFJ8PIJt27ahrl1j0El7ojUgFUo1Ao0nEe+1IV8MMdcceIkZO2H+R+KX+nfhw2Y1LkReuqtt27bw11Vsqg+teQlBnn8e/9LgU9hz6fEnnpD+r7veOpifbSUrZ3fsN8PjySXso3U7qGoaio+gLVuGAJb6EBAOV15xJT3MASyM460IYnCgk4vitBahO/BH0Ycfehi4hVkm2EDXiugdZMDxx1u2xNc/939Z7F/l7Z2FOeblyXj8V1llZQQ7G9FsBG4vQrClIQKfQ+HjQfiQexdjtg4y7f6KAAlfh08/8wzNnzuP1lhzdezX9q9wZujDVlu2pldeeQXLWvakLTnzDx579DiX3n7rTVoT+1Q1xx5ZzyJwwhmNV1x+OS3TpImc07PPPkODsSxf9pigDTbcUOgPJ02SMWrevFnwkR2//uZr6nJUFwRxw1KbnCkRR81Dq5FlOZQeefgh8bMRrsFByKTy5e133pXMMb4d2D/b4rFiWsfrzDPPkLHidi1btqQlEGicM2sOXXjREBk3lr/08os0oD/PA5dqZCztTM/jObDffgdgv6z2mTT4CPP3EGRVtMmmHKjuZ75Ca8Kc3UR33oVMHZzIEg0b4B7fWoJOnEG2IcYnlGpkUX4r++zxtbAc7rUwFpkaVss9/zoi+2sGssDY/wEHHUgdOdNLOJJ94Z7EPc79XwvLCvbt2xfLKjZWg/Qjlp7kIO4v839Bm/D84z3ILr2UA+Lcypfy/lNEaHUqAoeTPvxQVHwuHEjmfQfzFn3bOEMs1R54xOL7962V1tpbTGmP8LSiSv1zgPRD9DP0q4puRj+XWbpxcvZqSev58+dLViDvecalTZs2dOyxx4JSBGeLXo0fD/A1xdfoyvJcroegaLn5F1B2UAtas1hprT0+pT3C04oq7X9+PrWV1txSaa3V2mnZ2LF8AH7c0WrTTUAFiz/99AOyUjsTj5VaWGutNbE85mU1/vtDrkk8g8K7kp/ro+Vdr+ejfgIfznYB/J908knYn45/BFJNe+65FwI3PFcRPXToUHoIP0Thc2+B58nll1+KgH38AYL2W2tpXPbgEZ5W8O87/mo11t6npwPiNGSTf/DBJN66jfph6d5WeNbl559/iHPMMV2Q7f6l6PZEoOtYBCYZV2oxeg6UR3hacf/Z/nMP/i/dfzqqsfZj7mlFFP0v5v/P+fdf+adFcf0V119x/f0Z31+K+694/+nf4vr2L/7+Kd4/xfuneP8U75/wRCz/hghPTa9TWuv4PM1THuFpxRXPn3/n+eMysLLBlcoPtJfzoHudTsLi1TGwRLT99lhC8Oyz3McS74cnlfDx+UJ65hnOQsADBt9hObiB3amYkyuKMbz/0Xn48LL88svbSdgSgoC13qo1fYVslCmTp0IPuzjyr425LeIGskzhLjvvLHvZVHHGBAPwoV+WO9xnb2mzww47ZvtmgAWA9/noP6A/PhT/xALpAzcLBUaB4WDC+x+8L/ZsmT7RZHh8FRp4/iBZJo5PJpwZ2mb+GVWrdi06+uijqO1e7TI5exAATZr0IT7q9yDeqyh4ZB2XyHH7ww87nA44AHvwZCW0Jvpk2iey39R0LAFXyX/XY7piqT9elq6K2uIjX8jAUgtq8ddrWfIPS6DxuXMW0m3IVOCPgTz+fLZcbK+mrP+8b9ImsuRe5s/cVuPD+RhZQpDncNhQ7IH1/9r71qDNqurM3XQTY4KAKBeBJAqKVyI41gwKAlqByo8Z0VREHLEcwkXHRkalTRSjNJoRhHQsUEcmXpIqE0BqpmrETKEVkMnM/DDYyERmFEgGuSsiF6fwbn/frLXXftZl73Pebtqv27Z7nYKznrWeZ5/1nvXuvc/p93znnHbxSbZUyi233FJ/1P8JvU+tlav8yponUJur9G6sv/qMvAOLH1P5cfqx8qCD+RGC9Glafnyyyz5yKV2QvK72P7kDi++qwKdGxtHyoyXv/9b9dXunvuFUulMuXiC5ku7Y+Gu6S4nzH7D//vVdMX1+/pH1m9+8o+bj/r8HXaTYsOESegQj33HGNftavbOOPw1/bFnE4zv7/pDG1z/QYyz5johabFKx7qwzzqALySfVEN+p9kZ61KHvf7utXkWPXvxguwhTC1KWNy3RHQlry33330N7TznoP64/3wV54oknInmw6y9YX27aSHdtkfaTf/6psv8B+9X8/AkZ4Pt/M9Xqvvvvo+Cqciq98+u1p5xcMctYeCXd2XTlX11BeqoVbeMTn3B35omonHMO1+qb5PHWl+udZRv+bIO8f6dpvvjFL9a7Df341/dt4ZPV3V2mH2zfLN8fxU877Q/K773q92TT0NE2+b1UN9xwQ8tIcwk9ppMfi3oMXYzul/V0B9tNN22srT9FF+f3329/3X/R1sS1Lvfedw/9oP4WzccXxk4/7fTyEF1cvuqqK8rX/oEeG0m7+aIX/bN6ETTePVLqYzrXrj0bpaiWZpPyGborTC84ufr3+euF5rpXpfz0Zz+hu/juL5//L9fQozSvI6nNv3wBlB+hyHcvrl6zpt/lSb/tZd1PfP+L8lchfxbfsH22yQSbCfrN+Pw/pbmC9/Oaz11T/pYeGdqKRpYu+tIx5A2vfwPNM79Bd/lw76k9eMjEj3V8Lz0W9Dt0vOE7GU953SnlhN85gbawXP72i9fV+YfvDt6f7vp5/wXvLwfSnGNbap+sGv2UNX/NpyEFQ/4tCWhrAn7/tcBVoKrHlZ+PRafQnUr8RyEHHHBAfT/hmtXWL/gdd29ZuzYcf1fTmPkM3SW7J10gtP1cnP9nP/1ZnS8+x98V/3FB+5S8//W7ovmWzwv47rl+wZbvp+/6j9/33vJdekQvt38tXcA+4YQT653X/P1/9rNX1+9tv/32re/IPOhpdHyoXxa20G95y3xtTWCl678ln8Dn/yG9z5PvJuc/aNn/gP3pAuvlpX5fdP5jfXyZ3vv54/L6172+/KReeFwqL6BHz15I7wPbmkW3vAPs/y+6/pnfetlKzD9b0h+z/9k0lv0v+9/OdP6R43/zFcj5L+c/nMbm/J/zf87/mDPbzFiNzpJE+jhrPYe2W261NYEcfzn+cvxh7PhxpqPExpuGFNSG7gIWNiQ2ymQ7fsDxj9f0G11dROtaAFbLP9/Vn7zpotBSOYnvaqIfSI49hh4rRnc1zS3clH9YwSO5vvfIo2WJ/ky4vp2ByD322JP+cvp36QezU+gRbbtLXH5hKkv0Y/tJr34V/da6XF5Gd12tPfut5VJ6TB+/J4c/A+fndxrtSz8k/v7vv4beSfO7w8cIjzukRwjy4w79/t977/31YgLfDcZ/obwbXWHgK4l8p9eZZ5xZdqMfOi+mx4txrj+mHzX/xT/nu12w1MLUx8fxY6f4h/XHHrOLYavX7E6PM3t6fQfPEUccIY2oic/P9b/11lvprqAr6G4wftcW3W3BAlpW77a6PPOwZ5Y3nfmm8iyyqL9siNeSnx+PxI/Y40eV8XtJeOEt7LXX3vROqj+ojzur3xfFXn3Sq8ppdDGtfeX14sWWfv+30+OH+K4GXvh9ZRfQhQ3JxBFZ+DFx/DitH9Fjtp5IdxrxRS++A0wXt//1Diy6IMZ3RfHjvg46+Dfoc8k+VT3B2+kC32V059nd99xVvx/+3B9x79Tii2B8Fxd/Dt4G/+DpF2zNP0Lwiqs/W/agC0O8LOr//Pipk+kHUb7ow9//hy6+hO6ge67bPF28pAt0X6b+yPlPoHc68QUYv3D+T9Jj+q6hxzbx8sxDDi3n0F/LP4Meg8kL8n+CNJ+75vPa//giCl+0PevNZ5Wn7vNUueuIHz9HDfjxmGfQxSt/Jxpv69xzz6W/wr+dYX2k5VvoQtWxdMcjvutK0AfaePNX6XN/oPAPyLvv/gR6z88b6UIYP6qT90LW0HLjG//+RrrQ+35i6AIoPTbS3hdn2h/96MflZLrDiB+Nycsll1xcnvOc5/qt0Tb+pHzlyzR2afyfyLWiO/qw/9yGW37qk39OjxD8PLv0iMVDy9ve8bby9N98eq0/+v8dd9wh786i72T1qtXlNSefXF73un9NF57CnpYf02fiu55qEtrepXQn2iHPOGQYf9dff3257LJLa//ab9996D1U76C77X5bPhBvsu6mzH9fuZFq8QF63Cgt/5LuZnzTWXLHRw10qy9c+4Xy0f/wsVB/+sg6/+215171rpHXvvZkei/Wbq1WNZlsieB5dIfdLfVCl82/H/7whwvfiWUfsEvsXGzt1FNPLXxXp8/PCeWvJljFW6N3q73rneXoo18mW0Djai2/kNKCe8yiBZtQDQX6+W9L5x98/7qtVjHzS9H9rMFVdJmOW9mC/X8XXRTmdw/2/Q/9/2G6yPgXn/6L8t/pjsUlunuVC4f8/A6zo48+upx51hl0R9eTbeMTaHvvf/8Rtib/tdRv+c4lLu+6P1xXjnvZcWH/Ocd5551XbvnfX6OySMW4H/CdgdIv7VMsys/f1aOP/r86/3MLri+Ov3UL3JjGNB+zj3nZ0Vr/yqlgVanfFd3Nyce/el5AnHzndJ5B4+oY/q7OPFPer0nb3Jb9zz6boEX7z4q5/ldbo3G11v9ky7U1rVbRoxevpe/r44SX62NN+e5dLNgE/Cv4j0b+83+iVsv1ccp8V/NKjj/kge3zU9qdrv7Y1ymb+4+x2KqT33/2f5qccUxeiflvatwhluPPal1rkuMvx1+Ov5x/cDim+SDP/6QYcqxwRwzAaufPv3GsmbLYhHIU2Nn+/aH7NgFy//P4i3O92j2y/+f4nzj/0AtYwzTr/4UwOcHgZ7kJkn9tqId62KaBC6s6/gml257Lzxc3HnjggfruEP4R8CB6zNne9C4GuSw25l9a2kTvwHo1bXGJHlVId0+1C2U/eOz75fb/+4/10Vr8F8f82LPV7S/EF+UfM9jn/eEPflD4MWr8bqwDDzyQtvm0dmDn4ac7KpuAC9t4fqTSt779rfIY3dHF75bh9/bszp8LZwgTH8B/Xn7Pzbe//e3C7wV7Mj3y7WD6y/41dBFsS/PzxTN+pxZfmOB3gvD/4ReyzeQfaewgbFPAhXX18ftT1e77H7dv9Z/ibL+XqSY/oDsivlPf8bX33vSjcfha9IPQJ5nvf1M5Bn0QYbuwjYQLu5n954s6t9KFpV+nxxb+Jt394Refnx8pyRdS+U4c/iF47733IqntKD/W7AHqH89/3vPLE/kdXl1+7rvfuPUb9JvvbvQYwUPpcXisIdFE//vudx+kO53uLM993nPpcYp7+I/kMBIs0+MON5S/o8dZrqFx+7GPfqzeddLn54Z+f+qGZvIjSa/nH6Bvu+02urC9R3scpO0/2nDeu+iC5p133FlecPgL6NGZ+xDFuq3Pz3fd8LjjuvNdN7LY/mP7HN9A77X6b//j7+rFs4/RBaqDDuI76cb8H7r4InqM4/+s23s+vf/qjfQ4wbvoEZx8oZ7nF87F7/Wbm//wBd911531TtL169fXxxFeTXeVPIEedbgt6i/7jfX0/mte0BrY+vojY7RIANtYuLDbMP+DDz5EjyG8jeblB2goLdd3HB72rMPKU/Z96k5Zfz6G8CNf+fGVz372YeVPL9lAXVsLLV9Ac++68y6qyVI5f/355RH6w5Srr6Z++atPiP35cY7/n+f7f/A7D9IfPNxevyue95524AHlWc88LNzVHbc/0V+DAPsN20i4sNuw/8m8oonkA8Al+/3vP0YXUs+sd5Hz3eIX0x8O8Pyvy0T9f0h/XMJzHB9n+vlX21XgErX5bToM3UQ9J/L7HJm/O1/xxdF+ZfXN+lMFUA5YDWT/G8ZTjj+aQnE+FwZXG0o5/jZ3/mkDrtUP4w42xx8VZjz/lw5GRcr+1zrOaIb5KkjQwWAbCRc2+x8VJvsf946hP+XxL+efnH/bxDmaYbwECSZY2EbChc35lwqT8y/3jqE/beH8u4pfgeV/Y5CNoay0YabbQNZ+x6JuGbgu0Lm1dY1NED60NfmX6Mexk/7VSYV/j+FHFfIFLL9NfPRtld92DpmGU3mTTHwwH9qa/beNZ35UwNc0xCYIH8r6/3zjn3/0POecf1cv0L70JUfRHRjvQfllTPpiN8aHdqb6892FfKcdX2zm9+a9m+5G6X/j5xKcSo/l4/f08bx88mtOro/p47ivC/t+GbgWuO++++hdTP+2vPCIF9L7v+QOMLSrkqFhzLMz1V9OFbD3bT9z/+1g30rjS7Kl3//HL7+8XEvvbdzjSU8ql9JdifvSu978eYXfJqfhfvkmekfYkS88gu6wnOiX+Cy/hOcf9aN3O9y5JpkgfGhL6+/b2MZbEcn0/OWX/8fyN//1b8qee7Tvyz2C2Wu3VX7+ZDWPT9Y+rg9l/p/v+NtKOnz/Wf/sfzn+6BDlJ5ucf2oFfEly/s3595ft95+hE1PA9+k2zPP8gwqR8x8XAT1CrO8rOf/l/JfzHy6yDENFB44fMzXYBTrXJBOED+X4y/G3aPzpHVjj1M2R0JXIXzDTywa0jbSktb/vFZrZq2s+H4u973Hb0ESI2/BTAl950ivp09IjBOlRhfwuoLBs4/xcJ/lotP4F7H/mz/rvSP3vn+iux3XvfCc9EnSpvOPtbysvf/nLqYt2c0kdoP2A9r7Hi8f/jtz//+kfqRbr1pVNdJH97W97e3nFK17hpqblcs8995a19AhH/osEnss+8IE/KfIY0ce//488/FBZf/4F5Z577y5/umFDfbSilJm2tYvWP/efu9XKfv833XRTfQ8lP7r2vee/txx5xJELj38P0XsXL3j/BeXuu+4uf0b98pBDD61fC/d3Hru2eN/jGXkNi07XefyNJaUabdy4sV405Duuzj///Da/cPH6Gnvf41roUV7DWnk5C8r6D/Vf6fHXvo3wpei3kPXP+vsplXvJCs//2f98BXTk5fzHx5Ocf3L+yfnHTxA5/+bxh+aEflBwF5Fjh3UW73vcFBMhbEMoWuf8m/Nv39Vy/OX420nmn3oBy1/llAmQJ8jW6+tMqNNhnTkxHiwaI216NcNCnpwni0YMDShcZVuJ/PUOrFfSHViU9Rh+hCD9eL498/PehmU773/IzU7mlyJsp/6X9e8qQP3vS1+6vnzkox+l90UtlXXnrqNHe7b3JfE3s8Ljv8u+w/X/G770pXLZR6gW9KjTdevOrXeJYv674oq/LldedSXtAs1edPJ59VVX0WMfn1j9OoyFqbvIPi7V1oA7AebHRq6nH6cf/O5D9f1zx9E7zbbX/Cufxa1z/qFiUBF2wvnnqxu/Uv79By+kR3c+qbznvHeVZ9P764bFff/33Ev98n3ol28vxx1//C43/vv6bM/5b+NNG8uF9E7EX6fv67zz3k3vG3xO1n8XO/78Ivtfn5v97dn/M/9Ygaz/yv77c6iwO/4NHAWy/ll/nP/X88TaSdpvKtx32m0ytRuxW3lRzp3/N4mY7H9UByrCTnj+nd9/HSBhRIS+z072fylC9v+ha9Tukef/K/r7+1DkHH85/rbV8ZdOnuWP/d1JUoXcC3GmNPTIMVD7KJoEZzNaplm/gvmXNi2Xk+gOrGV6hOCx7RGC/lMMH2+F88sBk/fJZzWc+aUWWp6s/4r2/x21//E7qi688MLyCD0e74/orsiXvuSl0hF2we+fa/GhWovvlT+iR5y+5KVHlU2blsrpZ5xZHnrwwVqXVbutKlfRBaxf+zV6J9lmljCnkMPvFbruhuvKW9e+tRx++OGhddAyswvWn3c75x+uAi1b+f3f+JUby4UfvIju7DukvPs955V99tlHajp0MEnD69ovr7++nH322eW30S+3Mr9ttf0blQL1O12Qn9sM9C6S/8Yb6fuiOecZ9H29h76vp+zzFCnhLrL/srO77vef+2/dnVHO/61H5PjfJc6/27e9yx7/cv+lArvq+U9+//n9cwWy/0s/yPMfqcPW/vu3ta4m9KngeJXggebACv7+PXbw+Bkyv9Qj+3/rF7/E/W8VvQKLbzJ1S90bt2cMSdHCnmVG/BmSBbwQvUwD1F76iq0Mr+4Ssf7TknW8PL78fE3u/Pe9r949e/gLDq/vkdme+eUzu/V23n+XWWDm3679L+vfVcD1v0fp4tVFF11Ybrv99vKXn/502XPvJ+to186qka0b/1327T7/bGn+7z36SPngRR8q3/j618u/Oe208vdf/nL5+jf+D0+WbRPL5aijjirHH//ycvBBB5ffevpvYRrWFFwh/Ss8cSq3tGlTWSL1mtVrdtj95w/mjwqyU24n6t5y9PHN/7Idt6ZN5vzvK40ab339H3744XL66aeXY489ji5GvaXsvvuv1H6mQ9eVn79G1H8T9Ut6yC/1y91JsfX5sXnZk7Y/2C2QsC6/hCDcdfI/9MhD5YzTzyjHHXdcWcvf1xr6vrL+VAE7K419gz3uJ7zk/FNLYWWQstBaRlIbTxhWyjZAcYx/iUC464y/3H8/0vL7r3MKjR5flTg22OM68WIDD5WTeI4/qUerSl8cV6Qcf76noVDZ/3xVpLugNuwx5iXHXy2FlUHKQmupVquZL50qRJTjz/c0FCrHn6+KdBnUhj3GvFjH8ywz4rdoT7KAF4pn//OVRqGy//mqaGfh/lYXrhMv2f/aQIORstBaelLrT+hWyjZA8W01/ugRgku0+fYT6MwHmAn3H3PWD+3Z4QV9xJcgCEXG65mwCTaDQvvML9XK+rdeI72jrkNHsU41EzbBZlBozw4vu3D9+U6jm//XV8uLX/xiKoRUp65DoWqV6mombILNoNCeHV52kPpv2vSzcu21Xyh30yP/+I9w+C5/+Yj8wyqdYFCArseX5z3n2eV4fnfYViy8vbC7vI0QyPm/1igUygo9EzbBZlBozw4vO0H9b775q+XII18k+7NgvbPu/4JdDtSOsv8333xzfT9Z/XA7Qf8LRV7g7Cj1rx9xJxr/C0oeqKx/N91zdXL8tT4ivaOuQ0exLjQTNsFmUGjPDi9Zf6nDLn7+vav/+yP3X2aHug4TRRseZGbCJtgMCu3Z4SXnH6lDzj+1M9Q+EjpKKw+ZmbAJNoNCe3Z4yf4ndcj+VztD7SOho7TykJkJm2AzKLRnh5fsf1KH7H+1M9Q+EjpKKw+ZmXAV1HdgVbRIxb+gtl9Wp94JaKlGZJudutrr9CZ0wQYzf9Y/+18dyTn+3LFvnCmGiE0rOf+Mf23iymWFcsEGc/7N+Tfn35x/aY7I408ef/TfnuORYojYYSWPv3n87e92dN3FOooLNpjnH3n+kecfef6R5x95/kUnH3n+MR4i5yJ2WM3zrzz/yvOv2bnDBso4lPL8c4c9/5x4hKD/RwPj6a980fddL5mhG0w2b63JzP4gUjtN5s/6T3aghVdls/9h8M0N3xx/dVzl/JPzL00vkzNMHn9aYSark/Pv3NTKUy9Pr1gmy5fzb86/1DHy+JPHH+oG01MEdY5KTLI5/9L8Ol0ZInL+xdFnpkh5/KmFyfk351+aRCbnkTz/b4WZrE4ef/L4Mz1u+MiTx988/qICk9NHnn/k+Qd1jBU4/9JHCNb+1voV+h7bGLKOV2evSLpmQoCGVUEIOMdBaGOoeQjCQqxWCNCwHd1cxzoIbQw1D0FYiNUKARq2o5vrWAehjaHmIQgLsVohQMN2dHMd6yC0MdQ8BGEhVisEaNiObq5jHYQ2hpqHICzEaoUADdvRzXWsg9DGUPMQhIVYrRCgYTu6uY51ENoYah6CsBCrFQI0bEc317EOQhtDzUMQFmK1QoCG7ejmOtZBaGOoeQjCQqxWCNCwHd1cxzoIbQw1D0FYiNUKARq2o5vrWAehjaHmIQgLsVohQMN2dHMd6yC0MdQ8BGEhVisEaNiObq5jHYQ2hpqHICzEaoUADdvRzXWsg9DGUPMQhIVYrRCgYTu6uY51ENoYah6CsBCrFQI0bEc317EOQhtDzUMQFmK1QoCG7ejmOtZBaGOoeQjCQqxWCNCwHd1cxzoIbQw1D0FYiNUKARq2o5vrWAehjaHmIQgLsVohQMN2dHMd6yC0MdQ8BGEhVisEaNiObq5jHYQ2hpqHICzEaoUADdvRzXWsg9DGUPMQhIVYrRCgYTu6uY51ENoYah6CsBCrFQI0bEc317EOQhtDzUMQFmK1QoCG7ejmOtZBaGOoeQjCQqxWCNCwHd1cxzoIbQw1D0FYiNUKARq2o5vrWAehjaHmIQgLsVohQMN2dHMd6yC0MdQ8BGEhVisEaNiObq5jHYQ2hpqHICzEaoUADdvRzXWsg9DGUPMQhIVYrRCgYTu6uY51ENoYah6CsBCrFQI0bEc317EOQhtDzUMQFmK1QoCG7ejmOtZBaGOoeQjCQqxWCNCwHd1cxzoIbQw1D0FYiNUKARq2o5vrWAehjaHmIQgLsVohQMN2dHMd6yC0MdQ8BGEhVisEaNiObq5jHYQ2hpqHICzEaoUADdvRzXWsg9DGUPMQhIVYrRCgYTu6uY51ENoYah6CsBCrFQI0bEc317EOQhtDzUMQFmK1QoCG7ejmOtZBaGOoeQjCQqxWCNCwHd1cxzoIbQw1D0FYiNUKARq2o5vrWAehjaHmIQgLsVohQMN2dHMd6yC0MdQ8BGEhVisEaNiObq5jHYQ2hpqHICzEaoUADdvRzXWsg9DGUPMQhIVYrRCgYTu6uY51ENoYah6CsBCrFQI0bEc317EOQhtDzUMQFmK1QoCG7ejmOtZBaGOoeQjCQqxWCNCwHd1cxzoIbQw1D0FYiNUKARq2o5vrWAehjaHmIQgLsVohQMN2dHMd6yC0MdQ8BGEhVisEaNiObq5jHYQ2hpqHIFm7A8sF5y+ty2ZFigZIZXZk+oj5igBgbXMDEsm8cGT6iPmKAGCHrBYQybxwZPqI+YoAYC3dgEQyLxyZPmK+IgDYIasFRDIvHJk+Yr4iAFhLNyCRzAtHpo+YrwgAdshqAZHMC0emj5ivCADW0g1IJPPCkekj5isCgB2yWkAk88KR6SPmKwKAtXQDEsm8cGT6iPmKAGCHrBYQybxwZPqI+YoAYC3dgEQyLxyZPmK+IgDYIasFRDIvHJk+Yr4iAFhLNyCRzAtHpo+YrwgAdshqAZHMC0emj5ivCADW0g1IJPPCkekj5isCgB2yWkAk88KR6SPmKwKAtXQDEsm8cGT6iPmKAGCHrBYQybxwZPqI+YoAYC3dgEQyLxyZPmK+IgDYIasFRDIvHJk+Yr4iAFhLNyCRzAtHpo+YrwgAdshqAZHMC0emj5ivCADW0g1IJPPCkekj5isCgB2yWkAk88KR6SPmKwKAtXQDEsm8cGT6iPmKAGCHrBYQybxwZPqI+YoAYC3dgEQyLxyZPmK+IgDYIasFRDIvHJk+Yr4iAFhLNyCRzAtHpo+YrwgAdshqAZHMC0emj5ivCADW0g1IJPPCkekj5isCgB2yWkAk88KR6SPmKwKAtXQDEsm8cGT6iPmKAGCHrBYQybxwZPqI+YoAYC3dgEQyLxyZPmK+IgDYIasFRDIvHJk+Yr4iAFhLNyCRzAtHpo+YrwgAdshqAZHMC0emj5ivCADW0g1IJPPCkekj5isCgB2yWkAk88KR6SPmKwKAtXQDEsm8cGT6iPmKAGCHrBYQybxwZPqI+YoAYC3dgEQyLxyZPmK+IgDYIasFRDIvHJk+Yr4iAFhLNyCRzAtHpo+YrwgAdshqAZHMC0emj5ivCADW0g1IJPPCkekj5isCgB2yWkAk88KR6SPmKwKAtXQDEsm8cGT6iPmKAGCHrBYQybxwZPqI+YoAYC3dgEQyLxyZPmK+IgDYIasFRDIvHJk+Yr4iAFhLNyCRyNregaUybIEtL3wPIGE86w+0RN21LhCw3HZclK1APSdEjC0vmT/rT30h+58OBQw6jBQZJ/BgJdqvla1APSdDjC0vOf5y/FFfyPGnQyHHn8wMmCmiF6PC2VrZCtQzgd7zzRwvOf/k/EN9IecfHQo5/8jMEGcPeLCi6dfKVqCekyHGlpecf3L+ob6Q848OhZx/ZGbATBG9GBXO1spWoJ4J8vyHatHm3FqVnH9z/qVxkvOvDQseErTE2QMerGj6tbIVqOdkiLHlJcdfjj/qCzn+dCjk+Y/MDJgpohejwtla2QrUM4HOaszxspn5Z3mJHva7ampD0hzraQWisFCLXeZN88tX6UOFF+iRHONBPu90e7+1aQWisL4F5cj8Wf/sfzn+cv7J+ZcOhO28nw9HefyhYtR61EPn9PHTH02nFYjC+hZ5/M3zjzz/y/PfPP/nA07++yePv3n+0c4P6HQh//2f5195/ln/aU4dYfr82Z9NTysQhfUt8vw7z7/z/DvPv/P8O8+/d95/f9Q7sMLhTx0F8ag44UFZ33tJ4wVWpRBoIIJAq6Mgiic8KJEXVqUQaCCCQKujIIonPCiRF1alEGgggkCroyCKJzwokRdWpRBoIIJAq6Mgiic8KJEXVqUQaCCCQKujIIonPCiRF1alEGgggkCroyCKJzwokRdWpRBoIIJAq6Mgiic8KJEXVqUQaCCCQKujIIonPCiRF1alEGgggkCroyCKJzwokRdWpRBoIIJAq6Mgiic8KJEXVqUQaCCCQKujIIonPCiRF1alEGgggkCroyCKJzwokRdWpRBoIIJAq6Mgiic8KJEXVqUQaCCCQKujIIonPCiRF1alEGgggkCroyCKJzwokRdWpRBoIIJAq6Mgiic8KJEXVqUQaCCCQKujIIonPCiRF1alEGgggkCroyCKJzwokRdWpRBoIIJAq6Mgiic8KJEXVqUQaCCCQKujIIonPCiRF1alEGgggkCroyCKJzwokRdWpRBoIIJAq6Mgiic8KJEXVqUQaCCCQKujIIonPCiRF1alEGgggkCroyCKJzwokRdWpRBoIIJAq6Mgiic8KJEXVqUQaCCCQKujIIonPCiRF1alEGgggkCroyCKJzwokRdWpRBoIIJAq6Mgiic8KJEXVqUQaCCCQKujIIonPCiRF1alEGgggkCroyCKJzwokRdWpRBoIIJAq6Mgiic8KJEXVqUQaCCCQKujIIonPCiRF1alEGgggkCroyCKJzwokRdWpRBoIIJAq6Mgiic8KJEXVqUQaCCCQKujIIonPCiRF1alEGgggkCroyCKJzwokRdWpRBoIIJAq6Mgiic8KJEXVqUQaCCCQKujIIonPCiRF1alEGgggkCroyCKJzwokRdWpRBoIIJAq6Mgiic8KJEXVqUQaCCCQKujIIonPCiRF1alEGgggkCroyCKJzwokRdWpRBoIIJAq6Mgiic8KJEXVqUQaCCCQKujIIonPCiRF1alEGgggkCroyCKJzwokRdWpRBoIIJAq6Mgiic8KJEXVqUQaCCCQKujIIonPCiRF1alEGgggkCroyCKJzwokRdWpRBoIIJAq6Mgiic8KJEXVqUQaCCCQKujIIonPCiRF1alEGgggkCroyCKJzwokRdWpRBoIIJAq6Mgiic8KJEXVqUQaCCCQKujIIo7b3iEoDSLjUNs+HTdFgfXtlURrfSvrwYtXyvlv0yyNiwJscxPBdK/5ZuoYB+yWlZEq6x/++u3vlR9X2t89j83JnP85fjL+Wdi5pgL5fyL2TaPP1SJPP7m+Qedvs2dwYVzjTz/qBUINcnzjzz/yPOPuZONibiMHiYqolX++y/n3zz+TAwVjJH8/YkqYT0kj79cjTaP5vlHnn/k+cf05DkZbeMGc2uef+T51wr++7e7gGWdDfM1Lh+hbzqF3mlVY56AWO1CUlUhlzZRUHXew7GkxjzhtihwIenUTqdQQeanCvhqZP3lWF5r4gvjepTAhaRTO51CBVXnvax/1p/PpWqf8B3D9ajsf1yBhcVx1XI6hQqqzns5/nL85fjL+afOCX5icDOKwIWkUzudQgU5/1AFfDVy/s35N+ffnH/rnOAnBjejClxIOrXTKVRQdd7L+Sfnn5x/cv6pc4KfGNyMkvMPV2BhcVy1nE6hgqrzXs6/Of/m/LuLz7/0nFieE3QJEwRF7e8wVNKAKL2+V3i/V1d/orEPeey3JVjYxRpr1aurP9HYhzy2LQEJu1gDLaZwU1dkrgp9yGMVKBB2sUbF7RBi6orMVaEPeawCBcIu1qg481Mp9K94CNe6TRTPhzy2SgIJu1gDbfa/vlrVnyieD3lslQQSdrEG2qx/X63qTxTPhzy2SgIJu1gDbda/r1b1J4rnQx5bJYGEXayBNuvfV6v6E8XzIY+tkkDCLtZAm/Xvq1X9ieL5kMdWSSBhF2ugzfr31ar+RPF8yGOrJJCwizXQZv37alV/ong+5LFVEkjYxRpos/59tao/UTwf8tgqCSTsYg20Wf++WtWfKJ4PeWyVBBJ2sQbarH9frepPFM+HPLZKAgm7WANt1r+vVvUniudDHlslgYRdrIE2699Xq/oTxfMhj62SQMIu1kCb9e+rVf2J4vmQx1ZJIGEXa6DN+vfVqv5E8XzIY6skkLCLNdBm/ftqVX+ieD7ksVUSSNjFGmi3Xf31Dqz5D4IXgDmFQgX2SSuaizMJDlaaRk9iYOQFyE6hUIFvQHguzjJwsNI0ehIDk/n5BcyuQgoV+IIRnouzDBysNI2exMBk/bP+2f/cCFGowA8YwnNxloGDlabRkxiYHH85/nL8uRGiUIEfMITn4iwDBytNoycxMDn+cvzl+HMjRKECP2AIz8VZBg5WmkZPYmBy/OX4y/HnRohCBX7AEJ6LswwcrDSNnsTA5PjL8Zfjz40QhQr8gCE8F2cZOFhpGj2Jgcnxl+Mvx58bIQoV+AFDeC7OMnCw0jR6EgOT4y/HX44/N0IU0shYXl4i191n5cgQ92OqYZVWHxe6pkhStgdv47ZP21zcio5vAybtUGyZ+WWiy/rXCoTOkf0vx588eDXnH5rV3XRvJ1T9vBEGUDfzihsVOf/m/Msnmn0/Yj/n35x/c/7lwZHHnzz+5PEXB4l2bLCjhjsdiWcXvgVwVOT5R55/5PlHnn+12SFMDnn+meefef6Z5595/p3//sh/f+xU//6wRwiGIz795ITTYUP4h4Pa2GQ2DJlYv9YmBKCSmGU15NUVxyZK92H4Yv1amxCASmKW1ZBXVxybKN2H4Yv1a21CACqJWVZDXl1xbKJ0H4Yv1q+1CQGoJGZZDXl1xbGJ0n0Yvli/1iYEoJKYZTXk1RXHJkr3Yfhi/VqbEIBKYpbVkFdXHJso3Yfhi/VrbUIAKolZVkNeXXFsonQfhi/Wr7UJAagkZlkNeXXFsYnSfRi+WL/WJgSgkphlNeTVFccmSvdh+GL9WpsQgEpiltWQV1ccmyjdh+GL9WttQgAqiVlWQ15dcWyidB+GL9avtQkBqCRmWQ15dcWxidJ9GL5Yv9YmBKCSmGU15NUVxyZK92H4Yv1amxCASmKW1ZBXVxybKN2H4Yv1a21CACqJWVZDXl1xbKJ0H4Yv1q+1CQGoJGZZDXl1xbGJ0n0Yvli/1iYEoJKYZTXk1RXHJkr3Yfhi/VqbEIBKYpbVkFdXHJso3Yfhi/VrbUIAKolZVkNeXXFsonQfhi/Wr7UJAagkZlkNeXXFsYnSfRi+WL/WJgSgkphlNeTVFccmSvdh+GL9WpsQgEpiltWQV1ccmyjdh+GL9WttQgAqiVlWQ15dcWyidB+GL9avtQkBqCRmWQ15dcWxidJ9GL5Yv9YmBKCSmGU15NUVxyZK92H4Yv1amxCASmKW1ZBXVxybKN2H4Yv1a21CACqJWVZDXl1xbKJ0H4Yv1q+1CQGoJGZZDXl1xbGJ0n0Yvli/1iYEoJKYZTXk1RXHJkr3Yfhi/VqbEIBKYpbVkFdXHJso3Yfhi/VrbUIAKolZVkNeXXFsonQfhi/Wr7UJAagkZlkNeXXFsYnSfRi+WL/WJgSgkphlNeTVFccmSvdh+GL9WpsQgEpiltWQV1ccmyjdh+GL9WttQgAqiVlWQ15dcWyidB+GL9avtQkBqCRmWQ15dcWxidJ9GL5Yv9YmBKCSmGU15NUVxyZK92H4Yv1amxCASmKW1ZBXVxybKN2H4Yv1a21CACqJWVZDXl1xbKJ0H4Yv1q+1CQGoJGZZDXl1xbGJ0n0Yvli/1iYEoJKYZTXk1RXHJkr3Yfhi/VqbEIBKYpbVkFdXHJso3Yfhi/VrbUIAKolZVkNeXXFsonQfhi/Wr7UJAagkZlkNeXXFsYnSfRi+WL/WJgSgkphlNeTVFccmSvdh+GL9WpsQgEpiltWQV1ccmyjdh+GL9WttQgAqiVlWQ15dcWyidB+GL9avtQkBqCRmWQ15dcWxidJ9GL5Yv9YmBKCSmGU15NUVxyZK92H4Yv1amxCASmKW1ZBXVxybKN2H4Yv1a21CACqJWVZDXl1xbKJ0H4Yv1q+1CQGoJGZZDXl1xbGJ0n0Yvli/1iYEoJKYZTXk1RVTk/oIQVyVDVK3PZ+yYsfVxNXnPy+lzeqfAHEKCrQ7r2rCmVXml6vCWX9cNJWug74k3cqtQz/jPkZ6fZuf72TMyV/e+GiPs/+hfFl//RtO18cEurXjZI7L/pfjL49/efznecAfXWiiyONPVxNfH8F5/M3jr5y+5flHnn+0CdSdY7kzLznEOC7Pv/gYw8edPP/I8w/uB/74yn2DAiHmecF5/MXwyeNPHn/aYHHHGIFu7bg8/lAxaj2obqEuPLcwl/NPzr/jMcdH8viTx5+t/fff/wcu7QR8D1otcgAAAABJRU5ErkJggg==)"
      ],
      "metadata": {
        "id": "F9fvmmQ0PvF3"
      }
    },
    {
      "cell_type": "code",
      "source": [
        "config.save_pretrained('/content/drive/MyDrive/Feedback Prize - Predicting Effective Arguments/config/')"
      ],
      "metadata": {
        "id": "4NTSr8RYM0Tj"
      },
      "execution_count": 49,
      "outputs": []
    },
    {
      "cell_type": "code",
      "source": [
        "def loss_fn(y_pred,y_true,num_classes):\n",
        "  # y_pred is parsed to already log softmax function\n",
        "\n",
        "  target=torch.nn.functional.one_hot(y_true,num_classes=num_classes)\n",
        "  # min_val=torch.Tensor([1-1e-15]).to(torch.float64)\n",
        "  # max_val=torch.Tensor([1e-15]).to(torch.float64)\n",
        "  # probs=torch.where(y_pred>min_val,min_val,y_pred)\n",
        "  # probs=torch.where(y_pred>max_val,y_pred,max_val)\n",
        "  \n",
        "  loss=-torch.sum(torch.sum(target*y_pred,dim=-1),dim=-1)/len(target)\n",
        "  return loss"
      ],
      "metadata": {
        "execution": {
          "iopub.status.busy": "2022-06-05T14:56:36.623807Z",
          "iopub.execute_input": "2022-06-05T14:56:36.624147Z",
          "iopub.status.idle": "2022-06-05T14:56:36.629063Z",
          "shell.execute_reply.started": "2022-06-05T14:56:36.624118Z",
          "shell.execute_reply": "2022-06-05T14:56:36.627639Z"
        },
        "trusted": true,
        "id": "NvcR2iBQtuiS"
      },
      "execution_count": 50,
      "outputs": []
    },
    {
      "cell_type": "code",
      "source": [
        "def run_train(model,optimizer,dataloader,lr_scheduler=None):\n",
        "  model.train(True)\n",
        "\n",
        "  loop = tqdm(dataloader)\n",
        "  loss=0\n",
        "  true=[]\n",
        "  pred=[]\n",
        "  for batch in dataloader:\n",
        "    optimizer.zero_grad()\n",
        "    inputs=batch['inputs']\n",
        "    inputs.update({\"labels\":batch['labels']})\n",
        "    labels=batch['labels']\n",
        "    true+=labels.tolist()\n",
        "\n",
        "    logits=model(**inputs)\n",
        "    probs=torch.nn.functional.log_softmax(logits,dim=-1)\n",
        "\n",
        "    _loss=loss_fn(probs, labels,num_classes=num_labels)\n",
        "    _loss.backward()\n",
        "    loss+=_loss.item()\n",
        "\n",
        "    _pred=torch.argmax(probs,dim=-1).tolist()\n",
        "    pred+=_pred\n",
        "    \n",
        "    optimizer.step()\n",
        "    if lr_scheduler!=None:\n",
        "      lr_scheduler.step()\n",
        "    loop.set_postfix({f'train_loss_per_batch':_loss.item()})\n",
        "    loop.update()      \n",
        "  acc=accuracy_score(true,pred)\n",
        "  return loss/len(dataloader),acc"
      ],
      "metadata": {
        "execution": {
          "iopub.status.busy": "2022-06-05T14:56:36.969570Z",
          "iopub.execute_input": "2022-06-05T14:56:36.969897Z",
          "iopub.status.idle": "2022-06-05T14:56:36.980726Z",
          "shell.execute_reply.started": "2022-06-05T14:56:36.969870Z",
          "shell.execute_reply": "2022-06-05T14:56:36.979980Z"
        },
        "trusted": true,
        "id": "J8njP4P4tuiS"
      },
      "execution_count": 51,
      "outputs": []
    },
    {
      "cell_type": "code",
      "source": [
        "def run_valid(model,dataloader):\n",
        "  model.eval()\n",
        "  loss=0\n",
        "  pred=[]\n",
        "  true=[]\n",
        "  with torch.no_grad():\n",
        "    for batch in dataloader:\n",
        "      inputs=batch['inputs']\n",
        "      inputs.update({\"labels\":batch['labels']})\n",
        "      labels=batch['labels']\n",
        "      true+=labels.tolist()\n",
        "\n",
        "      logits=model(**inputs)\n",
        "      probs=torch.nn.functional.log_softmax(logits,dim=-1)\n",
        "\n",
        "      _loss=loss_fn(probs, labels,num_classes=num_labels)\n",
        "      loss+=_loss.item()\n",
        "\n",
        "      _pred=torch.argmax(probs,dim=-1).tolist()\n",
        "      pred+=_pred\n",
        "      \n",
        "  acc=accuracy_score(true,pred)\n",
        "\n",
        "  return loss/len(dataloader),acc"
      ],
      "metadata": {
        "execution": {
          "iopub.status.busy": "2022-06-05T14:56:37.314092Z",
          "iopub.execute_input": "2022-06-05T14:56:37.314929Z",
          "iopub.status.idle": "2022-06-05T14:56:37.322920Z",
          "shell.execute_reply.started": "2022-06-05T14:56:37.314888Z",
          "shell.execute_reply": "2022-06-05T14:56:37.322045Z"
        },
        "trusted": true,
        "id": "-gOpG14FtuiT"
      },
      "execution_count": 52,
      "outputs": []
    },
    {
      "cell_type": "code",
      "source": [
        "from os.path import join\n",
        "import os"
      ],
      "metadata": {
        "execution": {
          "iopub.status.busy": "2022-06-05T14:56:38.346056Z",
          "iopub.execute_input": "2022-06-05T14:56:38.346890Z",
          "iopub.status.idle": "2022-06-05T14:56:38.351700Z",
          "shell.execute_reply.started": "2022-06-05T14:56:38.346845Z",
          "shell.execute_reply": "2022-06-05T14:56:38.349897Z"
        },
        "trusted": true,
        "id": "ASzr7T7WtuiT"
      },
      "execution_count": 53,
      "outputs": []
    },
    {
      "cell_type": "code",
      "source": [
        "def save_model(epoch,model,optimizer,scheduler,training_loss,valid_loss,train_acc,valid_acc,path,step=None):\n",
        "  torch.save({\n",
        "          'epoch': epoch,\n",
        "          'model_state_dict': model,\n",
        "          'optimizer_state_dict': optimizer,\n",
        "          'scheduler_state_dict': scheduler,\n",
        "          'training_loss': training_loss,\n",
        "          'valid_loss': valid_loss,\n",
        "          'train_acc': train_acc,\n",
        "          'valid_acc': valid_acc,\n",
        "          'step':step\n",
        "          }, join(path,'ckpt.pt'))"
      ],
      "metadata": {
        "execution": {
          "iopub.status.busy": "2022-06-05T14:56:38.704133Z",
          "iopub.execute_input": "2022-06-05T14:56:38.704470Z",
          "iopub.status.idle": "2022-06-05T14:56:38.709627Z",
          "shell.execute_reply.started": "2022-06-05T14:56:38.704439Z",
          "shell.execute_reply": "2022-06-05T14:56:38.708842Z"
        },
        "trusted": true,
        "id": "nym2dnUftuiT"
      },
      "execution_count": 54,
      "outputs": []
    },
    {
      "cell_type": "code",
      "source": [
        "gc.collect()"
      ],
      "metadata": {
        "execution": {
          "iopub.status.busy": "2022-06-05T14:56:39.305481Z",
          "iopub.execute_input": "2022-06-05T14:56:39.306246Z",
          "iopub.status.idle": "2022-06-05T14:56:39.496156Z",
          "shell.execute_reply.started": "2022-06-05T14:56:39.306199Z",
          "shell.execute_reply": "2022-06-05T14:56:39.495351Z"
        },
        "trusted": true,
        "colab": {
          "base_uri": "https://localhost:8080/"
        },
        "id": "2dlGsWWPtuiU",
        "outputId": "d187dd93-3d73-42fd-9b60-3267a037071a"
      },
      "execution_count": 55,
      "outputs": [
        {
          "output_type": "execute_result",
          "data": {
            "text/plain": [
              "26822"
            ]
          },
          "metadata": {},
          "execution_count": 55
        }
      ]
    },
    {
      "cell_type": "code",
      "source": [
        "X=train[['norm_discourse_text','discourse_type']]\n",
        "Y=train['discourse_effectiveness']"
      ],
      "metadata": {
        "execution": {
          "iopub.status.busy": "2022-06-05T14:56:39.881053Z",
          "iopub.execute_input": "2022-06-05T14:56:39.881802Z",
          "iopub.status.idle": "2022-06-05T14:56:39.889692Z",
          "shell.execute_reply.started": "2022-06-05T14:56:39.881769Z",
          "shell.execute_reply": "2022-06-05T14:56:39.887632Z"
        },
        "trusted": true,
        "id": "zWE9vLvqtuiU"
      },
      "execution_count": 56,
      "outputs": []
    },
    {
      "cell_type": "code",
      "source": [
        "model_directory=join('/content/drive/MyDrive/Feedback Prize - Predicting Effective Arguments/models')\n",
        "model_directory"
      ],
      "metadata": {
        "execution": {
          "iopub.status.busy": "2022-06-05T14:56:40.845566Z",
          "iopub.execute_input": "2022-06-05T14:56:40.846340Z",
          "iopub.status.idle": "2022-06-05T14:56:40.851496Z",
          "shell.execute_reply.started": "2022-06-05T14:56:40.846288Z",
          "shell.execute_reply": "2022-06-05T14:56:40.850703Z"
        },
        "trusted": true,
        "colab": {
          "base_uri": "https://localhost:8080/",
          "height": 37
        },
        "id": "591I1N6ntuiU",
        "outputId": "e5cf7729-49a9-43ed-e8b4-48e2391411d0"
      },
      "execution_count": 57,
      "outputs": [
        {
          "output_type": "execute_result",
          "data": {
            "text/plain": [
              "'/content/drive/MyDrive/Feedback Prize - Predicting Effective Arguments/models'"
            ],
            "application/vnd.google.colaboratory.intrinsic+json": {
              "type": "string"
            }
          },
          "metadata": {},
          "execution_count": 57
        }
      ]
    },
    {
      "cell_type": "code",
      "source": [
        "os.makedirs(model_directory,exist_ok=True)"
      ],
      "metadata": {
        "execution": {
          "iopub.status.busy": "2022-06-05T14:56:42.109181Z",
          "iopub.execute_input": "2022-06-05T14:56:42.109842Z",
          "iopub.status.idle": "2022-06-05T14:56:42.115486Z",
          "shell.execute_reply.started": "2022-06-05T14:56:42.109803Z",
          "shell.execute_reply": "2022-06-05T14:56:42.114574Z"
        },
        "trusted": true,
        "id": "nYt_hB9ltuiU"
      },
      "execution_count": 58,
      "outputs": []
    },
    {
      "cell_type": "code",
      "source": [
        "k=5\n",
        "train_batch_size=8\n",
        "valid_batch_size=8\n",
        "max_length=256\n",
        "splits = list(StratifiedKFold(n_splits=k, shuffle=True, random_state=123).split(X,Y))\n",
        "for fold, (train_idx, valid_idx) in enumerate(splits):\n",
        "  \n",
        "  model_fold_directory=f'{model_directory}/model_{str(fold)}'\n",
        "  os.makedirs(model_fold_directory,exist_ok=True)\n",
        "\n",
        "  train_x=X.iloc[train_idx]\n",
        "  train_y=Y.iloc[train_idx]\n",
        "  sub_train=pd.concat([train_x,train_y],axis=1)\n",
        "  sub_train.to_csv(f'{model_fold_directory}/train.csv',index=False)\n",
        "  valid_x=X.iloc[valid_idx]\n",
        "  valid_y=Y.iloc[valid_idx]\n",
        "  sub_valid=pd.concat([valid_x,valid_y],axis=1)\n",
        "  sub_valid.to_csv(f'{model_fold_directory}/valid.csv',index=False)\n",
        "\n",
        "  train_dataloader=create_dataloader(tokenizer=tokenizer,list_sentences_0=train_x['norm_discourse_text'].tolist(),\n",
        "                                     list_sentences_1=train_x['discourse_type'].tolist(),\n",
        "                                     list_labels=train_y.tolist(),\n",
        "                                     max_length=max_length,batch_size=train_batch_size,device=device)\n",
        "  \n",
        "  valid_dataloader=create_dataloader(tokenizer=tokenizer,list_sentences_0=valid_x['norm_discourse_text'].tolist(),\n",
        "                                     list_sentences_1=valid_x['discourse_type'].tolist(),\n",
        "                                     list_labels=valid_y.tolist(),\n",
        "                                     max_length=max_length,batch_size=valid_batch_size,device=device)\n",
        "  init_lr=1e-5\n",
        "  eps=1e-8\n",
        "  epochs=4\n",
        "  num_training_steps=epochs*len(train_dataloader)\n",
        "  num_warmup_steps=200\n",
        "  model=DebertaModel4LastLayersForClassification.from_pretrained(name,config=config).to(device)\n",
        "\n",
        "  optimizer=torch.optim.AdamW(model.parameters(),lr=init_lr,weight_decay =0.01,eps=eps)\n",
        "  lr_scheduler=get_linear_schedule_with_warmup(optimizer,num_warmup_steps=num_warmup_steps,num_training_steps=num_training_steps,)\n",
        "\n",
        "\n",
        "  best_acc=0\n",
        "  for epoch in range(epochs):\n",
        "\n",
        "    train_loss,train_acc=run_train(model,optimizer,train_dataloader,lr_scheduler)\n",
        "    \n",
        "    valid_loss,valid_acc=run_valid(model,valid_dataloader)\n",
        "\n",
        "    \n",
        "    print(f'epoch: {epoch} train_loss: {train_loss} valid_loss: {valid_loss} train_acc: {train_acc} valid_acc: {valid_acc}')\n",
        "    if best_acc<valid_acc:\n",
        "      \n",
        "      save_model(epoch,model.state_dict(),optimizer.state_dict(),lr_scheduler,train_loss,valid_loss,train_acc,valid_acc,model_fold_directory)\n",
        "      best_acc=valid_acc\n",
        "  \n",
        "  del model\n",
        "  gc.collect()\n",
        "  \n"
      ],
      "metadata": {
        "colab": {
          "base_uri": "https://localhost:8080/",
          "height": 250,
          "referenced_widgets": [
            "d2da7a3c8ab248ffa9b12e680782d09b",
            "1e62d86b20f14c3db5def8133caafbe3",
            "4e5326afb6c44fb7b2f890d193c4af45",
            "dfcb0f4234ef473ca0f01e8eafaebe55",
            "9d4870216ff146cba8c66722d76d9747",
            "105656361f34408c892dabc550b707ff",
            "7bcfcc75720341a9896976600c7f659f",
            "4bf7ce015b57429591d90ee1a79cc453",
            "f21328188ada410ba526ea40c3755e85",
            "c56758cbecb341e08d804a490eb5dd09",
            "c4c1dec4224a4c559c987922ae733b34",
            "4646f978766b463a96e54cb3068ab02c",
            "1a952918a7234b0d8c1ae6dcc8f41f2c",
            "0de8e3df13ed465591644f62e54e7882",
            "16c0275a69c449e883a9123b5dc8c53f",
            "9703d27cf7c74537a5cff5409699c980",
            "75fb888d109449e0bc2d74e8dcee09b5",
            "3427a6e832b447e59d1d0b9f0fabaab6",
            "48cc51b2a7a24bcebad0560db1859f03",
            "3ece90952acb4320893c6d7c0c84874c",
            "312ea470b6b24108afbcb1bf669b483e",
            "48ef01823ff640e1aeb5eb02513c216a",
            "bf6e6dd1d18e43ef835a81971d53dd72",
            "36988a42383a457c878a8fe534781b82",
            "0ab1949d0c35466f9e94353442ae9689",
            "57a2fdd3fba4461fbbf4b212fbaa80c5",
            "3f3652fca4aa42b3828ad0a47c5b3d0a",
            "c6e7acd14e96418bbe30b06b0c02f384",
            "655e83a6659a4481aa6df4b614eddde5",
            "a4253855983a40e790e805c6803423f3",
            "22674cce5ffc4ce6937c55be82d4746e",
            "1666dab832304db7a9ce484e7be6d134",
            "f3670e65c3ba46d6a428428695526454",
            "e1fab3126d5c4e5f836786359c8fed8f",
            "ef77a9d888a148579a92f64f56fac4aa",
            "672d3060d42e45a1bb8edfe75af765bf",
            "16a8dfe7268740c0ad338afa47d1edad",
            "6b5eac403796467e8291de5ff8fe69a3",
            "bd7a6b5b125a41b785ef58894417b080",
            "97c046cefa424d67a847b6517929f349",
            "ac83b27d82874622b53cac94056ff242",
            "b0a9cbe570a641e59273843b8ac070bf",
            "62d82143113443feacde5a0d75b919b8",
            "8a41bebc30c34cdbb4a5a75af5712c52"
          ]
        },
        "id": "uHP3VRS7eFun",
        "outputId": "a3444b75-f5a2-404d-c3ca-5c28a098790e"
      },
      "execution_count": null,
      "outputs": [
        {
          "output_type": "display_data",
          "data": {
            "text/plain": [
              "  0%|          | 0/29278 [00:00<?, ?it/s]"
            ],
            "application/vnd.jupyter.widget-view+json": {
              "version_major": 2,
              "version_minor": 0,
              "model_id": "d2da7a3c8ab248ffa9b12e680782d09b"
            }
          },
          "metadata": {}
        },
        {
          "output_type": "display_data",
          "data": {
            "text/plain": [
              "  0%|          | 0/7320 [00:00<?, ?it/s]"
            ],
            "application/vnd.jupyter.widget-view+json": {
              "version_major": 2,
              "version_minor": 0,
              "model_id": "4646f978766b463a96e54cb3068ab02c"
            }
          },
          "metadata": {}
        },
        {
          "output_type": "display_data",
          "data": {
            "text/plain": [
              "Downloading:   0%|          | 0.00/354M [00:00<?, ?B/s]"
            ],
            "application/vnd.jupyter.widget-view+json": {
              "version_major": 2,
              "version_minor": 0,
              "model_id": "bf6e6dd1d18e43ef835a81971d53dd72"
            }
          },
          "metadata": {}
        },
        {
          "output_type": "stream",
          "name": "stderr",
          "text": [
            "Some weights of the model checkpoint at microsoft/deberta-v3-base were not used when initializing DebertaModel4LastLayersForClassification: ['deberta.encoder.layer.0.output.LayerNorm.weight', 'deberta.encoder.layer.4.attention.self.query_proj.bias', 'deberta.encoder.layer.5.attention.self.key_proj.weight', 'deberta.encoder.layer.0.attention.self.query_proj.bias', 'deberta.encoder.layer.2.attention.self.value_proj.bias', 'deberta.encoder.layer.3.attention.self.query_proj.weight', 'deberta.encoder.layer.5.output.dense.weight', 'lm_predictions.lm_head.bias', 'deberta.encoder.layer.5.attention.output.dense.bias', 'deberta.encoder.layer.1.attention.self.value_proj.weight', 'deberta.encoder.layer.2.attention.output.dense.bias', 'deberta.encoder.layer.2.output.LayerNorm.weight', 'deberta.encoder.layer.2.intermediate.dense.bias', 'deberta.encoder.layer.5.intermediate.dense.weight', 'deberta.encoder.layer.4.attention.self.value_proj.weight', 'deberta.encoder.layer.3.attention.self.value_proj.bias', 'deberta.encoder.layer.10.attention.self.key_proj.weight', 'deberta.encoder.layer.1.attention.self.key_proj.weight', 'deberta.encoder.layer.2.attention.output.LayerNorm.weight', 'deberta.encoder.layer.0.intermediate.dense.bias', 'deberta.encoder.layer.4.attention.output.dense.bias', 'lm_predictions.lm_head.LayerNorm.bias', 'deberta.encoder.layer.4.output.dense.weight', 'deberta.encoder.layer.3.output.dense.weight', 'deberta.encoder.layer.4.attention.self.value_proj.bias', 'deberta.encoder.layer.3.output.dense.bias', 'deberta.encoder.layer.5.attention.self.query_proj.bias', 'deberta.encoder.layer.8.attention.self.query_proj.weight', 'deberta.encoder.layer.11.attention.output.dense.weight', 'deberta.encoder.layer.11.attention.output.dense.bias', 'deberta.encoder.layer.4.attention.output.dense.weight', 'deberta.encoder.layer.3.attention.self.key_proj.weight', 'deberta.encoder.layer.6.intermediate.dense.weight', 'deberta.encoder.LayerNorm.weight', 'deberta.encoder.layer.9.attention.self.value_proj.weight', 'deberta.encoder.layer.11.attention.self.key_proj.bias', 'deberta.encoder.layer.10.output.LayerNorm.weight', 'lm_predictions.lm_head.dense.weight', 'deberta.embeddings.LayerNorm.bias', 'deberta.encoder.layer.1.attention.output.dense.bias', 'deberta.encoder.layer.0.attention.self.key_proj.bias', 'deberta.encoder.layer.5.attention.self.value_proj.weight', 'deberta.encoder.layer.1.output.dense.weight', 'deberta.encoder.layer.10.attention.self.value_proj.bias', 'deberta.encoder.layer.2.intermediate.dense.weight', 'deberta.encoder.layer.11.output.dense.bias', 'deberta.encoder.layer.6.attention.output.LayerNorm.bias', 'deberta.encoder.layer.2.output.LayerNorm.bias', 'deberta.encoder.layer.0.attention.self.key_proj.weight', 'deberta.encoder.layer.11.attention.output.LayerNorm.weight', 'deberta.encoder.layer.8.intermediate.dense.weight', 'deberta.encoder.layer.8.output.dense.weight', 'deberta.encoder.layer.11.attention.output.LayerNorm.bias', 'deberta.encoder.layer.9.attention.self.query_proj.bias', 'deberta.encoder.layer.7.attention.self.query_proj.bias', 'deberta.encoder.layer.8.attention.self.key_proj.bias', 'deberta.encoder.layer.10.output.LayerNorm.bias', 'deberta.encoder.layer.1.output.LayerNorm.bias', 'deberta.encoder.layer.3.attention.output.LayerNorm.bias', 'deberta.encoder.layer.9.attention.output.dense.weight', 'deberta.encoder.layer.10.output.dense.bias', 'deberta.encoder.layer.6.attention.self.value_proj.weight', 'deberta.encoder.layer.10.attention.output.LayerNorm.weight', 'deberta.encoder.LayerNorm.bias', 'deberta.encoder.layer.3.attention.self.query_proj.bias', 'deberta.encoder.layer.7.attention.self.query_proj.weight', 'deberta.encoder.layer.6.attention.self.value_proj.bias', 'deberta.encoder.layer.9.output.LayerNorm.bias', 'deberta.encoder.layer.0.attention.self.value_proj.weight', 'deberta.encoder.layer.11.attention.self.query_proj.bias', 'deberta.encoder.layer.3.attention.output.LayerNorm.weight', 'deberta.encoder.layer.5.attention.output.LayerNorm.weight', 'deberta.encoder.layer.11.attention.self.value_proj.bias', 'deberta.encoder.layer.2.attention.output.LayerNorm.bias', 'deberta.encoder.layer.0.attention.self.query_proj.weight', 'deberta.encoder.layer.2.attention.self.query_proj.weight', 'deberta.embeddings.LayerNorm.weight', 'deberta.encoder.layer.10.attention.output.LayerNorm.bias', 'deberta.encoder.layer.2.attention.output.dense.weight', 'deberta.encoder.layer.9.attention.self.query_proj.weight', 'deberta.encoder.layer.8.output.LayerNorm.weight', 'deberta.encoder.layer.2.output.dense.bias', 'deberta.encoder.layer.0.output.LayerNorm.bias', 'deberta.encoder.rel_embeddings.weight', 'deberta.encoder.layer.5.intermediate.dense.bias', 'deberta.encoder.layer.11.output.LayerNorm.bias', 'lm_predictions.lm_head.dense.bias', 'deberta.encoder.layer.7.attention.self.key_proj.bias', 'deberta.encoder.layer.1.attention.self.query_proj.bias', 'deberta.encoder.layer.9.attention.output.dense.bias', 'deberta.encoder.layer.10.attention.self.query_proj.bias', 'deberta.encoder.layer.5.attention.self.query_proj.weight', 'deberta.encoder.layer.10.attention.self.key_proj.bias', 'deberta.encoder.layer.9.output.LayerNorm.weight', 'deberta.encoder.layer.5.attention.self.value_proj.bias', 'deberta.encoder.layer.8.output.dense.bias', 'deberta.encoder.layer.2.output.dense.weight', 'deberta.encoder.layer.11.attention.self.key_proj.weight', 'deberta.encoder.layer.9.output.dense.bias', 'deberta.encoder.layer.6.attention.output.dense.bias', 'deberta.encoder.layer.10.attention.self.value_proj.weight', 'deberta.encoder.layer.9.attention.self.key_proj.bias', 'deberta.encoder.layer.4.output.LayerNorm.weight', 'deberta.encoder.layer.6.attention.self.key_proj.bias', 'deberta.encoder.layer.4.output.dense.bias', 'deberta.encoder.layer.0.attention.output.LayerNorm.bias', 'deberta.encoder.layer.9.attention.output.LayerNorm.weight', 'deberta.encoder.layer.0.output.dense.bias', 'deberta.encoder.layer.2.attention.self.query_proj.bias', 'deberta.encoder.layer.5.output.LayerNorm.bias', 'deberta.encoder.layer.7.output.dense.bias', 'deberta.encoder.layer.1.attention.self.query_proj.weight', 'deberta.encoder.layer.7.attention.output.dense.bias', 'deberta.encoder.layer.11.attention.self.value_proj.weight', 'deberta.encoder.layer.0.intermediate.dense.weight', 'deberta.encoder.layer.0.attention.output.dense.weight', 'deberta.encoder.layer.6.attention.output.LayerNorm.weight', 'mask_predictions.LayerNorm.weight', 'deberta.encoder.layer.8.attention.output.dense.bias', 'deberta.encoder.layer.1.attention.self.key_proj.bias', 'deberta.encoder.layer.6.output.LayerNorm.weight', 'deberta.encoder.layer.5.output.dense.bias', 'deberta.encoder.layer.6.attention.self.key_proj.weight', 'deberta.encoder.layer.1.intermediate.dense.bias', 'deberta.encoder.layer.7.intermediate.dense.weight', 'deberta.encoder.layer.2.attention.self.value_proj.weight', 'deberta.encoder.layer.8.attention.self.query_proj.bias', 'deberta.encoder.layer.7.intermediate.dense.bias', 'deberta.encoder.layer.4.attention.output.LayerNorm.bias', 'deberta.encoder.layer.7.attention.self.key_proj.weight', 'deberta.encoder.layer.4.attention.self.key_proj.bias', 'deberta.encoder.layer.10.intermediate.dense.bias', 'deberta.encoder.layer.6.attention.self.query_proj.bias', 'deberta.encoder.layer.1.intermediate.dense.weight', 'deberta.encoder.layer.1.output.LayerNorm.weight', 'deberta.encoder.layer.4.intermediate.dense.weight', 'deberta.encoder.layer.7.output.LayerNorm.weight', 'deberta.encoder.layer.8.intermediate.dense.bias', 'deberta.encoder.layer.11.attention.self.query_proj.weight', 'deberta.encoder.layer.6.output.dense.weight', 'deberta.encoder.layer.1.attention.output.dense.weight', 'deberta.encoder.layer.9.attention.output.LayerNorm.bias', 'deberta.encoder.layer.0.output.dense.weight', 'deberta.encoder.layer.2.attention.self.key_proj.weight', 'deberta.encoder.layer.8.attention.output.LayerNorm.bias', 'deberta.encoder.layer.7.output.dense.weight', 'deberta.encoder.layer.10.output.dense.weight', 'deberta.encoder.layer.6.output.LayerNorm.bias', 'deberta.encoder.layer.8.attention.self.value_proj.bias', 'deberta.encoder.layer.11.output.dense.weight', 'deberta.encoder.layer.3.intermediate.dense.bias', 'mask_predictions.LayerNorm.bias', 'deberta.encoder.layer.4.attention.output.LayerNorm.weight', 'deberta.encoder.layer.8.attention.output.LayerNorm.weight', 'deberta.encoder.layer.5.output.LayerNorm.weight', 'deberta.encoder.layer.9.attention.self.key_proj.weight', 'deberta.encoder.layer.10.attention.self.query_proj.weight', 'deberta.encoder.layer.11.output.LayerNorm.weight', 'deberta.encoder.layer.0.attention.output.dense.bias', 'deberta.encoder.layer.7.attention.self.value_proj.weight', 'deberta.encoder.layer.4.intermediate.dense.bias', 'deberta.encoder.layer.8.attention.self.key_proj.weight', 'deberta.encoder.layer.9.output.dense.weight', 'lm_predictions.lm_head.LayerNorm.weight', 'deberta.encoder.layer.3.attention.self.key_proj.bias', 'mask_predictions.dense.bias', 'deberta.encoder.layer.1.output.dense.bias', 'deberta.encoder.layer.4.attention.self.key_proj.weight', 'deberta.encoder.layer.3.attention.output.dense.bias', 'mask_predictions.classifier.weight', 'deberta.encoder.layer.11.intermediate.dense.bias', 'deberta.encoder.layer.1.attention.self.value_proj.bias', 'deberta.encoder.layer.7.attention.output.dense.weight', 'deberta.encoder.layer.7.attention.output.LayerNorm.bias', 'deberta.encoder.layer.8.attention.output.dense.weight', 'deberta.embeddings.word_embeddings.weight', 'deberta.encoder.layer.6.intermediate.dense.bias', 'deberta.encoder.layer.7.attention.self.value_proj.bias', 'deberta.encoder.layer.0.attention.self.value_proj.bias', 'deberta.encoder.layer.3.intermediate.dense.weight', 'deberta.encoder.layer.5.attention.output.LayerNorm.bias', 'deberta.encoder.layer.8.attention.self.value_proj.weight', 'deberta.encoder.layer.9.attention.self.value_proj.bias', 'deberta.encoder.layer.4.output.LayerNorm.bias', 'mask_predictions.classifier.bias', 'deberta.encoder.layer.9.intermediate.dense.weight', 'deberta.encoder.layer.2.attention.self.key_proj.bias', 'deberta.encoder.layer.1.attention.output.LayerNorm.weight', 'deberta.encoder.layer.4.attention.self.query_proj.weight', 'deberta.encoder.layer.6.output.dense.bias', 'deberta.encoder.layer.10.attention.output.dense.weight', 'deberta.encoder.layer.8.output.LayerNorm.bias', 'deberta.encoder.layer.10.intermediate.dense.weight', 'deberta.encoder.layer.6.attention.output.dense.weight', 'deberta.encoder.layer.6.attention.self.query_proj.weight', 'deberta.encoder.layer.7.output.LayerNorm.bias', 'deberta.encoder.layer.11.intermediate.dense.weight', 'deberta.encoder.layer.0.attention.output.LayerNorm.weight', 'deberta.encoder.layer.7.attention.output.LayerNorm.weight', 'deberta.encoder.layer.5.attention.output.dense.weight', 'deberta.encoder.layer.1.attention.output.LayerNorm.bias', 'deberta.encoder.layer.10.attention.output.dense.bias', 'deberta.encoder.layer.5.attention.self.key_proj.bias', 'deberta.encoder.layer.3.output.LayerNorm.bias', 'deberta.encoder.layer.3.attention.output.dense.weight', 'deberta.encoder.layer.9.intermediate.dense.bias', 'deberta.encoder.layer.3.output.LayerNorm.weight', 'mask_predictions.dense.weight', 'deberta.encoder.layer.3.attention.self.value_proj.weight']\n",
            "- This IS expected if you are initializing DebertaModel4LastLayersForClassification from the checkpoint of a model trained on another task or with another architecture (e.g. initializing a BertForSequenceClassification model from a BertForPreTraining model).\n",
            "- This IS NOT expected if you are initializing DebertaModel4LastLayersForClassification from the checkpoint of a model that you expect to be exactly identical (initializing a BertForSequenceClassification model from a BertForSequenceClassification model).\n",
            "Some weights of DebertaModel4LastLayersForClassification were not initialized from the model checkpoint at microsoft/deberta-v3-base and are newly initialized: ['deberta.rembert.encoder.layer.5.attention.self.q_bias', 'deberta.rembert.encoder.layer.4.output.dense.weight', 'deberta.rembert.encoder.layer.3.output.dense.bias', 'deberta.rembert.encoder.layer.6.output.LayerNorm.bias', 'deberta.rembert.encoder.layer.10.output.LayerNorm.bias', 'deberta.rembert.encoder.layer.6.attention.self.pos_q_proj.bias', 'deberta.rembert.encoder.layer.2.attention.output.dense.bias', 'deberta.rembert.encoder.layer.7.attention.output.LayerNorm.bias', 'deberta.rembert.encoder.layer.6.attention.output.LayerNorm.bias', 'deberta.rembert.encoder.layer.9.attention.self.q_bias', 'deberta.rembert.encoder.layer.4.attention.self.pos_q_proj.bias', 'deberta.rembert.encoder.layer.0.attention.self.v_bias', 'deberta.rembert.encoder.layer.5.output.dense.bias', 'deberta.rembert.encoder.layer.8.attention.output.LayerNorm.weight', 'deberta.rembert.encoder.layer.2.attention.self.pos_q_proj.weight', 'deberta.classifier.weight', 'deberta.rembert.encoder.layer.4.output.LayerNorm.bias', 'deberta.rembert.encoder.layer.5.attention.output.dense.weight', 'deberta.rembert.encoder.layer.8.attention.output.LayerNorm.bias', 'deberta.rembert.encoder.layer.4.attention.output.dense.weight', 'deberta.rembert.encoder.layer.9.output.dense.bias', 'deberta.rembert.encoder.layer.0.attention.self.pos_q_proj.weight', 'deberta.rembert.encoder.layer.3.attention.output.dense.weight', 'deberta.rembert.encoder.layer.4.attention.self.q_bias', 'deberta.rembert.encoder.layer.1.attention.self.q_bias', 'deberta.rembert.encoder.layer.3.attention.self.pos_q_proj.weight', 'deberta.rembert.embeddings.LayerNorm.bias', 'deberta.rembert.encoder.layer.1.attention.self.pos_proj.weight', 'deberta.rembert.encoder.layer.1.attention.self.pos_q_proj.weight', 'deberta.rembert.encoder.layer.0.attention.self.pos_proj.weight', 'deberta.rembert.encoder.layer.6.intermediate.dense.weight', 'deberta.rembert.encoder.layer.4.intermediate.dense.bias', 'deberta.rembert.encoder.layer.6.attention.self.v_bias', 'deberta.rembert.encoder.layer.7.attention.self.in_proj.weight', 'deberta.rembert.encoder.layer.9.attention.self.in_proj.weight', 'deberta.rembert.encoder.layer.9.output.LayerNorm.bias', 'deberta.rembert.encoder.layer.1.attention.output.dense.weight', 'deberta.rembert.encoder.layer.5.output.LayerNorm.bias', 'deberta.rembert.encoder.layer.3.intermediate.dense.bias', 'deberta.rembert.encoder.layer.8.intermediate.dense.weight', 'deberta.rembert.encoder.layer.10.attention.self.pos_q_proj.bias', 'deberta.rembert.encoder.layer.6.intermediate.dense.bias', 'deberta.rembert.encoder.layer.7.intermediate.dense.weight', 'deberta.rembert.encoder.layer.2.output.dense.weight', 'deberta.rembert.encoder.layer.4.intermediate.dense.weight', 'deberta.rembert.encoder.layer.11.attention.output.dense.bias', 'deberta.rembert.encoder.layer.0.output.LayerNorm.bias', 'deberta.rembert.encoder.layer.0.attention.output.dense.weight', 'deberta.rembert.encoder.layer.2.attention.self.pos_q_proj.bias', 'deberta.rembert.encoder.layer.7.intermediate.dense.bias', 'deberta.rembert.encoder.layer.8.attention.self.pos_q_proj.bias', 'deberta.rembert.encoder.layer.10.output.dense.weight', 'deberta.rembert.encoder.layer.11.attention.output.dense.weight', 'deberta.rembert.encoder.layer.11.output.LayerNorm.weight', 'deberta.rembert.encoder.layer.0.output.dense.weight', 'deberta.rembert.encoder.layer.5.intermediate.dense.bias', 'deberta.classifier.bias', 'deberta.rembert.encoder.layer.9.attention.output.LayerNorm.weight', 'deberta.rembert.encoder.layer.11.attention.self.in_proj.weight', 'deberta.rembert.encoder.layer.2.intermediate.dense.bias', 'deberta.rembert.encoder.layer.4.attention.self.pos_proj.weight', 'deberta.rembert.encoder.layer.8.output.LayerNorm.weight', 'deberta.rembert.encoder.layer.11.output.dense.weight', 'deberta.rembert.encoder.layer.2.attention.output.dense.weight', 'deberta.rembert.encoder.layer.5.attention.output.LayerNorm.weight', 'deberta.rembert.encoder.layer.8.attention.self.q_bias', 'deberta.rembert.encoder.layer.0.intermediate.dense.weight', 'deberta.rembert.encoder.layer.11.attention.output.LayerNorm.bias', 'deberta.rembert.encoder.layer.6.attention.self.q_bias', 'deberta.rembert.encoder.layer.7.output.LayerNorm.bias', 'deberta.rembert.encoder.layer.11.attention.self.pos_q_proj.bias', 'deberta.rembert.encoder.layer.8.attention.output.dense.bias', 'deberta.rembert.encoder.layer.7.attention.self.q_bias', 'deberta.rembert.encoder.layer.11.attention.self.pos_proj.weight', 'deberta.rembert.encoder.layer.11.attention.self.pos_q_proj.weight', 'deberta.rembert.encoder.layer.4.output.dense.bias', 'deberta.rembert.encoder.layer.8.attention.self.pos_proj.weight', 'deberta.rembert.encoder.layer.9.intermediate.dense.bias', 'deberta.rembert.encoder.layer.7.output.LayerNorm.weight', 'deberta.rembert.encoder.layer.9.attention.output.LayerNorm.bias', 'deberta.rembert.encoder.layer.11.output.LayerNorm.bias', 'deberta.rembert.encoder.layer.3.output.dense.weight', 'deberta.rembert.encoder.layer.8.attention.output.dense.weight', 'deberta.rembert.encoder.layer.9.attention.self.pos_proj.weight', 'deberta.rembert.encoder.layer.1.attention.output.LayerNorm.weight', 'deberta.rembert.encoder.layer.5.attention.self.in_proj.weight', 'deberta.rembert.encoder.layer.0.attention.output.LayerNorm.bias', 'deberta.rembert.encoder.layer.6.attention.self.pos_proj.weight', 'deberta.rembert.encoder.layer.10.attention.self.v_bias', 'deberta.rembert.encoder.layer.7.output.dense.weight', 'deberta.rembert.encoder.layer.1.attention.output.dense.bias', 'deberta.rembert.encoder.layer.3.attention.self.pos_proj.weight', 'deberta.rembert.encoder.layer.7.attention.output.dense.weight', 'deberta.rembert.encoder.layer.0.attention.self.pos_q_proj.bias', 'deberta.rembert.encoder.layer.3.attention.self.v_bias', 'deberta.rembert.encoder.layer.5.output.dense.weight', 'deberta.rembert.encoder.layer.5.attention.self.v_bias', 'deberta.rembert.encoder.rel_embeddings.weight', 'deberta.rembert.encoder.layer.1.attention.self.in_proj.weight', 'deberta.rembert.encoder.layer.7.attention.self.pos_q_proj.bias', 'deberta.rembert.encoder.layer.7.output.dense.bias', 'deberta.rembert.encoder.layer.0.attention.self.in_proj.weight', 'deberta.rembert.encoder.layer.4.attention.self.v_bias', 'deberta.rembert.encoder.layer.6.attention.self.in_proj.weight', 'deberta.rembert.encoder.layer.9.intermediate.dense.weight', 'deberta.rembert.encoder.layer.10.attention.output.dense.bias', 'deberta.rembert.encoder.layer.2.output.dense.bias', 'deberta.rembert.encoder.layer.10.intermediate.dense.weight', 'deberta.rembert.encoder.layer.2.attention.output.LayerNorm.bias', 'deberta.rembert.encoder.layer.4.attention.output.LayerNorm.weight', 'deberta.rembert.encoder.layer.10.output.dense.bias', 'deberta.rembert.encoder.layer.6.output.dense.weight', 'deberta.rembert.embeddings.LayerNorm.weight', 'deberta.rembert.encoder.layer.7.attention.self.pos_proj.weight', 'deberta.rembert.encoder.layer.1.output.LayerNorm.weight', 'deberta.rembert.encoder.layer.9.attention.self.v_bias', 'deberta.rembert.encoder.layer.3.attention.output.LayerNorm.bias', 'deberta.rembert.encoder.layer.1.output.dense.bias', 'deberta.rembert.encoder.layer.9.output.dense.weight', 'deberta.rembert.encoder.layer.6.attention.output.dense.weight', 'deberta.rembert.encoder.layer.11.intermediate.dense.weight', 'deberta.rembert.encoder.layer.10.intermediate.dense.bias', 'deberta.rembert.encoder.layer.11.attention.self.q_bias', 'deberta.rembert.encoder.layer.2.attention.self.in_proj.weight', 'deberta.rembert.encoder.layer.9.attention.output.dense.weight', 'deberta.rembert.encoder.layer.1.attention.self.pos_q_proj.bias', 'deberta.rembert.encoder.layer.4.attention.output.dense.bias', 'deberta.rembert.encoder.layer.7.attention.output.dense.bias', 'deberta.rembert.encoder.layer.4.attention.self.in_proj.weight', 'deberta.rembert.encoder.layer.6.output.LayerNorm.weight', 'deberta.rembert.encoder.layer.1.intermediate.dense.weight', 'deberta.rembert.encoder.layer.7.attention.self.pos_q_proj.weight', 'deberta.rembert.encoder.layer.2.attention.output.LayerNorm.weight', 'deberta.rembert.encoder.layer.8.attention.self.v_bias', 'deberta.rembert.encoder.layer.2.output.LayerNorm.weight', 'deberta.rembert.encoder.layer.6.attention.output.LayerNorm.weight', 'deberta.rembert.encoder.layer.10.attention.output.LayerNorm.weight', 'deberta.rembert.encoder.layer.9.attention.self.pos_q_proj.bias', 'deberta.rembert.encoder.layer.5.attention.self.pos_q_proj.bias', 'deberta.rembert.encoder.layer.6.attention.self.pos_q_proj.weight', 'deberta.rembert.encoder.layer.2.attention.self.q_bias', 'deberta.rembert.encoder.layer.4.attention.self.pos_q_proj.weight', 'deberta.rembert.encoder.layer.11.attention.self.v_bias', 'deberta.rembert.encoder.layer.3.intermediate.dense.weight', 'deberta.rembert.encoder.layer.8.output.LayerNorm.bias', 'deberta.rembert.encoder.layer.10.attention.self.q_bias', 'deberta.rembert.encoder.layer.11.attention.output.LayerNorm.weight', 'deberta.rembert.encoder.layer.2.intermediate.dense.weight', 'deberta.rembert.encoder.layer.10.attention.output.LayerNorm.bias', 'deberta.rembert.encoder.layer.9.attention.self.pos_q_proj.weight', 'deberta.rembert.encoder.layer.10.attention.self.in_proj.weight', 'deberta.rembert.encoder.layer.3.output.LayerNorm.weight', 'deberta.rembert.encoder.layer.3.attention.output.LayerNorm.weight', 'deberta.rembert.encoder.layer.3.output.LayerNorm.bias', 'deberta.rembert.encoder.layer.10.attention.self.pos_q_proj.weight', 'deberta.rembert.encoder.layer.1.output.dense.weight', 'deberta.rembert.encoder.layer.7.attention.self.v_bias', 'deberta.rembert.encoder.layer.10.attention.output.dense.weight', 'deberta.rembert.encoder.layer.8.intermediate.dense.bias', 'deberta.rembert.encoder.layer.2.output.LayerNorm.bias', 'deberta.rembert.encoder.layer.8.attention.self.in_proj.weight', 'deberta.rembert.encoder.layer.11.intermediate.dense.bias', 'deberta.rembert.encoder.layer.3.attention.self.q_bias', 'deberta.rembert.encoder.layer.3.attention.output.dense.bias', 'deberta.rembert.encoder.layer.6.output.dense.bias', 'deberta.rembert.encoder.layer.0.intermediate.dense.bias', 'deberta.rembert.encoder.layer.11.output.dense.bias', 'deberta.rembert.encoder.layer.0.attention.self.q_bias', 'deberta.rembert.encoder.layer.1.output.LayerNorm.bias', 'deberta.rembert.encoder.layer.0.output.dense.bias', 'deberta.rembert.encoder.layer.9.attention.output.dense.bias', 'deberta.rembert.encoder.layer.1.attention.self.v_bias', 'deberta.rembert.encoder.layer.5.attention.self.pos_proj.weight', 'deberta.rembert.encoder.layer.0.attention.output.dense.bias', 'deberta.rembert.encoder.layer.5.intermediate.dense.weight', 'deberta.rembert.encoder.layer.1.attention.output.LayerNorm.bias', 'deberta.rembert.encoder.layer.7.attention.output.LayerNorm.weight', 'deberta.rembert.encoder.layer.4.attention.output.LayerNorm.bias', 'deberta.rembert.encoder.layer.10.output.LayerNorm.weight', 'deberta.rembert.encoder.layer.0.attention.output.LayerNorm.weight', 'deberta.rembert.encoder.layer.5.attention.output.dense.bias', 'deberta.rembert.encoder.layer.5.attention.output.LayerNorm.bias', 'deberta.rembert.encoder.layer.2.attention.self.v_bias', 'deberta.rembert.encoder.layer.3.attention.self.in_proj.weight', 'deberta.rembert.encoder.layer.5.attention.self.pos_q_proj.weight', 'deberta.rembert.encoder.layer.9.output.LayerNorm.weight', 'deberta.rembert.encoder.layer.2.attention.self.pos_proj.weight', 'deberta.rembert.encoder.layer.8.attention.self.pos_q_proj.weight', 'deberta.rembert.embeddings.word_embeddings.weight', 'deberta.rembert.encoder.layer.6.attention.output.dense.bias', 'deberta.rembert.encoder.layer.10.attention.self.pos_proj.weight', 'deberta.rembert.encoder.layer.5.output.LayerNorm.weight', 'deberta.rembert.encoder.layer.3.attention.self.pos_q_proj.bias', 'deberta.rembert.encoder.layer.4.output.LayerNorm.weight', 'deberta.rembert.encoder.layer.0.output.LayerNorm.weight', 'deberta.rembert.encoder.layer.8.output.dense.bias', 'deberta.rembert.encoder.layer.1.intermediate.dense.bias', 'deberta.rembert.encoder.layer.8.output.dense.weight']\n",
            "You should probably TRAIN this model on a down-stream task to be able to use it for predictions and inference.\n"
          ]
        },
        {
          "output_type": "display_data",
          "data": {
            "text/plain": [
              "  0%|          | 0/3679 [00:00<?, ?it/s]"
            ],
            "application/vnd.jupyter.widget-view+json": {
              "version_major": 2,
              "version_minor": 0,
              "model_id": "e1fab3126d5c4e5f836786359c8fed8f"
            }
          },
          "metadata": {}
        }
      ]
    },
    {
      "cell_type": "markdown",
      "source": [
        "## Phrase 3: Submission"
      ],
      "metadata": {
        "id": "pjm9tmEkpuBw"
      }
    },
    {
      "cell_type": "code",
      "source": [
        "test=pd.read_csv('/kaggle/input/feedback-prize-effectiveness/test.csv')\n",
        "test"
      ],
      "metadata": {
        "execution": {
          "iopub.status.busy": "2022-06-05T15:35:36.425198Z",
          "iopub.execute_input": "2022-06-05T15:35:36.426174Z",
          "iopub.status.idle": "2022-06-05T15:35:36.453097Z",
          "shell.execute_reply.started": "2022-06-05T15:35:36.426136Z",
          "shell.execute_reply": "2022-06-05T15:35:36.452212Z"
        },
        "trusted": true,
        "id": "pgzy-IhftuiV"
      },
      "execution_count": null,
      "outputs": []
    },
    {
      "cell_type": "code",
      "source": [
        "torch.Tensor([1-1e-15]).to(torch.float32)"
      ],
      "metadata": {
        "colab": {
          "base_uri": "https://localhost:8080/"
        },
        "id": "GRzsbZA0Y4-X",
        "outputId": "d89ba42a-0bf5-48b9-b505-da09b9e0cf0f"
      },
      "execution_count": null,
      "outputs": [
        {
          "output_type": "execute_result",
          "data": {
            "text/plain": [
              "tensor([1.])"
            ]
          },
          "metadata": {},
          "execution_count": 44
        }
      ]
    },
    {
      "cell_type": "code",
      "source": [
        "test=test[['discourse_id','discourse_text','discourse_type']]\n",
        "test"
      ],
      "metadata": {
        "execution": {
          "iopub.status.busy": "2022-06-05T15:35:36.454299Z",
          "iopub.execute_input": "2022-06-05T15:35:36.454675Z",
          "iopub.status.idle": "2022-06-05T15:35:40.727253Z",
          "shell.execute_reply.started": "2022-06-05T15:35:36.454639Z",
          "shell.execute_reply": "2022-06-05T15:35:40.726342Z"
        },
        "trusted": true,
        "id": "Xmtgwj9CtuiW"
      },
      "execution_count": null,
      "outputs": []
    },
    {
      "cell_type": "code",
      "source": [
        "model=DebertaModel4LastLayersForClassification.from_pretrained(name,config=config).to(device)"
      ],
      "metadata": {
        "execution": {
          "iopub.status.busy": "2022-06-05T15:35:44.737682Z",
          "iopub.execute_input": "2022-06-05T15:35:44.738092Z",
          "iopub.status.idle": "2022-06-05T15:35:50.793427Z",
          "shell.execute_reply.started": "2022-06-05T15:35:44.738058Z",
          "shell.execute_reply": "2022-06-05T15:35:50.792530Z"
        },
        "trusted": true,
        "id": "kBj5BEX8tuiW"
      },
      "execution_count": null,
      "outputs": []
    },
    {
      "cell_type": "code",
      "source": [
        "checkpoint = torch.load(f'{model_fold_directory}/ckpt.pt',map_location=device)"
      ],
      "metadata": {
        "execution": {
          "iopub.status.busy": "2022-06-05T15:36:00.671757Z",
          "iopub.execute_input": "2022-06-05T15:36:00.672148Z",
          "iopub.status.idle": "2022-06-05T15:36:02.869119Z",
          "shell.execute_reply.started": "2022-06-05T15:36:00.672114Z",
          "shell.execute_reply": "2022-06-05T15:36:02.868230Z"
        },
        "trusted": true,
        "id": "v54al0JItuiW"
      },
      "execution_count": null,
      "outputs": []
    },
    {
      "cell_type": "code",
      "source": [
        "checkpoint['valid_loss']"
      ],
      "metadata": {
        "execution": {
          "iopub.status.busy": "2022-06-05T15:36:10.644672Z",
          "iopub.execute_input": "2022-06-05T15:36:10.645027Z",
          "iopub.status.idle": "2022-06-05T15:36:10.650405Z",
          "shell.execute_reply.started": "2022-06-05T15:36:10.644996Z",
          "shell.execute_reply": "2022-06-05T15:36:10.649514Z"
        },
        "trusted": true,
        "id": "dm3nRoXFtuiW"
      },
      "execution_count": null,
      "outputs": []
    },
    {
      "cell_type": "code",
      "source": [
        "model.load_state_dict(checkpoint['model_state_dict'])"
      ],
      "metadata": {
        "execution": {
          "iopub.status.busy": "2022-06-05T15:36:20.758796Z",
          "iopub.execute_input": "2022-06-05T15:36:20.759569Z",
          "iopub.status.idle": "2022-06-05T15:36:20.784374Z",
          "shell.execute_reply.started": "2022-06-05T15:36:20.759534Z",
          "shell.execute_reply": "2022-06-05T15:36:20.783606Z"
        },
        "trusted": true,
        "id": "i1rlndUYtuiW"
      },
      "execution_count": null,
      "outputs": []
    },
    {
      "cell_type": "code",
      "source": [
        "def predict(discourse_texts,discourse_types,max_length,return_tensors='pt',device='cpu',normalizer=None):\n",
        "  model.to(device)\n",
        "  model.eval()\n",
        "  y_pred=[]\n",
        "  with torch.no_grad():\n",
        "    loop = tqdm(range(len(discourse_texts)))\n",
        "    for idx,sample in enumerate(zip(discourse_texts,discourse_types)):\n",
        "      if normalizer!=None:\n",
        "        discourse_text=normalizer(sample[0])\n",
        "      discourse_type=sample[1]\n",
        "      token_ids_0=tokenizer.encode(discourse_text,add_special_tokens=False)\n",
        "      token_ids_1=tokenizer.encode(discourse_type,add_special_tokens=False)\n",
        "      input_ids,attention_mask,token_type_ids=create_input(tokenizer,token_ids_0,token_ids_1,max_length=max_length,padding=False)\n",
        "      inputs= {\n",
        "        'input_ids':torch.Tensor(input_ids).to(torch.long).to(device),\n",
        "        'attention_mask':torch.Tensor(attention_mask).to(torch.int).to(device),\n",
        "        'token_type_ids':torch.Tensor(token_type_ids).to(torch.int).to(device)\n",
        "      }\n",
        "      logits=model(**inputs)\n",
        "\n",
        "      logits=torch.sum(logits,dim=0,keepdim=True)\n",
        "\n",
        "      probs=torch.nn.functional.softmax(logits,dim=-1)\n",
        "      y_pred.append(probs)\n",
        "      loop.update()\n",
        "  return torch.concat(y_pred,dim=0)"
      ],
      "metadata": {
        "execution": {
          "iopub.status.busy": "2022-06-05T15:36:23.557900Z",
          "iopub.execute_input": "2022-06-05T15:36:23.558279Z",
          "iopub.status.idle": "2022-06-05T15:36:23.570680Z",
          "shell.execute_reply.started": "2022-06-05T15:36:23.558245Z",
          "shell.execute_reply": "2022-06-05T15:36:23.569514Z"
        },
        "trusted": true,
        "id": "mOXIQ78ctuiW"
      },
      "execution_count": null,
      "outputs": []
    },
    {
      "cell_type": "code",
      "source": [
        "y_pred=predict(test['discourse_text'].tolist(),test['discourse_type'].tolist(),max_length,device='cpu',normalizer=normalizer)"
      ],
      "metadata": {
        "execution": {
          "iopub.status.busy": "2022-06-05T15:36:24.532722Z",
          "iopub.execute_input": "2022-06-05T15:36:24.534633Z",
          "iopub.status.idle": "2022-06-05T15:36:27.444937Z",
          "shell.execute_reply.started": "2022-06-05T15:36:24.534590Z",
          "shell.execute_reply": "2022-06-05T15:36:27.443913Z"
        },
        "trusted": true,
        "id": "yywmfkDetuiW"
      },
      "execution_count": null,
      "outputs": []
    },
    {
      "cell_type": "code",
      "source": [
        "ids=test['discourse_id']"
      ],
      "metadata": {
        "execution": {
          "iopub.status.busy": "2022-06-05T15:36:37.735585Z",
          "iopub.execute_input": "2022-06-05T15:36:37.735943Z",
          "iopub.status.idle": "2022-06-05T15:36:37.740420Z",
          "shell.execute_reply.started": "2022-06-05T15:36:37.735905Z",
          "shell.execute_reply": "2022-06-05T15:36:37.739260Z"
        },
        "trusted": true,
        "id": "-3YFM8eytuiW"
      },
      "execution_count": null,
      "outputs": []
    },
    {
      "cell_type": "code",
      "source": [
        "pred=pd.DataFrame(y_pred.tolist(),columns=discourse_effectivenesses)"
      ],
      "metadata": {
        "execution": {
          "iopub.status.busy": "2022-06-05T15:36:37.980465Z",
          "iopub.execute_input": "2022-06-05T15:36:37.980853Z",
          "iopub.status.idle": "2022-06-05T15:36:37.986609Z",
          "shell.execute_reply.started": "2022-06-05T15:36:37.980819Z",
          "shell.execute_reply": "2022-06-05T15:36:37.985480Z"
        },
        "trusted": true,
        "id": "yEn3uMLjtuiW"
      },
      "execution_count": null,
      "outputs": []
    },
    {
      "cell_type": "code",
      "source": [
        "submit=pd.concat([ids,pred],axis=1)\n",
        "submit"
      ],
      "metadata": {
        "execution": {
          "iopub.status.busy": "2022-06-05T15:36:47.541105Z",
          "iopub.execute_input": "2022-06-05T15:36:47.541520Z",
          "iopub.status.idle": "2022-06-05T15:36:47.557753Z",
          "shell.execute_reply.started": "2022-06-05T15:36:47.541485Z",
          "shell.execute_reply": "2022-06-05T15:36:47.556583Z"
        },
        "trusted": true,
        "id": "LOZ-uqlWtuiW"
      },
      "execution_count": null,
      "outputs": []
    },
    {
      "cell_type": "code",
      "source": [
        "open('submission.csv','r').read()"
      ],
      "metadata": {
        "execution": {
          "iopub.status.busy": "2022-06-05T15:43:03.461252Z",
          "iopub.execute_input": "2022-06-05T15:43:03.461931Z",
          "iopub.status.idle": "2022-06-05T15:43:03.468268Z",
          "shell.execute_reply.started": "2022-06-05T15:43:03.461895Z",
          "shell.execute_reply": "2022-06-05T15:43:03.467520Z"
        },
        "trusted": true,
        "id": "IA0A8r-ZtuiX"
      },
      "execution_count": null,
      "outputs": []
    },
    {
      "cell_type": "code",
      "source": [
        "sub=pd.read_csv(\"/kaggle/input/feedback-prize-effectiveness/sample_submission.csv\")\n",
        "sub"
      ],
      "metadata": {
        "execution": {
          "iopub.status.busy": "2022-06-05T15:37:05.242490Z",
          "iopub.execute_input": "2022-06-05T15:37:05.243069Z",
          "iopub.status.idle": "2022-06-05T15:37:05.291476Z",
          "shell.execute_reply.started": "2022-06-05T15:37:05.243012Z",
          "shell.execute_reply": "2022-06-05T15:37:05.286914Z"
        },
        "trusted": true,
        "id": "r6QvjBp0tuiX"
      },
      "execution_count": null,
      "outputs": []
    },
    {
      "cell_type": "code",
      "source": [
        "submit.to_csv('submission.csv', index=False)"
      ],
      "metadata": {
        "execution": {
          "iopub.status.busy": "2022-06-05T15:36:52.938424Z",
          "iopub.execute_input": "2022-06-05T15:36:52.939304Z",
          "iopub.status.idle": "2022-06-05T15:36:52.949537Z",
          "shell.execute_reply.started": "2022-06-05T15:36:52.939251Z",
          "shell.execute_reply": "2022-06-05T15:36:52.948350Z"
        },
        "trusted": true,
        "id": "7m_n7XsQtuiX"
      },
      "execution_count": null,
      "outputs": []
    },
    {
      "cell_type": "markdown",
      "source": [
        "## For crash GPU case"
      ],
      "metadata": {
        "id": "MXV0JXtPp2Z1"
      }
    },
    {
      "cell_type": "code",
      "source": [
        "# from sklearn.model_selection import train_test_split\n",
        "# train_x,valid_x,train_y,valid_y=train_test_split(X,Y,train_size=0.9,random_state=123,shuffle=True)\n",
        "\n",
        "# max_length=256\n",
        "# train_batch_size=8\n",
        "# valid_batch_size=8\n",
        "\n",
        "# model_fold_directory=f'{model_directory}/model'\n",
        "# os.makedirs(model_fold_directory,exist_ok=True)\n",
        "\n",
        "\n",
        "# train_dataloader=create_dataloader(tokenizer=tokenizer,list_sentences_0=train_x['norm_discourse_text'].tolist(),\n",
        "#                                  list_sentences_1=train_x['discourse_type'].tolist(),\n",
        "#                                  list_labels=train_y.tolist(),\n",
        "#                                  max_length=max_length,batch_size=train_batch_size,device=device)\n",
        "\n",
        "# valid_dataloader=create_dataloader(tokenizer=tokenizer,list_sentences_0=valid_x['norm_discourse_text'].tolist(),\n",
        "#                                  list_sentences_1=valid_x['discourse_type'].tolist(),\n",
        "#                                  list_labels=valid_y.tolist(),\n",
        "#                                  max_length=max_length,batch_size=valid_batch_size,device=device)\n",
        "\n",
        "# model=DebertaModel4LastLayersForClassification.from_pretrained(name,config=config).to(device)"
      ],
      "metadata": {
        "id": "vOl7IxsUpGx1"
      },
      "execution_count": null,
      "outputs": []
    },
    {
      "cell_type": "code",
      "source": [
        "# init_lr=1e-5\n",
        "# eps=1e-8\n",
        "# epochs=4\n",
        "# num_training_steps=epochs*len(train_dataloader)\n",
        "# num_warmup_steps=200\n",
        "# optimizer=torch.optim.AdamW(model.parameters(),lr=init_lr,weight_decay =0.01,eps=eps)\n",
        "\n",
        "# lr_scheduler=get_linear_schedule_with_warmup(optimizer,num_warmup_steps=num_warmup_steps,num_training_steps=num_training_steps,)\n",
        "\n",
        "# best_acc=0\n",
        "# #   count_stopping=0\n",
        "# for epoch in range(epochs):\n",
        "\n",
        "#     train_loss,train_acc=run_train(model,optimizer,train_dataloader,lr_scheduler)\n",
        "    \n",
        "#     valid_loss,valid_acc=run_valid(model,valid_dataloader)\n",
        "\n",
        "# #     train_loss_per_epoch.append(train_loss)\n",
        "# #     valid_loss_per_epoch.append(valid_loss)\n",
        "\n",
        "# #     train_acc_per_epoch.append(train_acc)\n",
        "# #     valid_acc_per_epoch.append(valid_acc)\n",
        "    \n",
        "#     print(f'epoch: {epoch} train_loss: {train_loss} valid_loss: {valid_loss} train_acc: {train_acc} valid_acc: {valid_acc}')\n",
        "#     # if valid_loss<min_loss:\n",
        "#     if best_acc<valid_acc:\n",
        "#       # min_loss=valid_loss\n",
        "      \n",
        "#       save_model(epoch,model.state_dict(),optimizer.state_dict(),lr_scheduler.state_dict(),train_loss,valid_loss,train_acc,valid_acc,model_fold_directory)\n",
        "#       best_acc=valid_acc\n",
        "\n",
        "# #       count_stopping=0\n",
        "# #     else:\n",
        "# #       count_stopping+=1\n",
        "    \n",
        "# #     if count_stopping>5:\n",
        "# #       break\n",
        "  \n"
      ],
      "metadata": {
        "execution": {
          "iopub.status.busy": "2022-06-05T14:57:35.426108Z",
          "iopub.execute_input": "2022-06-05T14:57:35.426477Z",
          "iopub.status.idle": "2022-06-05T14:57:35.432863Z",
          "shell.execute_reply.started": "2022-06-05T14:57:35.426442Z",
          "shell.execute_reply": "2022-06-05T14:57:35.432116Z"
        },
        "trusted": true,
        "id": "kATPMobDtuiV"
      },
      "execution_count": null,
      "outputs": []
    }
  ]
}