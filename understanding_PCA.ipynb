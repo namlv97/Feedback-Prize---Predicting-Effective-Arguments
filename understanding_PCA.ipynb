{
  "nbformat": 4,
  "nbformat_minor": 0,
  "metadata": {
    "colab": {
      "name": "understanding PCA",
      "provenance": [],
      "collapsed_sections": [],
      "toc_visible": true
    },
    "kernelspec": {
      "name": "python3",
      "display_name": "Python 3"
    },
    "language_info": {
      "name": "python"
    }
  },
  "cells": [
    {
      "cell_type": "markdown",
      "source": [
        "#1) Định nghĩa"
      ],
      "metadata": {
        "id": "pz6HP5E6M5Q6"
      }
    },
    {
      "cell_type": "markdown",
      "source": [
        "Phân tích thành phần chính là một trong những phương pháp phân tích thống kê đa biến cổ điển với mục đích thu gọn số chiều của tập dữ liệu quan sát mà không mất nhiều thông tin, cụ thể là thay các tập biến ban đầu bằng một tập biến nhỏ hơn gọi là thành phần chính và được sử dụng cho các quá trình phân tích kế tiếp.\n",
        "\n",
        "\n",
        "Trong phương pháp này công cụ làm việc chủ yếu là ma trận hiệp phương sai 𝚺 và các véctơ riêng, giá trị riêng tương ứng của ma trận 𝚺.\n",
        "\n",
        "\n",
        "Với bảng số liệu cồng kềnh phức tạp khó tổng hợp và khó thấy các quan hệ thông tin chứa trong đó, vì vậy ta dùng phân tích thành phần chính để rút ra thông tin chủ yếu bằng cách xây dựng một biểu diễn đơn giản hơn sao cho trong biễu diễn đó tập dữ liệu thể hiện rõ nhất mà thông tin ít bị sai lạc nhất.\n"
      ],
      "metadata": {
        "id": "VJyxe8-UQVlE"
      }
    },
    {
      "cell_type": "markdown",
      "source": [
        "# 2) Phân phối chuẩn"
      ],
      "metadata": {
        "id": "LLFZWtusNEHN"
      }
    },
    {
      "cell_type": "markdown",
      "source": [
        "Updating ..."
      ],
      "metadata": {
        "id": "ullX0umnQWJQ"
      }
    },
    {
      "cell_type": "markdown",
      "source": [
        "# 3) Ma trận tương quan (Convarience matrix)"
      ],
      "metadata": {
        "id": "1zRFtIxdNENb"
      }
    },
    {
      "cell_type": "markdown",
      "source": [
        "Updating ..."
      ],
      "metadata": {
        "id": "SKwbOqGZQWix"
      }
    },
    {
      "cell_type": "markdown",
      "source": [
        "# 4) Ma trận hiệp phương sai (Correlation matrix)"
      ],
      "metadata": {
        "id": "PCVp7jV1NRs-"
      }
    },
    {
      "cell_type": "markdown",
      "source": [
        "Updating ..."
      ],
      "metadata": {
        "id": "GW0ptLmBQXDl"
      }
    },
    {
      "cell_type": "markdown",
      "source": [
        "# 5) Trị riêng (Eigenvalues)"
      ],
      "metadata": {
        "id": "hZWYp2OTNESn"
      }
    },
    {
      "cell_type": "markdown",
      "source": [
        "Updating ..."
      ],
      "metadata": {
        "id": "qulxyrLBQSZv"
      }
    },
    {
      "cell_type": "markdown",
      "source": [
        "#6) Vector riêng (Eigenvectors)"
      ],
      "metadata": {
        "id": "5dln-KckNEZ8"
      }
    },
    {
      "cell_type": "markdown",
      "source": [
        "Updating ..."
      ],
      "metadata": {
        "id": "J5HMmf6xQTRr"
      }
    },
    {
      "cell_type": "markdown",
      "source": [
        "#7) Phép khử Gaussian (Gaussian elimination)"
      ],
      "metadata": {
        "id": "G2KlW5ZfNfFN"
      }
    },
    {
      "cell_type": "markdown",
      "source": [
        "Updating ..."
      ],
      "metadata": {
        "id": "Hru5HG2JQUAC"
      }
    },
    {
      "cell_type": "markdown",
      "source": [
        "# 8) Các cách chọn số lượng thành phần chính\n",
        "\n",
        "\n",
        "- Dựa vào tỷ lệ phương sai tích lũy (Cumulative of Variance)\n",
        "- Dựa vào độ lớn phương sai của các thành phần chính (Kaiser)\n",
        "- Dựa vào đồ thị độ dốc (Screeplot)\n",
        "\n",
        "\n",
        "\n"
      ],
      "metadata": {
        "id": "daYRWz83NrNF"
      }
    },
    {
      "cell_type": "markdown",
      "source": [
        "Updating ..."
      ],
      "metadata": {
        "id": "otjd6zSxQUlh"
      }
    },
    {
      "cell_type": "markdown",
      "source": [
        "##a) Dựa vào tỷ lệ phương sai tích lũy (Cumulative of Variance)"
      ],
      "metadata": {
        "id": "XU1CmS5cOan7"
      }
    },
    {
      "cell_type": "markdown",
      "source": [
        "Updating ..."
      ],
      "metadata": {
        "id": "UyMF_B0ZQQlx"
      }
    },
    {
      "cell_type": "markdown",
      "source": [
        "##b) Dựa vào độ lớn phương sai của các thành phần chính (Kaiser)"
      ],
      "metadata": {
        "id": "Zr3Vap1YOgY7"
      }
    },
    {
      "cell_type": "markdown",
      "source": [
        "Updating ..."
      ],
      "metadata": {
        "id": "4Fsb1f40QPol"
      }
    },
    {
      "cell_type": "markdown",
      "source": [
        "##c) Dựa vào đồ thị độ dốc (Screeplot)"
      ],
      "metadata": {
        "id": "drQ8Z1bCPvlk"
      }
    },
    {
      "cell_type": "markdown",
      "source": [
        "Updating ..."
      ],
      "metadata": {
        "id": "99UkRYbNQNZG"
      }
    },
    {
      "cell_type": "code",
      "execution_count": null,
      "metadata": {
        "id": "_geToFDF0aVn"
      },
      "outputs": [],
      "source": [
        ""
      ]
    }
  ]
}